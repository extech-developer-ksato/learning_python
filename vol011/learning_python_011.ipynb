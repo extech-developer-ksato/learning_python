{
 "cells": [
  {
   "cell_type": "markdown",
   "metadata": {},
   "source": [
    "## `difflib`モジュールあれこれ\n",
    "**基本的には、シーケンスなデータ型であればなんでも差分計算をしてくれる便利なモジュールとなっています**  \n",
    "**特にテキストの比較に便利で、つまり自然言語処理でも基本分析で使うこともできます。**"
   ]
  },
  {
   "cell_type": "markdown",
   "metadata": {},
   "source": [
    "### `class difflib.Differ`\n",
    "テキストからなるシーケンスを比較するクラスです。  \n",
    "後述の、`SequenceMatcher`クラスを利用して、様々な処理をします。"
   ]
  },
  {
   "cell_type": "markdown",
   "metadata": {},
   "source": [
    "### `class difflib.HtmlDiff`\n",
    "**htmlファイルの差分計算をしてくれます**\n",
    "  \n",
    "**`make_file(fromlines, tolines, fromdesc='', todesc='', context=False, numlines=5, *, charset='utf-8')`**  \n",
    "fromlines と tolines (いずれも文字列のリスト) を比較し、行間または行内の変更点が  \n",
    "強調表示された行差分の入った表を持つ完全な HTML ファイルを文字列で返します。  \n",
    "  \n",
    "`context` および `numlines` はともにオプションのキーワード引数です。  \n",
    "`context` を `True` にするとコンテキスト差分を表示し、  \n",
    "デフォルトの `False` にすると完全なファイル差分を表示します。`numlines` のデフォルト値は 5 で、  \n",
    "`context` が `True` の場合、`numlines` は強調部分の前後にあるコンテキスト行の数を制御します。  \n",
    "  \n",
    "`context` が `False` の場合、`numlines` は \"next\" と書かれたハイパーリンクをたどった時に到達する場所が  \n",
    "次の変更部分より何行前にあるかを確かめてくれます。\n",
    "  \n",
    "**`make_table(fromlines, tolines, fromdesc='', todesc='', context=False, numlines=5)`**  \n",
    "`fromlines` と `tolines` (いずれも文字列のリスト) を比較し、  \n",
    "行間または行内の変更点が強調表示された行差分の入った完全な HTML テーブルを文字列で返します"
   ]
  },
  {
   "cell_type": "code",
   "execution_count": 1,
   "metadata": {},
   "outputs": [],
   "source": [
    "def html_diff(self, fromfile, tofile):\n",
    "    try:\n",
    "        import difflib\n",
    "        fromlines = open(fromfile).readlines()\n",
    "        tolines = open(tofile).readlines()\n",
    "        diff = difflib.HtmlDiff().make_file(fromlines,tolines,fromfile,tofile)\n",
    "        path = 'data/' + os.path.basename(fromfile) + '_' + os.path.basename(tofile) + '_diff.html'\n",
    "        f = open(path,'w')\n",
    "        f.write(diff)\n",
    "        f.close()\n",
    "        return path\n",
    "    except Exception as e:\n",
    "        self.logger.error(\"failed to diff files %s, %s: %s\", fromfile, tofile, str(e))\n",
    "        return None"
   ]
  },
  {
   "cell_type": "code",
   "execution_count": 5,
   "metadata": {},
   "outputs": [],
   "source": [
    "fromfile = 'data/sample1.html'"
   ]
  },
  {
   "cell_type": "code",
   "execution_count": 10,
   "metadata": {},
   "outputs": [],
   "source": [
    "tofile = 'data/sample2.html'"
   ]
  },
  {
   "cell_type": "code",
   "execution_count": 6,
   "metadata": {},
   "outputs": [],
   "source": [
    "import difflib"
   ]
  },
  {
   "cell_type": "code",
   "execution_count": 27,
   "metadata": {},
   "outputs": [],
   "source": [
    "fromlines = open(fromfile).readlines()"
   ]
  },
  {
   "cell_type": "code",
   "execution_count": 28,
   "metadata": {},
   "outputs": [],
   "source": [
    "tolines = open(tofile).readlines()"
   ]
  },
  {
   "cell_type": "code",
   "execution_count": 29,
   "metadata": {},
   "outputs": [],
   "source": [
    "diff = difflib.HtmlDiff().make_file(fromlines,tolines,fromfile,tofile)"
   ]
  },
  {
   "cell_type": "code",
   "execution_count": 30,
   "metadata": {},
   "outputs": [],
   "source": [
    "df = difflib.HtmlDiff()"
   ]
  },
  {
   "cell_type": "code",
   "execution_count": 31,
   "metadata": {},
   "outputs": [],
   "source": [
    "html = df.make_table(fromlines, tolines, context=True)"
   ]
  },
  {
   "cell_type": "code",
   "execution_count": 32,
   "metadata": {},
   "outputs": [
    {
     "data": {
      "text/plain": [
       "'\\n    <table class=\"diff\" id=\"difflib_chg_to5__top\"\\n           cellspacing=\"0\" cellpadding=\"0\" rules=\"groups\" >\\n        <colgroup></colgroup> <colgroup></colgroup> <colgroup></colgroup>\\n        <colgroup></colgroup> <colgroup></colgroup> <colgroup></colgroup>\\n        \\n        <tbody>\\n            <tr><td class=\"diff_next\"><a href=\"#difflib_chg_to5__top\">t</a></td><td></td><td>&nbsp;No Differences Found&nbsp;</td><td class=\"diff_next\"><a href=\"#difflib_chg_to5__top\">t</a></td><td></td><td>&nbsp;No Differences Found&nbsp;</td></tr>\\n        </tbody>\\n    </table>'"
      ]
     },
     "execution_count": 32,
     "metadata": {},
     "output_type": "execute_result"
    }
   ],
   "source": [
    "html"
   ]
  },
  {
   "cell_type": "markdown",
   "metadata": {},
   "source": [
    "### `difflib.context_diff(a, b, fromfile='', tofile='', fromfiledate='', tofiledate='', n=3, lineterm='\\n')`\n",
    "a と b (文字列のリスト) を比較し、差分を、 `context diff` のフォーマットで返します。"
   ]
  },
  {
   "cell_type": "code",
   "execution_count": 36,
   "metadata": {},
   "outputs": [],
   "source": [
    "fromfile = 'data/sample3.txt'"
   ]
  },
  {
   "cell_type": "code",
   "execution_count": 37,
   "metadata": {},
   "outputs": [],
   "source": [
    "tofile = 'data/sample4.txt'"
   ]
  },
  {
   "cell_type": "code",
   "execution_count": 38,
   "metadata": {},
   "outputs": [],
   "source": [
    "fromlines = open(fromfile).readlines()"
   ]
  },
  {
   "cell_type": "code",
   "execution_count": 41,
   "metadata": {},
   "outputs": [],
   "source": [
    "tolines = open(tofile).readlines()"
   ]
  },
  {
   "cell_type": "code",
   "execution_count": 40,
   "metadata": {},
   "outputs": [
    {
     "name": "stdout",
     "output_type": "stream",
     "text": [
      "['wanwan\\n', 'nyanyanyan\\n', 'wanwan\\n', 'nyanyanyan\\n', 'wanwan\\n', 'nyanyanyan\\n', 'wanwan\\n', 'nyanyanyan\\n', 'wanwan\\n', 'nyanyanyan\\n', 'wanwan\\n', 'nyanyanyan']\n"
     ]
    }
   ],
   "source": [
    "print(fromlines)"
   ]
  },
  {
   "cell_type": "code",
   "execution_count": 42,
   "metadata": {},
   "outputs": [
    {
     "name": "stdout",
     "output_type": "stream",
     "text": [
      "['wanwan\\n', 'nyanyanyan\\n', 'wanwan\\n', 'nyanyanyan\\n', 'wanwan\\n', 'nyanyanyan\\n', 'nyanyanyan\\n', 'wanwan\\n', 'nyanyanyan\\n', 'wanwan\\n', 'wanwan\\n', 'nyanyanyan']\n"
     ]
    }
   ],
   "source": [
    "print(tolines)"
   ]
  },
  {
   "cell_type": "code",
   "execution_count": 43,
   "metadata": {},
   "outputs": [],
   "source": [
    "diff = difflib.context_diff(fromlines, tolines)"
   ]
  },
  {
   "cell_type": "code",
   "execution_count": 44,
   "metadata": {},
   "outputs": [
    {
     "name": "stdout",
     "output_type": "stream",
     "text": [
      "<generator object context_diff at 0x112aa2ba0>\n"
     ]
    }
   ],
   "source": [
    "print(diff)"
   ]
  },
  {
   "cell_type": "code",
   "execution_count": 45,
   "metadata": {},
   "outputs": [
    {
     "name": "stdout",
     "output_type": "stream",
     "text": [
      "*** \n",
      "\n",
      "--- \n",
      "\n",
      "***************\n",
      "\n",
      "*** 4,12 ****\n",
      "\n",
      "  nyanyanyan\n",
      "\n",
      "  wanwan\n",
      "\n",
      "  nyanyanyan\n",
      "\n",
      "- wanwan\n",
      "\n",
      "  nyanyanyan\n",
      "\n",
      "  wanwan\n",
      "\n",
      "  nyanyanyan\n",
      "\n",
      "  wanwan\n",
      "\n",
      "  nyanyanyan\n",
      "--- 4,12 ----\n",
      "\n",
      "  nyanyanyan\n",
      "\n",
      "  wanwan\n",
      "\n",
      "  nyanyanyan\n",
      "\n",
      "  nyanyanyan\n",
      "\n",
      "  wanwan\n",
      "\n",
      "  nyanyanyan\n",
      "\n",
      "  wanwan\n",
      "\n",
      "+ wanwan\n",
      "\n",
      "  nyanyanyan\n"
     ]
    }
   ],
   "source": [
    "for i in diff:\n",
    "    print(i)"
   ]
  },
  {
   "cell_type": "markdown",
   "metadata": {},
   "source": [
    "**変更があった箇所で、` - ` は、一方(fromfile)にのみ存在する行で、**  \n",
    "**変更があった箇所で、 ` + `は、もう一方(tofile)にのみ存在する行を表現しています**"
   ]
  },
  {
   "cell_type": "markdown",
   "metadata": {},
   "source": [
    "#### `difflib.get_close_matches(word, possibilities, n=3, cutoff=0.6)`\n",
    "「十分」なマッチの上位のリストを返します。  \n",
    "とある`word`に対して、候補のリストである`possibilities`を渡します。  \n",
    "そうすると、類似してそうなものをアルゴリズム、(ゲシュタルトパターンマッチング)をもとに演算して、  \n",
    "`cutoff`値をもとに上位をリストで返してくれます。"
   ]
  },
  {
   "cell_type": "code",
   "execution_count": 46,
   "metadata": {},
   "outputs": [
    {
     "data": {
      "text/plain": [
       "['apple', 'ape']"
      ]
     },
     "execution_count": 46,
     "metadata": {},
     "output_type": "execute_result"
    }
   ],
   "source": [
    "difflib.get_close_matches('appel', ['ape', 'apple', 'peach', 'puppy'])"
   ]
  },
  {
   "cell_type": "code",
   "execution_count": 47,
   "metadata": {},
   "outputs": [
    {
     "data": {
      "text/plain": [
       "['apple', 'ape', 'puppy']"
      ]
     },
     "execution_count": 47,
     "metadata": {},
     "output_type": "execute_result"
    }
   ],
   "source": [
    "difflib.get_close_matches('appel', ['ape', 'apple', 'peach', 'puppy'], cutoff=0.1)"
   ]
  },
  {
   "cell_type": "code",
   "execution_count": 48,
   "metadata": {},
   "outputs": [],
   "source": [
    "possibilities = [\n",
    "    'Aaron',\n",
    "    'Abel',\n",
    "    'Abraham',\n",
    "    'Abram',\n",
    "    'Adam',\n",
    "    'Adolph',\n",
    "    'Adrian',\n",
    "    'Alan',\n",
    "    'Alastair',\n",
    "    'Albert',\n",
    "    'Alex',\n",
    "    'Alexander',\n",
    "    'Alexis'\n",
    "]"
   ]
  },
  {
   "cell_type": "code",
   "execution_count": 51,
   "metadata": {},
   "outputs": [
    {
     "data": {
      "text/plain": [
       "['Abraham', 'Adam', 'Abram']"
      ]
     },
     "execution_count": 51,
     "metadata": {},
     "output_type": "execute_result"
    }
   ],
   "source": [
    "difflib.get_close_matches('Achim', possibilities=possibilities, cutoff=0.25)"
   ]
  },
  {
   "cell_type": "markdown",
   "metadata": {},
   "source": [
    "#### `difflib.ndiff(a, b, linejunk=None, charjunk=IS_CHARACTER_JUNK)`\n",
    "a と b (文字列のリスト) を比較し、  \n",
    "差分 (差分形式の行を生成する ジェネレータ) を、 `Differ` のスタイルで返します。"
   ]
  },
  {
   "cell_type": "code",
   "execution_count": 54,
   "metadata": {},
   "outputs": [],
   "source": [
    "diff = difflib.ndiff('one\\ntwo\\nthree\\n'.splitlines(keepends=True),\n",
    "                     'ore\\ntree\\nemu\\n'.splitlines(keepends=True))"
   ]
  },
  {
   "cell_type": "code",
   "execution_count": 56,
   "metadata": {},
   "outputs": [
    {
     "name": "stdout",
     "output_type": "stream",
     "text": [
      "- one\n",
      "\n",
      "?  ^\n",
      "\n",
      "+ ore\n",
      "\n",
      "?  ^\n",
      "\n",
      "- two\n",
      "\n",
      "- three\n",
      "\n",
      "?  -\n",
      "\n",
      "+ tree\n",
      "\n",
      "+ emu\n",
      "\n"
     ]
    }
   ],
   "source": [
    "for i in diff:\n",
    "    print(i)"
   ]
  },
  {
   "cell_type": "markdown",
   "metadata": {},
   "source": [
    "#### `difflib.restore(sequence, which)`\n",
    "差分を生成した元の二つのシーケンスのうち一つを返します。"
   ]
  },
  {
   "cell_type": "code",
   "execution_count": 57,
   "metadata": {},
   "outputs": [],
   "source": [
    "diff = difflib.ndiff('one\\ntwo\\nthree\\n'.splitlines(keepends=True),\n",
    "                     'ore\\ntree\\nemu\\n'.splitlines(keepends=True))"
   ]
  },
  {
   "cell_type": "code",
   "execution_count": 58,
   "metadata": {},
   "outputs": [],
   "source": [
    "diff = list(diff)"
   ]
  },
  {
   "cell_type": "code",
   "execution_count": 59,
   "metadata": {},
   "outputs": [
    {
     "data": {
      "text/plain": [
       "['- one\\n',\n",
       " '?  ^\\n',\n",
       " '+ ore\\n',\n",
       " '?  ^\\n',\n",
       " '- two\\n',\n",
       " '- three\\n',\n",
       " '?  -\\n',\n",
       " '+ tree\\n',\n",
       " '+ emu\\n']"
      ]
     },
     "execution_count": 59,
     "metadata": {},
     "output_type": "execute_result"
    }
   ],
   "source": [
    "diff"
   ]
  },
  {
   "cell_type": "code",
   "execution_count": 61,
   "metadata": {},
   "outputs": [
    {
     "name": "stdout",
     "output_type": "stream",
     "text": [
      "one\n",
      "two\n",
      "three\n"
     ]
    }
   ],
   "source": [
    "# ndiff で作成されたオブジェクトをもとに、1つ目のリストを復元\n",
    "print(''.join(difflib.restore(diff, 1)), end=\"\")"
   ]
  },
  {
   "cell_type": "code",
   "execution_count": 62,
   "metadata": {},
   "outputs": [
    {
     "name": "stdout",
     "output_type": "stream",
     "text": [
      "ore\n",
      "tree\n",
      "emu\n"
     ]
    }
   ],
   "source": [
    "# ndiff で作成されたオブジェクトをもとに、2つ目のリストを復元\n",
    "print(''.join(difflib.restore(diff, 2)), end=\"\")"
   ]
  },
  {
   "cell_type": "markdown",
   "metadata": {},
   "source": [
    "#### `difflib.unified_diff(a, b, fromfile='', tofile='', fromfiledate='', tofiledate='', n=3, lineterm='\\n')`"
   ]
  },
  {
   "cell_type": "code",
   "execution_count": 63,
   "metadata": {},
   "outputs": [],
   "source": [
    "s1 = ['bacon\\n', 'eggs\\n', 'ham\\n', 'guido\\n']"
   ]
  },
  {
   "cell_type": "code",
   "execution_count": 64,
   "metadata": {},
   "outputs": [],
   "source": [
    "s2 = ['python\\n', 'eggy\\n', 'hamster\\n', 'guido\\n']"
   ]
  },
  {
   "cell_type": "code",
   "execution_count": 66,
   "metadata": {},
   "outputs": [],
   "source": [
    "import sys"
   ]
  },
  {
   "cell_type": "code",
   "execution_count": 68,
   "metadata": {},
   "outputs": [
    {
     "name": "stdout",
     "output_type": "stream",
     "text": [
      "--- before.py\n",
      "+++ after.py\n",
      "@@ -1,4 +1,4 @@\n",
      "-bacon\n",
      "-eggs\n",
      "-ham\n",
      "+python\n",
      "+eggy\n",
      "+hamster\n",
      " guido\n"
     ]
    }
   ],
   "source": [
    "sys.stdout.writelines(difflib.unified_diff(s1, s2, fromfile='before.py', tofile='after.py'))"
   ]
  },
  {
   "cell_type": "markdown",
   "metadata": {},
   "source": [
    "### `class difflib.SequenceMatcher(isjunk=None, a='', b='', autojunk=True)`"
   ]
  },
  {
   "cell_type": "markdown",
   "metadata": {},
   "source": [
    "#### `set_seqs(a, b)`\n",
    "比較される2つの文字列を設定します。  \n",
    "\n",
    "`SequenceMatcher` オブジェクトは、2つ目のシーケンスについての詳細な情報を計算し、キャッシュします。   \n",
    "1つのシーケンスをいくつものシーケンスと比較する場合、まず `set_seq2()` を使って文字列を設定しておき、  \n",
    "別の文字列を1つずつ比較するために、繰り返し `set_seq1()` を呼び出します。\n",
    "  \n",
    "`set_seq1(a)`  \n",
    "比較を行う1つ目のシーケンスを設定します。比較される2つ目のシーケンスは変更されません。  \n",
    "  \n",
    "`set_seq2(b)`  \n",
    "比較を行う2つ目のシーケンスを設定します。比較される1つ目のシーケンスは変更されません。"
   ]
  },
  {
   "cell_type": "markdown",
   "metadata": {},
   "source": [
    "#### `find_longest_match(alo=0, ahi=None, blo=0, bhi=None)`\n",
    "`isjunk` が省略されたか `None` の時、`a[alo:ahi]` と `b[blo:bhi]` の中から、最長のマッチ列を探します。"
   ]
  },
  {
   "cell_type": "code",
   "execution_count": 69,
   "metadata": {},
   "outputs": [],
   "source": [
    "s = difflib.SequenceMatcher(None, \" abcd\", \"abcd abcd\")"
   ]
  },
  {
   "cell_type": "code",
   "execution_count": 72,
   "metadata": {},
   "outputs": [
    {
     "data": {
      "text/plain": [
       "Match(a=0, b=4, size=4)"
      ]
     },
     "execution_count": 72,
     "metadata": {},
     "output_type": "execute_result"
    }
   ],
   "source": [
    "s.find_longest_match(0,4,0,10)"
   ]
  },
  {
   "cell_type": "markdown",
   "metadata": {},
   "source": [
    "aの、0番目からマッチでして、bの4番目までマッチして、その長さは４ということを意味しています。"
   ]
  },
  {
   "cell_type": "markdown",
   "metadata": {},
   "source": [
    "引数 `isjunk` が与えられている場合、上記の通り、はじめに最長のマッチ列を判定します。  \n",
    "ブロック内に `junk` 要素が見当たらないような追加条件の際はこれに該当しません。  \n",
    "次にそのマッチ列を、その両側の `junk` 要素にマッチするよう、できる限り広げていきます。  "
   ]
  },
  {
   "cell_type": "markdown",
   "metadata": {},
   "source": [
    "#### `get_matching_blocks()`\n",
    "マッチした互いに重複の無いシーケンスを表す、3つ組の値のリストを返します。   \n",
    "それぞれの値は (i, j, n) という形式で表され、`a[i:i+n] == b[j:j+n]` という関係を意味します。3つの値は i と j の間で単調に増加します。"
   ]
  },
  {
   "cell_type": "code",
   "execution_count": 73,
   "metadata": {},
   "outputs": [],
   "source": [
    "s = difflib.SequenceMatcher(None, \"abxcd\", \"abcd\")"
   ]
  },
  {
   "cell_type": "code",
   "execution_count": 74,
   "metadata": {},
   "outputs": [
    {
     "data": {
      "text/plain": [
       "[Match(a=0, b=0, size=2), Match(a=3, b=2, size=2), Match(a=5, b=4, size=0)]"
      ]
     },
     "execution_count": 74,
     "metadata": {},
     "output_type": "execute_result"
    }
   ],
   "source": [
    "s.get_matching_blocks()"
   ]
  },
  {
   "cell_type": "code",
   "execution_count": 76,
   "metadata": {},
   "outputs": [],
   "source": [
    "a = \"abxcd\""
   ]
  },
  {
   "cell_type": "code",
   "execution_count": 77,
   "metadata": {},
   "outputs": [],
   "source": [
    "b = \"abcd\""
   ]
  },
  {
   "cell_type": "code",
   "execution_count": 78,
   "metadata": {},
   "outputs": [
    {
     "data": {
      "text/plain": [
       "True"
      ]
     },
     "execution_count": 78,
     "metadata": {},
     "output_type": "execute_result"
    }
   ],
   "source": [
    "a[0:0+2] == b[0:0+2]"
   ]
  },
  {
   "cell_type": "code",
   "execution_count": 80,
   "metadata": {},
   "outputs": [
    {
     "data": {
      "text/plain": [
       "True"
      ]
     },
     "execution_count": 80,
     "metadata": {},
     "output_type": "execute_result"
    }
   ],
   "source": [
    "a[3:3+2] == b[2:2+2]"
   ]
  },
  {
   "cell_type": "code",
   "execution_count": 81,
   "metadata": {},
   "outputs": [
    {
     "data": {
      "text/plain": [
       "True"
      ]
     },
     "execution_count": 81,
     "metadata": {},
     "output_type": "execute_result"
    }
   ],
   "source": [
    "a[5:5+0] == b[4:4+0]"
   ]
  },
  {
   "cell_type": "markdown",
   "metadata": {},
   "source": [
    "**つまりそれぞれのシーケンスで、一致しているシーケンス・重複のない範囲のインデックスを計算してくれている**"
   ]
  },
  {
   "cell_type": "markdown",
   "metadata": {},
   "source": [
    "### `ratio()`\n",
    "[0, 1] の範囲の浮動小数点数で、シーケンスの類似度を測る値を返します。"
   ]
  },
  {
   "cell_type": "code",
   "execution_count": 82,
   "metadata": {},
   "outputs": [
    {
     "data": {
      "text/plain": [
       "0.25"
      ]
     },
     "execution_count": 82,
     "metadata": {},
     "output_type": "execute_result"
    }
   ],
   "source": [
    "difflib.SequenceMatcher(None, 'tide', 'diet').ratio()"
   ]
  },
  {
   "cell_type": "code",
   "execution_count": 86,
   "metadata": {},
   "outputs": [],
   "source": [
    "name1 = \"新垣結衣\""
   ]
  },
  {
   "cell_type": "code",
   "execution_count": 87,
   "metadata": {},
   "outputs": [],
   "source": [
    "name2 = \"新垣由依\""
   ]
  },
  {
   "cell_type": "code",
   "execution_count": 88,
   "metadata": {},
   "outputs": [
    {
     "data": {
      "text/plain": [
       "0.5"
      ]
     },
     "execution_count": 88,
     "metadata": {},
     "output_type": "execute_result"
    }
   ],
   "source": [
    "difflib.SequenceMatcher(None, name1, name2).ratio()"
   ]
  },
  {
   "cell_type": "code",
   "execution_count": 89,
   "metadata": {},
   "outputs": [
    {
     "data": {
      "text/plain": [
       "0.8571428571428571"
      ]
     },
     "execution_count": 89,
     "metadata": {},
     "output_type": "execute_result"
    }
   ],
   "source": [
    "difflib.SequenceMatcher(None, \"Aragaki Yui\", \"Aragaki Ui\").ratio()"
   ]
  },
  {
   "cell_type": "markdown",
   "metadata": {},
   "source": [
    "#### `quick_ratio()` より高精度に計算し、`real_quick_ratio()` は最も高精度に計算してくれる"
   ]
  },
  {
   "cell_type": "code",
   "execution_count": 90,
   "metadata": {},
   "outputs": [
    {
     "data": {
      "text/plain": [
       "0.8571428571428571"
      ]
     },
     "execution_count": 90,
     "metadata": {},
     "output_type": "execute_result"
    }
   ],
   "source": [
    "difflib.SequenceMatcher(None, \"Aragaki Yui\", \"Aragaki Ui\").quick_ratio()"
   ]
  },
  {
   "cell_type": "code",
   "execution_count": 92,
   "metadata": {},
   "outputs": [
    {
     "data": {
      "text/plain": [
       "0.9523809523809523"
      ]
     },
     "execution_count": 92,
     "metadata": {},
     "output_type": "execute_result"
    }
   ],
   "source": [
    "difflib.SequenceMatcher(None, \"Aragaki Yui\", \"Aragaki Ui\").real_quick_ratio()"
   ]
  },
  {
   "cell_type": "markdown",
   "metadata": {},
   "source": [
    "### 自然言語処理としては、単語間や文字列の類似度を簡単に出せるモジュールとしてよく使われます"
   ]
  },
  {
   "cell_type": "code",
   "execution_count": 110,
   "metadata": {},
   "outputs": [
    {
     "data": {
      "text/plain": [
       "0.0"
      ]
     },
     "execution_count": 110,
     "metadata": {},
     "output_type": "execute_result"
    }
   ],
   "source": [
    "difflib.SequenceMatcher(None, \"猫\", \"犬\").ratio()"
   ]
  },
  {
   "cell_type": "code",
   "execution_count": 111,
   "metadata": {},
   "outputs": [
    {
     "data": {
      "text/plain": [
       "0.5"
      ]
     },
     "execution_count": 111,
     "metadata": {},
     "output_type": "execute_result"
    }
   ],
   "source": [
    "difflib.SequenceMatcher(None, \"子猫\", \"子犬\").ratio()"
   ]
  },
  {
   "cell_type": "code",
   "execution_count": 112,
   "metadata": {},
   "outputs": [
    {
     "data": {
      "text/plain": [
       "0.6666666666666666"
      ]
     },
     "execution_count": 112,
     "metadata": {},
     "output_type": "execute_result"
    }
   ],
   "source": [
    "difflib.SequenceMatcher(None, \"猫\", \"子猫\").ratio()"
   ]
  },
  {
   "cell_type": "markdown",
   "metadata": {},
   "source": [
    "**距離ベースなアルゴリズムです**"
   ]
  },
  {
   "cell_type": "markdown",
   "metadata": {},
   "source": [
    "## `textwrap` --- テキストの折り返しと詰め込み"
   ]
  },
  {
   "cell_type": "markdown",
   "metadata": {},
   "source": [
    "**`textwrap.wrap(text, width=70, **kwargs)`**  \n",
    "`text` (文字列)内の段落を１まとめで折り返しを行います。  \n",
    "  \n",
    "**`textwrap.fill(text, width=70, **kwargs)`**  \n",
    "`text` 内の段落を１まとめで折り返しを行い、折り返しが行われた段落を改行記号を挿入して返します。"
   ]
  },
  {
   "cell_type": "code",
   "execution_count": 113,
   "metadata": {},
   "outputs": [],
   "source": [
    "import textwrap"
   ]
  },
  {
   "cell_type": "code",
   "execution_count": 121,
   "metadata": {},
   "outputs": [],
   "source": [
    "text = \"私の名前は、佐藤某です。某はそれがし、として伏せていますので本名ではありません。年齢は３０前半でデータサイエンスやAIなどといった分野で頑張っています。\""
   ]
  },
  {
   "cell_type": "code",
   "execution_count": 115,
   "metadata": {},
   "outputs": [
    {
     "data": {
      "text/plain": [
       "['私の名前は、佐藤某です',\n",
       " '。某はそれがし、として',\n",
       " '伏せていますので本名で',\n",
       " 'はありません。年齢は３',\n",
       " '０前半でデータサイエン',\n",
       " 'スやAIなどといった分',\n",
       " '野で頑張っています。']"
      ]
     },
     "execution_count": 115,
     "metadata": {},
     "output_type": "execute_result"
    }
   ],
   "source": [
    "textwrap.wrap(text, width=11)"
   ]
  },
  {
   "cell_type": "code",
   "execution_count": 120,
   "metadata": {},
   "outputs": [
    {
     "data": {
      "text/plain": [
       "'私の名前は、佐藤某です\\n。某はそれがし、として\\n伏せていますので本名で\\nはありません。年齢は３\\n０前半でデータサイエン\\nスやAIなどといった分\\n野で頑張っています。'"
      ]
     },
     "execution_count": 120,
     "metadata": {},
     "output_type": "execute_result"
    }
   ],
   "source": [
    "textwrap.fill(text, width=11)"
   ]
  },
  {
   "cell_type": "markdown",
   "metadata": {},
   "source": [
    "**`textwrap.shorten(text, width, **kwargs)`**  \n",
    "与えられた `text` を折りたたみ、切り詰めて、与えられた `width` に収まるようにします。"
   ]
  },
  {
   "cell_type": "code",
   "execution_count": 123,
   "metadata": {},
   "outputs": [
    {
     "data": {
      "text/plain": [
       "'Hello world!'"
      ]
     },
     "execution_count": 123,
     "metadata": {},
     "output_type": "execute_result"
    }
   ],
   "source": [
    "textwrap.shorten(\"Hello  world!\", width=12)"
   ]
  },
  {
   "cell_type": "code",
   "execution_count": 124,
   "metadata": {},
   "outputs": [
    {
     "data": {
      "text/plain": [
       "'Hello [...]'"
      ]
     },
     "execution_count": 124,
     "metadata": {},
     "output_type": "execute_result"
    }
   ],
   "source": [
    "textwrap.shorten(\"Hello  world!\", width=11)"
   ]
  },
  {
   "cell_type": "code",
   "execution_count": 125,
   "metadata": {},
   "outputs": [
    {
     "data": {
      "text/plain": [
       "'[...]'"
      ]
     },
     "execution_count": 125,
     "metadata": {},
     "output_type": "execute_result"
    }
   ],
   "source": [
    "textwrap.shorten(\"Hello  world!\", width=5)"
   ]
  },
  {
   "cell_type": "markdown",
   "metadata": {},
   "source": [
    "### `class textwrap.TextWrapper(**kwargs)`\n",
    "**`width`**  \n",
    "(デフォルト: 70) 折り返しが行われる行の最大の長さ。  \n",
    "   \n",
    "**`expand_tabs`**  \n",
    "(デフォルト: `True`) もし真ならば、そのときは `text` 内のすべてのタブ文字は 空白されます。  \n",
    "  \n",
    "**その他、たくさんメソッドあり**"
   ]
  },
  {
   "cell_type": "markdown",
   "metadata": {},
   "source": [
    "## 次回は...\n",
    "\n",
    "`unicodedata` --- Unicode データベース\n",
    "`stringprep` --- インターネットのための文字列管理"
   ]
  }
 ],
 "metadata": {
  "kernelspec": {
   "display_name": "Python 3",
   "language": "python",
   "name": "python3"
  },
  "language_info": {
   "codemirror_mode": {
    "name": "ipython",
    "version": 3
   },
   "file_extension": ".py",
   "mimetype": "text/x-python",
   "name": "python",
   "nbconvert_exporter": "python",
   "pygments_lexer": "ipython3",
   "version": "3.6.5"
  }
 },
 "nbformat": 4,
 "nbformat_minor": 2
}
