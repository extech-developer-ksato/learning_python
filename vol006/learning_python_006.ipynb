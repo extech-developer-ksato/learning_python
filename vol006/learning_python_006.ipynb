{
 "cells": [
  {
   "cell_type": "markdown",
   "metadata": {},
   "source": [
    "## 様々なメソッド、モジュール\n",
    "\n",
    "### 組み込み関数\n",
    "  \n",
    "### 組み込み定数    \n",
    "site モジュールで追加される定数  \n",
    "  \n",
    "### 組み込み型  \n",
    "真理値判定  \n",
    "ブール演算 --- and, or, not  \n",
    "比較  \n",
    "数値型 int, float, complex  \n",
    "イテレータ型  \n",
    "シーケンス型 --- list, tuple, range    \n",
    "テキストシーケンス型 --- str  \n",
    "バイナリシーケンス型 --- bytes, bytearray, memoryview  \n",
    "set（集合）型 --- set, frozenset  \n",
    "マッピング型 --- dict  \n",
    "コンテキストマネージャ型  \n",
    "Generic Alias Type  \n",
    "その他の組み込み型  \n",
    "特殊属性  \n",
    "  \n",
    "### 組み込み例外  \n",
    "基底クラス  \n",
    "具象例外  \n",
    "警告  \n",
    "例外のクラス階層  \n",
    "  \n",
    "### テキスト処理サービス  \n",
    "string --- 一般的な文字列操作  \n",
    "re --- 正規表現操作  \n",
    "difflib --- 差分の計算を助ける  \n",
    "textwrap --- テキストの折り返しと詰め込み  \n",
    "unicodedata --- Unicode データベース  \n",
    "stringprep --- インターネットのための文字列調製  \n",
    "readline --- GNU readline のインタフェース  \n",
    "rlcompleter --- GNU readline向け補完関数  \n",
    "  \n",
    "### バイナリデータ処理  \n",
    "struct --- バイト列をパックされたバイナリデータとして解釈する  \n",
    "codecs --- codec レジストリと基底クラス  \n",
    "  \n",
    "### データ型  \n",
    "datetime --- 基本的な日付型および時間型  \n",
    "zoneinfo --- IANA time zone support  \n",
    "calendar --- 一般的なカレンダーに関する関数群  \n",
    "collections --- コンテナデータ型  \n",
    "collections.abc --- コレクションの抽象基底クラス  \n",
    "heapq --- ヒープキューアルゴリズム  \n",
    "bisect --- 配列二分法アルゴリズム  \n",
    "array --- 効率のよい数値アレイ  \n",
    "weakref --- 弱参照  \n",
    "types --- 動的な型生成と組み込み型に対する名前  \n",
    "copy --- 浅いコピーおよび深いコピー操作  \n",
    "pprint --- データ出力の整然化  \n",
    "reprlib --- もう一つの repr() の実装  \n",
    "enum --- 列挙型のサポート  \n",
    "graphlib --- Functionality to operate with graph-like structures  \n",
    "  \n",
    "### 数値と数学モジュール  \n",
    "numbers --- 数の抽象基底クラス  \n",
    "math --- 数学関数  \n",
    "cmath --- 複素数のための数学関数  \n",
    "decimal --- 十進固定及び浮動小数点数の算術演算  \n",
    "fractions --- 有理数  \n",
    "random --- 擬似乱数を生成する  \n",
    "statistics --- 数理統計関数  \n",
    "  \n",
    "### 関数型プログラミング用モジュール  \n",
    "itertools --- 効率的なループ実行のためのイテレータ生成関数  \n",
    "functools --- 高階関数と呼び出し可能オブジェクトの操作  \n",
    "operator --- 関数形式の標準演算子  \n",
    "ファイルとディレクトリへのアクセス  \n",
    "pathlib --- オブジェクト指向のファイルシステムパス  \n",
    "os.path --- 共通のパス名操作  \n",
    "fileinput --- 複数の入力ストリームをまたいだ行の繰り返し処理をサポートする  \n",
    "stat --- stat() の結果を解釈する  \n",
    "filecmp --- ファイルおよびディレクトリの比較  \n",
    "tempfile --- 一時ファイルやディレクトリの作成  \n",
    "glob --- Unix 形式のパス名のパターン展開  \n",
    "fnmatch --- Unix ファイル名のパターンマッチ  \n",
    "linecache --- テキストラインにランダムアクセスする  \n",
    "shutil --- 高水準のファイル操作  \n",
    "  \n",
    "### データの永続化  \n",
    "pickle --- Python オブジェクトの直列化  \n",
    "copyreg --- pickle サポート関数を登録する  \n",
    "shelve --- Python オブジェクトの永続化  \n",
    "marshal --- 内部使用向けの Python オブジェクト整列化  \n",
    "dbm --- Unix \"データベース\" へのインタフェース  \n",
    "sqlite3 --- SQLite データベースに対する DB-API 2.0 インタフェース  \n",
    "  \n",
    "### データ圧縮とアーカイブ  \n",
    "zlib --- gzip 互換の圧縮  \n",
    "gzip --- gzip ファイルのサポート  \n",
    "bz2 --- bzip2 圧縮のサポート  \n",
    "lzma --- LZMA アルゴリズムを使用した圧縮  \n",
    "zipfile --- ZIP アーカイブの処理  \n",
    "tarfile --- tar アーカイブファイルの読み書き  \n",
    "  \n",
    "### ファイルフォーマット  \n",
    "csv --- CSV ファイルの読み書き  \n",
    "configparser --- 設定ファイルのパーサー  \n",
    "netrc --- netrc ファイルの処理  \n",
    "xdrlib --- XDR データのエンコードおよびデコード  \n",
    "plistlib --- Generate and parse Apple .plist files  \n",
    "  \n",
    "### 暗号関連のサービス  \n",
    "hashlib --- セキュアハッシュおよびメッセージダイジェスト  \n",
    "hmac --- メッセージ認証のための鍵付きハッシュ化  \n",
    "secrets --- 機密を扱うために安全な乱数を生成する  \n",
    "  \n",
    "### 汎用オペレーティングシステムサービス  \n",
    "os --- 雑多なオペレーティングシステムインタフェース  \n",
    "io --- ストリームを扱うコアツール  \n",
    "time --- 時刻データへのアクセスと変換  \n",
    "argparse --- コマンドラインオプション、引数、サブコマンドのパーサー  \n",
    "getopt --- C 言語スタイルのコマンドラインオプションパーサ  \n",
    "logging --- Python 用ロギング機能  \n",
    "logging.config --- ロギングの環境設定  \n",
    "logging.handlers --- ロギングハンドラ  \n",
    "getpass --- 可搬性のあるパスワード入力機構  \n",
    "curses --- 文字セル表示を扱うための端末操作  \n",
    "curses.textpad --- curses プログラムのためのテキスト入力ウィジェット  \n",
    "curses.ascii --- ASCII 文字に関するユーティリティ  \n",
    "curses.panel --- curses のためのパネルスタック拡張  \n",
    "platform --- 実行中プラットフォームの固有情報を参照する  \n",
    "errno --- 標準の errno システムシンボル  \n",
    "ctypes --- Pythonのための外部関数ライブラリ  \n",
    "  \n",
    "### 並行実行  \n",
    "threading --- スレッドベースの並列処理  \n",
    "multiprocessing --- プロセスベースの並列処理  \n",
    "multiprocessing.shared_memory --- 異なるプロセスから参照可能な共有メモリ  \n",
    "concurrent パッケージ  \n",
    "concurrent.futures -- 並列タスク実行  \n",
    "subprocess --- サブプロセス管理  \n",
    "sched --- イベントスケジューラ  \n",
    "queue --- 同期キュークラス  \n",
    "contextvars --- コンテキスト変数  \n",
    "_thread --- 低水準の スレッド API  \n",
    "  \n",
    "### ネットワーク通信とプロセス間通信  \n",
    "asyncio --- 非同期 I/O  \n",
    "socket --- 低水準ネットワークインターフェース  \n",
    "ssl --- ソケットオブジェクトに対する TLS/SSL ラッパー  \n",
    "select --- I/O 処理の完了を待機する  \n",
    "selectors --- 高水準の I/O 多重化  \n",
    "asyncore --- 非同期ソケットハンドラ  \n",
    "asynchat --- 非同期ソケットコマンド/レスポンスハンドラ  \n",
    "signal --- 非同期イベントにハンドラを設定する  \n",
    "mmap --- メモリマップファイル  \n",
    "  \n",
    "### インターネット上のデータの操作  \n",
    "email --- 電子メールと MIME 処理のためのパッケージ  \n",
    "json --- JSON エンコーダおよびデコーダ  \n",
    "mailcap --- mailcap ファイルの操作  \n",
    "mailbox --- 様々な形式のメールボックス操作  \n",
    "mimetypes --- ファイル名を MIME 型へマップする  \n",
    "base64 --- Base16, Base32, Base64, Base85 データの符号化  \n",
    "binhex --- binhex4 形式ファイルのエンコードおよびデコード  \n",
    "binascii --- バイナリデータと ASCII データとの間での変換  \n",
    "quopri --- MIME quoted-printable 形式データのエンコードおよびデコード  \n",
    "uu --- uuencode形式のエンコードとデコード  \n",
    "  \n",
    "### 構造化マークアップツール  \n",
    "html --- HyperText Markup Language のサポート  \n",
    "html.parser--- HTML および XHTML のシンプルなパーサー  \n",
    "html.entities --- HTML 一般実体の定義  \n",
    "XMLを扱うモジュール群  \n",
    "xml.etree.ElementTree --- ElementTree XML API  \n",
    "xml.dom --- 文書オブジェクトモデル (DOM) API  \n",
    "xml.dom.minidom --- 最小限の DOM の実装  \n",
    "xml.dom.pulldom --- 部分的な DOM ツリー構築のサポート  \n",
    "xml.sax --- SAX2 パーサのサポート  \n",
    "xml.sax.handler --- SAX ハンドラの基底クラス  \n",
    "xml.sax.saxutils --- SAX ユーティリティ  \n",
    "xml.sax.xmlreader --- XML パーサのインタフェース  \n",
    "xml.parsers.expat --- Expat を使った高速な XML 解析  \n",
    "  \n",
    "### インターネットプロトコルとサポート  \n",
    "webbrowser --- 便利なウェブブラウザコントローラー  \n",
    "cgi --- CGI (ゲートウェイインターフェース規格) のサポート  \n",
    "cgitb --- CGI スクリプトのトレースバック管理機構  \n",
    "wsgiref --- WSGI ユーティリティとリファレンス実装  \n",
    "urllib --- URL を扱うモジュール群  \n",
    "urllib.request --- URL を開くための拡張可能なライブラリ  \n",
    "urllib.response --- urllib で使用するレスポンスクラス  \n",
    "urllib.parse --- URL を解析して構成要素にする  \n",
    "urllib.error --- urllib.request が投げる例外  \n",
    "urllib.robotparser --- robots.txt のためのパーザ  \n",
    "http --- HTTP モジュール群  \n",
    "http.client --- HTTP プロトコルクライアント  \n",
    "ftplib --- FTPプロトコルクライアント  \n",
    "poplib --- POP3 プロトコルクライアント  \n",
    "imaplib --- IMAP4 プロトコルクライアント  \n",
    "nntplib --- NNTP プロトコルクライアント  \n",
    "smtplib --- SMTP プロトコルクライアント  \n",
    "smtpd --- SMTP サーバー  \n",
    "telnetlib --- Telnet クライアント  \n",
    "uuid --- RFC 4122 に基づくUUID オブジェクト  \n",
    "socketserver --- ネットワークサーバのフレームワーク  \n",
    "http.server --- HTTP サーバ  \n",
    "http.cookies --- HTTPの状態管理  \n",
    "http.cookiejar --- HTTP クライアント用の Cookie 処理  \n",
    "xmlrpc --- XMLRPC サーバーとクライアントモジュール  \n",
    "xmlrpc.client --- XML-RPC クライアントアクセス  \n",
    "xmlrpc.server --- 基本的なXML-RPCサーバー  \n",
    "ipaddress --- IPv4/IPv6 操作ライブラリ  \n",
    "  \n",
    "### マルチメディアサービス  \n",
    "audioop --- 生の音声データを操作する  \n",
    "aifc --- AIFFおよびAIFCファイルの読み書き  \n",
    "sunau --- Sun AUファイルの読み書き  \n",
    "wave --- WAVファイルの読み書き  \n",
    "chunk --- IFFチャンクデータの読み込み  \n",
    "colorsys --- 色体系間の変換  \n",
    "imghdr --- 画像の形式を決定する  \n",
    "sndhdr --- サウンドファイルの識別   \n",
    "ossaudiodev --- OSS互換オーディオデバイスへのアクセス  \n",
    "  \n",
    "### 国際化  \n",
    "gettext --- 多言語対応に関する国際化サービス  \n",
    "locale --- 国際化サービス  \n",
    "  \n",
    "### プログラムのフレームワーク  \n",
    "turtle --- タートルグラフィックス  \n",
    "cmd --- 行指向のコマンドインタープリタのサポート  \n",
    "shlex --- 単純な字句解析  \n",
    "  \n",
    "### Tk を用いたグラフィカルユーザインターフェイス  \n",
    "tkinter --- Tcl/Tk の Python インタフェース  \n",
    "tkinter.colorchooser --- Color choosing dialog  \n",
    "tkinter.font --- Tkinter font wrapper  \n",
    "Tkinter Dialogs  \n",
    "tkinter.messagebox --- Tkinter message prompts  \n",
    "tkinter.scrolledtext --- スクロールするテキストウィジェット  \n",
    "tkinter.dnd --- Drag and drop support  \n",
    "tkinter.ttk --- Tk のテーマ付きウィジェット  \n",
    "tkinter.tix --- Tkの拡張ウィジェット  \n",
    "IDLE  \n",
    "他のグラフィカルユーザインタフェースパッケージ  \n",
    "  \n",
    "### 開発ツール  \n",
    "typing --- 型ヒントのサポート  \n",
    "pydoc --- ドキュメント生成とオンラインヘルプシステム  \n",
    "Python 開発モード  \n",
    "Effects of the Python Development Mode  \n",
    "ResourceWarning Example  \n",
    "Bad file descriptor error example  \n",
    "doctest --- 対話的な実行例をテストする  \n",
    "unittest --- ユニットテストフレームワーク  \n",
    "unittest.mock --- モックオブジェクトライブラリ  \n",
    "unittest.mock --- 入門  \n",
    "2to3 - Python 2 から 3 への自動コード変換  \n",
    "test --- Python 用回帰テストパッケージ  \n",
    "test.support --- テストのためのユーティリティ関数  \n",
    "test.support.socket_helper --- Utilities for socket tests  \n",
    "test.support.script_helper --- Utilities for the Python execution tests  \n",
    "test.support.bytecode_helper --- Support tools for testing correct bytecode generation  \n",
    "  \n",
    "### デバッグとプロファイル  \n",
    "Audit events table  \n",
    "bdb --- デバッガーフレームワーク  \n",
    "faulthandler --- Python tracebackのダンプ  \n",
    "pdb --- Python デバッガ  \n",
    "Python プロファイラ  \n",
    "timeit --- 小さなコード断片の実行時間計測  \n",
    "trace --- Python 文実行のトレースと追跡  \n",
    "tracemalloc --- メモリ割り当ての追跡  \n",
    "  \n",
    "### ソフトウェア・パッケージと配布  \n",
    "distutils --- Python モジュールの構築とインストール  \n",
    "ensurepip --- pip インストーラのブートストラップ  \n",
    "venv --- 仮想環境の作成  \n",
    "zipapp --- Manage executable Python zip archives  \n",
    "  \n",
    "### Python ランタイムサービス  \n",
    "sys --- システムパラメータと関数  \n",
    "sysconfig --- Python の構成情報にアクセスする  \n",
    "builtins --- 組み込みオブジェクト  \n",
    "__main__ --- トップレベルのスクリプト環境  \n",
    "warnings --- 警告の制御  \n",
    "dataclasses --- データクラス  \n",
    "contextlib --- Utilities for with-statement contexts  \n",
    "abc --- 抽象基底クラス  \n",
    "atexit --- 終了ハンドラ  \n",
    "traceback --- スタックトレースの表示または取得  \n",
    "__future__ --- future 文の定義  \n",
    "gc --- ガベージコレクタインターフェース  \n",
    "inspect --- 活動中のオブジェクトの情報を取得する  \n",
    "site --- サイト固有の設定フック  \n",
    "  \n",
    "### カスタム Python インタプリタ  \n",
    "code --- インタプリタ基底クラス  \n",
    "codeop --- Pythonコードをコンパイルする  \n",
    "  \n",
    "### モジュールのインポート  \n",
    "zipimport --- Zip アーカイブからモジュールを import する  \n",
    "pkgutil --- パッケージ拡張ユーティリティ  \n",
    "modulefinder --- スクリプト中で使われているモジュールを検索する  \n",
    "runpy --- Python モジュールの位置特定と実行  \n",
    "importlib --- import の実装  \n",
    "Using importlib.metadata  \n",
    "  \n",
    "### Python言語サービス  \n",
    "parser --- Python 解析木にアクセスする  \n",
    "ast --- 抽象構文木  \n",
    "symtable --- コンパイラの記号表へのアクセス  \n",
    "symbol --- Python 解析木と共に使われる定数  \n",
    "token --- Python 解析木と共に使われる定数  \n",
    "keyword --- Python キーワードチェック  \n",
    "tokenize --- Pythonソースのためのトークナイザ  \n",
    "tabnanny --- あいまいなインデントの検出  \n",
    "pyclbr --- Python module browser support  \n",
    "py_compile --- Python ソースファイルのコンパイル  \n",
    "compileall --- Python ライブラリをバイトコンパイル  \n",
    "dis --- Python バイトコードの逆アセンブラ  \n",
    "pickletools --- pickle 開発者のためのツール群  \n",
    "  \n",
    "### 各種サービス  \n",
    "formatter --- 汎用の出力書式化機構  \n",
    "  \n",
    "### MS Windows 固有のサービス  \n",
    "msilib --- Microsoft インストーラーファイルの読み書き  \n",
    "msvcrt --- MS VC++実行時システムの有用なルーチン群  \n",
    "winreg --- Windows レジストリへのアクセス  \n",
    "winsound --- Windows 用の音声再生インタフェース  \n",
    "  \n",
    "### Unix 固有のサービス  \n",
    "posix --- 最も一般的な POSIX システムコール群  \n",
    "pwd --- パスワードデータベースへのアクセスを提供する  \n",
    "spwd --- シャドウパスワードデータベース  \n",
    "grp --- グループデータベースへのアクセス  \n",
    "crypt --- Unix パスワードをチェックするための関数  \n",
    "termios --- POSIX スタイルの端末制御  \n",
    "tty --- 端末制御のための関数群  \n",
    "pty --- 擬似端末ユーティリティ  \n",
    "fcntl --- fcntl および ioctl システムコール  \n",
    "pipes --- シェルパイプラインへのインタフェース  \n",
    "resource --- リソース使用状態の情報  \n",
    "nis --- Sun の NIS (Yellow Pages) へのインタフェース  \n",
    "syslog --- Unix syslog ライブラリルーチン群  \n",
    "  \n",
    "#### 取って代わられたモジュール群  \n",
    "optparse --- コマンドラインオプション解析器  \n",
    "imp --- import 内部へのアクセス  \n",
    "  \n",
    "#### ドキュメント化されていないモジュール  \n",
    "#### プラットフォーム固有のモジュール  "
   ]
  },
  {
   "cell_type": "markdown",
   "metadata": {},
   "source": [
    "## 組み込み関数"
   ]
  },
  {
   "cell_type": "markdown",
   "metadata": {},
   "source": [
    "|||  組み込み関数一覧  |||\n",
    "| ---- | ---- | ---- | ---- | ---- |\n",
    "|   `abs()`   |  ` delattr()`  |  ` hash()`  |  ` memoryview()`  |  ` set()`  |\n",
    "|   `all()`  |   `dict()`  |   `help()`  |   `min()`  |   `setattr()`  |\n",
    "|   `any()`  |   `dir()`  |   `hex()`  |   `next()`  |   `slice()`  |\n",
    "|   `ascii()`  |   `divmod()`   |   `id()`  |   `object()`  |   `sorted()`  |\n",
    "|   `bin()`  |   `enumerate()`  |   `input()`  |   `oct()`  |   `staticmethod()`  |\n",
    "|   `bool()`  |   `eval()`  |   `int()`  |   `open()`  |   `str()`  |\n",
    "|   `breakpoint()`  |   `exec()`  |   `isinstance()`  |   `ord()`  |   `sum()`  |\n",
    "|   `bytearray()`  |   `filter()`  |   `issubclass()`  |   `pow()`  |   `super()`  |\n",
    "|   `bytes()`  |   `float()`  |   `iter()`  |   `print()`  |   `tuple()`  |\n",
    "|   `callable()`  |   `format()`  |   `len()`  |   `property()`  |   `type()`  |\n",
    "|   `chr()`  |   `frozenset()`  |   `list()`  |   `range()`  |   `vars()`  |\n",
    "|   `classmethod()`  |   `getattr()`  |   `locals()`  |   `repr()`  |   `zip()`  |\n",
    "|   `compile()`  |   `globals()`  |   `map()`  |   `reversed()`  |   `__import__()`  |\n",
    "|   `complex()`  |   `hasattr()`  |   `max()`  |   `round()`  |  |"
   ]
  },
  {
   "cell_type": "markdown",
   "metadata": {},
   "source": [
    "### `abs(x)`\n",
    "数値の絶対値を返します。  \n",
    "引数は、整数、浮動小数点数、または`__abs __()`を実装するオブジェクトの場合があります。  \n",
    "引数が複素数の場合、その大きさが返されます。  "
   ]
  },
  {
   "cell_type": "code",
   "execution_count": 1,
   "metadata": {},
   "outputs": [
    {
     "data": {
      "text/plain": [
       "11"
      ]
     },
     "execution_count": 1,
     "metadata": {},
     "output_type": "execute_result"
    }
   ],
   "source": [
    "abs(-11)"
   ]
  },
  {
   "cell_type": "code",
   "execution_count": 2,
   "metadata": {},
   "outputs": [
    {
     "data": {
      "text/plain": [
       "12.3"
      ]
     },
     "execution_count": 2,
     "metadata": {},
     "output_type": "execute_result"
    }
   ],
   "source": [
    "abs(-12.3)"
   ]
  },
  {
   "cell_type": "code",
   "execution_count": 3,
   "metadata": {},
   "outputs": [
    {
     "data": {
      "text/plain": [
       "12.3"
      ]
     },
     "execution_count": 3,
     "metadata": {},
     "output_type": "execute_result"
    }
   ],
   "source": [
    "abs(12.3)"
   ]
  },
  {
   "cell_type": "markdown",
   "metadata": {},
   "source": [
    "### `all(iterable)`\n",
    "`iterable` 全ての要素が真ならば (もしくは `iterable` が空ならば) `True` を返します。  \n",
    "イテラブルの意味は『反復可能な』や『繰り返し可能な』。  \n",
    "リストのようにオブジェクト内の要素を繰り返しアクセスして取得することができる構造を  \n",
    "『イテラブル(iterable)』と呼び、そのような構造を持ったオブジェクトのことを『イテラブルなオブジェクト』といいます。"
   ]
  },
  {
   "cell_type": "code",
   "execution_count": 20,
   "metadata": {},
   "outputs": [],
   "source": [
    "list_all_true = [True, True, True, True]"
   ]
  },
  {
   "cell_type": "code",
   "execution_count": 21,
   "metadata": {},
   "outputs": [],
   "source": [
    "list_include_false = [True, False, False, False]"
   ]
  },
  {
   "cell_type": "code",
   "execution_count": 22,
   "metadata": {},
   "outputs": [],
   "source": [
    "list_all_false = [False, False, False, False]"
   ]
  },
  {
   "cell_type": "code",
   "execution_count": 23,
   "metadata": {},
   "outputs": [],
   "source": [
    "tuple_all_true = (False, True, False, False)"
   ]
  },
  {
   "cell_type": "code",
   "execution_count": 24,
   "metadata": {},
   "outputs": [],
   "source": [
    "tuple_include_false = (False, False, True, False)"
   ]
  },
  {
   "cell_type": "code",
   "execution_count": 25,
   "metadata": {},
   "outputs": [],
   "source": [
    "tuple_all_false = (False, False, False, False)"
   ]
  },
  {
   "cell_type": "code",
   "execution_count": 26,
   "metadata": {},
   "outputs": [],
   "source": [
    "set_all_true = {True, True, True, True}"
   ]
  },
  {
   "cell_type": "code",
   "execution_count": 27,
   "metadata": {},
   "outputs": [],
   "source": [
    "set_include_false = {False, False, False, True}"
   ]
  },
  {
   "cell_type": "code",
   "execution_count": 28,
   "metadata": {},
   "outputs": [],
   "source": [
    "set_all_false = {False, False, False, False}"
   ]
  },
  {
   "cell_type": "code",
   "execution_count": 18,
   "metadata": {},
   "outputs": [
    {
     "data": {
      "text/plain": [
       "True"
      ]
     },
     "execution_count": 18,
     "metadata": {},
     "output_type": "execute_result"
    }
   ],
   "source": [
    "all(list_all_true)"
   ]
  },
  {
   "cell_type": "code",
   "execution_count": 19,
   "metadata": {},
   "outputs": [
    {
     "data": {
      "text/plain": [
       "False"
      ]
     },
     "execution_count": 19,
     "metadata": {},
     "output_type": "execute_result"
    }
   ],
   "source": [
    "all(list_include_false)"
   ]
  },
  {
   "cell_type": "code",
   "execution_count": 29,
   "metadata": {},
   "outputs": [
    {
     "data": {
      "text/plain": [
       "False"
      ]
     },
     "execution_count": 29,
     "metadata": {},
     "output_type": "execute_result"
    }
   ],
   "source": [
    "all(list_all_false)"
   ]
  },
  {
   "cell_type": "code",
   "execution_count": 33,
   "metadata": {},
   "outputs": [
    {
     "data": {
      "text/plain": [
       "False"
      ]
     },
     "execution_count": 33,
     "metadata": {},
     "output_type": "execute_result"
    }
   ],
   "source": [
    "all(tuple_include_false)"
   ]
  },
  {
   "cell_type": "code",
   "execution_count": 34,
   "metadata": {},
   "outputs": [
    {
     "data": {
      "text/plain": [
       "False"
      ]
     },
     "execution_count": 34,
     "metadata": {},
     "output_type": "execute_result"
    }
   ],
   "source": [
    "all(tuple_all_false)"
   ]
  },
  {
   "cell_type": "code",
   "execution_count": 35,
   "metadata": {},
   "outputs": [
    {
     "data": {
      "text/plain": [
       "True"
      ]
     },
     "execution_count": 35,
     "metadata": {},
     "output_type": "execute_result"
    }
   ],
   "source": [
    "all(set_all_true)"
   ]
  },
  {
   "cell_type": "code",
   "execution_count": 36,
   "metadata": {},
   "outputs": [
    {
     "data": {
      "text/plain": [
       "False"
      ]
     },
     "execution_count": 36,
     "metadata": {},
     "output_type": "execute_result"
    }
   ],
   "source": [
    "all(set_include_false)"
   ]
  },
  {
   "cell_type": "code",
   "execution_count": 37,
   "metadata": {},
   "outputs": [
    {
     "data": {
      "text/plain": [
       "False"
      ]
     },
     "execution_count": 37,
     "metadata": {},
     "output_type": "execute_result"
    }
   ],
   "source": [
    "all(set_all_false)"
   ]
  },
  {
   "cell_type": "markdown",
   "metadata": {},
   "source": [
    "**`dict`とか、単一の要素は？**"
   ]
  },
  {
   "cell_type": "code",
   "execution_count": 46,
   "metadata": {},
   "outputs": [],
   "source": [
    "dict_value_all_true = {\n",
    "    'uuid1': True,\n",
    "    'uuid2': True,\n",
    "    'uuid3': True,\n",
    "    'uuid4': True\n",
    "}"
   ]
  },
  {
   "cell_type": "code",
   "execution_count": 47,
   "metadata": {},
   "outputs": [
    {
     "data": {
      "text/plain": [
       "True"
      ]
     },
     "execution_count": 47,
     "metadata": {},
     "output_type": "execute_result"
    }
   ],
   "source": [
    "all(dict_value_all_true)"
   ]
  },
  {
   "cell_type": "code",
   "execution_count": 49,
   "metadata": {},
   "outputs": [],
   "source": [
    "dict_value_include_false = {\n",
    "    'uuid1': True,\n",
    "    'uuid2': False,\n",
    "    'uuid3': True,\n",
    "    'uuid4': True\n",
    "}"
   ]
  },
  {
   "cell_type": "code",
   "execution_count": 50,
   "metadata": {},
   "outputs": [
    {
     "data": {
      "text/plain": [
       "True"
      ]
     },
     "execution_count": 50,
     "metadata": {},
     "output_type": "execute_result"
    }
   ],
   "source": [
    "all(dict_value_include_false)"
   ]
  },
  {
   "cell_type": "markdown",
   "metadata": {},
   "source": [
    "**ん？あれれ...`key`と`value`のペアだから？？？**"
   ]
  },
  {
   "cell_type": "code",
   "execution_count": 51,
   "metadata": {},
   "outputs": [],
   "source": [
    "dict_key_include_false = {\n",
    "    True: 'uuid1',\n",
    "    False: 'uuid2',\n",
    "    True: 'uuid3',\n",
    "    True: 'uuid4'\n",
    "}"
   ]
  },
  {
   "cell_type": "code",
   "execution_count": 52,
   "metadata": {},
   "outputs": [],
   "source": [
    "dict_key_all_true = {\n",
    "    True: 'uuid1',\n",
    "    True: 'uuid2',\n",
    "    True: 'uuid3',\n",
    "    True: 'uuid4'\n",
    "}"
   ]
  },
  {
   "cell_type": "code",
   "execution_count": 59,
   "metadata": {},
   "outputs": [],
   "source": [
    "dict_key_all_false = {\n",
    "    False: 'uuid1',\n",
    "    False: 'uuid2',\n",
    "    False: 'uuid3',\n",
    "    False: 'uuid4'\n",
    "}"
   ]
  },
  {
   "cell_type": "code",
   "execution_count": 53,
   "metadata": {},
   "outputs": [
    {
     "data": {
      "text/plain": [
       "False"
      ]
     },
     "execution_count": 53,
     "metadata": {},
     "output_type": "execute_result"
    }
   ],
   "source": [
    "all(dict_key_include_false)"
   ]
  },
  {
   "cell_type": "code",
   "execution_count": 54,
   "metadata": {},
   "outputs": [
    {
     "data": {
      "text/plain": [
       "True"
      ]
     },
     "execution_count": 54,
     "metadata": {},
     "output_type": "execute_result"
    }
   ],
   "source": [
    "all(dict_key_all_true)"
   ]
  },
  {
   "cell_type": "code",
   "execution_count": 60,
   "metadata": {},
   "outputs": [
    {
     "data": {
      "text/plain": [
       "False"
      ]
     },
     "execution_count": 60,
     "metadata": {},
     "output_type": "execute_result"
    }
   ],
   "source": [
    "all(dict_key_all_false)"
   ]
  },
  {
   "cell_type": "markdown",
   "metadata": {},
   "source": [
    "**`key`を対象にしている、`value`関係ない...**"
   ]
  },
  {
   "cell_type": "markdown",
   "metadata": {},
   "source": [
    "単一要素は、どうだろう？？"
   ]
  },
  {
   "cell_type": "code",
   "execution_count": 55,
   "metadata": {},
   "outputs": [
    {
     "ename": "TypeError",
     "evalue": "'bool' object is not iterable",
     "output_type": "error",
     "traceback": [
      "\u001b[0;31m---------------------------------------------------------------------------\u001b[0m",
      "\u001b[0;31mTypeError\u001b[0m                                 Traceback (most recent call last)",
      "\u001b[0;32m<ipython-input-55-a4b12522065a>\u001b[0m in \u001b[0;36m<module>\u001b[0;34m\u001b[0m\n\u001b[0;32m----> 1\u001b[0;31m \u001b[0mall\u001b[0m\u001b[0;34m(\u001b[0m\u001b[0;32mFalse\u001b[0m\u001b[0;34m)\u001b[0m\u001b[0;34m\u001b[0m\u001b[0m\n\u001b[0m",
      "\u001b[0;31mTypeError\u001b[0m: 'bool' object is not iterable"
     ]
    }
   ],
   "source": [
    "all(False)"
   ]
  },
  {
   "cell_type": "code",
   "execution_count": 56,
   "metadata": {},
   "outputs": [
    {
     "data": {
      "text/plain": [
       "False"
      ]
     },
     "execution_count": 56,
     "metadata": {},
     "output_type": "execute_result"
    }
   ],
   "source": [
    "all([False])"
   ]
  },
  {
   "cell_type": "code",
   "execution_count": 57,
   "metadata": {},
   "outputs": [
    {
     "data": {
      "text/plain": [
       "True"
      ]
     },
     "execution_count": 57,
     "metadata": {},
     "output_type": "execute_result"
    }
   ],
   "source": [
    "all([True])"
   ]
  },
  {
   "cell_type": "markdown",
   "metadata": {},
   "source": [
    "**気をつけたいところ...\"空\"でも`True`が返るんです**"
   ]
  },
  {
   "cell_type": "code",
   "execution_count": 30,
   "metadata": {},
   "outputs": [
    {
     "data": {
      "text/plain": [
       "True"
      ]
     },
     "execution_count": 30,
     "metadata": {},
     "output_type": "execute_result"
    }
   ],
   "source": [
    "all([])"
   ]
  },
  {
   "cell_type": "code",
   "execution_count": 31,
   "metadata": {},
   "outputs": [
    {
     "data": {
      "text/plain": [
       "True"
      ]
     },
     "execution_count": 31,
     "metadata": {},
     "output_type": "execute_result"
    }
   ],
   "source": [
    "all(())"
   ]
  },
  {
   "cell_type": "code",
   "execution_count": 32,
   "metadata": {},
   "outputs": [
    {
     "data": {
      "text/plain": [
       "True"
      ]
     },
     "execution_count": 32,
     "metadata": {},
     "output_type": "execute_result"
    }
   ],
   "source": [
    "all({})"
   ]
  },
  {
   "cell_type": "markdown",
   "metadata": {},
   "source": [
    "### `any(iterable)`\n",
    "いずれかの要素が真ならば True を返します"
   ]
  },
  {
   "cell_type": "code",
   "execution_count": 61,
   "metadata": {},
   "outputs": [
    {
     "data": {
      "text/plain": [
       "True"
      ]
     },
     "execution_count": 61,
     "metadata": {},
     "output_type": "execute_result"
    }
   ],
   "source": [
    "any(list_all_true)"
   ]
  },
  {
   "cell_type": "code",
   "execution_count": 62,
   "metadata": {},
   "outputs": [
    {
     "data": {
      "text/plain": [
       "True"
      ]
     },
     "execution_count": 62,
     "metadata": {},
     "output_type": "execute_result"
    }
   ],
   "source": [
    "any(list_include_false)"
   ]
  },
  {
   "cell_type": "code",
   "execution_count": 63,
   "metadata": {},
   "outputs": [
    {
     "data": {
      "text/plain": [
       "False"
      ]
     },
     "execution_count": 63,
     "metadata": {},
     "output_type": "execute_result"
    }
   ],
   "source": [
    "any(list_all_false)"
   ]
  },
  {
   "cell_type": "code",
   "execution_count": 64,
   "metadata": {},
   "outputs": [
    {
     "ename": "TypeError",
     "evalue": "any() takes exactly one argument (3 given)",
     "output_type": "error",
     "traceback": [
      "\u001b[0;31m---------------------------------------------------------------------------\u001b[0m",
      "\u001b[0;31mTypeError\u001b[0m                                 Traceback (most recent call last)",
      "\u001b[0;32m<ipython-input-64-67dfd16c6bed>\u001b[0m in \u001b[0;36m<module>\u001b[0;34m\u001b[0m\n\u001b[0;32m----> 1\u001b[0;31m \u001b[0many\u001b[0m\u001b[0;34m(\u001b[0m\u001b[0mall\u001b[0m\u001b[0;34m(\u001b[0m\u001b[0mlist_all_false\u001b[0m\u001b[0;34m)\u001b[0m\u001b[0;34m,\u001b[0m \u001b[0mall\u001b[0m\u001b[0;34m(\u001b[0m\u001b[0mlist_include_false\u001b[0m\u001b[0;34m)\u001b[0m\u001b[0;34m,\u001b[0m \u001b[0mall\u001b[0m\u001b[0;34m(\u001b[0m\u001b[0mlist_all_false\u001b[0m\u001b[0;34m)\u001b[0m\u001b[0;34m)\u001b[0m\u001b[0;34m\u001b[0m\u001b[0m\n\u001b[0m",
      "\u001b[0;31mTypeError\u001b[0m: any() takes exactly one argument (3 given)"
     ]
    }
   ],
   "source": [
    "any(all(list_all_false), all(list_include_false), all(list_all_false))"
   ]
  },
  {
   "cell_type": "code",
   "execution_count": 67,
   "metadata": {},
   "outputs": [
    {
     "data": {
      "text/plain": [
       "True"
      ]
     },
     "execution_count": 67,
     "metadata": {},
     "output_type": "execute_result"
    }
   ],
   "source": [
    "any([all(list_all_true), # True\n",
    "     all(list_include_false), # False\n",
    "     all(list_all_false)] # False\n",
    ")"
   ]
  },
  {
   "cell_type": "markdown",
   "metadata": {},
   "source": [
    "**一方で、空のイテラブルについては...**"
   ]
  },
  {
   "cell_type": "code",
   "execution_count": 69,
   "metadata": {},
   "outputs": [
    {
     "data": {
      "text/plain": [
       "False"
      ]
     },
     "execution_count": 69,
     "metadata": {},
     "output_type": "execute_result"
    }
   ],
   "source": [
    "any([])"
   ]
  },
  {
   "cell_type": "code",
   "execution_count": 70,
   "metadata": {},
   "outputs": [
    {
     "data": {
      "text/plain": [
       "False"
      ]
     },
     "execution_count": 70,
     "metadata": {},
     "output_type": "execute_result"
    }
   ],
   "source": [
    "any(())"
   ]
  },
  {
   "cell_type": "code",
   "execution_count": 68,
   "metadata": {},
   "outputs": [
    {
     "data": {
      "text/plain": [
       "False"
      ]
     },
     "execution_count": 68,
     "metadata": {},
     "output_type": "execute_result"
    }
   ],
   "source": [
    "any({})"
   ]
  },
  {
   "cell_type": "markdown",
   "metadata": {},
   "source": [
    "### `ascii(object)`\n",
    "文字→ascii、ascii→文字 ord, chr に変換するときに使うものです。"
   ]
  },
  {
   "cell_type": "code",
   "execution_count": 79,
   "metadata": {},
   "outputs": [
    {
     "data": {
      "text/plain": [
       "65"
      ]
     },
     "execution_count": 79,
     "metadata": {},
     "output_type": "execute_result"
    }
   ],
   "source": [
    "ord(\"A\")"
   ]
  },
  {
   "cell_type": "code",
   "execution_count": 81,
   "metadata": {},
   "outputs": [
    {
     "data": {
      "text/plain": [
       "'A'"
      ]
     },
     "execution_count": 81,
     "metadata": {},
     "output_type": "execute_result"
    }
   ],
   "source": [
    "chr(ord(\"A\"))"
   ]
  },
  {
   "cell_type": "code",
   "execution_count": 89,
   "metadata": {},
   "outputs": [
    {
     "data": {
      "text/plain": [
       "97"
      ]
     },
     "execution_count": 89,
     "metadata": {},
     "output_type": "execute_result"
    }
   ],
   "source": [
    "ord(\"a\")"
   ]
  },
  {
   "cell_type": "code",
   "execution_count": 90,
   "metadata": {},
   "outputs": [
    {
     "data": {
      "text/plain": [
       "'a'"
      ]
     },
     "execution_count": 90,
     "metadata": {},
     "output_type": "execute_result"
    }
   ],
   "source": [
    "chr(ord(\"A\")+(97-65))"
   ]
  },
  {
   "cell_type": "code",
   "execution_count": 82,
   "metadata": {},
   "outputs": [
    {
     "data": {
      "text/plain": [
       "12354"
      ]
     },
     "execution_count": 82,
     "metadata": {},
     "output_type": "execute_result"
    }
   ],
   "source": [
    "ord(\"あ\")"
   ]
  },
  {
   "cell_type": "code",
   "execution_count": 86,
   "metadata": {},
   "outputs": [
    {
     "data": {
      "text/plain": [
       "'あ'"
      ]
     },
     "execution_count": 86,
     "metadata": {},
     "output_type": "execute_result"
    }
   ],
   "source": [
    "chr(ord(\"あ\"))"
   ]
  },
  {
   "cell_type": "code",
   "execution_count": 87,
   "metadata": {},
   "outputs": [
    {
     "data": {
      "text/plain": [
       "12356"
      ]
     },
     "execution_count": 87,
     "metadata": {},
     "output_type": "execute_result"
    }
   ],
   "source": [
    "ord(\"い\")"
   ]
  },
  {
   "cell_type": "code",
   "execution_count": 88,
   "metadata": {},
   "outputs": [
    {
     "data": {
      "text/plain": [
       "'い'"
      ]
     },
     "execution_count": 88,
     "metadata": {},
     "output_type": "execute_result"
    }
   ],
   "source": [
    "chr(ord(\"あ\")+2)"
   ]
  },
  {
   "cell_type": "markdown",
   "metadata": {},
   "source": [
    "### `bin(x)`\n",
    "整数に対して、先頭に \"0b\" が付いた 2 進文字列に変換します。"
   ]
  },
  {
   "cell_type": "code",
   "execution_count": 76,
   "metadata": {},
   "outputs": [
    {
     "data": {
      "text/plain": [
       "'0b11'"
      ]
     },
     "execution_count": 76,
     "metadata": {},
     "output_type": "execute_result"
    }
   ],
   "source": [
    "bin(3)"
   ]
  },
  {
   "cell_type": "code",
   "execution_count": 77,
   "metadata": {},
   "outputs": [
    {
     "data": {
      "text/plain": [
       "'-0b1010'"
      ]
     },
     "execution_count": 77,
     "metadata": {},
     "output_type": "execute_result"
    }
   ],
   "source": [
    "bin(-10)"
   ]
  },
  {
   "cell_type": "markdown",
   "metadata": {},
   "source": [
    "### `bool([x])`\n",
    "ブール値、すなわち `True` または `False` のどちらかを返します"
   ]
  },
  {
   "cell_type": "code",
   "execution_count": 91,
   "metadata": {},
   "outputs": [
    {
     "data": {
      "text/plain": [
       "False"
      ]
     },
     "execution_count": 91,
     "metadata": {},
     "output_type": "execute_result"
    }
   ],
   "source": [
    "bool('')"
   ]
  },
  {
   "cell_type": "code",
   "execution_count": 92,
   "metadata": {},
   "outputs": [
    {
     "data": {
      "text/plain": [
       "False"
      ]
     },
     "execution_count": 92,
     "metadata": {},
     "output_type": "execute_result"
    }
   ],
   "source": [
    "bool([])"
   ]
  },
  {
   "cell_type": "code",
   "execution_count": 93,
   "metadata": {},
   "outputs": [
    {
     "data": {
      "text/plain": [
       "False"
      ]
     },
     "execution_count": 93,
     "metadata": {},
     "output_type": "execute_result"
    }
   ],
   "source": [
    "bool({})"
   ]
  },
  {
   "cell_type": "code",
   "execution_count": 94,
   "metadata": {},
   "outputs": [
    {
     "data": {
      "text/plain": [
       "False"
      ]
     },
     "execution_count": 94,
     "metadata": {},
     "output_type": "execute_result"
    }
   ],
   "source": [
    "bool(())"
   ]
  },
  {
   "cell_type": "code",
   "execution_count": 95,
   "metadata": {},
   "outputs": [
    {
     "data": {
      "text/plain": [
       "False"
      ]
     },
     "execution_count": 95,
     "metadata": {},
     "output_type": "execute_result"
    }
   ],
   "source": [
    "bool(False)"
   ]
  },
  {
   "cell_type": "code",
   "execution_count": 96,
   "metadata": {},
   "outputs": [
    {
     "data": {
      "text/plain": [
       "True"
      ]
     },
     "execution_count": 96,
     "metadata": {},
     "output_type": "execute_result"
    }
   ],
   "source": [
    "bool(True)"
   ]
  },
  {
   "cell_type": "code",
   "execution_count": 103,
   "metadata": {},
   "outputs": [
    {
     "data": {
      "text/plain": [
       "True"
      ]
     },
     "execution_count": 103,
     "metadata": {},
     "output_type": "execute_result"
    }
   ],
   "source": [
    "bool(\"False\")"
   ]
  },
  {
   "cell_type": "code",
   "execution_count": 104,
   "metadata": {},
   "outputs": [
    {
     "data": {
      "text/plain": [
       "True"
      ]
     },
     "execution_count": 104,
     "metadata": {},
     "output_type": "execute_result"
    }
   ],
   "source": [
    "bool(\"True\")"
   ]
  },
  {
   "cell_type": "code",
   "execution_count": 105,
   "metadata": {},
   "outputs": [
    {
     "data": {
      "text/plain": [
       "True"
      ]
     },
     "execution_count": 105,
     "metadata": {},
     "output_type": "execute_result"
    }
   ],
   "source": [
    "bool(list_all_false)"
   ]
  },
  {
   "cell_type": "code",
   "execution_count": 97,
   "metadata": {},
   "outputs": [
    {
     "data": {
      "text/plain": [
       "True"
      ]
     },
     "execution_count": 97,
     "metadata": {},
     "output_type": "execute_result"
    }
   ],
   "source": [
    "bool(1)"
   ]
  },
  {
   "cell_type": "code",
   "execution_count": 102,
   "metadata": {},
   "outputs": [
    {
     "data": {
      "text/plain": [
       "True"
      ]
     },
     "execution_count": 102,
     "metadata": {},
     "output_type": "execute_result"
    }
   ],
   "source": [
    "bool(-1)"
   ]
  },
  {
   "cell_type": "code",
   "execution_count": 98,
   "metadata": {},
   "outputs": [
    {
     "data": {
      "text/plain": [
       "False"
      ]
     },
     "execution_count": 98,
     "metadata": {},
     "output_type": "execute_result"
    }
   ],
   "source": [
    "bool(0)"
   ]
  },
  {
   "cell_type": "code",
   "execution_count": 99,
   "metadata": {},
   "outputs": [
    {
     "data": {
      "text/plain": [
       "True"
      ]
     },
     "execution_count": 99,
     "metadata": {},
     "output_type": "execute_result"
    }
   ],
   "source": [
    "bool(2)"
   ]
  },
  {
   "cell_type": "code",
   "execution_count": 100,
   "metadata": {},
   "outputs": [
    {
     "data": {
      "text/plain": [
       "True"
      ]
     },
     "execution_count": 100,
     "metadata": {},
     "output_type": "execute_result"
    }
   ],
   "source": [
    "bool(3)"
   ]
  },
  {
   "cell_type": "code",
   "execution_count": 101,
   "metadata": {},
   "outputs": [
    {
     "data": {
      "text/plain": [
       "True"
      ]
     },
     "execution_count": 101,
     "metadata": {},
     "output_type": "execute_result"
    }
   ],
   "source": [
    "bool(100)"
   ]
  },
  {
   "cell_type": "code",
   "execution_count": 106,
   "metadata": {},
   "outputs": [
    {
     "data": {
      "text/plain": [
       "False"
      ]
     },
     "execution_count": 106,
     "metadata": {},
     "output_type": "execute_result"
    }
   ],
   "source": [
    "bool(0.0)"
   ]
  },
  {
   "cell_type": "markdown",
   "metadata": {},
   "source": [
    "### `breakpoint(*args, **kws)`\n",
    "呼び出された箇所からデバッガへ移行します。"
   ]
  },
  {
   "cell_type": "code",
   "execution_count": 3,
   "metadata": {},
   "outputs": [],
   "source": [
    "def main():\n",
    "    breakpoint()\n",
    "    a = '猫'\n",
    "    a = '犬'\n",
    "    a = '鳥'\n",
    "    print(f'変数 \"a\" の値は \"{a}\"。')\n",
    "    return"
   ]
  },
  {
   "cell_type": "code",
   "execution_count": 4,
   "metadata": {},
   "outputs": [
    {
     "name": "stdout",
     "output_type": "stream",
     "text": [
      "> \u001b[0;32m<ipython-input-3-e482ca93447d>\u001b[0m(3)\u001b[0;36mmain\u001b[0;34m()\u001b[0m\n",
      "\u001b[0;32m      1 \u001b[0;31m\u001b[0;32mdef\u001b[0m \u001b[0mmain\u001b[0m\u001b[0;34m(\u001b[0m\u001b[0;34m)\u001b[0m\u001b[0;34m:\u001b[0m\u001b[0;34m\u001b[0m\u001b[0;34m\u001b[0m\u001b[0m\n",
      "\u001b[0m\u001b[0;32m      2 \u001b[0;31m    \u001b[0mbreakpoint\u001b[0m\u001b[0;34m(\u001b[0m\u001b[0;34m)\u001b[0m\u001b[0;34m\u001b[0m\u001b[0;34m\u001b[0m\u001b[0m\n",
      "\u001b[0m\u001b[0;32m----> 3 \u001b[0;31m    \u001b[0ma\u001b[0m \u001b[0;34m=\u001b[0m \u001b[0;34m'猫'\u001b[0m\u001b[0;34m\u001b[0m\u001b[0;34m\u001b[0m\u001b[0m\n",
      "\u001b[0m\u001b[0;32m      4 \u001b[0;31m    \u001b[0ma\u001b[0m \u001b[0;34m=\u001b[0m \u001b[0;34m'犬'\u001b[0m\u001b[0;34m\u001b[0m\u001b[0;34m\u001b[0m\u001b[0m\n",
      "\u001b[0m\u001b[0;32m      5 \u001b[0;31m    \u001b[0ma\u001b[0m \u001b[0;34m=\u001b[0m \u001b[0;34m'鳥'\u001b[0m\u001b[0;34m\u001b[0m\u001b[0;34m\u001b[0m\u001b[0m\n",
      "\u001b[0m\n",
      "ipdb> a\n",
      "ipdb> a\n",
      "ipdb> a\n",
      "ipdb> a\n",
      "ipdb> c\n",
      "変数 \"a\" の値は \"鳥\"。\n"
     ]
    }
   ],
   "source": [
    "main()"
   ]
  },
  {
   "cell_type": "markdown",
   "metadata": {},
   "source": [
    "**バージョン 3.7 で追加された機能になります。**"
   ]
  },
  {
   "cell_type": "markdown",
   "metadata": {},
   "source": [
    "### `bytearray([source[, encoding[, errors]]])`\n",
    "Byteを扱うものです。Byte型と違い、\n",
    "`bytearray`はmutable（ミュータブル）です。変更できるオブジェクトのことをミュータブルといいます。"
   ]
  },
  {
   "cell_type": "code",
   "execution_count": 5,
   "metadata": {},
   "outputs": [],
   "source": [
    "x = b'abc'"
   ]
  },
  {
   "cell_type": "code",
   "execution_count": 6,
   "metadata": {},
   "outputs": [
    {
     "data": {
      "text/plain": [
       "b'abc'"
      ]
     },
     "execution_count": 6,
     "metadata": {},
     "output_type": "execute_result"
    }
   ],
   "source": [
    "x"
   ]
  },
  {
   "cell_type": "code",
   "execution_count": 7,
   "metadata": {},
   "outputs": [
    {
     "data": {
      "text/plain": [
       "97"
      ]
     },
     "execution_count": 7,
     "metadata": {},
     "output_type": "execute_result"
    }
   ],
   "source": [
    "x[0]"
   ]
  },
  {
   "cell_type": "code",
   "execution_count": 13,
   "metadata": {},
   "outputs": [
    {
     "ename": "TypeError",
     "evalue": "'bytes' object does not support item assignment",
     "output_type": "error",
     "traceback": [
      "\u001b[0;31m---------------------------------------------------------------------------\u001b[0m",
      "\u001b[0;31mTypeError\u001b[0m                                 Traceback (most recent call last)",
      "\u001b[0;32m<ipython-input-13-bf934d309bd3>\u001b[0m in \u001b[0;36m<module>\u001b[0;34m\u001b[0m\n\u001b[0;32m----> 1\u001b[0;31m \u001b[0mx\u001b[0m\u001b[0;34m[\u001b[0m\u001b[0;36m0\u001b[0m\u001b[0;34m]\u001b[0m \u001b[0;34m=\u001b[0m \u001b[0;36m98\u001b[0m\u001b[0;34m\u001b[0m\u001b[0;34m\u001b[0m\u001b[0m\n\u001b[0m",
      "\u001b[0;31mTypeError\u001b[0m: 'bytes' object does not support item assignment"
     ]
    }
   ],
   "source": [
    "x[0] = 98"
   ]
  },
  {
   "cell_type": "code",
   "execution_count": 15,
   "metadata": {},
   "outputs": [
    {
     "data": {
      "text/plain": [
       "bytes"
      ]
     },
     "execution_count": 15,
     "metadata": {},
     "output_type": "execute_result"
    }
   ],
   "source": [
    "type(x)"
   ]
  },
  {
   "cell_type": "markdown",
   "metadata": {},
   "source": [
    "**`bytes`型は、イミュータブル(書き換え不能)**"
   ]
  },
  {
   "cell_type": "code",
   "execution_count": 16,
   "metadata": {},
   "outputs": [],
   "source": [
    "y = bytearray(b'abc')"
   ]
  },
  {
   "cell_type": "code",
   "execution_count": 17,
   "metadata": {},
   "outputs": [
    {
     "data": {
      "text/plain": [
       "97"
      ]
     },
     "execution_count": 17,
     "metadata": {},
     "output_type": "execute_result"
    }
   ],
   "source": [
    "y[0]"
   ]
  },
  {
   "cell_type": "code",
   "execution_count": 18,
   "metadata": {},
   "outputs": [],
   "source": [
    "y[0] = 98"
   ]
  },
  {
   "cell_type": "code",
   "execution_count": 19,
   "metadata": {},
   "outputs": [
    {
     "data": {
      "text/plain": [
       "bytearray(b'bbc')"
      ]
     },
     "execution_count": 19,
     "metadata": {},
     "output_type": "execute_result"
    }
   ],
   "source": [
    "y"
   ]
  },
  {
   "cell_type": "code",
   "execution_count": 20,
   "metadata": {},
   "outputs": [
    {
     "data": {
      "text/plain": [
       "bytearray"
      ]
     },
     "execution_count": 20,
     "metadata": {},
     "output_type": "execute_result"
    }
   ],
   "source": [
    "type(y)"
   ]
  },
  {
   "cell_type": "markdown",
   "metadata": {},
   "source": [
    "### `bytes([source[, encoding[, errors]]])`\n",
    "前述の通りで、範囲 0 <= x < 256 の整数のイミュータブルなシーケンスである `bytes` オブジェクトを返します"
   ]
  },
  {
   "cell_type": "markdown",
   "metadata": {},
   "source": [
    "### `callable(object)`\n",
    "object 引数が呼び出し可能オブジェクトであれば True を、そうでなければ False を返します"
   ]
  },
  {
   "cell_type": "code",
   "execution_count": 21,
   "metadata": {},
   "outputs": [],
   "source": [
    "def times(x, y):\n",
    "    return x * y"
   ]
  },
  {
   "cell_type": "code",
   "execution_count": 25,
   "metadata": {},
   "outputs": [],
   "source": [
    "times_callable = times"
   ]
  },
  {
   "cell_type": "code",
   "execution_count": 26,
   "metadata": {},
   "outputs": [
    {
     "data": {
      "text/plain": [
       "True"
      ]
     },
     "execution_count": 26,
     "metadata": {},
     "output_type": "execute_result"
    }
   ],
   "source": [
    "callable(times_callable)"
   ]
  },
  {
   "cell_type": "code",
   "execution_count": 24,
   "metadata": {},
   "outputs": [],
   "source": [
    "def some_pass(x, y):\n",
    "    pass"
   ]
  },
  {
   "cell_type": "code",
   "execution_count": 27,
   "metadata": {},
   "outputs": [],
   "source": [
    "some_callable = some_pass"
   ]
  },
  {
   "cell_type": "code",
   "execution_count": 28,
   "metadata": {},
   "outputs": [
    {
     "data": {
      "text/plain": [
       "True"
      ]
     },
     "execution_count": 28,
     "metadata": {},
     "output_type": "execute_result"
    }
   ],
   "source": [
    "callable(some_callable)"
   ]
  },
  {
   "cell_type": "code",
   "execution_count": 29,
   "metadata": {},
   "outputs": [],
   "source": [
    "un_callable = 'times'"
   ]
  },
  {
   "cell_type": "code",
   "execution_count": 30,
   "metadata": {},
   "outputs": [
    {
     "data": {
      "text/plain": [
       "False"
      ]
     },
     "execution_count": 30,
     "metadata": {},
     "output_type": "execute_result"
    }
   ],
   "source": [
    "callable(un_callable)"
   ]
  },
  {
   "cell_type": "markdown",
   "metadata": {},
   "source": [
    "### `chr(i)`\n",
    "Unicode コードポイントが整数 `i` である文字を表す文字列を返します。  \n",
    "引数の有効な範囲は 0 から 1,114,111 (16 進数で 0x10FFFF)  \n",
    "になります。それら以外を指定すると、`ValueError`となります。"
   ]
  },
  {
   "cell_type": "code",
   "execution_count": 33,
   "metadata": {},
   "outputs": [
    {
     "data": {
      "text/plain": [
       "'a'"
      ]
     },
     "execution_count": 33,
     "metadata": {},
     "output_type": "execute_result"
    }
   ],
   "source": [
    "chr(97)"
   ]
  },
  {
   "cell_type": "markdown",
   "metadata": {},
   "source": [
    "### `@classmethod`\n",
    "メソッドをクラスメソッドへ変換します。  \n",
    "クラスメソッドは、インスタンスメソッドが暗黙の第一引数としてインスタンスをとるように、第一引数としてクラスをとります。  \n",
    "  \n",
    "クラスメソッドは関数とそれほど大きな違いは無いと言えますが、  \n",
    "  \n",
    "**・第一引数でクラスが取得できる**\n",
    "**・クラスの中にあるので、クラスをインポートすれば即時に使える**  \n",
    "  \n",
    "がメリットになります。  \n",
    "  \n",
    "例えば、  \n",
    "クラス `Items` と、`Items`内の情報を、APIからIDに紐づいた情報を取得して返す `retrieveFromApi` というクラスメソッドを実装すると...  \n",
    "(例えばの話なので、下記を実行しても何もできません。。。)"
   ]
  },
  {
   "cell_type": "code",
   "execution_count": 34,
   "metadata": {},
   "outputs": [],
   "source": [
    "class Items:\n",
    "    def __init__(self, id, name):\n",
    "        self.id = id\n",
    "        self.name = name\n",
    "\n",
    "    @classmethod\n",
    "    def retrieveFromApi(cls, id):\n",
    "        response = requests.get(f\"https://api.hogehoge.com/items/{id}\")\n",
    "        data = response.json()\n",
    "        return cls(id, data[\"Info\"])"
   ]
  },
  {
   "cell_type": "markdown",
   "metadata": {},
   "source": [
    "@classmethodを用いないと、"
   ]
  },
  {
   "cell_type": "code",
   "execution_count": 35,
   "metadata": {},
   "outputs": [],
   "source": [
    "class Items:\n",
    "    def __init__(self, id, name):\n",
    "        self.id = id\n",
    "        self.name = name\n",
    "\n",
    "def retrieveItem(id):\n",
    "    response = requests.get(f\"https://api.hogehoge.com/items/{id}\")\n",
    "    data = res.json()\n",
    "    return Item(id, data[\"Info\"])"
   ]
  },
  {
   "cell_type": "markdown",
   "metadata": {},
   "source": [
    "### `compile(source, filename, mode, flags=0, dont_inherit=False, optimize=-1)`\n",
    "`source` をコードオブジェクト、もしくは、 AST オブジェクトにコンパイルします。   \n",
    "コードオブジェクトは exec() 文で実行したり、 eval() 呼び出しで評価できます。   \n",
    "source は通常の文字列、 バイト列、 AST オブジェクトのいずれでもかまいません。  \n",
    "※抽象構文木 (Abstract Syntax Tree) ← 一番最後のモジュール説明あたりに出てきます...\n",
    "  \n",
    "`filename` 引数には、コードの読み出し元のファイルを与えなければなりません;   \n",
    "ファイルから読み出されるのでなければ、認識可能な値を渡して下さい ('<string>' が一般的に使われます)  \n",
    "  \n",
    "`mode` 引数は、コンパイルされるコードの種類を指定します; source が一連の文から成るなら `exec` 、  \n",
    "単一の式から成るなら `eval` 、単一の対話的文の場合 `single` です。"
   ]
  },
  {
   "cell_type": "code",
   "execution_count": 36,
   "metadata": {},
   "outputs": [],
   "source": [
    "import ast"
   ]
  },
  {
   "cell_type": "code",
   "execution_count": 40,
   "metadata": {},
   "outputs": [],
   "source": [
    "s = '[\"a\", \"b\", \"c\"]'"
   ]
  },
  {
   "cell_type": "code",
   "execution_count": 42,
   "metadata": {},
   "outputs": [
    {
     "data": {
      "text/plain": [
       "'[\"a\", \"b\", \"c\"]'"
      ]
     },
     "execution_count": 42,
     "metadata": {},
     "output_type": "execute_result"
    }
   ],
   "source": [
    "s"
   ]
  },
  {
   "cell_type": "code",
   "execution_count": 41,
   "metadata": {},
   "outputs": [
    {
     "data": {
      "text/plain": [
       "['a', 'b', 'c']"
      ]
     },
     "execution_count": 41,
     "metadata": {},
     "output_type": "execute_result"
    }
   ],
   "source": [
    "ast.literal_eval(s)"
   ]
  },
  {
   "cell_type": "markdown",
   "metadata": {},
   "source": [
    "pythonコードとして認識させたいときに、用います。"
   ]
  },
  {
   "cell_type": "code",
   "execution_count": 44,
   "metadata": {},
   "outputs": [],
   "source": [
    "FILENAME = 'helloWorld.py'"
   ]
  },
  {
   "cell_type": "code",
   "execution_count": 45,
   "metadata": {},
   "outputs": [],
   "source": [
    "with open(FILENAME, 'r') as f:\n",
    "    source = f.read()"
   ]
  },
  {
   "cell_type": "markdown",
   "metadata": {},
   "source": [
    "**読み込んだファイルを `ast` モジュールの `parse()` 関数に渡して構文を解析します**"
   ]
  },
  {
   "cell_type": "code",
   "execution_count": 46,
   "metadata": {},
   "outputs": [],
   "source": [
    "ast_object = ast.parse(source, FILENAME)"
   ]
  },
  {
   "cell_type": "markdown",
   "metadata": {},
   "source": [
    "**もしくは、今回の`compile`を用いても良いです**"
   ]
  },
  {
   "cell_type": "code",
   "execution_count": 47,
   "metadata": {},
   "outputs": [],
   "source": [
    "ast_object = compile(source, FILENAME, 'exec', ast.PyCF_ONLY_AST)"
   ]
  },
  {
   "cell_type": "markdown",
   "metadata": {},
   "source": [
    "**ASTについては、別の機会に...！**"
   ]
  },
  {
   "cell_type": "markdown",
   "metadata": {},
   "source": [
    "### `complex(real, imag)`\n",
    "値 `real + imag*1j` の複素数を返すか、文字列や数を複素数に変換します。  \n",
    "第一引数が文字列なら、それが複素数と解釈され、この関数は第二引数無しで呼び出されなければなりません。  \n",
    "第二引数は文字列であってはなりません。それぞれの引数は (複素数を含む) 任意の数値型となってます。"
   ]
  },
  {
   "cell_type": "code",
   "execution_count": 48,
   "metadata": {},
   "outputs": [
    {
     "data": {
      "text/plain": [
       "(1+2j)"
      ]
     },
     "execution_count": 48,
     "metadata": {},
     "output_type": "execute_result"
    }
   ],
   "source": [
    "complex('1+2j')"
   ]
  },
  {
   "cell_type": "markdown",
   "metadata": {},
   "source": [
    "**文字列の、演算子の前後に空白があると、エラーになります**"
   ]
  },
  {
   "cell_type": "code",
   "execution_count": 49,
   "metadata": {},
   "outputs": [
    {
     "ename": "ValueError",
     "evalue": "complex() arg is a malformed string",
     "output_type": "error",
     "traceback": [
      "\u001b[0;31m---------------------------------------------------------------------------\u001b[0m",
      "\u001b[0;31mValueError\u001b[0m                                Traceback (most recent call last)",
      "\u001b[0;32m<ipython-input-49-fd0fa4b53d7c>\u001b[0m in \u001b[0;36m<module>\u001b[0;34m\u001b[0m\n\u001b[0;32m----> 1\u001b[0;31m \u001b[0mcomplex\u001b[0m\u001b[0;34m(\u001b[0m\u001b[0;34m'1 + 2j'\u001b[0m\u001b[0;34m)\u001b[0m\u001b[0;34m\u001b[0m\u001b[0;34m\u001b[0m\u001b[0m\n\u001b[0m",
      "\u001b[0;31mValueError\u001b[0m: complex() arg is a malformed string"
     ]
    }
   ],
   "source": [
    "complex('1 + 2j')"
   ]
  },
  {
   "cell_type": "code",
   "execution_count": 53,
   "metadata": {},
   "outputs": [
    {
     "data": {
      "text/plain": [
       "(1+2j)"
      ]
     },
     "execution_count": 53,
     "metadata": {},
     "output_type": "execute_result"
    }
   ],
   "source": [
    "complex(1,2)"
   ]
  },
  {
   "cell_type": "markdown",
   "metadata": {},
   "source": [
    "### `delattr(object, name)` と `setattr(object, name, value)`, `getattr(object, name[, default])`"
   ]
  },
  {
   "cell_type": "code",
   "execution_count": 63,
   "metadata": {},
   "outputs": [],
   "source": [
    "class TEST:\n",
    "    #この時点では中身は何も定義しない\n",
    "    pass"
   ]
  },
  {
   "cell_type": "markdown",
   "metadata": {},
   "source": [
    "**`TEST`クラスに名前属性と名前を追加します**"
   ]
  },
  {
   "cell_type": "code",
   "execution_count": 64,
   "metadata": {},
   "outputs": [],
   "source": [
    "setattr(TEST,\"name\",\"abc\")"
   ]
  },
  {
   "cell_type": "markdown",
   "metadata": {},
   "source": [
    "**`TEST`クラスに数字属性と数字を追加します**"
   ]
  },
  {
   "cell_type": "code",
   "execution_count": 65,
   "metadata": {},
   "outputs": [],
   "source": [
    "setattr(TEST,\"number\",123)"
   ]
  },
  {
   "cell_type": "markdown",
   "metadata": {},
   "source": [
    "**属性が入っているかどうか、取り出して確認してみます...**"
   ]
  },
  {
   "cell_type": "code",
   "execution_count": 66,
   "metadata": {},
   "outputs": [
    {
     "name": "stdout",
     "output_type": "stream",
     "text": [
      "abc\n"
     ]
    }
   ],
   "source": [
    "print(getattr(TEST,\"name\"))"
   ]
  },
  {
   "cell_type": "code",
   "execution_count": 67,
   "metadata": {},
   "outputs": [
    {
     "name": "stdout",
     "output_type": "stream",
     "text": [
      "123\n"
     ]
    }
   ],
   "source": [
    "print(getattr(TEST,\"number\"))"
   ]
  },
  {
   "cell_type": "markdown",
   "metadata": {},
   "source": [
    "**属性を削除します**"
   ]
  },
  {
   "cell_type": "code",
   "execution_count": 68,
   "metadata": {},
   "outputs": [],
   "source": [
    "delattr(TEST,\"number\")"
   ]
  },
  {
   "cell_type": "code",
   "execution_count": 69,
   "metadata": {},
   "outputs": [
    {
     "ename": "AttributeError",
     "evalue": "type object 'TEST' has no attribute 'number'",
     "output_type": "error",
     "traceback": [
      "\u001b[0;31m---------------------------------------------------------------------------\u001b[0m",
      "\u001b[0;31mAttributeError\u001b[0m                            Traceback (most recent call last)",
      "\u001b[0;32m<ipython-input-69-ddb832bb020e>\u001b[0m in \u001b[0;36m<module>\u001b[0;34m\u001b[0m\n\u001b[0;32m----> 1\u001b[0;31m \u001b[0mprint\u001b[0m\u001b[0;34m(\u001b[0m\u001b[0mgetattr\u001b[0m\u001b[0;34m(\u001b[0m\u001b[0mTEST\u001b[0m\u001b[0;34m,\u001b[0m\u001b[0;34m\"number\"\u001b[0m\u001b[0;34m)\u001b[0m\u001b[0;34m)\u001b[0m\u001b[0;34m\u001b[0m\u001b[0;34m\u001b[0m\u001b[0m\n\u001b[0m",
      "\u001b[0;31mAttributeError\u001b[0m: type object 'TEST' has no attribute 'number'"
     ]
    }
   ],
   "source": [
    "print(getattr(TEST,\"number\"))"
   ]
  },
  {
   "cell_type": "code",
   "execution_count": 70,
   "metadata": {},
   "outputs": [],
   "source": [
    "class TEST:\n",
    "    name = \"abc\"\n",
    "    number = 123"
   ]
  },
  {
   "cell_type": "code",
   "execution_count": 71,
   "metadata": {},
   "outputs": [
    {
     "name": "stdout",
     "output_type": "stream",
     "text": [
      "123\n"
     ]
    }
   ],
   "source": [
    "print(getattr(TEST,\"number\"))"
   ]
  },
  {
   "cell_type": "markdown",
   "metadata": {},
   "source": [
    "**こんな感じで、クラスの中の属性値を外から定義することも可能です...！**"
   ]
  },
  {
   "cell_type": "markdown",
   "metadata": {},
   "source": [
    "# 次回もう１回を使って、この組み込み関数について見ていきます...！"
   ]
  }
 ],
 "metadata": {
  "kernelspec": {
   "display_name": "Python 3",
   "language": "python",
   "name": "python3"
  },
  "language_info": {
   "codemirror_mode": {
    "name": "ipython",
    "version": 3
   },
   "file_extension": ".py",
   "mimetype": "text/x-python",
   "name": "python",
   "nbconvert_exporter": "python",
   "pygments_lexer": "ipython3",
   "version": "3.7.4"
  }
 },
 "nbformat": 4,
 "nbformat_minor": 2
}
