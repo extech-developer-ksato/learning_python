{
 "cells": [
  {
   "cell_type": "markdown",
   "metadata": {},
   "source": [
    "## `collections` --- コンテナデータ型\n",
    "`collections`モジュールでよく使われるのは、`Counter`オブジェクトです。  \n",
    "リストの要素をカウントしてくれたり、ユニークな要素の数をカウントしてくれたり、なかなか重宝します。  \n",
    "要素を辞書のキーとして保存し、そのカウントを辞書の値として保存する、といったものになります。  \n",
    "  \n",
    "その他、`ChainMap`オブジェクトや`OrderedDict`オブジェクトなど、要所要所で使えるかな？レベルのものもあります。  \n",
    "\"すごく使える\"という感じではないので(処理速度が上がる、とか)、紹介程度にとどめます。"
   ]
  },
  {
   "cell_type": "markdown",
   "metadata": {},
   "source": [
    "### `collections.Counter`"
   ]
  },
  {
   "cell_type": "code",
   "execution_count": 2,
   "metadata": {},
   "outputs": [],
   "source": [
    "import collections"
   ]
  },
  {
   "cell_type": "code",
   "execution_count": 4,
   "metadata": {},
   "outputs": [],
   "source": [
    "# 基本的な使い方\n",
    "c = collections.Counter()"
   ]
  },
  {
   "cell_type": "code",
   "execution_count": 5,
   "metadata": {},
   "outputs": [],
   "source": [
    "from collections import Counter"
   ]
  },
  {
   "cell_type": "code",
   "execution_count": 6,
   "metadata": {},
   "outputs": [],
   "source": [
    "# 空のオブジェクト\n",
    "c = Counter()"
   ]
  },
  {
   "cell_type": "code",
   "execution_count": 7,
   "metadata": {},
   "outputs": [],
   "source": [
    "c = Counter({'red': 4, 'blue': 2})"
   ]
  },
  {
   "cell_type": "code",
   "execution_count": 8,
   "metadata": {},
   "outputs": [],
   "source": [
    "c = Counter(cats=4, dogs=8)"
   ]
  },
  {
   "cell_type": "markdown",
   "metadata": {},
   "source": [
    "#### `elements()`, `most_common()`, `subtract()`が使えます"
   ]
  },
  {
   "cell_type": "code",
   "execution_count": 9,
   "metadata": {},
   "outputs": [],
   "source": [
    "c = Counter(a=4, b=2, c=0, d=-2)"
   ]
  },
  {
   "cell_type": "code",
   "execution_count": 10,
   "metadata": {},
   "outputs": [
    {
     "data": {
      "text/plain": [
       "<itertools.chain at 0x105528410>"
      ]
     },
     "execution_count": 10,
     "metadata": {},
     "output_type": "execute_result"
    }
   ],
   "source": [
    "c.elements()"
   ]
  },
  {
   "cell_type": "code",
   "execution_count": 11,
   "metadata": {},
   "outputs": [
    {
     "data": {
      "text/plain": [
       "['a', 'a', 'a', 'a', 'b', 'b']"
      ]
     },
     "execution_count": 11,
     "metadata": {},
     "output_type": "execute_result"
    }
   ],
   "source": [
    "sorted(c.elements())"
   ]
  },
  {
   "cell_type": "code",
   "execution_count": 12,
   "metadata": {},
   "outputs": [
    {
     "data": {
      "text/plain": [
       "[('a', 4), ('b', 2), ('c', 0), ('d', -2)]"
      ]
     },
     "execution_count": 12,
     "metadata": {},
     "output_type": "execute_result"
    }
   ],
   "source": [
    "c.most_common()"
   ]
  },
  {
   "cell_type": "code",
   "execution_count": 13,
   "metadata": {},
   "outputs": [
    {
     "data": {
      "text/plain": [
       "[('a', 5), ('b', 2), ('r', 2)]"
      ]
     },
     "execution_count": 13,
     "metadata": {},
     "output_type": "execute_result"
    }
   ],
   "source": [
    "Counter('abracadabra').most_common(3)"
   ]
  },
  {
   "cell_type": "markdown",
   "metadata": {},
   "source": [
    "**`substrust`２つの`Counter`オブジェクトのうち、一方の要素をもとに引き算してくれます**"
   ]
  },
  {
   "cell_type": "code",
   "execution_count": 14,
   "metadata": {},
   "outputs": [],
   "source": [
    "c = Counter(a=4, b=2, c=0, d=-2)"
   ]
  },
  {
   "cell_type": "code",
   "execution_count": 15,
   "metadata": {},
   "outputs": [],
   "source": [
    "d = Counter(a=1, b=2, c=3, d=4)"
   ]
  },
  {
   "cell_type": "code",
   "execution_count": 16,
   "metadata": {},
   "outputs": [],
   "source": [
    "c.subtract(d)"
   ]
  },
  {
   "cell_type": "code",
   "execution_count": 17,
   "metadata": {},
   "outputs": [
    {
     "data": {
      "text/plain": [
       "Counter({'a': 3, 'b': 0, 'c': -3, 'd': -6})"
      ]
     },
     "execution_count": 17,
     "metadata": {},
     "output_type": "execute_result"
    }
   ],
   "source": [
    "c"
   ]
  },
  {
   "cell_type": "markdown",
   "metadata": {},
   "source": [
    "Counter オブジェクトを組み合わせて多重集合 (1 以上のカウントをもつカウンタ) を作るために、  \n",
    "いくつかの数学演算が提供されています。  \n",
    "足し算と引き算は、対応する要素を足したり引いたりすることによってカウンタを組み合わせます。  \n",
    "積集合と和集合は、対応するカウントの最大値と最小値を返します。  \n",
    "それぞれの演算はカウントに符号がついた入力を受け付けますが、カウントが 0 以下である結果は出力から除かれます。"
   ]
  },
  {
   "cell_type": "code",
   "execution_count": 18,
   "metadata": {},
   "outputs": [],
   "source": [
    "c = Counter(a=3, b=1)"
   ]
  },
  {
   "cell_type": "code",
   "execution_count": 19,
   "metadata": {},
   "outputs": [],
   "source": [
    "d = Counter(a=1, b=2)"
   ]
  },
  {
   "cell_type": "code",
   "execution_count": 20,
   "metadata": {},
   "outputs": [
    {
     "data": {
      "text/plain": [
       "Counter({'a': 3, 'b': 1})"
      ]
     },
     "execution_count": 20,
     "metadata": {},
     "output_type": "execute_result"
    }
   ],
   "source": [
    "c"
   ]
  },
  {
   "cell_type": "code",
   "execution_count": 21,
   "metadata": {},
   "outputs": [
    {
     "data": {
      "text/plain": [
       "Counter({'a': 1, 'b': 2})"
      ]
     },
     "execution_count": 21,
     "metadata": {},
     "output_type": "execute_result"
    }
   ],
   "source": [
    "d"
   ]
  },
  {
   "cell_type": "code",
   "execution_count": 22,
   "metadata": {},
   "outputs": [
    {
     "data": {
      "text/plain": [
       "Counter({'a': 2})"
      ]
     },
     "execution_count": 22,
     "metadata": {},
     "output_type": "execute_result"
    }
   ],
   "source": [
    "c - d "
   ]
  },
  {
   "cell_type": "code",
   "execution_count": 23,
   "metadata": {},
   "outputs": [
    {
     "data": {
      "text/plain": [
       "Counter({'a': 4, 'b': 3})"
      ]
     },
     "execution_count": 23,
     "metadata": {},
     "output_type": "execute_result"
    }
   ],
   "source": [
    "c + d"
   ]
  },
  {
   "cell_type": "code",
   "execution_count": 24,
   "metadata": {},
   "outputs": [
    {
     "data": {
      "text/plain": [
       "Counter({'a': 1, 'b': 1})"
      ]
     },
     "execution_count": 24,
     "metadata": {},
     "output_type": "execute_result"
    }
   ],
   "source": [
    "c & d"
   ]
  },
  {
   "cell_type": "code",
   "execution_count": 25,
   "metadata": {},
   "outputs": [
    {
     "data": {
      "text/plain": [
       "Counter({'a': 3, 'b': 2})"
      ]
     },
     "execution_count": 25,
     "metadata": {},
     "output_type": "execute_result"
    }
   ],
   "source": [
    "c | d"
   ]
  },
  {
   "cell_type": "markdown",
   "metadata": {},
   "source": [
    "### `deque`オブジェクト\n",
    "  \n",
    "**`append(x)`**  \n",
    "`x` を `deque` の右側につけ加えるメソッド  \n",
    "  \n",
    "**`appendleft(x)`**  \n",
    "`x` を `deque` の左側につけ加えるメソッド  \n",
    "  \n",
    "**`clear()`**  \n",
    "`deque` からすべての要素を削除し、長さを 0 にするメソッド  \n",
    "  \n",
    "**`copy()`**\n",
    "`deque` のコピーを作成するメソッド  \n",
    "  \n",
    "**`count(x)`**  \n",
    "`deque` の `x` に等しい要素を数え上げるメソッド  \n",
    "  \n",
    "**`extend(iterable)`**  \n",
    "イテラブルな引数 `iterable` から得られる要素を `deque` の右側に追加し拡張するメソッド  \n",
    "  \n",
    "**`extendleft(iterable)`**  \n",
    "イテラブルな引数 `iterable` から得られる要素を `deque` の左側に追加し拡張するメソッド  \n",
    "  \n",
    "**`index(x[, start[, stop]])`**  \n",
    "`deque` 内の `x` の位置を返すメソッド。最初に一致したものを返すか、見つからない場合には `ValueError` を返します。\n",
    "  \n",
    "**`insert(i, x)`**  \n",
    "`x` を `deque` の位置 `i` に挿入するメソッド  \n",
    "長さに制限のある `deque` の長さが `maxlen` を超える場合、`IndexError` を返します。\n",
    "\n",
    "**`pop()`**  \n",
    "`deque` の右側から要素をひとつ削除し、その要素を返すメソッド。要素がひとつも存在しない場合は `IndexError` を返します。  \n",
    "  \n",
    "**`popleft()`**  \n",
    "`deque` の左側から要素をひとつ削除し、その要素を返すメソッド。要素がひとつも存在しない場合は `IndexError` を返します。\n",
    "  \n",
    "**`remove(value)`**  \n",
    "`value` の最初に現れるものを削除するメソッド。要素が見付からないない場合は `ValueError` を返します。  \n",
    "  \n",
    "**`reverse()`**  \n",
    "`deque` の要素を反転して内部反映させて、`None` を返すメソッド。  "
   ]
  },
  {
   "cell_type": "code",
   "execution_count": 26,
   "metadata": {},
   "outputs": [],
   "source": [
    "from collections import deque"
   ]
  },
  {
   "cell_type": "code",
   "execution_count": 30,
   "metadata": {},
   "outputs": [],
   "source": [
    "d = deque('bcdefghijk')"
   ]
  },
  {
   "cell_type": "code",
   "execution_count": 31,
   "metadata": {},
   "outputs": [
    {
     "data": {
      "text/plain": [
       "deque(['b', 'c', 'd', 'e', 'f', 'g', 'h', 'i', 'j', 'k'])"
      ]
     },
     "execution_count": 31,
     "metadata": {},
     "output_type": "execute_result"
    }
   ],
   "source": [
    "d"
   ]
  },
  {
   "cell_type": "code",
   "execution_count": 32,
   "metadata": {},
   "outputs": [
    {
     "name": "stdout",
     "output_type": "stream",
     "text": [
      "B\n",
      "C\n",
      "D\n",
      "E\n",
      "F\n",
      "G\n",
      "H\n",
      "I\n",
      "J\n",
      "K\n"
     ]
    }
   ],
   "source": [
    "for elem in d:\n",
    "    print(elem.upper())"
   ]
  },
  {
   "cell_type": "code",
   "execution_count": 33,
   "metadata": {},
   "outputs": [],
   "source": [
    "# 要素の追加(右に追加される)\n",
    "d.append('l') "
   ]
  },
  {
   "cell_type": "code",
   "execution_count": 34,
   "metadata": {},
   "outputs": [],
   "source": [
    "# 要素の追加(左に追加する)\n",
    "d.appendleft('a')"
   ]
  },
  {
   "cell_type": "code",
   "execution_count": 35,
   "metadata": {},
   "outputs": [
    {
     "data": {
      "text/plain": [
       "deque(['a', 'b', 'c', 'd', 'e', 'f', 'g', 'h', 'i', 'j', 'k', 'l'])"
      ]
     },
     "execution_count": 35,
     "metadata": {},
     "output_type": "execute_result"
    }
   ],
   "source": [
    "d"
   ]
  },
  {
   "cell_type": "code",
   "execution_count": 36,
   "metadata": {},
   "outputs": [
    {
     "data": {
      "text/plain": [
       "'l'"
      ]
     },
     "execution_count": 36,
     "metadata": {},
     "output_type": "execute_result"
    }
   ],
   "source": [
    "# 最後の要素を削除する\n",
    "d.pop()"
   ]
  },
  {
   "cell_type": "code",
   "execution_count": 37,
   "metadata": {},
   "outputs": [
    {
     "data": {
      "text/plain": [
       "'a'"
      ]
     },
     "execution_count": 37,
     "metadata": {},
     "output_type": "execute_result"
    }
   ],
   "source": [
    "# 最初の要素を削除する\n",
    "d.popleft()"
   ]
  },
  {
   "cell_type": "code",
   "execution_count": 38,
   "metadata": {},
   "outputs": [
    {
     "data": {
      "text/plain": [
       "deque(['b', 'c', 'd', 'e', 'f', 'g', 'h', 'i', 'j', 'k'])"
      ]
     },
     "execution_count": 38,
     "metadata": {},
     "output_type": "execute_result"
    }
   ],
   "source": [
    "d"
   ]
  },
  {
   "cell_type": "code",
   "execution_count": 39,
   "metadata": {},
   "outputs": [
    {
     "data": {
      "text/plain": [
       "['b', 'c', 'd', 'e', 'f', 'g', 'h', 'i', 'j', 'k']"
      ]
     },
     "execution_count": 39,
     "metadata": {},
     "output_type": "execute_result"
    }
   ],
   "source": [
    "list(d)"
   ]
  },
  {
   "cell_type": "code",
   "execution_count": 40,
   "metadata": {},
   "outputs": [
    {
     "data": {
      "text/plain": [
       "['k', 'j', 'i', 'h', 'g', 'f', 'e', 'd', 'c', 'b']"
      ]
     },
     "execution_count": 40,
     "metadata": {},
     "output_type": "execute_result"
    }
   ],
   "source": [
    "# 反転させる\n",
    "list(reversed(d))"
   ]
  },
  {
   "cell_type": "markdown",
   "metadata": {},
   "source": [
    "#### `Counter`を使いたくなるモチベーション１例\n",
    "いろいろな場面がありつつも、やはり簡単に\"頻度\"が見れるのが、便利かなと思います。"
   ]
  },
  {
   "cell_type": "code",
   "execution_count": 41,
   "metadata": {},
   "outputs": [],
   "source": [
    "### データ１例\n",
    "import random"
   ]
  },
  {
   "cell_type": "code",
   "execution_count": 42,
   "metadata": {},
   "outputs": [],
   "source": [
    "list_sample = []\n",
    "for name in ['りんご','バナナ','みかん','なし','トマト','きゅうり','なす']:\n",
    "    for num in range(random.randint(5,100)):\n",
    "        list_sample.append(name)"
   ]
  },
  {
   "cell_type": "code",
   "execution_count": 44,
   "metadata": {},
   "outputs": [
    {
     "data": {
      "text/plain": [
       "['りんご', 'りんご', 'りんご', 'りんご', 'りんご', 'りんご', 'りんご', 'りんご', 'りんご', 'りんご']"
      ]
     },
     "execution_count": 44,
     "metadata": {},
     "output_type": "execute_result"
    }
   ],
   "source": [
    "list_sample[0:10]"
   ]
  },
  {
   "cell_type": "code",
   "execution_count": 45,
   "metadata": {},
   "outputs": [
    {
     "data": {
      "text/plain": [
       "['なし', 'なし', 'なし', 'なし', 'なし', 'なし', 'なし', 'なし', 'なし', 'なし']"
      ]
     },
     "execution_count": 45,
     "metadata": {},
     "output_type": "execute_result"
    }
   ],
   "source": [
    "list_sample[150:160]"
   ]
  },
  {
   "cell_type": "code",
   "execution_count": 46,
   "metadata": {},
   "outputs": [
    {
     "data": {
      "text/plain": [
       "344"
      ]
     },
     "execution_count": 46,
     "metadata": {},
     "output_type": "execute_result"
    }
   ],
   "source": [
    "len(list_sample)"
   ]
  },
  {
   "cell_type": "code",
   "execution_count": 48,
   "metadata": {},
   "outputs": [],
   "source": [
    "c_sample = Counter(list_sample)"
   ]
  },
  {
   "cell_type": "code",
   "execution_count": 50,
   "metadata": {},
   "outputs": [
    {
     "data": {
      "text/plain": [
       "[('なし', 97),\n",
       " ('みかん', 65),\n",
       " ('きゅうり', 59),\n",
       " ('なす', 43),\n",
       " ('トマト', 42),\n",
       " ('バナナ', 25),\n",
       " ('りんご', 13)]"
      ]
     },
     "execution_count": 50,
     "metadata": {},
     "output_type": "execute_result"
    }
   ],
   "source": [
    "c_sample.most_common()"
   ]
  },
  {
   "cell_type": "markdown",
   "metadata": {},
   "source": [
    "### `defaultdict`オブジェクト\n",
    "新しい辞書型を用意するためのオブジェクト"
   ]
  },
  {
   "cell_type": "code",
   "execution_count": 51,
   "metadata": {},
   "outputs": [],
   "source": [
    "s = [('yellow', 1), ('blue', 2), ('yellow', 3), ('blue', 4), ('red', 1)]"
   ]
  },
  {
   "cell_type": "code",
   "execution_count": 52,
   "metadata": {},
   "outputs": [],
   "source": [
    "from collections import defaultdict"
   ]
  },
  {
   "cell_type": "code",
   "execution_count": 53,
   "metadata": {},
   "outputs": [],
   "source": [
    "d = defaultdict(list)"
   ]
  },
  {
   "cell_type": "markdown",
   "metadata": {},
   "source": [
    "**リスト型を与えること(指定すること)で、キー=値のペアをリストから辞書へ簡単にグループ化できます**"
   ]
  },
  {
   "cell_type": "code",
   "execution_count": 54,
   "metadata": {},
   "outputs": [],
   "source": [
    "for k, v in s:\n",
    "    d[k].append(v)"
   ]
  },
  {
   "cell_type": "code",
   "execution_count": 55,
   "metadata": {},
   "outputs": [
    {
     "data": {
      "text/plain": [
       "[('blue', [2, 4]), ('red', [1]), ('yellow', [1, 3])]"
      ]
     },
     "execution_count": 55,
     "metadata": {},
     "output_type": "execute_result"
    }
   ],
   "source": [
    "sorted(d.items())"
   ]
  },
  {
   "cell_type": "markdown",
   "metadata": {},
   "source": [
    "**整数型 にすると、 `defaultdict` を要素の数え上げに便利に使うことができます**"
   ]
  },
  {
   "cell_type": "code",
   "execution_count": 56,
   "metadata": {},
   "outputs": [],
   "source": [
    "s = 'mississippi'"
   ]
  },
  {
   "cell_type": "code",
   "execution_count": 57,
   "metadata": {},
   "outputs": [],
   "source": [
    "d = defaultdict(int)"
   ]
  },
  {
   "cell_type": "code",
   "execution_count": 58,
   "metadata": {},
   "outputs": [],
   "source": [
    "for k in s:\n",
    "    d[k] += 1"
   ]
  },
  {
   "cell_type": "code",
   "execution_count": 59,
   "metadata": {},
   "outputs": [
    {
     "data": {
      "text/plain": [
       "[('i', 4), ('m', 1), ('p', 2), ('s', 4)]"
      ]
     },
     "execution_count": 59,
     "metadata": {},
     "output_type": "execute_result"
    }
   ],
   "source": [
    "sorted(d.items())"
   ]
  },
  {
   "cell_type": "markdown",
   "metadata": {},
   "source": [
    "### `OrderedDict`オブジェクト\n",
    "バージョン3.6までの、Pythonの辞書（`dict`型オブジェクト）は、要素の順番を考慮はしてくれない(なかったはず...)。  \n",
    "※Pythonのバージョンによって異なりますが、3.7以降は順番を考慮する仕様になっています  \n",
    "  \n",
    "そのような背景があって、\n",
    "標準ライブラリの`collections`モジュールに順番が保持された辞書として`OrderedDict`が用意されています。  \n",
    "**3.7以降、順序付き辞書の重要性は薄れました**"
   ]
  },
  {
   "cell_type": "code",
   "execution_count": 60,
   "metadata": {},
   "outputs": [],
   "source": [
    "from collections import OrderedDict"
   ]
  },
  {
   "cell_type": "code",
   "execution_count": 61,
   "metadata": {},
   "outputs": [],
   "source": [
    "d = OrderedDict.fromkeys('abcde')"
   ]
  },
  {
   "cell_type": "code",
   "execution_count": 62,
   "metadata": {},
   "outputs": [],
   "source": [
    "d.move_to_end('b')"
   ]
  },
  {
   "cell_type": "code",
   "execution_count": 63,
   "metadata": {},
   "outputs": [
    {
     "data": {
      "text/plain": [
       "'acdeb'"
      ]
     },
     "execution_count": 63,
     "metadata": {},
     "output_type": "execute_result"
    }
   ],
   "source": [
    "''.join(d.keys())"
   ]
  },
  {
   "cell_type": "code",
   "execution_count": 64,
   "metadata": {},
   "outputs": [],
   "source": [
    "d.move_to_end('b', last=False)"
   ]
  },
  {
   "cell_type": "code",
   "execution_count": 65,
   "metadata": {},
   "outputs": [
    {
     "data": {
      "text/plain": [
       "'bacde'"
      ]
     },
     "execution_count": 65,
     "metadata": {},
     "output_type": "execute_result"
    }
   ],
   "source": [
    "''.join(d.keys())"
   ]
  },
  {
   "cell_type": "markdown",
   "metadata": {},
   "source": [
    "`move_to_end(key, last=True)`によって、\n",
    "既存の `key` を順序付き辞書の両端に移動します。  \n",
    "項目は、 `last` が真 (デフォルト) なら右端に、 `last` が偽なら最初に移動されます。 `key` が存在しなければ `KeyError` を返します"
   ]
  },
  {
   "cell_type": "markdown",
   "metadata": {},
   "source": [
    "### `ChainMap` オブジェクト\n",
    "複数の辞書を一つにまとめる方法として、このオブジェクトが用意されています。  \n",
    "新しい辞書を作成して `update()` を繰り返すよりも早い(らしい)です。"
   ]
  },
  {
   "cell_type": "code",
   "execution_count": 66,
   "metadata": {},
   "outputs": [],
   "source": [
    "from collections import ChainMap"
   ]
  },
  {
   "cell_type": "code",
   "execution_count": 67,
   "metadata": {},
   "outputs": [],
   "source": [
    "baseline = {'music': 'bach', 'art': 'rembrandt'}"
   ]
  },
  {
   "cell_type": "code",
   "execution_count": 68,
   "metadata": {},
   "outputs": [],
   "source": [
    "adjustments = {'art': 'van gogh', 'opera': 'carmen'}"
   ]
  },
  {
   "cell_type": "code",
   "execution_count": 69,
   "metadata": {},
   "outputs": [
    {
     "data": {
      "text/plain": [
       "['music', 'art', 'opera']"
      ]
     },
     "execution_count": 69,
     "metadata": {},
     "output_type": "execute_result"
    }
   ],
   "source": [
    "list(ChainMap(adjustments, baseline))"
   ]
  },
  {
   "cell_type": "code",
   "execution_count": 70,
   "metadata": {},
   "outputs": [],
   "source": [
    "# `update`を用いると...\n",
    "combined = baseline.copy()"
   ]
  },
  {
   "cell_type": "code",
   "execution_count": 71,
   "metadata": {},
   "outputs": [],
   "source": [
    "combined.update(adjustments)"
   ]
  },
  {
   "cell_type": "code",
   "execution_count": 72,
   "metadata": {},
   "outputs": [
    {
     "data": {
      "text/plain": [
       "['music', 'art', 'opera']"
      ]
     },
     "execution_count": 72,
     "metadata": {},
     "output_type": "execute_result"
    }
   ],
   "source": [
    "list(combined)"
   ]
  },
  {
   "cell_type": "code",
   "execution_count": 73,
   "metadata": {},
   "outputs": [],
   "source": [
    "### 本当に早いか検証\n",
    "import time"
   ]
  },
  {
   "cell_type": "code",
   "execution_count": 74,
   "metadata": {},
   "outputs": [],
   "source": [
    "def time_measure(f, lst):\n",
    "    time_lst = []\n",
    "    for i in range(10000):\n",
    "        t1 = time.time()\n",
    "        result = f(lst)\n",
    "        t2 = time.time()\n",
    "        time_lst.append(t2-t1)\n",
    "    return result, sum(time_lst)/10000"
   ]
  },
  {
   "cell_type": "code",
   "execution_count": 77,
   "metadata": {},
   "outputs": [],
   "source": [
    "# 100の長さでマッピング\n",
    "def main():\n",
    "    f1 = lambda dicts:{k: v for dic in dicts for k, v in dic.items()}\n",
    "    f2 = lambda dicts:ChainMap(*dicts)\n",
    "\n",
    "    d1 = dict(zip(range(100), range(100)))\n",
    "    d2 = dict(zip(\"猫\", \"犬\"))\n",
    "    d3 = dict(zip(range(100), \"大好き\"*100))\n",
    "\n",
    "    result, time = time_measure(f1, [d1, d2, d3])\n",
    "    print(\"辞書内包処理の結合における処理時間\", time)\n",
    "    f = lambda _:[(k,v) for k,v in result.items()]\n",
    "    _, time = time_measure(f, None)\n",
    "    print(\"辞書内包処理、items()を実行した時の処理時間\", time)\n",
    "    f = lambda _:result[\"猫\"]\n",
    "    _, time = time_measure(f, None)\n",
    "    print(\"辞書内包処理、キーを探索した時の処理時間\", time)\n",
    "    result, time = time_measure(f2, [d1, d2, d3])\n",
    "    print(\"ChainMapを用いた結合における処理時間\", time)\n",
    "    f = lambda _:[(k,v) for k,v in result.items()]\n",
    "    _, time = time_measure(f, None)\n",
    "    print(\"ChainMapを用いた、items()を実行した時の処理時間\", time)\n",
    "    f = lambda _:result[\"猫\"]\n",
    "    _, time = time_measure(f, None)\n",
    "    print(\"ChainMap、キーを探索した時の処理時間\", time)"
   ]
  },
  {
   "cell_type": "code",
   "execution_count": 78,
   "metadata": {},
   "outputs": [
    {
     "name": "stdout",
     "output_type": "stream",
     "text": [
      "辞書内包処理の結合における処理時間 2.0047783851623535e-05\n",
      "辞書内包処理、items()を実行した時の処理時間 1.096644401550293e-05\n",
      "辞書内包処理、キーを探索した時の処理時間 5.285739898681641e-07\n",
      "ChainMapを用いた結合における処理時間 1.6100883483886718e-06\n",
      "ChainMapを用いた、items()を実行した時の処理時間 0.00010436348915100097\n",
      "ChainMap、キーを探索した時の処理時間 1.4759540557861328e-06\n"
     ]
    }
   ],
   "source": [
    "if __name__ == \"__main__\":\n",
    "    main()"
   ]
  },
  {
   "cell_type": "code",
   "execution_count": 79,
   "metadata": {},
   "outputs": [
    {
     "data": {
      "text/plain": [
       "12.451356394005806"
      ]
     },
     "execution_count": 79,
     "metadata": {},
     "output_type": "execute_result"
    }
   ],
   "source": [
    "# 辞書内包処理 / ChainMap 結合\n",
    "2.0047783851623535e-05 / 1.6100883483886718e-06"
   ]
  },
  {
   "cell_type": "code",
   "execution_count": 80,
   "metadata": {},
   "outputs": [
    {
     "data": {
      "text/plain": [
       "0.10507931561808796"
      ]
     },
     "execution_count": 80,
     "metadata": {},
     "output_type": "execute_result"
    }
   ],
   "source": [
    "# 辞書内包処理 / ChainMap items()\n",
    "1.096644401550293e-05 / 0.00010436348915100097"
   ]
  },
  {
   "cell_type": "code",
   "execution_count": 81,
   "metadata": {},
   "outputs": [
    {
     "data": {
      "text/plain": [
       "0.3581236067586341"
      ]
     },
     "execution_count": 81,
     "metadata": {},
     "output_type": "execute_result"
    }
   ],
   "source": [
    "# 辞書内包処理 / ChainMap キーを探索\n",
    "5.285739898681641e-07 / 1.4759540557861328e-06"
   ]
  },
  {
   "cell_type": "markdown",
   "metadata": {},
   "source": [
    "**辞書型を直接使ってあげたほうが...良さそう。特に、キーを探索するときは。。。**"
   ]
  },
  {
   "cell_type": "markdown",
   "metadata": {},
   "source": [
    "## `calendar` --- 一般的な使い方"
   ]
  },
  {
   "cell_type": "code",
   "execution_count": 82,
   "metadata": {},
   "outputs": [],
   "source": [
    "import calendar"
   ]
  },
  {
   "cell_type": "code",
   "execution_count": 83,
   "metadata": {},
   "outputs": [
    {
     "name": "stdout",
     "output_type": "stream",
     "text": [
      "     July 2021\n",
      "Mo Tu We Th Fr Sa Su\n",
      "          1  2  3  4\n",
      " 5  6  7  8  9 10 11\n",
      "12 13 14 15 16 17 18\n",
      "19 20 21 22 23 24 25\n",
      "26 27 28 29 30 31\n",
      "\n"
     ]
    }
   ],
   "source": [
    "print(calendar.month(2021, 7))"
   ]
  },
  {
   "cell_type": "markdown",
   "metadata": {},
   "source": [
    "**デフォルトは月曜を始点としていますが、日曜を始点にする場合は...**"
   ]
  },
  {
   "cell_type": "code",
   "execution_count": 84,
   "metadata": {},
   "outputs": [],
   "source": [
    "calendar.setfirstweekday(calendar.SUNDAY)"
   ]
  },
  {
   "cell_type": "code",
   "execution_count": 85,
   "metadata": {},
   "outputs": [
    {
     "name": "stdout",
     "output_type": "stream",
     "text": [
      "     July 2021\n",
      "Su Mo Tu We Th Fr Sa\n",
      "             1  2  3\n",
      " 4  5  6  7  8  9 10\n",
      "11 12 13 14 15 16 17\n",
      "18 19 20 21 22 23 24\n",
      "25 26 27 28 29 30 31\n",
      "\n"
     ]
    }
   ],
   "source": [
    "print(calendar.month(2021, 7))"
   ]
  },
  {
   "cell_type": "markdown",
   "metadata": {},
   "source": [
    "**`calendar`モジュールには、主に以下のクラスがあります。**    \n",
    "**`Calendar`, `TextCalendar`,`HTMLCalendar`,`LocaleTextCalendar`,`LocaleHTMLCalendar`**  "
   ]
  },
  {
   "cell_type": "code",
   "execution_count": 86,
   "metadata": {},
   "outputs": [],
   "source": [
    "from calendar import TextCalendar"
   ]
  },
  {
   "cell_type": "code",
   "execution_count": 88,
   "metadata": {},
   "outputs": [],
   "source": [
    "txt_calendar = TextCalendar(firstweekday=6)"
   ]
  },
  {
   "cell_type": "code",
   "execution_count": 89,
   "metadata": {},
   "outputs": [
    {
     "name": "stdout",
     "output_type": "stream",
     "text": [
      "     April 2021\n",
      "Su Mo Tu We Th Fr Sa\n",
      "             1  2  3\n",
      " 4  5  6  7  8  9 10\n",
      "11 12 13 14 15 16 17\n",
      "18 19 20 21 22 23 24\n",
      "25 26 27 28 29 30\n",
      "\n"
     ]
    }
   ],
   "source": [
    "print(txt_calendar.formatmonth(2021, 4))"
   ]
  },
  {
   "cell_type": "code",
   "execution_count": 91,
   "metadata": {},
   "outputs": [],
   "source": [
    "from calendar import LocaleTextCalendar"
   ]
  },
  {
   "cell_type": "code",
   "execution_count": 92,
   "metadata": {},
   "outputs": [],
   "source": [
    "# 日本語表記は...\n",
    "loc_txt_calendar = LocaleTextCalendar(firstweekday=6, locale=\"ja_JP.UTF-8\")"
   ]
  },
  {
   "cell_type": "code",
   "execution_count": 94,
   "metadata": {},
   "outputs": [
    {
     "name": "stdout",
     "output_type": "stream",
     "text": [
      "      7月 2021\n",
      "日  月  火  水  木  金  土\n",
      "             1  2  3\n",
      " 4  5  6  7  8  9 10\n",
      "11 12 13 14 15 16 17\n",
      "18 19 20 21 22 23 24\n",
      "25 26 27 28 29 30 31\n",
      "\n"
     ]
    }
   ],
   "source": [
    "print(loc_txt_calendar.formatmonth(2021, 7))"
   ]
  },
  {
   "cell_type": "code",
   "execution_count": 95,
   "metadata": {},
   "outputs": [],
   "source": [
    "from calendar import Calendar"
   ]
  },
  {
   "cell_type": "code",
   "execution_count": 96,
   "metadata": {},
   "outputs": [],
   "source": [
    "# `iterweekdays()` 曜日の数字を一週間分生成します\n",
    "calendar_sample = Calendar()"
   ]
  },
  {
   "cell_type": "code",
   "execution_count": 97,
   "metadata": {},
   "outputs": [
    {
     "data": {
      "text/plain": [
       "[0, 1, 2, 3, 4, 5, 6]"
      ]
     },
     "execution_count": 97,
     "metadata": {},
     "output_type": "execute_result"
    }
   ],
   "source": [
    "list(calendar_sample.iterweekdays())"
   ]
  },
  {
   "cell_type": "code",
   "execution_count": 98,
   "metadata": {},
   "outputs": [],
   "source": [
    "# `itermonthdates(year, month)` year 年 month (1–12) 月に対するイテレータを返します\n",
    "calendar_sample = Calendar(firstweekday=6)"
   ]
  },
  {
   "cell_type": "code",
   "execution_count": 99,
   "metadata": {},
   "outputs": [
    {
     "data": {
      "text/plain": [
       "[datetime.date(2021, 6, 27),\n",
       " datetime.date(2021, 6, 28),\n",
       " datetime.date(2021, 6, 29),\n",
       " datetime.date(2021, 6, 30),\n",
       " datetime.date(2021, 7, 1),\n",
       " datetime.date(2021, 7, 2),\n",
       " datetime.date(2021, 7, 3),\n",
       " datetime.date(2021, 7, 4),\n",
       " datetime.date(2021, 7, 5),\n",
       " datetime.date(2021, 7, 6),\n",
       " datetime.date(2021, 7, 7),\n",
       " datetime.date(2021, 7, 8),\n",
       " datetime.date(2021, 7, 9),\n",
       " datetime.date(2021, 7, 10),\n",
       " datetime.date(2021, 7, 11),\n",
       " datetime.date(2021, 7, 12),\n",
       " datetime.date(2021, 7, 13),\n",
       " datetime.date(2021, 7, 14),\n",
       " datetime.date(2021, 7, 15),\n",
       " datetime.date(2021, 7, 16),\n",
       " datetime.date(2021, 7, 17),\n",
       " datetime.date(2021, 7, 18),\n",
       " datetime.date(2021, 7, 19),\n",
       " datetime.date(2021, 7, 20),\n",
       " datetime.date(2021, 7, 21),\n",
       " datetime.date(2021, 7, 22),\n",
       " datetime.date(2021, 7, 23),\n",
       " datetime.date(2021, 7, 24),\n",
       " datetime.date(2021, 7, 25),\n",
       " datetime.date(2021, 7, 26),\n",
       " datetime.date(2021, 7, 27),\n",
       " datetime.date(2021, 7, 28),\n",
       " datetime.date(2021, 7, 29),\n",
       " datetime.date(2021, 7, 30),\n",
       " datetime.date(2021, 7, 31)]"
      ]
     },
     "execution_count": 99,
     "metadata": {},
     "output_type": "execute_result"
    }
   ],
   "source": [
    "list(calendar_sample.itermonthdates(2021, 7))"
   ]
  },
  {
   "cell_type": "code",
   "execution_count": 101,
   "metadata": {},
   "outputs": [
    {
     "data": {
      "text/plain": [
       "[(0, 6),\n",
       " (0, 0),\n",
       " (0, 1),\n",
       " (0, 2),\n",
       " (1, 3),\n",
       " (2, 4),\n",
       " (3, 5),\n",
       " (4, 6),\n",
       " (5, 0),\n",
       " (6, 1),\n",
       " (7, 2),\n",
       " (8, 3),\n",
       " (9, 4),\n",
       " (10, 5),\n",
       " (11, 6),\n",
       " (12, 0),\n",
       " (13, 1),\n",
       " (14, 2),\n",
       " (15, 3),\n",
       " (16, 4),\n",
       " (17, 5),\n",
       " (18, 6),\n",
       " (19, 0),\n",
       " (20, 1),\n",
       " (21, 2),\n",
       " (22, 3),\n",
       " (23, 4),\n",
       " (24, 5),\n",
       " (25, 6),\n",
       " (26, 0),\n",
       " (27, 1),\n",
       " (28, 2),\n",
       " (29, 3),\n",
       " (30, 4),\n",
       " (31, 5)]"
      ]
     },
     "execution_count": 101,
     "metadata": {},
     "output_type": "execute_result"
    }
   ],
   "source": [
    "# `itermonthdays2(year, month)` year 年 month 月に対する itermonthdates() と同じようなイテレータを返します、タプル型になります\n",
    "list(calendar_sample.itermonthdays2(2021, 7))"
   ]
  },
  {
   "cell_type": "code",
   "execution_count": 103,
   "metadata": {},
   "outputs": [
    {
     "data": {
      "text/plain": [
       "[0,\n",
       " 0,\n",
       " 0,\n",
       " 0,\n",
       " 1,\n",
       " 2,\n",
       " 3,\n",
       " 4,\n",
       " 5,\n",
       " 6,\n",
       " 7,\n",
       " 8,\n",
       " 9,\n",
       " 10,\n",
       " 11,\n",
       " 12,\n",
       " 13,\n",
       " 14,\n",
       " 15,\n",
       " 16,\n",
       " 17,\n",
       " 18,\n",
       " 19,\n",
       " 20,\n",
       " 21,\n",
       " 22,\n",
       " 23,\n",
       " 24,\n",
       " 25,\n",
       " 26,\n",
       " 27,\n",
       " 28,\n",
       " 29,\n",
       " 30,\n",
       " 31]"
      ]
     },
     "execution_count": 103,
     "metadata": {},
     "output_type": "execute_result"
    }
   ],
   "source": [
    "# itermonthdays(year, month)\n",
    "list(calendar_sample.itermonthdays(2021, 7))"
   ]
  },
  {
   "cell_type": "code",
   "execution_count": 104,
   "metadata": {},
   "outputs": [
    {
     "data": {
      "text/plain": [
       "[[0, 0, 0, 0, 1, 2, 3],\n",
       " [4, 5, 6, 7, 8, 9, 10],\n",
       " [11, 12, 13, 14, 15, 16, 17],\n",
       " [18, 19, 20, 21, 22, 23, 24],\n",
       " [25, 26, 27, 28, 29, 30, 31]]"
      ]
     },
     "execution_count": 104,
     "metadata": {},
     "output_type": "execute_result"
    }
   ],
   "source": [
    "# monthdayscalendar(year, month) year 年 month 月の週のリストを返します。週は全て七つの日付の数字からなるリストです\n",
    "list(calendar_sample.monthdayscalendar(2021, 7))"
   ]
  },
  {
   "cell_type": "markdown",
   "metadata": {},
   "source": [
    "## 以上となります。"
   ]
  },
  {
   "cell_type": "code",
   "execution_count": null,
   "metadata": {},
   "outputs": [],
   "source": []
  }
 ],
 "metadata": {
  "kernelspec": {
   "display_name": "Python 3",
   "language": "python",
   "name": "python3"
  },
  "language_info": {
   "codemirror_mode": {
    "name": "ipython",
    "version": 3
   },
   "file_extension": ".py",
   "mimetype": "text/x-python",
   "name": "python",
   "nbconvert_exporter": "python",
   "pygments_lexer": "ipython3",
   "version": "3.7.4"
  }
 },
 "nbformat": 4,
 "nbformat_minor": 4
}
