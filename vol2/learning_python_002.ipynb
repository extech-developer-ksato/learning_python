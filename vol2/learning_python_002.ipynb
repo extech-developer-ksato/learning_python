{
 "cells": [
  {
   "cell_type": "markdown",
   "metadata": {},
   "source": [
    "# 先週の続き、制御文から復習していきます...！\n",
    "条件分岐の`if`文とか、繰り返し処理の`for`文とか、大事です。  \n",
    "特に何をやるか目的なくやっていきますが、どこかのタイミングで目的やゴールを設定して、ツールとか何かを作成していくときに、  \n",
    "制御分は非常に重要となります。"
   ]
  },
  {
   "cell_type": "markdown",
   "metadata": {},
   "source": [
    "`for`文のとき、よく使われるのが、`range`です。`range`はPythonが用意してくれている親切な関数で、引数に整数値を与えると、  \n",
    "その回数分、整数値を返してくれる関数です。"
   ]
  },
  {
   "cell_type": "code",
   "execution_count": 42,
   "metadata": {},
   "outputs": [
    {
     "data": {
      "text/plain": [
       "range(0, 10)"
      ]
     },
     "execution_count": 42,
     "metadata": {},
     "output_type": "execute_result"
    }
   ],
   "source": [
    "range(10)"
   ]
  },
  {
   "cell_type": "markdown",
   "metadata": {},
   "source": [
    "整数型以外を与えると`error`を吐きます..."
   ]
  },
  {
   "cell_type": "code",
   "execution_count": 40,
   "metadata": {},
   "outputs": [
    {
     "ename": "TypeError",
     "evalue": "'float' object cannot be interpreted as an integer",
     "output_type": "error",
     "traceback": [
      "\u001b[0;31m---------------------------------------------------------------------------\u001b[0m",
      "\u001b[0;31mTypeError\u001b[0m                                 Traceback (most recent call last)",
      "\u001b[0;32m<ipython-input-40-c5c690d7330b>\u001b[0m in \u001b[0;36m<module>\u001b[0;34m\u001b[0m\n\u001b[0;32m----> 1\u001b[0;31m \u001b[0mrange\u001b[0m\u001b[0;34m(\u001b[0m\u001b[0;36m0.5\u001b[0m\u001b[0;34m)\u001b[0m\u001b[0;34m\u001b[0m\u001b[0m\n\u001b[0m",
      "\u001b[0;31mTypeError\u001b[0m: 'float' object cannot be interpreted as an integer"
     ]
    }
   ],
   "source": [
    "range(0.5)"
   ]
  },
  {
   "cell_type": "code",
   "execution_count": 43,
   "metadata": {},
   "outputs": [
    {
     "name": "stdout",
     "output_type": "stream",
     "text": [
      "0\n",
      "1\n",
      "2\n",
      "3\n",
      "4\n",
      "5\n",
      "6\n",
      "7\n",
      "8\n",
      "9\n"
     ]
    }
   ],
   "source": [
    "for num in range(10):\n",
    "    print(num)"
   ]
  },
  {
   "cell_type": "markdown",
   "metadata": {},
   "source": [
    "0から始まり、10個の順々に、整数値を返してくれます。"
   ]
  },
  {
   "cell_type": "code",
   "execution_count": 46,
   "metadata": {},
   "outputs": [
    {
     "data": {
      "text/plain": [
       "range(10, 20, 2)"
      ]
     },
     "execution_count": 46,
     "metadata": {},
     "output_type": "execute_result"
    }
   ],
   "source": [
    "range(10,20,2)"
   ]
  },
  {
   "cell_type": "code",
   "execution_count": 45,
   "metadata": {},
   "outputs": [
    {
     "data": {
      "text/plain": [
       "range"
      ]
     },
     "execution_count": 45,
     "metadata": {},
     "output_type": "execute_result"
    }
   ],
   "source": [
    "type(range(10,20,2))"
   ]
  },
  {
   "cell_type": "code",
   "execution_count": 47,
   "metadata": {},
   "outputs": [
    {
     "name": "stdout",
     "output_type": "stream",
     "text": [
      "10\n",
      "12\n",
      "14\n",
      "16\n",
      "18\n"
     ]
    }
   ],
   "source": [
    "for num in range(10,20,2):\n",
    "    print(num)"
   ]
  },
  {
   "cell_type": "markdown",
   "metadata": {},
   "source": [
    "ある一連のデータ系列でインデックスを用いて、反復を行うには、 range() と len() を次のように組み合わせられます"
   ]
  },
  {
   "cell_type": "code",
   "execution_count": 49,
   "metadata": {},
   "outputs": [],
   "source": [
    "a = ['吾輩', 'は', '猫', 'で', 'ある']"
   ]
  },
  {
   "cell_type": "code",
   "execution_count": 51,
   "metadata": {},
   "outputs": [
    {
     "name": "stdout",
     "output_type": "stream",
     "text": [
      "0 吾輩\n",
      "1 は\n",
      "2 猫\n",
      "3 で\n",
      "4 ある\n"
     ]
    }
   ],
   "source": [
    "for index in range(len(a)):\n",
    "    print(index, a[index])"
   ]
  },
  {
   "cell_type": "code",
   "execution_count": 52,
   "metadata": {},
   "outputs": [],
   "source": [
    "sentence = ''"
   ]
  },
  {
   "cell_type": "code",
   "execution_count": 53,
   "metadata": {},
   "outputs": [],
   "source": [
    "for index in range(len(a)):\n",
    "    sentence += a[index]"
   ]
  },
  {
   "cell_type": "code",
   "execution_count": 54,
   "metadata": {},
   "outputs": [
    {
     "name": "stdout",
     "output_type": "stream",
     "text": [
      "吾輩は猫である\n"
     ]
    }
   ],
   "source": [
    "print(sentence)"
   ]
  },
  {
   "cell_type": "markdown",
   "metadata": {},
   "source": [
    "## break文\n",
    "`break` 文は、C 言語と同じく、最も内側の `for` または `while` ループを中断します。  \n",
    "\n",
    "ループ文は `else` 節を持つことができます。  \n",
    "これは、 `for` 試行回数を使い切ってループが終了したとき、または `while` で条件が偽になったときに実行されますが、  \n",
    "`break` 文でループが終了したときは実行されません。この動作を、素数を探す下記のループを例にとって示します"
   ]
  },
  {
   "cell_type": "code",
   "execution_count": 5,
   "metadata": {},
   "outputs": [
    {
     "name": "stdout",
     "output_type": "stream",
     "text": [
      "2 is a prime number\n",
      "3 is a prime number\n",
      "4 equals 2 * 2\n",
      "5 is a prime number\n",
      "6 equals 2 * 3\n",
      "7 is a prime number\n",
      "8 equals 2 * 4\n",
      "9 equals 3 * 3\n"
     ]
    }
   ],
   "source": [
    "for n in range(2, 10):\n",
    "    for x in range(2, n):\n",
    "        if n % x == 0:\n",
    "            print(n, 'equals', x, '*', n//x)\n",
    "            break\n",
    "    else:\n",
    "        # 条件に一致する要素がない場合\n",
    "        print(n, 'is a prime number')"
   ]
  },
  {
   "cell_type": "markdown",
   "metadata": {},
   "source": [
    "## continue文"
   ]
  },
  {
   "cell_type": "code",
   "execution_count": 48,
   "metadata": {},
   "outputs": [
    {
     "name": "stdout",
     "output_type": "stream",
     "text": [
      "偶数を見つけたよ！ 2\n",
      "奇数を見つけたよ！ 3\n",
      "偶数を見つけたよ！ 4\n",
      "奇数を見つけたよ！ 5\n",
      "偶数を見つけたよ！ 6\n",
      "奇数を見つけたよ！ 7\n",
      "偶数を見つけたよ！ 8\n",
      "奇数を見つけたよ！ 9\n"
     ]
    }
   ],
   "source": [
    "for num in range(2, 10):\n",
    "    if num % 2 == 0:\n",
    "        print(\"偶数を見つけたよ！\", num)\n",
    "        continue\n",
    "    print(\"奇数を見つけたよ！\", num)"
   ]
  },
  {
   "cell_type": "markdown",
   "metadata": {},
   "source": [
    "## pass文\n",
    "`pass` 文は何もしません。  \n",
    "`pass` は、文を書くことが、構文上要求されていますがプログラム上何の動作もする必要がない時に使われます"
   ]
  },
  {
   "cell_type": "code",
   "execution_count": 6,
   "metadata": {},
   "outputs": [
    {
     "ename": "KeyboardInterrupt",
     "evalue": "",
     "output_type": "error",
     "traceback": [
      "\u001b[0;31m---------------------------------------------------------------------------\u001b[0m",
      "\u001b[0;31mKeyboardInterrupt\u001b[0m                         Traceback (most recent call last)",
      "\u001b[0;32m<ipython-input-6-1d3815b702a0>\u001b[0m in \u001b[0;36m<module>\u001b[0;34m\u001b[0m\n\u001b[1;32m      1\u001b[0m \u001b[0;32mwhile\u001b[0m \u001b[0;32mTrue\u001b[0m\u001b[0;34m:\u001b[0m\u001b[0;34m\u001b[0m\u001b[0m\n\u001b[0;32m----> 2\u001b[0;31m     \u001b[0;32mpass\u001b[0m  \u001b[0;31m# Busy-wait for keyboard interrupt (Ctrl+C)\u001b[0m\u001b[0;34m\u001b[0m\u001b[0m\n\u001b[0m",
      "\u001b[0;31mKeyboardInterrupt\u001b[0m: "
     ]
    }
   ],
   "source": [
    "while True:\n",
    "    pass  # 動作を止める時は、(Ctrl+C)で止める"
   ]
  },
  {
   "cell_type": "markdown",
   "metadata": {},
   "source": [
    "`pass`は、例えば、後半やる`Class`を最小構成で作成する時に使います"
   ]
  },
  {
   "cell_type": "code",
   "execution_count": 76,
   "metadata": {},
   "outputs": [],
   "source": [
    "class MyEmptyClass:\n",
    "    pass"
   ]
  },
  {
   "cell_type": "markdown",
   "metadata": {},
   "source": [
    "`pass` のもう 1 つの使い道は、  \n",
    "新しいコードを書いているときの関数や条件文の仮置きの本体として使えます。  \n",
    "こうすることで、より抽象的なレベルでプログラムの設計を考え続けられます。このときも当然、 `pass` によって何事も無く無視されます"
   ]
  },
  {
   "cell_type": "code",
   "execution_count": 77,
   "metadata": {},
   "outputs": [],
   "source": [
    "def initlog(*args):\n",
    "    pass   # あとでここの関数を定義するよ！"
   ]
  },
  {
   "cell_type": "markdown",
   "metadata": {},
   "source": [
    "# 関数を定義する\n",
    "命名規則とかについては現時点で細かく語りませんが、どこかのタイミングで、命名規則について見ていければと思います。  \n",
    "『読みやすさ』、『分かりやすさ』が重要です。例えば、『ファイルを読み込む関数』を定義するとして、その関数の名前が、  \n",
    "\"rF(f)\"...では何を定義している関数なのか、一見して分かりづらいです。  \n",
    "\"readFile(path)\", とか\"read_file(abs_path)\", とした方が、どういう関数か一見して分かりやすくなります。  \n",
    "  \n",
    "可読性の高い、修正しやすいコードを書くことを心がけると、後々良い恩恵が得られます。"
   ]
  },
  {
   "cell_type": "code",
   "execution_count": 55,
   "metadata": {},
   "outputs": [],
   "source": [
    "def printFibonacciSequence(n):    # write Fibonacci series up to n\n",
    "    \"\"\"Print a Fibonacci series up to n.\"\"\"\n",
    "    a, b = 0, 1\n",
    "    while a < n:\n",
    "        print(a, end=' ')\n",
    "        a, b = b, a+b\n",
    "    print()"
   ]
  },
  {
   "cell_type": "markdown",
   "metadata": {},
   "source": [
    "`def` は関数の定義 (definition) の略です。   \n",
    "`def` の後には、関数名と仮引数を丸括弧で囲む必要があります。  \n",
    "関数の実体を構成する実行文は次の行から始め、インデント(tab, 半角4つのスペース)されていなければなりません。  \n",
    "\n",
    "関数の本体の記述する文の最初の行は、文字列でどのような関数なのか、どういった処理をするのかを書くことをおすすめします。  \n",
    "その場合、この文字列は関数のドキュメンテーション文字列 (documentation string)、  \n",
    "または docstring と呼ばれます。 ※この話は、また別の機会で。。。  \n",
    "  \n",
    "ドキュメンテーション文字列を使ったツールには、オンライン文書や印刷文書を自動的に生成したり、  \n",
    "ユーザが対話的にコードから直接閲覧できるようにするものがあります。  \n",
    "自分が書くコードにドキュメンテーション文字列を入れるのはよい習慣ですし、コードの可読性や持続性が向上します。\n",
    "\n",
    "関数を実行 (execution) するとき、関数のローカル変数のために使われる新たなシンボルテーブル (symbol table) が用意されます。  \n",
    "もっと正確にいうと、関数内で変数への代入を行うと、その値はすべてこのローカルなシンボルテーブルに記憶されます。  \n",
    "一方、変数の参照を行うと、まずローカルなシンボルテーブルが検索され、次にさらに外側の関数のローカルなシンボルテーブルを検索し、  \n",
    "その後グローバルなシンボルテーブルを調べ、最後に組み込みの名前テーブルを調べます。   \n",
    "  \n",
    "従って、関数の中では (グローバル変数がglobal 文で指定されていたり、外側の関数の変数が nonlocal 文で指定されていない限り)   \n",
    "グローバル変数や外側の関数の変数に直接値を代入できませんが、参照することはできます。"
   ]
  },
  {
   "cell_type": "code",
   "execution_count": 56,
   "metadata": {},
   "outputs": [
    {
     "name": "stdout",
     "output_type": "stream",
     "text": [
      "0 1 1 2 3 5 8 13 21 34 55 89 144 233 377 610 987 1597 \n"
     ]
    }
   ],
   "source": [
    "fib(2000)"
   ]
  },
  {
   "cell_type": "code",
   "execution_count": 58,
   "metadata": {},
   "outputs": [
    {
     "data": {
      "text/plain": [
       "<function __main__.printFibonacciSequence(n)>"
      ]
     },
     "execution_count": 58,
     "metadata": {},
     "output_type": "execute_result"
    }
   ],
   "source": [
    "printFibonacciSequence"
   ]
  },
  {
   "cell_type": "code",
   "execution_count": 59,
   "metadata": {},
   "outputs": [],
   "source": [
    "f = printFibonacciSequence"
   ]
  },
  {
   "cell_type": "code",
   "execution_count": 60,
   "metadata": {},
   "outputs": [
    {
     "name": "stdout",
     "output_type": "stream",
     "text": [
      "0 1 1 2 3 5 8 13 21 34 55 89 \n"
     ]
    }
   ],
   "source": [
    "f(100)"
   ]
  },
  {
   "cell_type": "code",
   "execution_count": 61,
   "metadata": {},
   "outputs": [
    {
     "name": "stdout",
     "output_type": "stream",
     "text": [
      "0 1 1 2 3 5 8 13 21 34 55 89 \n"
     ]
    },
    {
     "data": {
      "text/plain": [
       "NoneType"
      ]
     },
     "execution_count": 61,
     "metadata": {},
     "output_type": "execute_result"
    }
   ],
   "source": [
    "type(f(100))"
   ]
  },
  {
   "cell_type": "code",
   "execution_count": 62,
   "metadata": {},
   "outputs": [
    {
     "name": "stdout",
     "output_type": "stream",
     "text": [
      "\n"
     ]
    }
   ],
   "source": [
    "printFibonacciSequence(0)"
   ]
  },
  {
   "cell_type": "code",
   "execution_count": 63,
   "metadata": {},
   "outputs": [
    {
     "name": "stdout",
     "output_type": "stream",
     "text": [
      "\n",
      "None\n"
     ]
    }
   ],
   "source": [
    "print(printFibonacciSequence(0))"
   ]
  },
  {
   "cell_type": "markdown",
   "metadata": {},
   "source": [
    "実際には `return` 文を持たない関数でも、値を返しています。"
   ]
  },
  {
   "cell_type": "code",
   "execution_count": 64,
   "metadata": {},
   "outputs": [],
   "source": [
    "def outputFibonacciSequence(n):  # return Fibonacci series up to n\n",
    "    \"\"\"Return a list containing the Fibonacci series up to n.\"\"\"\n",
    "    result = []\n",
    "    a, b = 0, 1\n",
    "    while a < n:\n",
    "        result.append(a)    # see below\n",
    "        a, b = b, a+b\n",
    "    return result"
   ]
  },
  {
   "cell_type": "code",
   "execution_count": 68,
   "metadata": {},
   "outputs": [],
   "source": [
    "f100 = outputFibonacciSequence(100)"
   ]
  },
  {
   "cell_type": "code",
   "execution_count": 69,
   "metadata": {},
   "outputs": [
    {
     "data": {
      "text/plain": [
       "[0, 1, 1, 2, 3, 5, 8, 13, 21, 34, 55, 89]"
      ]
     },
     "execution_count": 69,
     "metadata": {},
     "output_type": "execute_result"
    }
   ],
   "source": [
    "f100"
   ]
  },
  {
   "cell_type": "code",
   "execution_count": 70,
   "metadata": {},
   "outputs": [
    {
     "data": {
      "text/plain": [
       "list"
      ]
     },
     "execution_count": 70,
     "metadata": {},
     "output_type": "execute_result"
    }
   ],
   "source": [
    "type(f100)"
   ]
  },
  {
   "cell_type": "code",
   "execution_count": 71,
   "metadata": {},
   "outputs": [],
   "source": [
    "def fibonacciSequence(n):  # return Fibonacci series up to n\n",
    "    \"\"\"Return a list containing the Fibonacci series up to n.\"\"\"\n",
    "    result = []\n",
    "    a, b = 0, 1\n",
    "    while a < n:\n",
    "        result.append(a)    # see below\n",
    "        a, b = b, a+b"
   ]
  },
  {
   "cell_type": "code",
   "execution_count": 72,
   "metadata": {},
   "outputs": [],
   "source": [
    "f100 = fibonacciSequence(100)"
   ]
  },
  {
   "cell_type": "code",
   "execution_count": 73,
   "metadata": {},
   "outputs": [],
   "source": [
    "f100"
   ]
  },
  {
   "cell_type": "code",
   "execution_count": 74,
   "metadata": {},
   "outputs": [
    {
     "data": {
      "text/plain": [
       "NoneType"
      ]
     },
     "execution_count": 74,
     "metadata": {},
     "output_type": "execute_result"
    }
   ],
   "source": [
    "type(f100)"
   ]
  },
  {
   "cell_type": "markdown",
   "metadata": {},
   "source": [
    "## デフォルトの引数値"
   ]
  },
  {
   "cell_type": "markdown",
   "metadata": {},
   "source": [
    "もっとも便利なのは、一つ以上の引数に対してデフォルトの値を指定する形式です。  \n",
    "この形式を使うと、定義されている引数より少ない個数の引数で呼び出せる関数が作成できます"
   ]
  },
  {
   "cell_type": "code",
   "execution_count": 87,
   "metadata": {},
   "outputs": [],
   "source": [
    "def ask_ok(prompt, retries=4, reminder='再度トライして！'):\n",
    "    while True:\n",
    "        ok = input(prompt)\n",
    "        if ok in ('y', 'ye', 'yes'):\n",
    "            return True\n",
    "        if ok in ('n', 'no', 'nop', 'nope'):\n",
    "            return False\n",
    "        retries = retries - 1\n",
    "        if retries < 0:\n",
    "            raise ValueError('入力された値がサポートされていません。。。')\n",
    "        print(reminder)"
   ]
  },
  {
   "cell_type": "code",
   "execution_count": 88,
   "metadata": {},
   "outputs": [
    {
     "name": "stdout",
     "output_type": "stream",
     "text": [
      "このシーケンスを終了しますか？(\"yes\" or \"no\")yakiniku\n",
      "再度トライして！\n",
      "このシーケンスを終了しますか？(\"yes\" or \"no\")yakiniku\n",
      "再度トライして！\n",
      "このシーケンスを終了しますか？(\"yes\" or \"no\")yakiniku\n",
      "再度トライして！\n",
      "このシーケンスを終了しますか？(\"yes\" or \"no\")yakiniku\n",
      "再度トライして！\n",
      "このシーケンスを終了しますか？(\"yes\" or \"no\")yakiniku\n"
     ]
    },
    {
     "ename": "ValueError",
     "evalue": "入力された値がサポートされていません。。。",
     "output_type": "error",
     "traceback": [
      "\u001b[0;31m---------------------------------------------------------------------------\u001b[0m",
      "\u001b[0;31mValueError\u001b[0m                                Traceback (most recent call last)",
      "\u001b[0;32m<ipython-input-88-440dfa9e36a9>\u001b[0m in \u001b[0;36m<module>\u001b[0;34m\u001b[0m\n\u001b[0;32m----> 1\u001b[0;31m \u001b[0mask_ok\u001b[0m\u001b[0;34m(\u001b[0m\u001b[0;34m'このシーケンスを終了しますか？(\"yes\" or \"no\")'\u001b[0m\u001b[0;34m)\u001b[0m\u001b[0;34m\u001b[0m\u001b[0m\n\u001b[0m",
      "\u001b[0;32m<ipython-input-87-0af000f78aae>\u001b[0m in \u001b[0;36mask_ok\u001b[0;34m(prompt, retries, reminder)\u001b[0m\n\u001b[1;32m      8\u001b[0m         \u001b[0mretries\u001b[0m \u001b[0;34m=\u001b[0m \u001b[0mretries\u001b[0m \u001b[0;34m-\u001b[0m \u001b[0;36m1\u001b[0m\u001b[0;34m\u001b[0m\u001b[0m\n\u001b[1;32m      9\u001b[0m         \u001b[0;32mif\u001b[0m \u001b[0mretries\u001b[0m \u001b[0;34m<\u001b[0m \u001b[0;36m0\u001b[0m\u001b[0;34m:\u001b[0m\u001b[0;34m\u001b[0m\u001b[0m\n\u001b[0;32m---> 10\u001b[0;31m             \u001b[0;32mraise\u001b[0m \u001b[0mValueError\u001b[0m\u001b[0;34m(\u001b[0m\u001b[0;34m'入力された値がサポートされていません。。。'\u001b[0m\u001b[0;34m)\u001b[0m\u001b[0;34m\u001b[0m\u001b[0m\n\u001b[0m\u001b[1;32m     11\u001b[0m         \u001b[0mprint\u001b[0m\u001b[0;34m(\u001b[0m\u001b[0mreminder\u001b[0m\u001b[0;34m)\u001b[0m\u001b[0;34m\u001b[0m\u001b[0m\n",
      "\u001b[0;31mValueError\u001b[0m: 入力された値がサポートされていません。。。"
     ]
    }
   ],
   "source": [
    "ask_ok('このシーケンスを終了しますか？(\"yes\" or \"no\")')"
   ]
  },
  {
   "cell_type": "code",
   "execution_count": 81,
   "metadata": {},
   "outputs": [],
   "source": [
    "i = 5"
   ]
  },
  {
   "cell_type": "code",
   "execution_count": 82,
   "metadata": {},
   "outputs": [],
   "source": [
    "def f(arg=i):\n",
    "    print(arg)"
   ]
  },
  {
   "cell_type": "code",
   "execution_count": 83,
   "metadata": {},
   "outputs": [],
   "source": [
    "i = 6"
   ]
  },
  {
   "cell_type": "code",
   "execution_count": 84,
   "metadata": {},
   "outputs": [
    {
     "name": "stdout",
     "output_type": "stream",
     "text": [
      "5\n"
     ]
    }
   ],
   "source": [
    "f()"
   ]
  },
  {
   "cell_type": "markdown",
   "metadata": {},
   "source": [
    "**!!!重要!!!**  \n",
    "デフォルト値は 1 度だけしか評価されません。  \n",
    "デフォルト値がリストや辞書のような変更可能なオブジェクトの時には、その影響がモロに出ます。。。  "
   ]
  },
  {
   "cell_type": "code",
   "execution_count": 90,
   "metadata": {},
   "outputs": [],
   "source": [
    "def someFunction(a, L=[]):\n",
    "    L.append(a)\n",
    "    return L"
   ]
  },
  {
   "cell_type": "code",
   "execution_count": 91,
   "metadata": {},
   "outputs": [
    {
     "data": {
      "text/plain": [
       "['猫']"
      ]
     },
     "execution_count": 91,
     "metadata": {},
     "output_type": "execute_result"
    }
   ],
   "source": [
    "someFunction('猫')"
   ]
  },
  {
   "cell_type": "code",
   "execution_count": 92,
   "metadata": {},
   "outputs": [
    {
     "data": {
      "text/plain": [
       "['猫', '大好き']"
      ]
     },
     "execution_count": 92,
     "metadata": {},
     "output_type": "execute_result"
    }
   ],
   "source": [
    "someFunction('大好き')"
   ]
  },
  {
   "cell_type": "code",
   "execution_count": 93,
   "metadata": {},
   "outputs": [
    {
     "data": {
      "text/plain": [
       "['猫', '大好き', 'です...！']"
      ]
     },
     "execution_count": 93,
     "metadata": {},
     "output_type": "execute_result"
    }
   ],
   "source": [
    "someFunction('です...！')"
   ]
  },
  {
   "cell_type": "markdown",
   "metadata": {},
   "source": [
    "もし繰り返し実行するたびに、リストを初期化しておきたい場合は...例えば"
   ]
  },
  {
   "cell_type": "code",
   "execution_count": 94,
   "metadata": {},
   "outputs": [],
   "source": [
    "def someFunction(a, L=None):\n",
    "    if L is None:\n",
    "        L = []\n",
    "    L.append(a)\n",
    "    return L"
   ]
  },
  {
   "cell_type": "code",
   "execution_count": 95,
   "metadata": {},
   "outputs": [
    {
     "data": {
      "text/plain": [
       "['猫']"
      ]
     },
     "execution_count": 95,
     "metadata": {},
     "output_type": "execute_result"
    }
   ],
   "source": [
    "someFunction('猫')"
   ]
  },
  {
   "cell_type": "code",
   "execution_count": 96,
   "metadata": {},
   "outputs": [
    {
     "data": {
      "text/plain": [
       "['大好き']"
      ]
     },
     "execution_count": 96,
     "metadata": {},
     "output_type": "execute_result"
    }
   ],
   "source": [
    "someFunction('大好き')"
   ]
  },
  {
   "cell_type": "code",
   "execution_count": 97,
   "metadata": {},
   "outputs": [
    {
     "data": {
      "text/plain": [
       "['です...！']"
      ]
     },
     "execution_count": 97,
     "metadata": {},
     "output_type": "execute_result"
    }
   ],
   "source": [
    "someFunction('です...！')"
   ]
  },
  {
   "cell_type": "code",
   "execution_count": 100,
   "metadata": {},
   "outputs": [
    {
     "data": {
      "text/plain": [
       "['猫', '大好き', 'です...！']"
      ]
     },
     "execution_count": 100,
     "metadata": {},
     "output_type": "execute_result"
    }
   ],
   "source": [
    "someFunction('です...！', L=['猫', '大好き'])"
   ]
  },
  {
   "cell_type": "markdown",
   "metadata": {},
   "source": [
    "## キーワード引数\n",
    "関数を `kwarg=value` という形式の キーワード引数 を使って呼び出すこともできます。例えば、"
   ]
  },
  {
   "cell_type": "code",
   "execution_count": 125,
   "metadata": {},
   "outputs": [],
   "source": [
    "def selfIntroduce(annual_income, state='レア', grade='正社員です', type='スコティッシュフォールド'):\n",
    "    print(\"-- 私は\", grade, end=' ')\n",
    "    print(\"-- 年収は\", annual_income, \"万円です\")\n",
    "    print(\"-- 猫が大好きです、特に\", type)\n",
    "    print(\"-- 焼肉は\", state, \"が好き!\")"
   ]
  },
  {
   "cell_type": "code",
   "execution_count": 126,
   "metadata": {},
   "outputs": [
    {
     "name": "stdout",
     "output_type": "stream",
     "text": [
      "-- 私は 正社員です -- 年収は 400 万円です\n",
      "-- 猫が大好きです、特に スコティッシュフォールド\n",
      "-- 焼肉は レア が好き!\n"
     ]
    }
   ],
   "source": [
    "selfIntroduce(400)"
   ]
  },
  {
   "cell_type": "code",
   "execution_count": 127,
   "metadata": {},
   "outputs": [
    {
     "name": "stdout",
     "output_type": "stream",
     "text": [
      "-- 私は フリーランス -- 年収は 1000 万円です\n",
      "-- 猫が大好きです、特に スコティッシュフォールド\n",
      "-- 焼肉は レア が好き!\n"
     ]
    }
   ],
   "source": [
    "selfIntroduce(annual_income=1000, grade='フリーランス')"
   ]
  },
  {
   "cell_type": "code",
   "execution_count": 128,
   "metadata": {},
   "outputs": [
    {
     "name": "stdout",
     "output_type": "stream",
     "text": [
      "-- 私は 契約社員 -- 年収は 400 万円です\n",
      "-- 猫が大好きです、特に スコティッシュフォールド\n",
      "-- 焼肉は レア が好き!\n"
     ]
    }
   ],
   "source": [
    "selfIntroduce(grade='契約社員', annual_income=400)"
   ]
  },
  {
   "cell_type": "code",
   "execution_count": 129,
   "metadata": {},
   "outputs": [
    {
     "name": "stdout",
     "output_type": "stream",
     "text": [
      "-- 私は 正社員 -- 年収は 1000 万円です\n",
      "-- 猫が大好きです、特に スコティッシュフォールド\n",
      "-- 焼肉は ミディアムレア が好き!\n"
     ]
    }
   ],
   "source": [
    "selfIntroduce('1000', 'ミディアムレア', '正社員')"
   ]
  },
  {
   "cell_type": "code",
   "execution_count": 130,
   "metadata": {},
   "outputs": [
    {
     "name": "stdout",
     "output_type": "stream",
     "text": [
      "-- 私は 正社員です -- 年収は 700 万円です\n",
      "-- 猫が大好きです、特に スコティッシュフォールド\n",
      "-- 焼肉は ウェルダン が好き!\n"
     ]
    }
   ],
   "source": [
    "selfIntroduce('700', state='ウェルダン')"
   ]
  },
  {
   "cell_type": "markdown",
   "metadata": {},
   "source": [
    "関数の呼び出しにおいて、キーワード引数は位置引数の後でなければなりません。  \n",
    "渡されるキーワード引数は全て、関数で受け付けられる引数のいずれかに対応していなければならない一方、順序は特に重要ではありません。    \n",
    "(例えば、`family` はこの関数の引数として適切ではありません)  \n",
    "  \n",
    "これはオプションでない引数でも同様です (例えば、`parrot(voltage=1000)` も適切です)。  \n",
    "いかなる引数も値を複数回は受け取れません。この制限により失敗する例は、次のようなものです。"
   ]
  },
  {
   "cell_type": "code",
   "execution_count": 131,
   "metadata": {},
   "outputs": [
    {
     "ename": "TypeError",
     "evalue": "selfIntroduce() missing 1 required positional argument: 'annual_income'",
     "output_type": "error",
     "traceback": [
      "\u001b[0;31m---------------------------------------------------------------------------\u001b[0m",
      "\u001b[0;31mTypeError\u001b[0m                                 Traceback (most recent call last)",
      "\u001b[0;32m<ipython-input-131-08410291dd77>\u001b[0m in \u001b[0;36m<module>\u001b[0;34m\u001b[0m\n\u001b[0;32m----> 1\u001b[0;31m \u001b[0mselfIntroduce\u001b[0m\u001b[0;34m(\u001b[0m\u001b[0;34m)\u001b[0m\u001b[0;34m\u001b[0m\u001b[0m\n\u001b[0m",
      "\u001b[0;31mTypeError\u001b[0m: selfIntroduce() missing 1 required positional argument: 'annual_income'"
     ]
    }
   ],
   "source": [
    "selfIntroduce()"
   ]
  },
  {
   "cell_type": "code",
   "execution_count": 132,
   "metadata": {},
   "outputs": [
    {
     "ename": "SyntaxError",
     "evalue": "positional argument follows keyword argument (<ipython-input-132-daf616a98a5a>, line 1)",
     "output_type": "error",
     "traceback": [
      "\u001b[0;36m  File \u001b[0;32m\"<ipython-input-132-daf616a98a5a>\"\u001b[0;36m, line \u001b[0;32m1\u001b[0m\n\u001b[0;31m    selfIntroduce(annual_income=200, '非正規')  # non-keyword argument after a keyword argument\u001b[0m\n\u001b[0m                                    ^\u001b[0m\n\u001b[0;31mSyntaxError\u001b[0m\u001b[0;31m:\u001b[0m positional argument follows keyword argument\n"
     ]
    }
   ],
   "source": [
    "selfIntroduce(annual_income=200, '非正規')  # non-keyword argument after a keyword argument"
   ]
  },
  {
   "cell_type": "code",
   "execution_count": 133,
   "metadata": {},
   "outputs": [
    {
     "ename": "TypeError",
     "evalue": "selfIntroduce() got multiple values for argument 'annual_income'",
     "output_type": "error",
     "traceback": [
      "\u001b[0;31m---------------------------------------------------------------------------\u001b[0m",
      "\u001b[0;31mTypeError\u001b[0m                                 Traceback (most recent call last)",
      "\u001b[0;32m<ipython-input-133-051c9fce6140>\u001b[0m in \u001b[0;36m<module>\u001b[0;34m\u001b[0m\n\u001b[0;32m----> 1\u001b[0;31m \u001b[0mselfIntroduce\u001b[0m\u001b[0;34m(\u001b[0m\u001b[0;36m110\u001b[0m\u001b[0;34m,\u001b[0m \u001b[0mannual_income\u001b[0m\u001b[0;34m=\u001b[0m\u001b[0;36m220\u001b[0m\u001b[0;34m)\u001b[0m     \u001b[0;31m# duplicate value for the same argument\u001b[0m\u001b[0;34m\u001b[0m\u001b[0m\n\u001b[0m",
      "\u001b[0;31mTypeError\u001b[0m: selfIntroduce() got multiple values for argument 'annual_income'"
     ]
    }
   ],
   "source": [
    "selfIntroduce(110, annual_income=220)     # duplicate value for the same argument"
   ]
  },
  {
   "cell_type": "code",
   "execution_count": 134,
   "metadata": {},
   "outputs": [
    {
     "ename": "TypeError",
     "evalue": "selfIntroduce() got an unexpected keyword argument 'family'",
     "output_type": "error",
     "traceback": [
      "\u001b[0;31m---------------------------------------------------------------------------\u001b[0m",
      "\u001b[0;31mTypeError\u001b[0m                                 Traceback (most recent call last)",
      "\u001b[0;32m<ipython-input-134-e68608d8fba8>\u001b[0m in \u001b[0;36m<module>\u001b[0;34m\u001b[0m\n\u001b[0;32m----> 1\u001b[0;31m \u001b[0mselfIntroduce\u001b[0m\u001b[0;34m(\u001b[0m\u001b[0mfamily\u001b[0m\u001b[0;34m=\u001b[0m\u001b[0;34m'3'\u001b[0m\u001b[0;34m)\u001b[0m  \u001b[0;31m# unknown keyword argument\u001b[0m\u001b[0;34m\u001b[0m\u001b[0m\n\u001b[0m",
      "\u001b[0;31mTypeError\u001b[0m: selfIntroduce() got an unexpected keyword argument 'family'"
     ]
    }
   ],
   "source": [
    "selfIntroduce(family='3')  # unknown keyword argument"
   ]
  },
  {
   "cell_type": "code",
   "execution_count": 113,
   "metadata": {},
   "outputs": [],
   "source": [
    "def function(a):\n",
    "    pass"
   ]
  },
  {
   "cell_type": "code",
   "execution_count": 114,
   "metadata": {},
   "outputs": [
    {
     "ename": "TypeError",
     "evalue": "function() got multiple values for argument 'a'",
     "output_type": "error",
     "traceback": [
      "\u001b[0;31m---------------------------------------------------------------------------\u001b[0m",
      "\u001b[0;31mTypeError\u001b[0m                                 Traceback (most recent call last)",
      "\u001b[0;32m<ipython-input-114-34e44d693230>\u001b[0m in \u001b[0;36m<module>\u001b[0;34m\u001b[0m\n\u001b[0;32m----> 1\u001b[0;31m \u001b[0mfunction\u001b[0m\u001b[0;34m(\u001b[0m\u001b[0;36m0\u001b[0m\u001b[0;34m,\u001b[0m \u001b[0ma\u001b[0m\u001b[0;34m=\u001b[0m\u001b[0;36m0\u001b[0m\u001b[0;34m)\u001b[0m\u001b[0;34m\u001b[0m\u001b[0m\n\u001b[0m",
      "\u001b[0;31mTypeError\u001b[0m: function() got multiple values for argument 'a'"
     ]
    }
   ],
   "source": [
    "function(0, a=0)"
   ]
  },
  {
   "cell_type": "markdown",
   "metadata": {},
   "source": [
    "仮引数の最後に `**name` の形式のものがあると、  \n",
    "それまでの仮引数に対応したものを除くすべてのキーワード引数が入った辞書`dict`を受け取ります。   \n",
    "`**name` は `*name` の形式をとり、仮引数のリストを超えた位置引数の入ったタプル を受け取る引数 (次の小節で述べます) と組み合わせられます。   (`*name` は `**name` より前になければなりません)。 例えば、ある関数の定義を以下のようにして見ていきます。"
   ]
  },
  {
   "cell_type": "code",
   "execution_count": 135,
   "metadata": {},
   "outputs": [],
   "source": [
    "def catFoodShop(kind, *arguments, **keywords):\n",
    "    print(\"-- 購入したいものがあり、\", kind, \"を扱ってますか?\")\n",
    "    print(\"-- 現在\", kind, \"については入荷待ちになっています\")\n",
    "    for arg in arguments:\n",
    "        print(arg)\n",
    "    print(\"-\" * 40)\n",
    "    for kw in keywords:\n",
    "        print(kw, \":\", keywords[kw])"
   ]
  },
  {
   "cell_type": "code",
   "execution_count": 138,
   "metadata": {},
   "outputs": [
    {
     "name": "stdout",
     "output_type": "stream",
     "text": [
      "-- 購入したいものがあり、 ロイヤルカナンの10歳以上向けフード2kg を扱ってますか?\n",
      "-- 現在 ロイヤルカナンの10歳以上向けフード2kg については入荷待ちになっています\n",
      "1歳未満の500g\n",
      "10歳未満の500g\n",
      "----------------------------------------\n",
      "shopkeeper : 名無し太郎\n",
      "client : 猫大好き佐藤\n",
      "shop : ねこねこふーど仙台駅前店\n"
     ]
    }
   ],
   "source": [
    "catFoodShop(\"ロイヤルカナンの10歳以上向けフード2kg\", \"1歳未満の500g\",\n",
    "           \"10歳未満の500g\",\n",
    "           shopkeeper=\"名無し太郎\",\n",
    "           client=\"猫大好き佐藤\",\n",
    "           shop=\"ねこねこふーど仙台駅前店\")"
   ]
  },
  {
   "cell_type": "markdown",
   "metadata": {},
   "source": [
    "## クラスの話"
   ]
  },
  {
   "cell_type": "markdown",
   "metadata": {},
   "source": [
    "クラスはデータと機能を組み合わせる方法を提供します。   \n",
    "新規クラスを作成することで、新しいオブジェクトの型を作成し、その型を持つ新しいインスタンス が作れます。   \n",
    "クラスのそれぞれのインスタンスは自身の状態を保持する属性を持てます。   \n",
    "クラスのインスタンスは、その状態を変更するための (そのクラスが定義する) メソッドも持てます。\n",
    "  \n",
    "Python は、他のプログラミング言語と比較して、  \n",
    "最小限の構文と意味付けを使ってクラスをプログラミング言語に追加しています。  \n",
    "Python のクラスは、C++ と Modula-3 のクラスメカニズムを混ぜたものです。   \n",
    "  \n",
    "Python のクラスはオブジェクト指向プログラミングの標準的な機能(※どこかのタイミングでやります)を、全て提供しています。  \n",
    "クラスの継承メカニズムは、複数の基底クラスを持つことができ、派生クラスで基底クラスの任意のメソッドをオーバライドすることができます。  \n",
    "  \n",
    "メソッドでは、基底クラスのメソッドを同じ名前で呼び出すことができます。  \n",
    "オブジェクトには任意の種類と数のデータを格納することができます。  \n",
    "モジュールと同じく、クラス機構も Python の動的な性質に従うように設計されています。  \n",
    "クラスは実行時に生成され、生成後に変更することができます。  "
   ]
  },
  {
   "cell_type": "markdown",
   "metadata": {},
   "source": [
    "### プロセスとオブジェクトについて\n",
    "オブジェクト指向はよくプロセス指向（手続き型プログラミングとも言う）と比較されます。  \n",
    "まずはオブジェクト指向の簡単な例について、"
   ]
  },
  {
   "cell_type": "code",
   "execution_count": 149,
   "metadata": {},
   "outputs": [],
   "source": [
    "class Cat:\n",
    "    def __init__(self, name):\n",
    "        self.name = name\n",
    "\n",
    "    def move(self):\n",
    "        print(f\"猫である {self.name}  は寝ている\")"
   ]
  },
  {
   "cell_type": "code",
   "execution_count": 146,
   "metadata": {},
   "outputs": [],
   "source": [
    "class Dog:\n",
    "    def __init__(self, name):\n",
    "        self.name = name\n",
    "\n",
    "    def move(self):\n",
    "        print(f\"犬である {self.name}  は走っている\")"
   ]
  },
  {
   "cell_type": "code",
   "execution_count": 147,
   "metadata": {},
   "outputs": [],
   "source": [
    "class Fish:\n",
    "    def __init__(self, name):\n",
    "        self.name = name\n",
    "\n",
    "    def move(self):\n",
    "        print(f\"金魚である {self.name} は泳いでいる\")"
   ]
  },
  {
   "cell_type": "markdown",
   "metadata": {},
   "source": [
    "インスタンスの作成が次になります"
   ]
  },
  {
   "cell_type": "code",
   "execution_count": 151,
   "metadata": {},
   "outputs": [],
   "source": [
    "mike = Cat(\"ミケ\")"
   ]
  },
  {
   "cell_type": "code",
   "execution_count": 152,
   "metadata": {},
   "outputs": [],
   "source": [
    "chao = Cat(\"チャオ\")"
   ]
  },
  {
   "cell_type": "code",
   "execution_count": 153,
   "metadata": {},
   "outputs": [],
   "source": [
    "shell = Dog(\"シェル\")"
   ]
  },
  {
   "cell_type": "code",
   "execution_count": 154,
   "metadata": {},
   "outputs": [],
   "source": [
    "swimmy = Fish(\"スイミー\")"
   ]
  },
  {
   "cell_type": "markdown",
   "metadata": {},
   "source": [
    "それぞれのインスタンスの、`move`を呼び出す"
   ]
  },
  {
   "cell_type": "code",
   "execution_count": 155,
   "metadata": {},
   "outputs": [
    {
     "name": "stdout",
     "output_type": "stream",
     "text": [
      "猫である ミケ  は寝ている\n"
     ]
    }
   ],
   "source": [
    "mike.move()"
   ]
  },
  {
   "cell_type": "code",
   "execution_count": 156,
   "metadata": {},
   "outputs": [
    {
     "name": "stdout",
     "output_type": "stream",
     "text": [
      "猫である チャオ  は寝ている\n"
     ]
    }
   ],
   "source": [
    "chao.move()"
   ]
  },
  {
   "cell_type": "code",
   "execution_count": 157,
   "metadata": {},
   "outputs": [
    {
     "name": "stdout",
     "output_type": "stream",
     "text": [
      "犬である シェル  は走っている\n"
     ]
    }
   ],
   "source": [
    "shell.move()"
   ]
  },
  {
   "cell_type": "code",
   "execution_count": 158,
   "metadata": {},
   "outputs": [
    {
     "name": "stdout",
     "output_type": "stream",
     "text": [
      "金魚である スイミー は泳いでいる\n"
     ]
    }
   ],
   "source": [
    "swimmy.move()"
   ]
  },
  {
   "cell_type": "markdown",
   "metadata": {},
   "source": [
    "プロセス指向で実装すると...以下のようなイメージになります。"
   ]
  },
  {
   "cell_type": "code",
   "execution_count": 167,
   "metadata": {},
   "outputs": [],
   "source": [
    "def move_cat(name):\n",
    "    print(f\"猫である {name}  は寝ている\")"
   ]
  },
  {
   "cell_type": "code",
   "execution_count": 168,
   "metadata": {},
   "outputs": [],
   "source": [
    "def move_dog(name):\n",
    "    print(f\"犬である {name}  は走っている\")"
   ]
  },
  {
   "cell_type": "code",
   "execution_count": 169,
   "metadata": {},
   "outputs": [],
   "source": [
    "def move_fish(name):\n",
    "    print(f\"金魚である {name} は泳いでいる\")"
   ]
  },
  {
   "cell_type": "code",
   "execution_count": 170,
   "metadata": {},
   "outputs": [],
   "source": [
    "mike = \"ミケ\""
   ]
  },
  {
   "cell_type": "code",
   "execution_count": 171,
   "metadata": {},
   "outputs": [],
   "source": [
    "chao = \"チャオ\""
   ]
  },
  {
   "cell_type": "code",
   "execution_count": 172,
   "metadata": {},
   "outputs": [],
   "source": [
    "shell  = \"シェル\""
   ]
  },
  {
   "cell_type": "code",
   "execution_count": 173,
   "metadata": {},
   "outputs": [],
   "source": [
    "swimmy = \"スイミー\""
   ]
  },
  {
   "cell_type": "code",
   "execution_count": 174,
   "metadata": {},
   "outputs": [
    {
     "name": "stdout",
     "output_type": "stream",
     "text": [
      "猫である ミケ  は寝ている\n"
     ]
    }
   ],
   "source": [
    "move_cat(mike)"
   ]
  },
  {
   "cell_type": "code",
   "execution_count": 177,
   "metadata": {},
   "outputs": [
    {
     "name": "stdout",
     "output_type": "stream",
     "text": [
      "猫である チャオ  は寝ている\n"
     ]
    }
   ],
   "source": [
    "move_cat(chao)"
   ]
  },
  {
   "cell_type": "code",
   "execution_count": 178,
   "metadata": {},
   "outputs": [
    {
     "name": "stdout",
     "output_type": "stream",
     "text": [
      "犬である シェル  は走っている\n"
     ]
    }
   ],
   "source": [
    "move_dog(shell)"
   ]
  },
  {
   "cell_type": "code",
   "execution_count": 176,
   "metadata": {},
   "outputs": [
    {
     "name": "stdout",
     "output_type": "stream",
     "text": [
      "金魚である スイミー は泳いでいる\n"
     ]
    }
   ],
   "source": [
    "move_fish(swimmy)"
   ]
  },
  {
   "cell_type": "markdown",
   "metadata": {},
   "source": [
    "**どのような印象を受けましたか？**  \n",
    "処理フローが簡単なうちは良いですが、現実問題はたくさんの処理を定義したり、作成していかないといけない中で、  \n",
    "1つ１つオリジナルに定義していく関数が、共通する抽象的な概念を持っていれば、それらをひとまとめにしたいときに、よくクラスが利用されます。  \n",
    "  \n",
    "上の例でいえば、猫・犬・金魚、それぞれの動作を関数で定義していきますが、  \n",
    "『猫』・『犬』・『金魚』というそれぞれの概念ごとにまとめてプログラム設計していく方が、後々楽な気がします。  \n",
    "  \n",
    "冒頭でのべた、可読性や持続性も一定レベル以上保つことができるのではないでしょうか。  \n",
    "今回は、導入部分なので細かく見ていきませんが、次回以降、このオブジェクト指向を見つつ、クラスについて丁寧に説明していこうと思います。  "
   ]
  },
  {
   "cell_type": "markdown",
   "metadata": {},
   "source": [
    "### クラスとインスタンス変数\n",
    "一般的に、インスタンス変数はそれぞれのインスタンスについて固有のデータのためのもので、  \n",
    "クラス変数はそのクラスのすべてのインスタンスによって共有される属性やメソッド(関数)のためのものです"
   ]
  },
  {
   "cell_type": "code",
   "execution_count": 179,
   "metadata": {},
   "outputs": [],
   "source": [
    "class Cat:\n",
    "\n",
    "    KIND = 'スコティッシュフォールド'         # すべてのインスタンスで共有されるクラス変数\n",
    "\n",
    "    def __init__(self, name):\n",
    "        self.name = name    # 各インスタンスに固有のインスタンス変数"
   ]
  },
  {
   "cell_type": "code",
   "execution_count": 180,
   "metadata": {},
   "outputs": [],
   "source": [
    "d = Cat('キャッツ')"
   ]
  },
  {
   "cell_type": "code",
   "execution_count": 181,
   "metadata": {},
   "outputs": [],
   "source": [
    "e = Cat('ぬこ')"
   ]
  },
  {
   "cell_type": "code",
   "execution_count": 182,
   "metadata": {},
   "outputs": [
    {
     "data": {
      "text/plain": [
       "'スコティッシュフォールド'"
      ]
     },
     "execution_count": 182,
     "metadata": {},
     "output_type": "execute_result"
    }
   ],
   "source": [
    "d.KIND"
   ]
  },
  {
   "cell_type": "code",
   "execution_count": 183,
   "metadata": {},
   "outputs": [
    {
     "data": {
      "text/plain": [
       "'スコティッシュフォールド'"
      ]
     },
     "execution_count": 183,
     "metadata": {},
     "output_type": "execute_result"
    }
   ],
   "source": [
    "e.KIND"
   ]
  },
  {
   "cell_type": "code",
   "execution_count": 184,
   "metadata": {},
   "outputs": [
    {
     "data": {
      "text/plain": [
       "'キャッツ'"
      ]
     },
     "execution_count": 184,
     "metadata": {},
     "output_type": "execute_result"
    }
   ],
   "source": [
    "d.name"
   ]
  },
  {
   "cell_type": "code",
   "execution_count": 185,
   "metadata": {},
   "outputs": [
    {
     "data": {
      "text/plain": [
       "'ぬこ'"
      ]
     },
     "execution_count": 185,
     "metadata": {},
     "output_type": "execute_result"
    }
   ],
   "source": [
    "e.name"
   ]
  },
  {
   "cell_type": "markdown",
   "metadata": {},
   "source": [
    "オブジェクトにはオリジナリティ(独自性)があり、同一のオブジェクトに(複数のスコープから) 複数の名前を割り当てることができます。  \n",
    "  \n",
    "この機能は他の言語では別名づけ(alias) として知られています。   \n",
    "  \n",
    "一見しただけでは、別名づけの重要性は分からないことが多く、  \n",
    "変更不能な基本型 (数値、文字列、タプル)を扱うときには無視して差し支えありません。  \n",
    "  \n",
    "しかしながら、別名付けは、リストや辞書や他の多くの型など、変更可能な型を扱う Python コード上では効果があります。  "
   ]
  },
  {
   "cell_type": "code",
   "execution_count": 201,
   "metadata": {},
   "outputs": [],
   "source": [
    "class Cat:\n",
    "\n",
    "    tricks = []             # クラス変数の誤った使用\n",
    "\n",
    "    def __init__(self, name):\n",
    "        self.name = name\n",
    "\n",
    "    def add_trick(self, trick):\n",
    "        self.tricks.append(trick)"
   ]
  },
  {
   "cell_type": "code",
   "execution_count": 202,
   "metadata": {},
   "outputs": [],
   "source": [
    "d = Cat('キャッツ')"
   ]
  },
  {
   "cell_type": "code",
   "execution_count": 203,
   "metadata": {},
   "outputs": [],
   "source": [
    "e = Cat('ぬこ')"
   ]
  },
  {
   "cell_type": "code",
   "execution_count": 204,
   "metadata": {},
   "outputs": [],
   "source": [
    "d.add_trick('スコティッシュフォールド')"
   ]
  },
  {
   "cell_type": "code",
   "execution_count": 205,
   "metadata": {},
   "outputs": [],
   "source": [
    "e.add_trick('三毛猫')"
   ]
  },
  {
   "cell_type": "code",
   "execution_count": 206,
   "metadata": {},
   "outputs": [
    {
     "data": {
      "text/plain": [
       "['スコティッシュフォールド', '三毛猫']"
      ]
     },
     "execution_count": 206,
     "metadata": {},
     "output_type": "execute_result"
    }
   ],
   "source": [
    "d.tricks"
   ]
  },
  {
   "cell_type": "markdown",
   "metadata": {},
   "source": [
    "このオブジェクトクラスを呼び出すたびに、`add_trick`を命名するたびに、`tricks`には不要な情報が書き込まれて行ってしまうので、  \n",
    "正しくは、次のように設計すべき。。。"
   ]
  },
  {
   "cell_type": "code",
   "execution_count": 207,
   "metadata": {},
   "outputs": [],
   "source": [
    "class Cat:\n",
    "\n",
    "    def __init__(self, name):\n",
    "        self.name = name\n",
    "        self.tricks = []    # 猫ごとに新しい空のリストを作成します\n",
    "\n",
    "    def add_trick(self, trick):\n",
    "        self.tricks.append(trick)"
   ]
  },
  {
   "cell_type": "code",
   "execution_count": 208,
   "metadata": {},
   "outputs": [],
   "source": [
    "d = Cat('キャッツ')"
   ]
  },
  {
   "cell_type": "code",
   "execution_count": 209,
   "metadata": {},
   "outputs": [],
   "source": [
    "e = Cat('ぬこ')"
   ]
  },
  {
   "cell_type": "code",
   "execution_count": 210,
   "metadata": {},
   "outputs": [],
   "source": [
    "d.add_trick('スコティッシュフォールド')"
   ]
  },
  {
   "cell_type": "code",
   "execution_count": 211,
   "metadata": {},
   "outputs": [],
   "source": [
    "e.add_trick('三毛猫')"
   ]
  },
  {
   "cell_type": "markdown",
   "metadata": {},
   "source": [
    "### 今日はここまで、です...！次回以降は、クラスのお話をしつつ、オブジェクト指向を見ていきます！"
   ]
  },
  {
   "cell_type": "code",
   "execution_count": null,
   "metadata": {},
   "outputs": [],
   "source": []
  }
 ],
 "metadata": {
  "kernelspec": {
   "display_name": "Python 3",
   "language": "python",
   "name": "python3"
  },
  "language_info": {
   "codemirror_mode": {
    "name": "ipython",
    "version": 3
   },
   "file_extension": ".py",
   "mimetype": "text/x-python",
   "name": "python",
   "nbconvert_exporter": "python",
   "pygments_lexer": "ipython3",
   "version": "3.6.5"
  }
 },
 "nbformat": 4,
 "nbformat_minor": 2
}
