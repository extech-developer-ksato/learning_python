{
 "cells": [
  {
   "cell_type": "markdown",
   "metadata": {},
   "source": [
    "## `array` --- 効率のよい数値アレイ\n",
    "このモジュールでは、基本的な値 (文字、整数、浮動小数点数) の配列 (`array`) を  \n",
    "コンパクトに表現できるオブジェクト型を定義しています。  \n",
    "配列はシーケンス (`sequence`) 型であり、中に入れるオブジェクトの型に制限があることを除けば、  \n",
    "リストとまったく同じように振る舞います。オブジェクト生成時に一文字の 型コード を用いて型を指定します。  \n",
    "  \n",
    "**`list`と`array`の違い**  \n",
    "`list`は、内包する要素がどんな型(文字列であってり、浮動小数点型であったり、整数値であったり)でも定義なく扱うことができ、  \n",
    "`import`インポートする必要もなく、暗示的にシーケンスな操作を扱うことができます。  \n",
    "一方、`array`は`import`する必要があり、かつ、内包する要素を明示的に定義する必要があります。"
   ]
  },
  {
   "cell_type": "code",
   "execution_count": 1,
   "metadata": {},
   "outputs": [],
   "source": [
    "# サンプルのリスト\n",
    "list_sample = [0, 1, 2, 3, 4, 5, 6, 7, 8, 9]"
   ]
  },
  {
   "cell_type": "code",
   "execution_count": 2,
   "metadata": {},
   "outputs": [
    {
     "name": "stdout",
     "output_type": "stream",
     "text": [
      "0\n",
      "1\n",
      "2\n",
      "3\n",
      "4\n",
      "5\n",
      "6\n",
      "7\n",
      "8\n",
      "9\n"
     ]
    }
   ],
   "source": [
    "for num in list_sample:\n",
    "    print(num)"
   ]
  },
  {
   "cell_type": "code",
   "execution_count": 3,
   "metadata": {},
   "outputs": [],
   "source": [
    "import array"
   ]
  },
  {
   "cell_type": "code",
   "execution_count": 4,
   "metadata": {},
   "outputs": [],
   "source": [
    "array_sample = array.array('i', [0, 1, 2, 3, 4, 5, 6, 7, 8, 9])"
   ]
  },
  {
   "cell_type": "code",
   "execution_count": 5,
   "metadata": {},
   "outputs": [
    {
     "data": {
      "text/plain": [
       "array('i', [0, 1, 2, 3, 4, 5, 6, 7, 8, 9])"
      ]
     },
     "execution_count": 5,
     "metadata": {},
     "output_type": "execute_result"
    }
   ],
   "source": [
    "array_sample"
   ]
  },
  {
   "cell_type": "code",
   "execution_count": 6,
   "metadata": {},
   "outputs": [
    {
     "name": "stdout",
     "output_type": "stream",
     "text": [
      "0\n",
      "1\n",
      "2\n",
      "3\n",
      "4\n",
      "5\n",
      "6\n",
      "7\n",
      "8\n",
      "9\n"
     ]
    }
   ],
   "source": [
    "for num in array_sample:\n",
    "    print(num)"
   ]
  },
  {
   "cell_type": "markdown",
   "metadata": {},
   "source": [
    "**`list`は、異なる型を混ぜることできます。**"
   ]
  },
  {
   "cell_type": "code",
   "execution_count": 7,
   "metadata": {},
   "outputs": [],
   "source": [
    "list_sample = [0, '1', 2.000, 3, 'four', 'five', 6, '7', 8, 9.000]"
   ]
  },
  {
   "cell_type": "code",
   "execution_count": 8,
   "metadata": {},
   "outputs": [
    {
     "name": "stdout",
     "output_type": "stream",
     "text": [
      "0 <class 'int'>\n",
      "1 <class 'str'>\n",
      "2.0 <class 'float'>\n",
      "3 <class 'int'>\n",
      "four <class 'str'>\n",
      "five <class 'str'>\n",
      "6 <class 'int'>\n",
      "7 <class 'str'>\n",
      "8 <class 'int'>\n",
      "9.0 <class 'float'>\n"
     ]
    }
   ],
   "source": [
    "for num in list_sample:\n",
    "    print(num, type(num))"
   ]
  },
  {
   "cell_type": "code",
   "execution_count": 9,
   "metadata": {},
   "outputs": [
    {
     "ename": "TypeError",
     "evalue": "an integer is required (got type str)",
     "output_type": "error",
     "traceback": [
      "\u001b[0;31m---------------------------------------------------------------------------\u001b[0m",
      "\u001b[0;31mTypeError\u001b[0m                                 Traceback (most recent call last)",
      "\u001b[0;32m<ipython-input-9-7c458a4e31a2>\u001b[0m in \u001b[0;36m<module>\u001b[0;34m\u001b[0m\n\u001b[0;32m----> 1\u001b[0;31m \u001b[0marray_sample\u001b[0m \u001b[0;34m=\u001b[0m \u001b[0marray\u001b[0m\u001b[0;34m.\u001b[0m\u001b[0marray\u001b[0m\u001b[0;34m(\u001b[0m\u001b[0;34m'i'\u001b[0m\u001b[0;34m,\u001b[0m\u001b[0;34m[\u001b[0m\u001b[0;36m0\u001b[0m\u001b[0;34m,\u001b[0m \u001b[0;34m'1'\u001b[0m\u001b[0;34m,\u001b[0m \u001b[0;36m2.000\u001b[0m\u001b[0;34m,\u001b[0m \u001b[0;36m3\u001b[0m\u001b[0;34m,\u001b[0m \u001b[0;34m'four'\u001b[0m\u001b[0;34m,\u001b[0m \u001b[0;34m'five'\u001b[0m\u001b[0;34m,\u001b[0m \u001b[0;36m6\u001b[0m\u001b[0;34m,\u001b[0m \u001b[0;34m'7'\u001b[0m\u001b[0;34m,\u001b[0m \u001b[0;36m8\u001b[0m\u001b[0;34m,\u001b[0m \u001b[0;36m9.000\u001b[0m\u001b[0;34m]\u001b[0m\u001b[0;34m)\u001b[0m\u001b[0;34m\u001b[0m\u001b[0;34m\u001b[0m\u001b[0m\n\u001b[0m",
      "\u001b[0;31mTypeError\u001b[0m: an integer is required (got type str)"
     ]
    }
   ],
   "source": [
    "array_sample = array.array('i',[0, '1', 2.000, 3, 'four', 'five', 6, '7', 8, 9.000])"
   ]
  },
  {
   "cell_type": "markdown",
   "metadata": {},
   "source": [
    "**`array`は同じ型のみで異なる型は混在できません。`array`の第一引数は「型」です。ここに複数の型を指定することはできません。**  \n",
    "  \n",
    "| 型コード | C の型 | Python の型 | 最小サイズ (バイト単位) |  \n",
    "| :---: | :---: | :---: | :---: |  \n",
    "| `b` | signed char | int | 1 |  \n",
    "| `B` | unsigned char | int | 1 |  \n",
    "| `u` | wchar_t | Unicode文字(unicode型) | 2 |  \n",
    "| `h` | signed short | int | 2 |  \n",
    "| `H` | unsigned short | int | 2 |  \n",
    "| `i` | signed int | int | 2 |  \n",
    "| `I` | unsigned int | int | 2 |  \n",
    "| `l` | signed long | int | 4 |  \n",
    "| `L` | unsigned long | int | 4 |  \n",
    "| `q` | signed long long | int | 8 |  \n",
    "| `Q` | unsigned long long | int | 8 |  \n",
    "| `f` | float| 浮動小数点数 | 4 |  \n",
    "| `d` | double| 浮動小数点数 | 8 |  "
   ]
  },
  {
   "cell_type": "code",
   "execution_count": 10,
   "metadata": {},
   "outputs": [],
   "source": [
    "array_sample_float = array.array('f', [0, 1, 2, 3, 4, 5, 6, 7, 8, 9])"
   ]
  },
  {
   "cell_type": "code",
   "execution_count": 11,
   "metadata": {},
   "outputs": [
    {
     "name": "stdout",
     "output_type": "stream",
     "text": [
      "0.0 <class 'float'>\n",
      "1.0 <class 'float'>\n",
      "2.0 <class 'float'>\n",
      "3.0 <class 'float'>\n",
      "4.0 <class 'float'>\n",
      "5.0 <class 'float'>\n",
      "6.0 <class 'float'>\n",
      "7.0 <class 'float'>\n",
      "8.0 <class 'float'>\n",
      "9.0 <class 'float'>\n"
     ]
    }
   ],
   "source": [
    "for num in array_sample_float:\n",
    "    print(num, type(num))"
   ]
  },
  {
   "cell_type": "code",
   "execution_count": 12,
   "metadata": {},
   "outputs": [],
   "source": [
    "array_sample_str = array.array('u', ['0', '1', '2', '3', '4', '5', '6', '7', '8', '9'])"
   ]
  },
  {
   "cell_type": "code",
   "execution_count": 13,
   "metadata": {},
   "outputs": [
    {
     "name": "stdout",
     "output_type": "stream",
     "text": [
      "0 <class 'str'>\n",
      "1 <class 'str'>\n",
      "2 <class 'str'>\n",
      "3 <class 'str'>\n",
      "4 <class 'str'>\n",
      "5 <class 'str'>\n",
      "6 <class 'str'>\n",
      "7 <class 'str'>\n",
      "8 <class 'str'>\n",
      "9 <class 'str'>\n"
     ]
    }
   ],
   "source": [
    "for num in array_sample_str:\n",
    "    print(num, type(num))"
   ]
  },
  {
   "cell_type": "markdown",
   "metadata": {},
   "source": [
    "`array.append(x)`  \n",
    "`array.count(x)`  \n",
    "`array.extend(iterable)`  \n",
    "`array.pop([i])`  \n",
    "`array.reverse()`  \n",
    "など、リストやその他シーケンスなデータ型と同様の操作も可能です。  "
   ]
  },
  {
   "cell_type": "code",
   "execution_count": 14,
   "metadata": {},
   "outputs": [],
   "source": [
    "import time"
   ]
  },
  {
   "cell_type": "code",
   "execution_count": 43,
   "metadata": {},
   "outputs": [],
   "source": [
    "test_list = [int(i) for i in range(10000)]"
   ]
  },
  {
   "cell_type": "code",
   "execution_count": 44,
   "metadata": {},
   "outputs": [],
   "source": [
    "test_cal_list = test_list"
   ]
  },
  {
   "cell_type": "code",
   "execution_count": 45,
   "metadata": {},
   "outputs": [],
   "source": [
    "test_cal_array = array.array('i', test_list)"
   ]
  },
  {
   "cell_type": "code",
   "execution_count": 46,
   "metadata": {},
   "outputs": [
    {
     "name": "stdout",
     "output_type": "stream",
     "text": [
      "list...0.006359100341796875\n"
     ]
    }
   ],
   "source": [
    "str_time = time.time()\n",
    "for i in range(10000):\n",
    "    test_cal_list.append(int(i))\n",
    "end_time = time.time() - str_time\n",
    "print(f'list...{end_time}')"
   ]
  },
  {
   "cell_type": "code",
   "execution_count": 47,
   "metadata": {},
   "outputs": [
    {
     "name": "stdout",
     "output_type": "stream",
     "text": [
      "array...0.0065746307373046875\n"
     ]
    }
   ],
   "source": [
    "str_time = time.time()\n",
    "for i in range(10000):\n",
    "    test_cal_array.append(int(i))\n",
    "end_time = time.time() - str_time\n",
    "print(f'array...{end_time}')"
   ]
  },
  {
   "cell_type": "markdown",
   "metadata": {},
   "source": [
    "**速度も微妙に`list`の方が速い...これらを考えると、`list`を無難に使ってあげたほうが良いです**"
   ]
  },
  {
   "cell_type": "markdown",
   "metadata": {},
   "source": [
    "## `heapq` --- ヒープキューアルゴリズム\n",
    "このモジュールではヒープキューアルゴリズムの一実装を提供しています。優先度キューアルゴリズムとしても知られています。\n",
    "ヒープキューアルゴリズムについては理論的な部分は、Yasufumi TANIGUCHI氏の  \n",
    "**[ヒープをわかりやすく解説してみた](https://medium.com/@yasufumy/data-structure-heap-ecfd0989e5be)** がわかりやすいです。  \n",
    "直感的には、@T_Wakasugi氏の  \n",
    "**[優先度付きキュー（ヒープ）とPythonで実装するライブラリ「heapq」について](https://qiita.com/T_Wakasugi/items/dac6eb77a3cace54f95e)**がわかりやすいです。\n",
    "  \n",
    "ヒープは木構造の1つで、二分木として表現されます。木構造はポインタや配列を使って実装されます。  \n",
    "この考え方に沿って、Python `heapq`も実装されています。優先度付きキューになります。  \n",
    "ヒープとは、全ての k について、要素を 0 から数えたときに、a[k] <= a[2*k+1] かつ a[k] <= a[2*k+2] となる配列を指します。  \n",
    "ヒープの特徴としては「子要素は親要素より常に大きいか等しい」という点になります。  \n",
    "また、ヒープは上から下へ、左から右へ順にノードを詰めていきます。  \n",
    "「子要素は親要素より常に大きいか等しい」という定義から、ヒープの一番親の要素（根）は、ヒープで一番小さい値(最小値)ということになります。  \n",
    "  \n",
    "頻繁に使うメソッドは3つになります。  \n",
    "  \n",
    "`heapq.heapify`(リスト)でリストを優先度付きキューに変換する。  \n",
    "`heapq.heappop`(優先度付きキュー (=リスト) )で優先度付きキューから最小値を取り出す。  \n",
    "`heapq.heappush`(優先度付きキュー (=リスト) , 挿入したい要素)で優先度付きキューに要素を挿入する。  "
   ]
  },
  {
   "cell_type": "code",
   "execution_count": 48,
   "metadata": {},
   "outputs": [],
   "source": [
    "import heapq"
   ]
  },
  {
   "cell_type": "code",
   "execution_count": 67,
   "metadata": {},
   "outputs": [],
   "source": [
    "sample_queue = [1,2,3,4,7,9,10,8,16,14]"
   ]
  },
  {
   "cell_type": "code",
   "execution_count": 68,
   "metadata": {},
   "outputs": [
    {
     "name": "stdout",
     "output_type": "stream",
     "text": [
      "<class 'list'>\n"
     ]
    }
   ],
   "source": [
    "# リスト型の、sample_queue\n",
    "print(type(sample_queue))"
   ]
  },
  {
   "cell_type": "code",
   "execution_count": 69,
   "metadata": {},
   "outputs": [],
   "source": [
    "heapq.heapify(sample_queue)"
   ]
  },
  {
   "cell_type": "code",
   "execution_count": 70,
   "metadata": {},
   "outputs": [
    {
     "name": "stdout",
     "output_type": "stream",
     "text": [
      "<class 'list'>\n"
     ]
    }
   ],
   "source": [
    "# リスト型のsample_queueから、heapqによる優先度づけ変換を行ったあとの、sample_queue_heap\n",
    "print(type(sample_queue))"
   ]
  },
  {
   "cell_type": "code",
   "execution_count": 71,
   "metadata": {},
   "outputs": [
    {
     "name": "stdout",
     "output_type": "stream",
     "text": [
      "[1, 2, 3, 4, 7, 9, 10, 8, 16, 14]\n"
     ]
    }
   ],
   "source": [
    "print(sample_queue)"
   ]
  },
  {
   "cell_type": "code",
   "execution_count": 72,
   "metadata": {},
   "outputs": [
    {
     "name": "stdout",
     "output_type": "stream",
     "text": [
      "1\n"
     ]
    }
   ],
   "source": [
    "# 最小値の取り出し\n",
    "print(heapq.heappop(sample_queue))"
   ]
  },
  {
   "cell_type": "code",
   "execution_count": 73,
   "metadata": {},
   "outputs": [
    {
     "name": "stdout",
     "output_type": "stream",
     "text": [
      "[2, 4, 3, 8, 7, 9, 10, 14, 16]\n"
     ]
    }
   ],
   "source": [
    "# 最小値が取り出された後の、sample_queue\n",
    "print(sample_queue)"
   ]
  },
  {
   "cell_type": "code",
   "execution_count": 74,
   "metadata": {},
   "outputs": [
    {
     "name": "stdout",
     "output_type": "stream",
     "text": [
      "2\n"
     ]
    }
   ],
   "source": [
    "# 最小値の取り出し\n",
    "print(heapq.heappop(sample_queue))"
   ]
  },
  {
   "cell_type": "code",
   "execution_count": 75,
   "metadata": {},
   "outputs": [
    {
     "name": "stdout",
     "output_type": "stream",
     "text": [
      "[3, 4, 9, 8, 7, 16, 10, 14]\n"
     ]
    }
   ],
   "source": [
    "# 最小値が取り出された後の、sample_queue\n",
    "print(sample_queue)"
   ]
  },
  {
   "cell_type": "code",
   "execution_count": 76,
   "metadata": {},
   "outputs": [],
   "source": [
    "# 要素の挿入\n",
    "heapq.heappush(sample_queue, 2)"
   ]
  },
  {
   "cell_type": "code",
   "execution_count": 77,
   "metadata": {},
   "outputs": [
    {
     "name": "stdout",
     "output_type": "stream",
     "text": [
      "[2, 3, 9, 4, 7, 16, 10, 14, 8]\n"
     ]
    }
   ],
   "source": [
    "# 挿入後の、sample_queue\n",
    "print(sample_queue)"
   ]
  },
  {
   "cell_type": "markdown",
   "metadata": {},
   "source": [
    "## 以上となります。優先度付きキューは高度な技術ではありますので、参考までに。。。"
   ]
  },
  {
   "cell_type": "code",
   "execution_count": null,
   "metadata": {},
   "outputs": [],
   "source": []
  }
 ],
 "metadata": {
  "kernelspec": {
   "display_name": "Python 3",
   "language": "python",
   "name": "python3"
  },
  "language_info": {
   "codemirror_mode": {
    "name": "ipython",
    "version": 3
   },
   "file_extension": ".py",
   "mimetype": "text/x-python",
   "name": "python",
   "nbconvert_exporter": "python",
   "pygments_lexer": "ipython3",
   "version": "3.7.4"
  }
 },
 "nbformat": 4,
 "nbformat_minor": 4
}
