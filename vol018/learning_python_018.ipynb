{
 "cells": [
  {
   "cell_type": "markdown",
   "metadata": {},
   "source": [
    "## `pprint` --- データ出力の整然化\n",
    "**リスト（list型）や辞書（dict型）などのオブジェクトを綺麗に  \n",
    "出力・表示することができて、また、文字列（str型オブジェクト）に変換することが可能な標準モジュール**"
   ]
  },
  {
   "cell_type": "markdown",
   "metadata": {},
   "source": [
    "インデント幅の指定することができる、 **`indent  `**、出力幅を指定することができる **`width`** 、  \n",
    "出力要素の深さを指定することができる、**`depth`** 、改行を最小限にすることができる、**`compact`** 、  \n",
    "文字列に変換: pprint.pformat()、二次元配列の整形があります。  \n",
    "  \n",
    "**対話型インタープリタ(CUIなど)ではよく、`print()`を使います**  \n",
    "便利でよくプログラム上、`print()`とは別で **`pprint()`** というものがあります。"
   ]
  },
  {
   "cell_type": "code",
   "execution_count": 1,
   "metadata": {},
   "outputs": [],
   "source": [
    "import pprint"
   ]
  },
  {
   "cell_type": "code",
   "execution_count": 2,
   "metadata": {},
   "outputs": [],
   "source": [
    "stuff = ['spam', 'eggs', 'lumberjack', 'knights', 'ni']"
   ]
  },
  {
   "cell_type": "code",
   "execution_count": 3,
   "metadata": {},
   "outputs": [],
   "source": [
    "stuff.insert(0, stuff[:])"
   ]
  },
  {
   "cell_type": "code",
   "execution_count": 4,
   "metadata": {},
   "outputs": [],
   "source": [
    "pp = pprint.PrettyPrinter(indent=4)"
   ]
  },
  {
   "cell_type": "code",
   "execution_count": 5,
   "metadata": {},
   "outputs": [
    {
     "name": "stdout",
     "output_type": "stream",
     "text": [
      "[   ['spam', 'eggs', 'lumberjack', 'knights', 'ni'],\n",
      "    'spam',\n",
      "    'eggs',\n",
      "    'lumberjack',\n",
      "    'knights',\n",
      "    'ni']\n"
     ]
    }
   ],
   "source": [
    "pp.pprint(stuff)"
   ]
  },
  {
   "cell_type": "code",
   "execution_count": 6,
   "metadata": {},
   "outputs": [],
   "source": [
    "pp = pprint.PrettyPrinter(width=41, compact=True)"
   ]
  },
  {
   "cell_type": "code",
   "execution_count": 7,
   "metadata": {},
   "outputs": [
    {
     "name": "stdout",
     "output_type": "stream",
     "text": [
      "[['spam', 'eggs', 'lumberjack',\n",
      "  'knights', 'ni'],\n",
      " 'spam', 'eggs', 'lumberjack', 'knights',\n",
      " 'ni']\n"
     ]
    }
   ],
   "source": [
    "pp.pprint(stuff)"
   ]
  },
  {
   "cell_type": "code",
   "execution_count": 8,
   "metadata": {},
   "outputs": [],
   "source": [
    "tup = ('spam', ('eggs', ('lumberjack', ('knights', ('ni', ('dead',('parrot', ('fresh fruit',))))))))"
   ]
  },
  {
   "cell_type": "code",
   "execution_count": 9,
   "metadata": {},
   "outputs": [],
   "source": [
    "pp = pprint.PrettyPrinter(depth=6)"
   ]
  },
  {
   "cell_type": "code",
   "execution_count": 10,
   "metadata": {},
   "outputs": [
    {
     "name": "stdout",
     "output_type": "stream",
     "text": [
      "('spam', ('eggs', ('lumberjack', ('knights', ('ni', ('dead', (...)))))))\n"
     ]
    }
   ],
   "source": [
    "pp.pprint(tup)"
   ]
  },
  {
   "cell_type": "markdown",
   "metadata": {},
   "source": [
    "**`pprint()` の使用例として、PyPI からプロジェクトに関する情報を取得してきます。**"
   ]
  },
  {
   "cell_type": "code",
   "execution_count": 11,
   "metadata": {},
   "outputs": [],
   "source": [
    "import json\n",
    "from urllib.request import urlopen\n",
    "with urlopen('https://pypi.org/pypi/sampleproject/json') as resp:\n",
    "    project_info = json.load(resp)['info']"
   ]
  },
  {
   "cell_type": "code",
   "execution_count": 12,
   "metadata": {},
   "outputs": [
    {
     "name": "stdout",
     "output_type": "stream",
     "text": [
      "{'author': 'A. Random Developer',\n",
      " 'author_email': 'author@example.com',\n",
      " 'bugtrack_url': None,\n",
      " 'classifiers': ['Development Status :: 3 - Alpha',\n",
      "                 'Intended Audience :: Developers',\n",
      "                 'License :: OSI Approved :: MIT License',\n",
      "                 'Programming Language :: Python :: 3',\n",
      "                 'Programming Language :: Python :: 3 :: Only',\n",
      "                 'Programming Language :: Python :: 3.5',\n",
      "                 'Programming Language :: Python :: 3.6',\n",
      "                 'Programming Language :: Python :: 3.7',\n",
      "                 'Programming Language :: Python :: 3.8',\n",
      "                 'Topic :: Software Development :: Build Tools'],\n",
      " 'description': '# A sample Python project\\n'\n",
      "                '\\n'\n",
      "                '![Python '\n",
      "                'Logo](https://www.python.org/static/community_logos/python-logo.png '\n",
      "                '\"Sample inline image\")\\n'\n",
      "                '\\n'\n",
      "                'A sample project that exists as an aid to the [Python '\n",
      "                'Packaging User\\n'\n",
      "                \"Guide][packaging guide]'s [Tutorial on Packaging and \"\n",
      "                'Distributing\\n'\n",
      "                'Projects][distribution tutorial].\\n'\n",
      "                '\\n'\n",
      "                'This project does not aim to cover best practices for Python '\n",
      "                'project\\n'\n",
      "                'development as a whole. For example, it does not provide '\n",
      "                'guidance or tool\\n'\n",
      "                'recommendations for version control, documentation, or '\n",
      "                'testing.\\n'\n",
      "                '\\n'\n",
      "                '[The source for this project is available here][src].\\n'\n",
      "                '\\n'\n",
      "                'Most of the configuration for a Python project is done in the '\n",
      "                '`setup.py` file,\\n'\n",
      "                'an example of which is included in this project. You should '\n",
      "                'edit this file\\n'\n",
      "                'accordingly to adapt this sample project to your needs.\\n'\n",
      "                '\\n'\n",
      "                '----\\n'\n",
      "                '\\n'\n",
      "                'This is the README file for the project.\\n'\n",
      "                '\\n'\n",
      "                'The file should use UTF-8 encoding and can be written using\\n'\n",
      "                '[reStructuredText][rst] or [markdown][md use] with the '\n",
      "                'appropriate [key set][md\\n'\n",
      "                'use]. It will be used to generate the project webpage on PyPI '\n",
      "                'and will be\\n'\n",
      "                'displayed as the project homepage on common code-hosting '\n",
      "                'services, and should be\\n'\n",
      "                'written for that purpose.\\n'\n",
      "                '\\n'\n",
      "                'Typical contents for this file would include an overview of '\n",
      "                'the project, basic\\n'\n",
      "                'usage examples, etc. Generally, including the project '\n",
      "                'changelog in here is not a\\n'\n",
      "                \"good idea, although a simple “What's New” section for the \"\n",
      "                'most recent version\\n'\n",
      "                'may be appropriate.\\n'\n",
      "                '\\n'\n",
      "                '[packaging guide]: https://packaging.python.org\\n'\n",
      "                '[distribution tutorial]: '\n",
      "                'https://packaging.python.org/tutorials/packaging-projects/\\n'\n",
      "                '[src]: https://github.com/pypa/sampleproject\\n'\n",
      "                '[rst]: http://docutils.sourceforge.net/rst.html\\n'\n",
      "                '[md]: https://tools.ietf.org/html/rfc7764#section-3.5 '\n",
      "                '\"CommonMark variant\"\\n'\n",
      "                '[md use]: '\n",
      "                'https://packaging.python.org/specifications/core-metadata/#description-content-type-optional\\n'\n",
      "                '\\n'\n",
      "                '\\n',\n",
      " 'description_content_type': 'text/markdown',\n",
      " 'docs_url': None,\n",
      " 'download_url': '',\n",
      " 'downloads': {'last_day': -1, 'last_month': -1, 'last_week': -1},\n",
      " 'home_page': 'https://github.com/pypa/sampleproject',\n",
      " 'keywords': 'sample setuptools development',\n",
      " 'license': '',\n",
      " 'maintainer': '',\n",
      " 'maintainer_email': '',\n",
      " 'name': 'sampleproject',\n",
      " 'package_url': 'https://pypi.org/project/sampleproject/',\n",
      " 'platform': '',\n",
      " 'project_url': 'https://pypi.org/project/sampleproject/',\n",
      " 'project_urls': {'Bug Reports': 'https://github.com/pypa/sampleproject/issues',\n",
      "                  'Funding': 'https://donate.pypi.org',\n",
      "                  'Homepage': 'https://github.com/pypa/sampleproject',\n",
      "                  'Say Thanks!': 'http://saythanks.io/to/example',\n",
      "                  'Source': 'https://github.com/pypa/sampleproject/'},\n",
      " 'release_url': 'https://pypi.org/project/sampleproject/2.0.0/',\n",
      " 'requires_dist': ['peppercorn',\n",
      "                   \"check-manifest ; extra == 'dev'\",\n",
      "                   \"coverage ; extra == 'test'\"],\n",
      " 'requires_python': '>=3.5, <4',\n",
      " 'summary': 'A sample Python project',\n",
      " 'version': '2.0.0',\n",
      " 'yanked': False,\n",
      " 'yanked_reason': None}\n"
     ]
    }
   ],
   "source": [
    "pprint.pprint(project_info)"
   ]
  },
  {
   "cell_type": "code",
   "execution_count": 13,
   "metadata": {},
   "outputs": [
    {
     "name": "stdout",
     "output_type": "stream",
     "text": [
      "{'author': 'A. Random Developer',\n",
      " 'author_email': 'author@example.com',\n",
      " 'bugtrack_url': None,\n",
      " 'classifiers': [...],\n",
      " 'description': '# A sample Python project\\n'\n",
      "                '\\n'\n",
      "                '![Python '\n",
      "                'Logo](https://www.python.org/static/community_logos/python-logo.png '\n",
      "                '\"Sample inline image\")\\n'\n",
      "                '\\n'\n",
      "                'A sample project that exists as an aid to the [Python '\n",
      "                'Packaging User\\n'\n",
      "                \"Guide][packaging guide]'s [Tutorial on Packaging and \"\n",
      "                'Distributing\\n'\n",
      "                'Projects][distribution tutorial].\\n'\n",
      "                '\\n'\n",
      "                'This project does not aim to cover best practices for Python '\n",
      "                'project\\n'\n",
      "                'development as a whole. For example, it does not provide '\n",
      "                'guidance or tool\\n'\n",
      "                'recommendations for version control, documentation, or '\n",
      "                'testing.\\n'\n",
      "                '\\n'\n",
      "                '[The source for this project is available here][src].\\n'\n",
      "                '\\n'\n",
      "                'Most of the configuration for a Python project is done in the '\n",
      "                '`setup.py` file,\\n'\n",
      "                'an example of which is included in this project. You should '\n",
      "                'edit this file\\n'\n",
      "                'accordingly to adapt this sample project to your needs.\\n'\n",
      "                '\\n'\n",
      "                '----\\n'\n",
      "                '\\n'\n",
      "                'This is the README file for the project.\\n'\n",
      "                '\\n'\n",
      "                'The file should use UTF-8 encoding and can be written using\\n'\n",
      "                '[reStructuredText][rst] or [markdown][md use] with the '\n",
      "                'appropriate [key set][md\\n'\n",
      "                'use]. It will be used to generate the project webpage on PyPI '\n",
      "                'and will be\\n'\n",
      "                'displayed as the project homepage on common code-hosting '\n",
      "                'services, and should be\\n'\n",
      "                'written for that purpose.\\n'\n",
      "                '\\n'\n",
      "                'Typical contents for this file would include an overview of '\n",
      "                'the project, basic\\n'\n",
      "                'usage examples, etc. Generally, including the project '\n",
      "                'changelog in here is not a\\n'\n",
      "                \"good idea, although a simple “What's New” section for the \"\n",
      "                'most recent version\\n'\n",
      "                'may be appropriate.\\n'\n",
      "                '\\n'\n",
      "                '[packaging guide]: https://packaging.python.org\\n'\n",
      "                '[distribution tutorial]: '\n",
      "                'https://packaging.python.org/tutorials/packaging-projects/\\n'\n",
      "                '[src]: https://github.com/pypa/sampleproject\\n'\n",
      "                '[rst]: http://docutils.sourceforge.net/rst.html\\n'\n",
      "                '[md]: https://tools.ietf.org/html/rfc7764#section-3.5 '\n",
      "                '\"CommonMark variant\"\\n'\n",
      "                '[md use]: '\n",
      "                'https://packaging.python.org/specifications/core-metadata/#description-content-type-optional\\n'\n",
      "                '\\n'\n",
      "                '\\n',\n",
      " 'description_content_type': 'text/markdown',\n",
      " 'docs_url': None,\n",
      " 'download_url': '',\n",
      " 'downloads': {...},\n",
      " 'home_page': 'https://github.com/pypa/sampleproject',\n",
      " 'keywords': 'sample setuptools development',\n",
      " 'license': '',\n",
      " 'maintainer': '',\n",
      " 'maintainer_email': '',\n",
      " 'name': 'sampleproject',\n",
      " 'package_url': 'https://pypi.org/project/sampleproject/',\n",
      " 'platform': '',\n",
      " 'project_url': 'https://pypi.org/project/sampleproject/',\n",
      " 'project_urls': {...},\n",
      " 'release_url': 'https://pypi.org/project/sampleproject/2.0.0/',\n",
      " 'requires_dist': [...],\n",
      " 'requires_python': '>=3.5, <4',\n",
      " 'summary': 'A sample Python project',\n",
      " 'version': '2.0.0',\n",
      " 'yanked': False,\n",
      " 'yanked_reason': None}\n"
     ]
    }
   ],
   "source": [
    "pprint.pprint(project_info, depth=1)"
   ]
  },
  {
   "cell_type": "markdown",
   "metadata": {},
   "source": [
    "**`print`と`pprint`の違いを、もう少し具体的に見てみます...**"
   ]
  },
  {
   "cell_type": "code",
   "execution_count": 14,
   "metadata": {},
   "outputs": [],
   "source": [
    "text_list = [\n",
    "    ('Python', 'Pythonは、初学者にとって比較的学びやすい言語です'),\n",
    "    ('機械学習', '教師あり学習、教師なし学習、半教師あり学習、強化学習、...'),\n",
    "    ('人工知能', 'Artificial intelligence'),\n",
    "]"
   ]
  },
  {
   "cell_type": "code",
   "execution_count": 15,
   "metadata": {},
   "outputs": [
    {
     "name": "stdout",
     "output_type": "stream",
     "text": [
      "[('Python', 'Pythonは、初学者にとって比較的学びやすい言語です'), ('機械学習', '教師あり学習、教師なし学習、半教師あり学習、強化学習、...'), ('人工知能', 'Artificial intelligence')]\n"
     ]
    }
   ],
   "source": [
    "print(text_list)"
   ]
  },
  {
   "cell_type": "code",
   "execution_count": 16,
   "metadata": {},
   "outputs": [],
   "source": [
    "from pprint import pprint"
   ]
  },
  {
   "cell_type": "code",
   "execution_count": 17,
   "metadata": {},
   "outputs": [
    {
     "name": "stdout",
     "output_type": "stream",
     "text": [
      "[('Python', 'Pythonは、初学者にとって比較的学びやすい言語です'),\n",
      " ('機械学習', '教師あり学習、教師なし学習、半教師あり学習、強化学習、...'),\n",
      " ('人工知能', 'Artificial intelligence')]\n"
     ]
    }
   ],
   "source": [
    "pprint(text_list)"
   ]
  },
  {
   "cell_type": "markdown",
   "metadata": {},
   "source": [
    "pprint()は読みやすくするために各要素の位置をうまいこと調整してくれます。  \n",
    "importをするのがめんどくさいとも言えますが、  \n",
    "対話型インタープリタでいろんな出力をたくさんしなければならない時などは、pprint()にしておくと気持ちがいいです。  "
   ]
  },
  {
   "cell_type": "markdown",
   "metadata": {},
   "source": [
    "## `enum`\n",
    "enumとは列挙型と呼ばれ、予め決められた複数の選択肢から値を指定する際に使用される型を指します。  \n",
    "  \n",
    "『たとえば、方角を「東西南北」から選ぶとします。  \n",
    "この際「東=1、西=2、…」などのルールを決めて数値で方角を表す方法が考えられますが、  \n",
    "数値の取り違えや選択肢に無い値を指定してしまう可能性があります。enumはそのような不具合を抑制する仕組みです。』  \n",
    "  \n",
    "**[enumについて](https://qiita.com/Takmiy/items/5e47d87b5085de1ac37f)**  \n",
    "**[列挙型（enum）の基本的な使い方とコード例](https://qiita.com/igm50/items/8c9788d4ba5868642c69)**"
   ]
  },
  {
   "cell_type": "markdown",
   "metadata": {},
   "source": [
    "`Enum` クラス  \n",
    "`IntEnum` クラス  \n",
    "`auto` 関数 ※python3.6から  \n",
    "`Flag` クラス ※python3.6から  \n",
    "`IntFlag` クラス ※python3.6から  "
   ]
  },
  {
   "cell_type": "code",
   "execution_count": 18,
   "metadata": {},
   "outputs": [],
   "source": [
    "from enum import Enum"
   ]
  },
  {
   "cell_type": "code",
   "execution_count": 19,
   "metadata": {},
   "outputs": [],
   "source": [
    "class Color(Enum):\n",
    "    RED = 1\n",
    "    GREEN = 2\n",
    "    BLUE = 3"
   ]
  },
  {
   "cell_type": "code",
   "execution_count": 20,
   "metadata": {},
   "outputs": [],
   "source": [
    "def print_color(color):\n",
    "    if color == Color.RED:\n",
    "        pprint('Color is red')\n",
    "    elif color == Color.GREEN:\n",
    "        pprint('Color is green')\n",
    "    elif color == Color.BLUE:\n",
    "        pprint('Color is blue')\n",
    "    else:\n",
    "        pprint('not Color enum')"
   ]
  },
  {
   "cell_type": "code",
   "execution_count": 21,
   "metadata": {},
   "outputs": [
    {
     "name": "stdout",
     "output_type": "stream",
     "text": [
      "'Color is blue'\n",
      "'not Color enum'\n",
      "<enum 'Color'>\n",
      "<Color.RED: 1>\n",
      "True\n",
      "False\n",
      "<Color.RED: 1>\n",
      "<Color.GREEN: 2>\n",
      "<Color.BLUE: 3>\n"
     ]
    }
   ],
   "source": [
    "if __name__ == '__main__':\n",
    "    print_color(Color.BLUE)  # Color is blue\n",
    "    print_color(1)  # not Color enum\n",
    "    pprint(Color)  # <enum 'Color'>\n",
    "    pprint(Color(1))  # Color.RED\n",
    "    pprint(Color.RED == Color.RED)  # True\n",
    "    pprint(Color.RED == Color.GREEN)  # False\n",
    "    for color in Color:\n",
    "        pprint(color)  # Color.RED\\nColor.GREEN\\nColor.BLUE"
   ]
  },
  {
   "cell_type": "code",
   "execution_count": 22,
   "metadata": {},
   "outputs": [],
   "source": [
    "from enum import IntEnum"
   ]
  },
  {
   "cell_type": "code",
   "execution_count": 23,
   "metadata": {},
   "outputs": [],
   "source": [
    "class Color(IntEnum):\n",
    "    RED = 1\n",
    "    GREEN = 2\n",
    "    BLUE = 3"
   ]
  },
  {
   "cell_type": "code",
   "execution_count": 24,
   "metadata": {},
   "outputs": [
    {
     "name": "stdout",
     "output_type": "stream",
     "text": [
      "'Color is blue'\n",
      "'Color is red'\n",
      "1\n"
     ]
    }
   ],
   "source": [
    "if __name__ == '__main__':\n",
    "    print_color(Color.BLUE)  # Color is blue\n",
    "    print_color(1)  # Color is red\n",
    "    pprint(int(Color.RED))  # 1"
   ]
  },
  {
   "cell_type": "code",
   "execution_count": 25,
   "metadata": {},
   "outputs": [],
   "source": [
    "from enum import IntEnum, auto"
   ]
  },
  {
   "cell_type": "code",
   "execution_count": 26,
   "metadata": {},
   "outputs": [],
   "source": [
    "class Color(IntEnum):\n",
    "    RED = auto()\n",
    "    GREEN = auto()\n",
    "    BLUE = auto()"
   ]
  },
  {
   "cell_type": "code",
   "execution_count": 27,
   "metadata": {},
   "outputs": [
    {
     "name": "stdout",
     "output_type": "stream",
     "text": [
      "1\n",
      "2\n",
      "3\n"
     ]
    }
   ],
   "source": [
    "if __name__ == '__main__':\n",
    "    pprint(int(Color.RED))  # 1\n",
    "    pprint(int(Color.GREEN))  # 2\n",
    "    pprint(int(Color.BLUE))  # 3"
   ]
  },
  {
   "cell_type": "code",
   "execution_count": 28,
   "metadata": {},
   "outputs": [],
   "source": [
    "from enum import Flag, auto"
   ]
  },
  {
   "cell_type": "code",
   "execution_count": 29,
   "metadata": {},
   "outputs": [],
   "source": [
    "class Color(Flag):\n",
    "    RED = auto()\n",
    "    GREEN = auto()\n",
    "    BLUE = auto()\n",
    "    PURPLE = RED | BLUE\n",
    "    WHITE = RED | GREEN | BLUE"
   ]
  },
  {
   "cell_type": "code",
   "execution_count": 30,
   "metadata": {},
   "outputs": [],
   "source": [
    "def print_color(color):\n",
    "    if color == Color.RED:\n",
    "        pprint('Color is red')\n",
    "    elif color == Color.GREEN:\n",
    "        pprint('Color is green')\n",
    "    elif color == Color.BLUE:\n",
    "        pprint('Color is blue')\n",
    "    elif color == Color.PURPLE:\n",
    "        pprint('Color is purple')\n",
    "    elif color == Color.WHITE:\n",
    "        pprint('Color is white')\n",
    "    else:\n",
    "        pprint('not defined')"
   ]
  },
  {
   "cell_type": "code",
   "execution_count": 31,
   "metadata": {},
   "outputs": [
    {
     "name": "stdout",
     "output_type": "stream",
     "text": [
      "'Color is blue'\n",
      "'Color is purple'\n",
      "'Color is purple'\n",
      "'not defined'\n",
      "'Color is white'\n",
      "'Color is white'\n"
     ]
    }
   ],
   "source": [
    "if __name__ == '__main__':\n",
    "    print_color(Color.BLUE)  # Color is blue\n",
    "    print_color(Color.PURPLE)  # Color is purple\n",
    "    print_color(Color.RED | Color.BLUE)  # Color is purple\n",
    "    print_color(Color.RED | Color.GREEN)  # not defined\n",
    "    print_color(Color.WHITE)  # Color is white\n",
    "    print_color(Color.RED | Color.GREEN | Color.BLUE)  # Color is white"
   ]
  },
  {
   "cell_type": "code",
   "execution_count": 32,
   "metadata": {},
   "outputs": [],
   "source": [
    "from enum import IntFlag, auto"
   ]
  },
  {
   "cell_type": "code",
   "execution_count": 33,
   "metadata": {},
   "outputs": [],
   "source": [
    "class Color(IntFlag):\n",
    "    RED = auto()\n",
    "    GREEN = auto()\n",
    "    BLUE = auto()\n",
    "    PURPLE = RED | BLUE\n",
    "    WHITE = RED | GREEN | BLUE"
   ]
  },
  {
   "cell_type": "code",
   "execution_count": 34,
   "metadata": {},
   "outputs": [
    {
     "name": "stdout",
     "output_type": "stream",
     "text": [
      "1\n",
      "2\n",
      "4\n",
      "5\n",
      "7\n"
     ]
    }
   ],
   "source": [
    "if __name__ == '__main__':\n",
    "    pprint(int(Color.RED))     # 1   ※２進数だと   1\n",
    "    pprint(int(Color.GREEN))   # 2   ※２進数だと  10\n",
    "    pprint(int(Color.BLUE))    # 4   ※２進数だと 100\n",
    "    pprint(int(Color.PURPLE))  # 5   ※２進数だと 101\n",
    "    pprint(int(Color.WHITE))   # 7   ※２進数だと 111"
   ]
  },
  {
   "cell_type": "markdown",
   "metadata": {},
   "source": [
    "### Pythonで、`enum`を使うとき\n",
    "**システマチックなステータス状態管理などに、よく使えそう...**  "
   ]
  },
  {
   "cell_type": "code",
   "execution_count": 47,
   "metadata": {},
   "outputs": [
    {
     "name": "stdout",
     "output_type": "stream",
     "text": [
      "Status.ACTIVE\n",
      "<Status.ACTIVE: 1>\n",
      "ACTIVE\n",
      "1\n"
     ]
    }
   ],
   "source": [
    "from enum import Enum\n",
    "\n",
    "class Status(Enum):\n",
    "    ACTIVE = 1\n",
    "    INACTIVE = 2\n",
    "    RUNNING = 3\n",
    "\n",
    "print(Status.ACTIVE)\n",
    "print(repr(Status.ACTIVE))\n",
    "print(Status.ACTIVE.name)\n",
    "print(Status.ACTIVE.value)"
   ]
  },
  {
   "cell_type": "code",
   "execution_count": 48,
   "metadata": {},
   "outputs": [
    {
     "data": {
      "text/plain": [
       "<Status.ACTIVE: 1>"
      ]
     },
     "execution_count": 48,
     "metadata": {},
     "output_type": "execute_result"
    }
   ],
   "source": [
    "Status.ACTIVE"
   ]
  },
  {
   "cell_type": "code",
   "execution_count": 50,
   "metadata": {},
   "outputs": [
    {
     "name": "stdout",
     "output_type": "stream",
     "text": [
      "Status.ACTIVE\n",
      "Status.INACTIVE\n",
      "Status.RUNNING\n"
     ]
    }
   ],
   "source": [
    "for s in Status:\n",
    "    print(s)"
   ]
  },
  {
   "cell_type": "code",
   "execution_count": 51,
   "metadata": {},
   "outputs": [
    {
     "ename": "TypeError",
     "evalue": "Attempted to reuse key: 'ACTIVE'",
     "output_type": "error",
     "traceback": [
      "\u001b[0;31m---------------------------------------------------------------------------\u001b[0m",
      "\u001b[0;31mTypeError\u001b[0m                                 Traceback (most recent call last)",
      "\u001b[0;32m<ipython-input-51-6097b6c4f868>\u001b[0m in \u001b[0;36m<module>\u001b[0;34m\u001b[0m\n\u001b[1;32m      1\u001b[0m \u001b[0;32mfrom\u001b[0m \u001b[0menum\u001b[0m \u001b[0;32mimport\u001b[0m \u001b[0mEnum\u001b[0m\u001b[0;34m\u001b[0m\u001b[0;34m\u001b[0m\u001b[0m\n\u001b[1;32m      2\u001b[0m \u001b[0;34m\u001b[0m\u001b[0m\n\u001b[0;32m----> 3\u001b[0;31m \u001b[0;32mclass\u001b[0m \u001b[0mStatus\u001b[0m\u001b[0;34m(\u001b[0m\u001b[0mEnum\u001b[0m\u001b[0;34m)\u001b[0m\u001b[0;34m:\u001b[0m\u001b[0;34m\u001b[0m\u001b[0;34m\u001b[0m\u001b[0m\n\u001b[0m\u001b[1;32m      4\u001b[0m     \u001b[0mACTIVE\u001b[0m \u001b[0;34m=\u001b[0m \u001b[0;36m1\u001b[0m\u001b[0;34m\u001b[0m\u001b[0;34m\u001b[0m\u001b[0m\n\u001b[1;32m      5\u001b[0m     \u001b[0mACTIVE\u001b[0m \u001b[0;34m=\u001b[0m \u001b[0;36m2\u001b[0m \u001b[0;31m#列挙型定数の名前が同じなので、エラーが起こる\u001b[0m\u001b[0;34m\u001b[0m\u001b[0;34m\u001b[0m\u001b[0m\n",
      "\u001b[0;32m<ipython-input-51-6097b6c4f868>\u001b[0m in \u001b[0;36mStatus\u001b[0;34m()\u001b[0m\n\u001b[1;32m      3\u001b[0m \u001b[0;32mclass\u001b[0m \u001b[0mStatus\u001b[0m\u001b[0;34m(\u001b[0m\u001b[0mEnum\u001b[0m\u001b[0;34m)\u001b[0m\u001b[0;34m:\u001b[0m\u001b[0;34m\u001b[0m\u001b[0;34m\u001b[0m\u001b[0m\n\u001b[1;32m      4\u001b[0m     \u001b[0mACTIVE\u001b[0m \u001b[0;34m=\u001b[0m \u001b[0;36m1\u001b[0m\u001b[0;34m\u001b[0m\u001b[0;34m\u001b[0m\u001b[0m\n\u001b[0;32m----> 5\u001b[0;31m     \u001b[0mACTIVE\u001b[0m \u001b[0;34m=\u001b[0m \u001b[0;36m2\u001b[0m \u001b[0;31m#列挙型定数の名前が同じなので、エラーが起こる\u001b[0m\u001b[0;34m\u001b[0m\u001b[0;34m\u001b[0m\u001b[0m\n\u001b[0m\u001b[1;32m      6\u001b[0m \u001b[0;34m\u001b[0m\u001b[0m\n\u001b[1;32m      7\u001b[0m \u001b[0mprint\u001b[0m\u001b[0;34m(\u001b[0m\u001b[0mStatus\u001b[0m\u001b[0;34m.\u001b[0m\u001b[0mACTIVE\u001b[0m\u001b[0;34m)\u001b[0m\u001b[0;34m\u001b[0m\u001b[0;34m\u001b[0m\u001b[0m\n",
      "\u001b[0;32m~/.pyenv/versions/3.7.4/lib/python3.7/enum.py\u001b[0m in \u001b[0;36m__setitem__\u001b[0;34m(self, key, value)\u001b[0m\n\u001b[1;32m     99\u001b[0m         \u001b[0;32melif\u001b[0m \u001b[0mkey\u001b[0m \u001b[0;32min\u001b[0m \u001b[0mself\u001b[0m\u001b[0;34m.\u001b[0m\u001b[0m_member_names\u001b[0m\u001b[0;34m:\u001b[0m\u001b[0;34m\u001b[0m\u001b[0;34m\u001b[0m\u001b[0m\n\u001b[1;32m    100\u001b[0m             \u001b[0;31m# descriptor overwriting an enum?\u001b[0m\u001b[0;34m\u001b[0m\u001b[0;34m\u001b[0m\u001b[0;34m\u001b[0m\u001b[0m\n\u001b[0;32m--> 101\u001b[0;31m             \u001b[0;32mraise\u001b[0m \u001b[0mTypeError\u001b[0m\u001b[0;34m(\u001b[0m\u001b[0;34m'Attempted to reuse key: %r'\u001b[0m \u001b[0;34m%\u001b[0m \u001b[0mkey\u001b[0m\u001b[0;34m)\u001b[0m\u001b[0;34m\u001b[0m\u001b[0;34m\u001b[0m\u001b[0m\n\u001b[0m\u001b[1;32m    102\u001b[0m         \u001b[0;32melif\u001b[0m \u001b[0mkey\u001b[0m \u001b[0;32min\u001b[0m \u001b[0mself\u001b[0m\u001b[0;34m.\u001b[0m\u001b[0m_ignore\u001b[0m\u001b[0;34m:\u001b[0m\u001b[0;34m\u001b[0m\u001b[0;34m\u001b[0m\u001b[0m\n\u001b[1;32m    103\u001b[0m             \u001b[0;32mpass\u001b[0m\u001b[0;34m\u001b[0m\u001b[0;34m\u001b[0m\u001b[0m\n",
      "\u001b[0;31mTypeError\u001b[0m: Attempted to reuse key: 'ACTIVE'"
     ]
    }
   ],
   "source": [
    "from enum import Enum\n",
    "\n",
    "class Status(Enum):\n",
    "    ACTIVE = 1\n",
    "    ACTIVE = 2 #列挙型定数の名前が同じなので、エラーが起こる\n",
    "\n",
    "print(Status.ACTIVE)"
   ]
  }
 ],
 "metadata": {
  "kernelspec": {
   "display_name": "Python 3",
   "language": "python",
   "name": "python3"
  },
  "language_info": {
   "codemirror_mode": {
    "name": "ipython",
    "version": 3
   },
   "file_extension": ".py",
   "mimetype": "text/x-python",
   "name": "python",
   "nbconvert_exporter": "python",
   "pygments_lexer": "ipython3",
   "version": "3.7.4"
  }
 },
 "nbformat": 4,
 "nbformat_minor": 4
}
