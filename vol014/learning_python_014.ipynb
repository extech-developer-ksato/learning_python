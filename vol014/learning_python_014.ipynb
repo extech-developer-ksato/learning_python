{
 "cells": [
  {
   "cell_type": "markdown",
   "metadata": {},
   "source": [
    "## `struct --- バイナリデータとして解釈させる標準モジュール`\n",
    "このモジュールは、 Python の値と Python bytes オブジェクトとして表される C の構造体データとの間の変換を実現します。  \n",
    "このモジュールは特に、ファイルに保存されたり、ネットワーク接続を経由したバイナリデータを扱うときに使われます。  \n",
    "このモジュールでは、C 構造体のレイアウトおよび Python の値との間で、行いたい変換をコンパクトに表現するために文字列を扱います。"
   ]
  },
  {
   "cell_type": "markdown",
   "metadata": {},
   "source": [
    "**バイナリデータ**は、コンピュータが直接読解できるデータの形になります。  \n",
    "  \n",
    "### なぜ、わざわざバイナリデータ化したり、しかもC言語な構造化をベースにするのか？\n",
    "**[Pythonプログラムが遅い！高速化したい！そんな時は...](https://qiita.com/sotasato/items/cc36a532ba6487dd3dba)**  \n",
    "  \n",
    "結構、データやアプリケーションが大きくなってくると、バイナリデータで扱ったりしたくなってきます。  \n",
    "※コンピュータが直接読解できるということは、速く処理できる  "
   ]
  },
  {
   "cell_type": "markdown",
   "metadata": {},
   "source": [
    "ネイティブ(手元の環境)のバイトオーダはビッグエンディアンかリトルエンディアンで、ホスト計算機に依存します。  \n",
    "例えば、Intel x86 および AMD64 (x86-64) はリトルエンディアンです。  \n",
    "Motorola 68000 および PowerPC G5 はビッグエンディアンです。  \n",
    "ARM および Intel Itanium は[エンディアン](https://ja.wikipedia.org/wiki/%E3%82%A8%E3%83%B3%E3%83%87%E3%82%A3%E3%82%A2%E3%83%B3)を切り替えられる機能を備えています (バイエンディアン)。  "
   ]
  },
  {
   "cell_type": "markdown",
   "metadata": {},
   "source": [
    "エンディアンは `sys.byteorder` を使って調べられます。"
   ]
  },
  {
   "cell_type": "code",
   "execution_count": 15,
   "metadata": {},
   "outputs": [],
   "source": [
    "import sys"
   ]
  },
  {
   "cell_type": "code",
   "execution_count": 16,
   "metadata": {},
   "outputs": [
    {
     "name": "stdout",
     "output_type": "stream",
     "text": [
      "little\n"
     ]
    }
   ],
   "source": [
    "print(sys.byteorder)"
   ]
  },
  {
   "cell_type": "markdown",
   "metadata": {},
   "source": [
    "|記号 |C|Python|\n",
    "| :---: | :---: | :---: |\n",
    "|x |パディングバイト|値なし|\n",
    "|c |char |長さ 1 のバイト列|\n",
    "|b|signed char|整数|\n",
    "|B|unsigned char|整数|\n",
    "|?|Bool|真偽値型(bool)|\n",
    "|h|short|整数|\n",
    "|H|unsigned short|整数|\n",
    "|i|int|整数|\n",
    "|I|unsigned int|整数|\n",
    "|l|long|整数|\n",
    "|L|unsigned long|整数|\n",
    "|q|long long|整数|\n",
    "|Q|unsigned long long|整数|\n",
    "|n|ssize_t|整数|\n",
    "|N|size_t|整数|\n",
    "|f|float|浮動小数点数|\n",
    "|d|double|浮動小数点数|\n",
    "|s|char[]|bytes|\n",
    "|p|char[]|bytes|"
   ]
  },
  {
   "cell_type": "markdown",
   "metadata": {},
   "source": [
    "**バイナリを読んでいるとどうしてもパティング（アライメント合わせのためのゴミ領域）が出てきます。**  \n",
    "**xフォーマットを使用すると、データを読み飛ばしてくれるので便利です。**  "
   ]
  },
  {
   "cell_type": "code",
   "execution_count": 12,
   "metadata": {},
   "outputs": [],
   "source": [
    "from struct import *\n",
    "import struct"
   ]
  },
  {
   "cell_type": "code",
   "execution_count": 13,
   "metadata": {},
   "outputs": [],
   "source": [
    "data = b'd\\x00\\xb0\\x04'\n",
    "\n",
    "# NG\n",
    "kind, _, value = struct.unpack(\"BBH\", data)\n",
    "\n",
    "# Yes!\n",
    "kind, value = struct.unpack(\"BxH\", data)"
   ]
  },
  {
   "cell_type": "code",
   "execution_count": 14,
   "metadata": {},
   "outputs": [
    {
     "data": {
      "text/plain": [
       "(100, 0, 1200)"
      ]
     },
     "execution_count": 14,
     "metadata": {},
     "output_type": "execute_result"
    }
   ],
   "source": [
    "kind, _, value "
   ]
  },
  {
   "cell_type": "code",
   "execution_count": 15,
   "metadata": {},
   "outputs": [
    {
     "data": {
      "text/plain": [
       "(100, 1200)"
      ]
     },
     "execution_count": 15,
     "metadata": {},
     "output_type": "execute_result"
    }
   ],
   "source": [
    "kind, value"
   ]
  },
  {
   "cell_type": "markdown",
   "metadata": {},
   "source": [
    "**サンプルイメージをバイナリで、読み込んでみる**"
   ]
  },
  {
   "cell_type": "code",
   "execution_count": 16,
   "metadata": {},
   "outputs": [
    {
     "data": {
      "text/plain": [
       "(13, b'IHDR', 886, 886, 8, 6)"
      ]
     },
     "execution_count": 16,
     "metadata": {},
     "output_type": "execute_result"
    }
   ],
   "source": [
    "png_data = open(\"sample.png\", \"rb\").read()\n",
    "struct.unpack_from(\">I4sIIBB\", png_data, 8)"
   ]
  },
  {
   "cell_type": "code",
   "execution_count": 19,
   "metadata": {},
   "outputs": [],
   "source": [
    "#png_data"
   ]
  },
  {
   "cell_type": "code",
   "execution_count": 20,
   "metadata": {},
   "outputs": [],
   "source": [
    "from PIL import Image\n",
    "import numpy as np"
   ]
  },
  {
   "cell_type": "code",
   "execution_count": 21,
   "metadata": {},
   "outputs": [],
   "source": [
    "im = np.array(Image.open(\"sample.png\"))"
   ]
  },
  {
   "cell_type": "code",
   "execution_count": 22,
   "metadata": {},
   "outputs": [],
   "source": [
    "import matplotlib.pyplot as plt"
   ]
  },
  {
   "cell_type": "code",
   "execution_count": 23,
   "metadata": {},
   "outputs": [
    {
     "data": {
      "image/png": "[encoded data removed]",
      "text/plain": [
       "<Figure size 576x432 with 1 Axes>"
      ]
     },
     "metadata": {
      "needs_background": "light"
     },
     "output_type": "display_data"
    }
   ],
   "source": [
    "fig = plt.figure(figsize=(8,6))\n",
    "plt.imshow(im)\n",
    "plt.show()"
   ]
  },
  {
   "cell_type": "code",
   "execution_count": 2,
   "metadata": {},
   "outputs": [
    {
     "data": {
      "text/plain": [
       "b'\\x01\\x00\\x02\\x00\\x00\\x00\\x00\\x00\\x03\\x00\\x00\\x00\\x00\\x00\\x00\\x00'"
      ]
     },
     "execution_count": 2,
     "metadata": {},
     "output_type": "execute_result"
    }
   ],
   "source": [
    "pack('hhl', 1, 2, 3)"
   ]
  },
  {
   "cell_type": "code",
   "execution_count": 4,
   "metadata": {},
   "outputs": [
    {
     "data": {
      "text/plain": [
       "(1, 2, 3)"
      ]
     },
     "execution_count": 4,
     "metadata": {},
     "output_type": "execute_result"
    }
   ],
   "source": [
    "unpack('hhl', b'\\x01\\x00\\x02\\x00\\x00\\x00\\x00\\x00\\x03\\x00\\x00\\x00\\x00\\x00\\x00\\x00')"
   ]
  },
  {
   "cell_type": "code",
   "execution_count": 5,
   "metadata": {},
   "outputs": [
    {
     "data": {
      "text/plain": [
       "16"
      ]
     },
     "execution_count": 5,
     "metadata": {},
     "output_type": "execute_result"
    }
   ],
   "source": [
    "calcsize('hhl')"
   ]
  },
  {
   "cell_type": "code",
   "execution_count": 6,
   "metadata": {},
   "outputs": [],
   "source": [
    "record = b'raymond   \\x32\\x12\\x08\\x01\\x08'"
   ]
  },
  {
   "cell_type": "code",
   "execution_count": 7,
   "metadata": {},
   "outputs": [],
   "source": [
    "name, serialnum, school, gradelevel = unpack('<10sHHb', record)"
   ]
  },
  {
   "cell_type": "markdown",
   "metadata": {},
   "source": [
    "**アンパックした結果のフィールドは、変数に割り当てるか `namedtuple`でラップすることによって名前を付けることができます**"
   ]
  },
  {
   "cell_type": "code",
   "execution_count": 8,
   "metadata": {},
   "outputs": [],
   "source": [
    "from collections import namedtuple"
   ]
  },
  {
   "cell_type": "code",
   "execution_count": 9,
   "metadata": {},
   "outputs": [],
   "source": [
    "Student = namedtuple('Student', 'name serialnum school gradelevel')"
   ]
  },
  {
   "cell_type": "code",
   "execution_count": 10,
   "metadata": {},
   "outputs": [
    {
     "data": {
      "text/plain": [
       "Student(name=b'raymond   ', serialnum=4658, school=264, gradelevel=8)"
      ]
     },
     "execution_count": 10,
     "metadata": {},
     "output_type": "execute_result"
    }
   ],
   "source": [
    "Student._make(unpack('<10sHHb', record))"
   ]
  },
  {
   "cell_type": "code",
   "execution_count": 11,
   "metadata": {},
   "outputs": [
    {
     "data": {
      "text/plain": [
       "b'*\\x00\\x00\\x00\\x15\\x14\\x13\\x12'"
      ]
     },
     "execution_count": 11,
     "metadata": {},
     "output_type": "execute_result"
    }
   ],
   "source": [
    "pack('ci', b'*', 0x12131415)"
   ]
  },
  {
   "cell_type": "code",
   "execution_count": 12,
   "metadata": {},
   "outputs": [
    {
     "data": {
      "text/plain": [
       "b'\\x15\\x14\\x13\\x12*'"
      ]
     },
     "execution_count": 12,
     "metadata": {},
     "output_type": "execute_result"
    }
   ],
   "source": [
    "pack('ic', 0x12131415, b'*')"
   ]
  },
  {
   "cell_type": "code",
   "execution_count": 13,
   "metadata": {},
   "outputs": [
    {
     "data": {
      "text/plain": [
       "8"
      ]
     },
     "execution_count": 13,
     "metadata": {},
     "output_type": "execute_result"
    }
   ],
   "source": [
    "calcsize('ci')"
   ]
  },
  {
   "cell_type": "code",
   "execution_count": 14,
   "metadata": {},
   "outputs": [
    {
     "data": {
      "text/plain": [
       "5"
      ]
     },
     "execution_count": 14,
     "metadata": {},
     "output_type": "execute_result"
    }
   ],
   "source": [
    "calcsize('ic')"
   ]
  },
  {
   "cell_type": "markdown",
   "metadata": {},
   "source": [
    "## `codecs --- codec レジストリと基底クラス`\n",
    "**codec (エンコーダとデコーダ) 用の基底クラスを定義しています**  \n",
    "**[codec: コーデック](https://ja.wikipedia.org/wiki/%E3%82%B3%E3%83%BC%E3%83%87%E3%83%83%E3%82%AF#:~:text=%E3%82%B3%E3%83%BC%E3%83%87%E3%83%83%E3%82%AF%20(Codec)%20%E3%81%AF%E3%80%81%E7%AC%A6%E5%8F%B7,%E3%82%82%E4%BD%BF%E3%82%8F%E3%82%8C%E3%81%A6%E3%81%84%E3%82%8B%E3%80%82)**  \n",
    "日本語を扱うPythonのスクリプトの中では、UTF-8の文字コードを使うのが楽です。  \n",
    "以前、文字コードに触れることがありましたが、例えばPythonスクリプトを書いていく上では、  \n",
    "  \n",
    "**文字コードの宣言**が必要だったりします。\n",
    "そもそもPythonが書かれたテキストファイルがどの文字コードを利用しているかということを正しく認識される必要があります。  \n",
    "そのため、ASCII以外を使う場合は「この文字コードを使います」とファイルの先頭で宣言をするのが通例となっています。"
   ]
  },
  {
   "cell_type": "code",
   "execution_count": 1,
   "metadata": {},
   "outputs": [
    {
     "name": "stdout",
     "output_type": "stream",
     "text": [
      "hello python\n",
      "あいうえお python\n"
     ]
    }
   ],
   "source": [
    "# coding: utf-8 \n",
    "\n",
    "print('hello python')\n",
    "print('あいうえお python')"
   ]
  },
  {
   "cell_type": "code",
   "execution_count": 2,
   "metadata": {},
   "outputs": [
    {
     "name": "stdout",
     "output_type": "stream",
     "text": [
      "hello python\n",
      "あいうえお python\n"
     ]
    }
   ],
   "source": [
    "# coding: shift-jis\n",
    "\n",
    "print('hello python')\n",
    "print('あいうえお python')"
   ]
  },
  {
   "cell_type": "markdown",
   "metadata": {},
   "source": [
    "### 一応、jupyter notebook上では、`utf-8`も`shift-jis`も両方使えます\n",
    "が、.pyでCUIベースでプログラムを作成してみると...  \n",
    "  \n",
    "**<codec_test1.py>**  \n",
    "```\n",
    "# coding: utf-8 \n",
    "\n",
    "print('hello python')\n",
    "print('あいうえお python')\n",
    "```\n",
    "\n",
    "**<codec_test2.py>**  \n",
    "```\n",
    "# coding: shift-jis\n",
    "\n",
    "print('hello python')\n",
    "print('あいうえお python')\n",
    "```\n",
    "  \n",
    "**`codec_test2.py` の方は、下記のシンタックスエラーが発生します。**  \n",
    "```\n",
    "File \"codec_test2.py\", line 1\n",
    "SyntaxError: encoding problem: shift-jis\n",
    "```\n",
    "  \n",
    "「`shift-jis` の`Codec`をデコードできないよ。」と怒られてしまいます。  \n",
    "このように文字コードAを文字コードBとして読み込もうとするとトラブルが発生してしまいます。  \n",
    "場合によっては文字化け(windowsOS特有の、`cp932`文字コードなどなど)だったりします。"
   ]
  },
  {
   "cell_type": "markdown",
   "metadata": {},
   "source": [
    "### 代表的なコーデック\n",
    "|Codec|別名|言語|\n",
    "| :---: | :---: | :---: |\n",
    "|ascii |646, us-ascii |英語|\n",
    "|big5|big5-tw, csbig5|繁体字中国語|\n",
    "|big5hkscs|big5-hkscs, hkscs|繁体字中国語|\n",
    "|cp037|IBM037, IBM039|英語|\n",
    "|cp273|273, IBM273, csIBM273|ドイツ語|\n",
    "|cp437|437, IBM437|英語|\n",
    "|cp866|866, IBM866|ロシア語|\n",
    "|cp932|932, ms932, mskanji, ms-kanji|日本語|\n",
    "|cp949|949, ms949, uhc|韓国語|\n",
    "|cp950|950, ms950|繁体字中国語|\n",
    "|euc_jp|eucjp, ujis, u-jis|日本語|\n",
    "|euc_jis_2004|jisx0213, eucjis2004|日本語|\n",
    "|euc_jisx0213|eucjisx0213|日本語|\n",
    "|iso2022_jp_2004|iso2022jp-2004, iso-2022-jp-2004|日本語|\n",
    "|iso2022_jp_3|iso2022jp-3, iso-2022-jp-3|日本語|\n",
    "|iso2022_jp_ext|iso2022jp-ext, iso-2022-jp-ext|日本語|\n",
    "|shift_jis|csshiftjis, shiftjis, sjis, s_jis|日本語|\n",
    "|shift_jis_2004|shiftjis2004, sjis_2004, sjis2004|日本語|\n",
    "|shift_jisx0213|shiftjisx0213, sjisx0213, s_jisx0213|日本語|\n",
    "|utf_32|U32, utf32|全ての言語|\n",
    "|utf_32_be|UTF-32BE|全ての言語|\n",
    "|utf_32_le|UTF-32LE|全ての言語|\n",
    "|utf_16|U16, utf16|全ての言語|\n",
    "|utf_16_be|UTF-16BE|全ての言語|\n",
    "|utf_16_le|UTF-16LE|全ての言語|\n",
    "|utf_8|U8, UTF, utf8, cp65001|全ての言語|"
   ]
  },
  {
   "cell_type": "markdown",
   "metadata": {},
   "source": [
    "### 例えばファイルの読み書きの際、ファイルの文字コードがバラバラな場合に、`codecs`を使う\n",
    "**`codecs.open()`**: ファイルを開いてファイルオブジェクトを取得  \n",
    "**`target_file.write()`**: ファイルに書き込む  \n",
    "**`target_file.close()`**: ファイルを閉じる  "
   ]
  },
  {
   "cell_type": "code",
   "execution_count": 1,
   "metadata": {},
   "outputs": [],
   "source": [
    "import codecs"
   ]
  },
  {
   "cell_type": "code",
   "execution_count": 2,
   "metadata": {},
   "outputs": [],
   "source": [
    "text = 'あいうえお'"
   ]
  },
  {
   "cell_type": "code",
   "execution_count": 3,
   "metadata": {},
   "outputs": [],
   "source": [
    "# 文字コードを、utf_8で保存\n",
    "target_file = codecs.open('codecs_text1.txt', \"a\", \"utf_8\")\n",
    "# ファイルに記載する\n",
    "target_file.write(text)\n",
    "# ファイルを閉じる\n",
    "target_file.close()"
   ]
  },
  {
   "cell_type": "code",
   "execution_count": 4,
   "metadata": {},
   "outputs": [],
   "source": [
    "# 文字コードを、shift-jisで保存\n",
    "target_file = codecs.open('codecs_text2.txt', \"a\", \"shift-jis\")\n",
    "# ファイルに記載する\n",
    "target_file.write(text)\n",
    "# ファイルを閉じる\n",
    "target_file.close()"
   ]
  },
  {
   "cell_type": "markdown",
   "metadata": {},
   "source": [
    "**`codecs.open()`**: ファイルを開いてファイルオブジェクトを取得  \n",
    "**`target_file.read()`**: ファイルからデータを読み込む  \n",
    "**`target_file.close()`**: ファイルを閉じる  "
   ]
  },
  {
   "cell_type": "code",
   "execution_count": 5,
   "metadata": {},
   "outputs": [],
   "source": [
    "# utf-8 でファイルを開く\n",
    "target_file = codecs.open('codecs_text1.txt', \"r\", \"utf_8\")\n",
    "# ファイルを読み込む\n",
    "text = target_file.read()\n",
    "# ファイルを閉じる\n",
    "target_file.close()"
   ]
  },
  {
   "cell_type": "code",
   "execution_count": 6,
   "metadata": {},
   "outputs": [
    {
     "data": {
      "text/plain": [
       "'あいうえお'"
      ]
     },
     "execution_count": 6,
     "metadata": {},
     "output_type": "execute_result"
    }
   ],
   "source": [
    "text"
   ]
  },
  {
   "cell_type": "code",
   "execution_count": 7,
   "metadata": {},
   "outputs": [],
   "source": [
    "# shift-jis でファイルを開く\n",
    "target_file = codecs.open('codecs_text2.txt', \"r\", \"shift-jis\")\n",
    "# ファイルを読み込む\n",
    "text = target_file.read()\n",
    "# ファイルを閉じる\n",
    "target_file.close()"
   ]
  },
  {
   "cell_type": "code",
   "execution_count": 8,
   "metadata": {},
   "outputs": [
    {
     "data": {
      "text/plain": [
       "'あいうえお'"
      ]
     },
     "execution_count": 8,
     "metadata": {},
     "output_type": "execute_result"
    }
   ],
   "source": [
    "text"
   ]
  },
  {
   "cell_type": "markdown",
   "metadata": {},
   "source": [
    "**`shift-jis`なファイルを、`utf8`で開こうとすると...**"
   ]
  },
  {
   "cell_type": "code",
   "execution_count": 9,
   "metadata": {},
   "outputs": [
    {
     "ename": "UnicodeDecodeError",
     "evalue": "'utf-8' codec can't decode byte 0x82 in position 0: invalid start byte",
     "output_type": "error",
     "traceback": [
      "\u001b[0;31m---------------------------------------------------------------------------\u001b[0m",
      "\u001b[0;31mUnicodeDecodeError\u001b[0m                        Traceback (most recent call last)",
      "\u001b[0;32m<ipython-input-9-064ce98f7067>\u001b[0m in \u001b[0;36m<module>\u001b[0;34m\u001b[0m\n\u001b[1;32m      2\u001b[0m \u001b[0mtarget_file\u001b[0m \u001b[0;34m=\u001b[0m \u001b[0mcodecs\u001b[0m\u001b[0;34m.\u001b[0m\u001b[0mopen\u001b[0m\u001b[0;34m(\u001b[0m\u001b[0;34m'codecs_text2.txt'\u001b[0m\u001b[0;34m,\u001b[0m \u001b[0;34m\"r\"\u001b[0m\u001b[0;34m,\u001b[0m \u001b[0;34m\"utf_8\"\u001b[0m\u001b[0;34m)\u001b[0m\u001b[0;34m\u001b[0m\u001b[0m\n\u001b[1;32m      3\u001b[0m \u001b[0;31m# ファイルを読み込む\u001b[0m\u001b[0;34m\u001b[0m\u001b[0;34m\u001b[0m\u001b[0m\n\u001b[0;32m----> 4\u001b[0;31m \u001b[0mtext\u001b[0m \u001b[0;34m=\u001b[0m \u001b[0mtarget_file\u001b[0m\u001b[0;34m.\u001b[0m\u001b[0mread\u001b[0m\u001b[0;34m(\u001b[0m\u001b[0;34m)\u001b[0m\u001b[0;34m\u001b[0m\u001b[0m\n\u001b[0m\u001b[1;32m      5\u001b[0m \u001b[0;31m# ファイルを閉じる\u001b[0m\u001b[0;34m\u001b[0m\u001b[0;34m\u001b[0m\u001b[0m\n\u001b[1;32m      6\u001b[0m \u001b[0mtarget_file\u001b[0m\u001b[0;34m.\u001b[0m\u001b[0mclose\u001b[0m\u001b[0;34m(\u001b[0m\u001b[0;34m)\u001b[0m\u001b[0;34m\u001b[0m\u001b[0m\n",
      "\u001b[0;32m~/.pyenv/versions/3.6.5/lib/python3.6/codecs.py\u001b[0m in \u001b[0;36mread\u001b[0;34m(self, size)\u001b[0m\n\u001b[1;32m    698\u001b[0m     \u001b[0;32mdef\u001b[0m \u001b[0mread\u001b[0m\u001b[0;34m(\u001b[0m\u001b[0mself\u001b[0m\u001b[0;34m,\u001b[0m \u001b[0msize\u001b[0m\u001b[0;34m=\u001b[0m\u001b[0;34m-\u001b[0m\u001b[0;36m1\u001b[0m\u001b[0;34m)\u001b[0m\u001b[0;34m:\u001b[0m\u001b[0;34m\u001b[0m\u001b[0m\n\u001b[1;32m    699\u001b[0m \u001b[0;34m\u001b[0m\u001b[0m\n\u001b[0;32m--> 700\u001b[0;31m         \u001b[0;32mreturn\u001b[0m \u001b[0mself\u001b[0m\u001b[0;34m.\u001b[0m\u001b[0mreader\u001b[0m\u001b[0;34m.\u001b[0m\u001b[0mread\u001b[0m\u001b[0;34m(\u001b[0m\u001b[0msize\u001b[0m\u001b[0;34m)\u001b[0m\u001b[0;34m\u001b[0m\u001b[0m\n\u001b[0m\u001b[1;32m    701\u001b[0m \u001b[0;34m\u001b[0m\u001b[0m\n\u001b[1;32m    702\u001b[0m     \u001b[0;32mdef\u001b[0m \u001b[0mreadline\u001b[0m\u001b[0;34m(\u001b[0m\u001b[0mself\u001b[0m\u001b[0;34m,\u001b[0m \u001b[0msize\u001b[0m\u001b[0;34m=\u001b[0m\u001b[0;32mNone\u001b[0m\u001b[0;34m)\u001b[0m\u001b[0;34m:\u001b[0m\u001b[0;34m\u001b[0m\u001b[0m\n",
      "\u001b[0;32m~/.pyenv/versions/3.6.5/lib/python3.6/codecs.py\u001b[0m in \u001b[0;36mread\u001b[0;34m(self, size, chars, firstline)\u001b[0m\n\u001b[1;32m    501\u001b[0m                 \u001b[0;32mbreak\u001b[0m\u001b[0;34m\u001b[0m\u001b[0m\n\u001b[1;32m    502\u001b[0m             \u001b[0;32mtry\u001b[0m\u001b[0;34m:\u001b[0m\u001b[0;34m\u001b[0m\u001b[0m\n\u001b[0;32m--> 503\u001b[0;31m                 \u001b[0mnewchars\u001b[0m\u001b[0;34m,\u001b[0m \u001b[0mdecodedbytes\u001b[0m \u001b[0;34m=\u001b[0m \u001b[0mself\u001b[0m\u001b[0;34m.\u001b[0m\u001b[0mdecode\u001b[0m\u001b[0;34m(\u001b[0m\u001b[0mdata\u001b[0m\u001b[0;34m,\u001b[0m \u001b[0mself\u001b[0m\u001b[0;34m.\u001b[0m\u001b[0merrors\u001b[0m\u001b[0;34m)\u001b[0m\u001b[0;34m\u001b[0m\u001b[0m\n\u001b[0m\u001b[1;32m    504\u001b[0m             \u001b[0;32mexcept\u001b[0m \u001b[0mUnicodeDecodeError\u001b[0m \u001b[0;32mas\u001b[0m \u001b[0mexc\u001b[0m\u001b[0;34m:\u001b[0m\u001b[0;34m\u001b[0m\u001b[0m\n\u001b[1;32m    505\u001b[0m                 \u001b[0;32mif\u001b[0m \u001b[0mfirstline\u001b[0m\u001b[0;34m:\u001b[0m\u001b[0;34m\u001b[0m\u001b[0m\n",
      "\u001b[0;31mUnicodeDecodeError\u001b[0m: 'utf-8' codec can't decode byte 0x82 in position 0: invalid start byte"
     ]
    }
   ],
   "source": [
    "# shift-jis でファイルを開く\n",
    "target_file = codecs.open('codecs_text2.txt', \"r\", \"utf_8\")\n",
    "# ファイルを読み込む\n",
    "text = target_file.read()\n",
    "# ファイルを閉じる\n",
    "target_file.close()"
   ]
  },
  {
   "cell_type": "markdown",
   "metadata": {},
   "source": [
    "### 結構、特に、様々な環境下(WindowsOS)、様々なファイル形式(エクセルとか)で作業していると陥るワナ\n",
    "**これでもう、一安心です。**"
   ]
  },
  {
   "cell_type": "markdown",
   "metadata": {},
   "source": [
    "## 次回は、来週水曜日、`datetime --- 基本的なdate型およびtime型`をみていきます"
   ]
  }
 ],
 "metadata": {
  "kernelspec": {
   "display_name": "Python 3",
   "language": "python",
   "name": "python3"
  },
  "language_info": {
   "codemirror_mode": {
    "name": "ipython",
    "version": 3
   },
   "file_extension": ".py",
   "mimetype": "text/x-python",
   "name": "python",
   "nbconvert_exporter": "python",
   "pygments_lexer": "ipython3",
   "version": "3.6.5"
  }
 },
 "nbformat": 4,
 "nbformat_minor": 2
}
