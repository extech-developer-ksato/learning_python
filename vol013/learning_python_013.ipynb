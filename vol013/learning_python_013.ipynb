{
 "cells": [
  {
   "cell_type": "markdown",
   "metadata": {},
   "source": [
    "## `readline --- GNU readline のインタフェース`\n",
    "**[GNU](https://ja.wikipedia.org/wiki/GNU#:~:text=GNU%EF%BC%88%E3%82%B0%E3%83%8C%E3%83%BC%E3%80%81%5B%C9%A1n,%E7%9A%84%E9%A0%AD%E5%AD%97%E8%AA%9E%E3%81%A7%E3%81%82%E3%82%8B%E3%80%82)**  \n",
    "**簡単に対話的なコマンドラインプログラムを拡張するために使用できます。**  \n",
    "**主にコマンドラインのテキスト補完、または “タブ補完” に使用されます。**\n",
    "※よくファイルの読み書きで、`readlines`がありますが、それとは別のものになります。"
   ]
  },
  {
   "cell_type": "markdown",
   "metadata": {},
   "source": [
    "### 実践的な内容から入ってしまいます。\n",
    "readline ライブラリを有効にする設定方法は、  \n",
    "設定ファイルか `parse_and_bind()` 関数を使用するかの2通りあります。  \n",
    "設定オプションは、補完処理を実行するキーバインド、編集モード(`vi` や `emacs`)、他にも多くのオプションがあります。"
   ]
  },
  {
   "cell_type": "markdown",
   "metadata": {},
   "source": [
    "タブ補完を有効にする最も簡単な方法は、 `parse_and_bind() `を呼び出すことです。  \n",
    "その他のオプションも同時に設定できます。今回は “vi” モードで変更できるように設定します。  \n",
    "カレントの入力行を編集するには、 `ESC` を押してから `j`, `k`, `l`, `h` といった通常の `vi` ナビゲーションキーを使用します。"
   ]
  },
  {
   "cell_type": "code",
   "execution_count": 1,
   "metadata": {},
   "outputs": [],
   "source": [
    "import readline"
   ]
  },
  {
   "cell_type": "code",
   "execution_count": 2,
   "metadata": {},
   "outputs": [],
   "source": [
    "readline.parse_and_bind('tab: complete')"
   ]
  },
  {
   "cell_type": "code",
   "execution_count": 3,
   "metadata": {},
   "outputs": [],
   "source": [
    "readline.parse_and_bind('set editing-mode vi')"
   ]
  },
  {
   "cell_type": "code",
   "execution_count": 6,
   "metadata": {},
   "outputs": [
    {
     "name": "stdout",
     "output_type": "stream",
     "text": [
      "Prompt (\"stop\" to quit): stop\n"
     ]
    }
   ],
   "source": [
    "while True:\n",
    "    line = input('Prompt (\"stop\" to quit): ')\n",
    "    if line == 'stop':\n",
    "        break\n",
    "    print(f'ENTERED: \"{line}\"')"
   ]
  },
  {
   "cell_type": "code",
   "execution_count": 7,
   "metadata": {},
   "outputs": [],
   "source": [
    "import logging"
   ]
  },
  {
   "cell_type": "code",
   "execution_count": 8,
   "metadata": {},
   "outputs": [],
   "source": [
    "LOG_FILENAME = 'sample.log'\n",
    "logging.basicConfig(filename=LOG_FILENAME,\n",
    "                    level=logging.DEBUG,\n",
    "                    )"
   ]
  },
  {
   "cell_type": "code",
   "execution_count": 9,
   "metadata": {},
   "outputs": [],
   "source": [
    "class SimpleCompleter(object):\n",
    "    \n",
    "    def __init__(self, options):\n",
    "        self.options = sorted(options)\n",
    "        return\n",
    "\n",
    "    def complete(self, text, state):\n",
    "        response = None\n",
    "        if state == 0:\n",
    "            # このテキストは初めてなのでマッチリストを作成する\n",
    "            if text:\n",
    "                self.matches = [s \n",
    "                                for s in self.options\n",
    "                                if s and s.startswith(text)]\n",
    "                logging.debug('%s matches: %s', repr(text), self.matches)\n",
    "            else:\n",
    "                self.matches = self.options[:]\n",
    "                logging.debug('(empty input) matches: %s', self.matches)\n",
    "        \n",
    "        # たくさんある場合、マッチリストから state 番目の値を返す\n",
    "        try:\n",
    "            response = self.matches[state]\n",
    "        except IndexError:\n",
    "            response = None\n",
    "        logging.debug('complete(%s, %s) => %s', \n",
    "                      repr(text), state, repr(response))\n",
    "        return response"
   ]
  },
  {
   "cell_type": "code",
   "execution_count": 10,
   "metadata": {},
   "outputs": [],
   "source": [
    "def input_loop():\n",
    "    line = ''\n",
    "    while line != 'stop':\n",
    "        line = input('Prompt (\"stop\" to quit): ')\n",
    "        print(f'Dispatch {line}')"
   ]
  },
  {
   "cell_type": "code",
   "execution_count": 11,
   "metadata": {},
   "outputs": [],
   "source": [
    "# 補完関数を登録する\n",
    "readline.set_completer(SimpleCompleter(['start', 'stop', 'list', 'print']).complete)"
   ]
  },
  {
   "cell_type": "code",
   "execution_count": 12,
   "metadata": {},
   "outputs": [],
   "source": [
    "# 補完に tab キーを使用する\n",
    "readline.parse_and_bind('tab: complete')"
   ]
  },
  {
   "cell_type": "code",
   "execution_count": null,
   "metadata": {},
   "outputs": [],
   "source": [
    "# ユーザへテキストを表示する\n",
    "input_loop()"
   ]
  },
  {
   "cell_type": "markdown",
   "metadata": {},
   "source": [
    "### sample2_readline.py, sample3_readline.py は別途説明します。"
   ]
  },
  {
   "cell_type": "markdown",
   "metadata": {},
   "source": [
    "### ファイルを初期化するためのメソッド群"
   ]
  },
  {
   "cell_type": "markdown",
   "metadata": {},
   "source": [
    "### `readline.parse_and_bind(string)`\n",
    "`string` 引数で渡された最初の行を実行します。これにより下層のライブラリーの `rl_parse_and_bind()` が呼ばれます。"
   ]
  },
  {
   "cell_type": "markdown",
   "metadata": {},
   "source": [
    "### `readline.read_init_file([filename])`\n",
    "`readline` 初期化ファイルを実行します。デフォルトのファイル名は最後に使用されたファイル名です。  \n",
    "これにより下層のライブラリーの `rl_read_init_file()` が呼ばれます。"
   ]
  },
  {
   "cell_type": "markdown",
   "metadata": {},
   "source": [
    "### 行のバッファ処理を行うためのメソッド群"
   ]
  },
  {
   "cell_type": "markdown",
   "metadata": {},
   "source": [
    "### `readline.get_line_buffer()`\n",
    "行バッファ (下層のライブラリーの `rl_line_buffer`) の現在の内容を返します。"
   ]
  },
  {
   "cell_type": "markdown",
   "metadata": {},
   "source": [
    "### `readline.insert_text(string)`\n",
    "テキストを行バッファに挿入します。"
   ]
  },
  {
   "cell_type": "markdown",
   "metadata": {},
   "source": [
    "### `readline.redisplay()`\n",
    "スクリーンの表示を変更して行バッファの現在の内容を反映させます。これにより下層のライブラリーの rl_redisplay() が呼ばれます。"
   ]
  },
  {
   "cell_type": "markdown",
   "metadata": {},
   "source": [
    "### 履歴の読み書きファイル"
   ]
  },
  {
   "cell_type": "markdown",
   "metadata": {},
   "source": [
    "### `readline.read_history_file([filename])`\n",
    "`readline` 履歴ファイルを読み込み、履歴リストに追加します。\n",
    "デフォルトのファイル名は `~/.history` です。これにより下層のライブラリーの `read_history()` が呼ばれます。"
   ]
  },
  {
   "cell_type": "markdown",
   "metadata": {},
   "source": [
    "### `readline.write_history_file([filename])`\n",
    "履歴リストを `readline` 履歴ファイルに保存します。既存のファイルは上書きされます。  \n",
    "デフォルトのファイル名は `~/.history` です。これにより下層のライブラリーの `write_history()` が呼ばれます。"
   ]
  },
  {
   "cell_type": "markdown",
   "metadata": {},
   "source": [
    "### `readline.get_history_length()`\n",
    "履歴ファイルに保存する必要な行数を設定または返します。"
   ]
  },
  {
   "cell_type": "markdown",
   "metadata": {},
   "source": [
    "### 履歴リスト"
   ]
  },
  {
   "cell_type": "markdown",
   "metadata": {},
   "source": [
    "### `readline.clear_history()`\n",
    "現在の履歴をクリアします。"
   ]
  },
  {
   "cell_type": "markdown",
   "metadata": {},
   "source": [
    "### `readline.get_current_history_length()`\n",
    "履歴に現在ある項目の数を返します。"
   ]
  },
  {
   "cell_type": "markdown",
   "metadata": {},
   "source": [
    "### `readline.get_history_item(index)`\n",
    "現在の履歴の `index` 番目の項目を返します。添字は1から始まります。"
   ]
  },
  {
   "cell_type": "markdown",
   "metadata": {},
   "source": [
    "## 今回は、GNUインタフェースで使える、`readline`をみていきました...！\n",
    "****"
   ]
  }
 ],
 "metadata": {
  "kernelspec": {
   "display_name": "Python 3",
   "language": "python",
   "name": "python3"
  },
  "language_info": {
   "codemirror_mode": {
    "name": "ipython",
    "version": 3
   },
   "file_extension": ".py",
   "mimetype": "text/x-python",
   "name": "python",
   "nbconvert_exporter": "python",
   "pygments_lexer": "ipython3",
   "version": "3.6.5"
  }
 },
 "nbformat": 4,
 "nbformat_minor": 2
}
