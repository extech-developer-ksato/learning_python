{
 "cells": [
  {
   "cell_type": "markdown",
   "metadata": {},
   "source": [
    "# 先週の続き、制御文から復習していきます...！\n",
    "条件分岐の`if`文とか、繰り返し処理の`for`文とか、大事です。  \n",
    "特に何をやるか目的なくやっていきますが、どこかのタイミングで目的やゴールを設定して、ツールとか何かを作成していくときに、  \n",
    "制御分は非常に重要となります。"
   ]
  },
  {
   "cell_type": "markdown",
   "metadata": {},
   "source": [
    "## クラスの話"
   ]
  },
  {
   "cell_type": "markdown",
   "metadata": {},
   "source": [
    "クラスはデータと機能を組み合わせる方法を提供します。   \n",
    "新規クラスを作成することで、新しいオブジェクトの型を作成し、その型を持つ新しいインスタンス が作れます。   \n",
    "クラスのそれぞれのインスタンスは自身の状態を保持する属性を持てます。   \n",
    "クラスのインスタンスは、その状態を変更するための (そのクラスが定義する) メソッドも持てます。\n",
    "  \n",
    "Python は、他のプログラミング言語と比較して、  \n",
    "最小限の構文と意味付けを使ってクラスをプログラミング言語に追加しています。  \n",
    "Python のクラスは、C++ と Modula-3 のクラスメカニズムを混ぜたものです。   \n",
    "  \n",
    "Python のクラスはオブジェクト指向プログラミングの標準的な機能(※どこかのタイミングでやります)を、全て提供しています。  \n",
    "クラスの継承メカニズムは、複数の基底クラスを持つことができ、派生クラスで基底クラスの任意のメソッドをオーバライドすることができます。  \n",
    "  \n",
    "メソッドでは、基底クラスのメソッドを同じ名前で呼び出すことができます。  \n",
    "オブジェクトには任意の種類と数のデータを格納することができます。  \n",
    "モジュールと同じく、クラス機構も Python の動的な性質に従うように設計されています。  \n",
    "クラスは実行時に生成され、生成後に変更することができます。  "
   ]
  },
  {
   "cell_type": "markdown",
   "metadata": {},
   "source": [
    "### 一番簡単なクラスの1例"
   ]
  },
  {
   "cell_type": "code",
   "execution_count": 2,
   "metadata": {},
   "outputs": [],
   "source": [
    "class Cat:\n",
    "    pass"
   ]
  },
  {
   "cell_type": "markdown",
   "metadata": {},
   "source": [
    "一番簡単な例は、上記のようなものでしょうか。  \n",
    "中身には、何も書かれていない`Cat`クラスが作成されていますが、  \n",
    "利用したいときは、関数を実行するときと同じように「()」を後ろにつけて実行することで、『インスタンス』を作ることができます。"
   ]
  },
  {
   "cell_type": "code",
   "execution_count": 3,
   "metadata": {},
   "outputs": [
    {
     "data": {
      "text/plain": [
       "<__main__.Cat at 0x103745c18>"
      ]
     },
     "execution_count": 3,
     "metadata": {},
     "output_type": "execute_result"
    }
   ],
   "source": [
    "Cat()"
   ]
  },
  {
   "cell_type": "markdown",
   "metadata": {},
   "source": [
    "一般的には、変数に格納します。"
   ]
  },
  {
   "cell_type": "code",
   "execution_count": 4,
   "metadata": {},
   "outputs": [],
   "source": [
    "cat = Cat()"
   ]
  },
  {
   "cell_type": "code",
   "execution_count": 5,
   "metadata": {},
   "outputs": [
    {
     "data": {
      "text/plain": [
       "<__main__.Cat at 0x103745be0>"
      ]
     },
     "execution_count": 5,
     "metadata": {},
     "output_type": "execute_result"
    }
   ],
   "source": [
    "cat"
   ]
  },
  {
   "cell_type": "markdown",
   "metadata": {},
   "source": [
    "### プロセスとオブジェクトについて\n",
    "オブジェクト指向はよくプロセス指向（手続き型プログラミングとも言いいます）と比較されます。  \n",
    "まずはオブジェクト指向の簡単な例について、"
   ]
  },
  {
   "cell_type": "code",
   "execution_count": 149,
   "metadata": {},
   "outputs": [],
   "source": [
    "class Cat:\n",
    "    def __init__(self, name):\n",
    "        self.name = name\n",
    "\n",
    "    def move(self):\n",
    "        print(f\"猫である {self.name}  は寝ている\")"
   ]
  },
  {
   "cell_type": "code",
   "execution_count": 146,
   "metadata": {},
   "outputs": [],
   "source": [
    "class Dog:\n",
    "    def __init__(self, name):\n",
    "        self.name = name\n",
    "\n",
    "    def move(self):\n",
    "        print(f\"犬である {self.name}  は走っている\")"
   ]
  },
  {
   "cell_type": "code",
   "execution_count": 147,
   "metadata": {},
   "outputs": [],
   "source": [
    "class Fish:\n",
    "    def __init__(self, name):\n",
    "        self.name = name\n",
    "\n",
    "    def move(self):\n",
    "        print(f\"金魚である {self.name} は泳いでいる\")"
   ]
  },
  {
   "cell_type": "markdown",
   "metadata": {},
   "source": [
    "クラス内部にそれぞれ関数が定義されていますが、この関数のことを**メソッド**と呼びます。  \n",
    "メソッドの宣言は、前回関数で見てきたものと同じように、`def`を使用して宣言します。  \n",
    "今までの関数の定義で異なるところは、第１引数にそのクラスのインスタンスを表すオブジェクトを受け取ります。  \n",
    "そのオブジェクト名は、`self`という命名規則になっています。"
   ]
  },
  {
   "cell_type": "code",
   "execution_count": 151,
   "metadata": {},
   "outputs": [],
   "source": [
    "mike = Cat(\"ミケ\")"
   ]
  },
  {
   "cell_type": "code",
   "execution_count": 152,
   "metadata": {},
   "outputs": [],
   "source": [
    "chao = Cat(\"チャオ\")"
   ]
  },
  {
   "cell_type": "code",
   "execution_count": 153,
   "metadata": {},
   "outputs": [],
   "source": [
    "shell = Dog(\"シェル\")"
   ]
  },
  {
   "cell_type": "code",
   "execution_count": 154,
   "metadata": {},
   "outputs": [],
   "source": [
    "swimmy = Fish(\"スイミー\")"
   ]
  },
  {
   "cell_type": "markdown",
   "metadata": {},
   "source": [
    "それぞれのインスタンスの、`move`を呼び出す"
   ]
  },
  {
   "cell_type": "code",
   "execution_count": 155,
   "metadata": {},
   "outputs": [
    {
     "name": "stdout",
     "output_type": "stream",
     "text": [
      "猫である ミケ  は寝ている\n"
     ]
    }
   ],
   "source": [
    "mike.move()"
   ]
  },
  {
   "cell_type": "code",
   "execution_count": 156,
   "metadata": {},
   "outputs": [
    {
     "name": "stdout",
     "output_type": "stream",
     "text": [
      "猫である チャオ  は寝ている\n"
     ]
    }
   ],
   "source": [
    "chao.move()"
   ]
  },
  {
   "cell_type": "code",
   "execution_count": 157,
   "metadata": {},
   "outputs": [
    {
     "name": "stdout",
     "output_type": "stream",
     "text": [
      "犬である シェル  は走っている\n"
     ]
    }
   ],
   "source": [
    "shell.move()"
   ]
  },
  {
   "cell_type": "code",
   "execution_count": 158,
   "metadata": {},
   "outputs": [
    {
     "name": "stdout",
     "output_type": "stream",
     "text": [
      "金魚である スイミー は泳いでいる\n"
     ]
    }
   ],
   "source": [
    "swimmy.move()"
   ]
  },
  {
   "cell_type": "markdown",
   "metadata": {},
   "source": [
    "プロセス指向で実装すると...以下のようなイメージになります。"
   ]
  },
  {
   "cell_type": "code",
   "execution_count": 167,
   "metadata": {},
   "outputs": [],
   "source": [
    "def move_cat(name):\n",
    "    print(f\"猫である {name}  は寝ている\")"
   ]
  },
  {
   "cell_type": "code",
   "execution_count": 168,
   "metadata": {},
   "outputs": [],
   "source": [
    "def move_dog(name):\n",
    "    print(f\"犬である {name}  は走っている\")"
   ]
  },
  {
   "cell_type": "code",
   "execution_count": 169,
   "metadata": {},
   "outputs": [],
   "source": [
    "def move_fish(name):\n",
    "    print(f\"金魚である {name} は泳いでいる\")"
   ]
  },
  {
   "cell_type": "code",
   "execution_count": 170,
   "metadata": {},
   "outputs": [],
   "source": [
    "mike = \"ミケ\""
   ]
  },
  {
   "cell_type": "code",
   "execution_count": 171,
   "metadata": {},
   "outputs": [],
   "source": [
    "chao = \"チャオ\""
   ]
  },
  {
   "cell_type": "code",
   "execution_count": 172,
   "metadata": {},
   "outputs": [],
   "source": [
    "shell  = \"シェル\""
   ]
  },
  {
   "cell_type": "code",
   "execution_count": 173,
   "metadata": {},
   "outputs": [],
   "source": [
    "swimmy = \"スイミー\""
   ]
  },
  {
   "cell_type": "code",
   "execution_count": 174,
   "metadata": {},
   "outputs": [
    {
     "name": "stdout",
     "output_type": "stream",
     "text": [
      "猫である ミケ  は寝ている\n"
     ]
    }
   ],
   "source": [
    "move_cat(mike)"
   ]
  },
  {
   "cell_type": "code",
   "execution_count": 177,
   "metadata": {},
   "outputs": [
    {
     "name": "stdout",
     "output_type": "stream",
     "text": [
      "猫である チャオ  は寝ている\n"
     ]
    }
   ],
   "source": [
    "move_cat(chao)"
   ]
  },
  {
   "cell_type": "code",
   "execution_count": 178,
   "metadata": {},
   "outputs": [
    {
     "name": "stdout",
     "output_type": "stream",
     "text": [
      "犬である シェル  は走っている\n"
     ]
    }
   ],
   "source": [
    "move_dog(shell)"
   ]
  },
  {
   "cell_type": "code",
   "execution_count": 176,
   "metadata": {},
   "outputs": [
    {
     "name": "stdout",
     "output_type": "stream",
     "text": [
      "金魚である スイミー は泳いでいる\n"
     ]
    }
   ],
   "source": [
    "move_fish(swimmy)"
   ]
  },
  {
   "cell_type": "markdown",
   "metadata": {},
   "source": [
    "**どのような印象を受けましたか？**  \n",
    "処理フローが簡単なうちは良いですが、現実問題はたくさんの処理を定義したり、作成していかないといけない中で、  \n",
    "1つ１つオリジナルに定義していく関数が、共通する抽象的な概念を持っていれば、それらをひとまとめにしたいときに、よくクラスが利用されます。  \n",
    "  \n",
    "上の例でいえば、猫・犬・金魚、それぞれの動作を関数で定義していきますが、  \n",
    "『猫』・『犬』・『金魚』というそれぞれの概念ごとにまとめてプログラム設計していく方が、後々楽な気がします。  \n",
    "  \n",
    "冒頭でのべた、可読性や持続性も一定レベル以上保つことができるのではないでしょうか。  \n",
    "今回は、導入部分なので細かく見ていきませんが、次回以降、このオブジェクト指向を見つつ、クラスについて丁寧に説明していこうと思います。  "
   ]
  },
  {
   "cell_type": "markdown",
   "metadata": {},
   "source": [
    "### init を、つまりコンストラクタを利用しない場合はどうなるの？"
   ]
  },
  {
   "cell_type": "markdown",
   "metadata": {},
   "source": [
    "`__init__` は何なのか？ってなりますが、  \n",
    "**コンストラクタ**と呼ばれるもので、クラスを一度呼び出すときに、  \n",
    "つまりインスタンスを生成したときに一度だけ呼び出されるメソッドになります。  \n",
    "基本的に、呼び出そうとするクラスのインスタンスを、**初期化するため**に利用します。  \n",
    "コンストラクタを定義するには、`init`という特殊な名前でメソッドを定義する必要があります。  "
   ]
  },
  {
   "cell_type": "markdown",
   "metadata": {},
   "source": [
    "インスタンスの作成が次になります"
   ]
  },
  {
   "cell_type": "code",
   "execution_count": 26,
   "metadata": {},
   "outputs": [],
   "source": [
    "class Cat:\n",
    "    \n",
    "    name = 'mike'\n",
    "    \n",
    "    def move(self):\n",
    "        print(f\"猫である {self.name}  は寝ている\")"
   ]
  },
  {
   "cell_type": "code",
   "execution_count": 27,
   "metadata": {},
   "outputs": [],
   "source": [
    "cat = Cat()"
   ]
  },
  {
   "cell_type": "code",
   "execution_count": 28,
   "metadata": {},
   "outputs": [
    {
     "name": "stdout",
     "output_type": "stream",
     "text": [
      "猫である mike  は寝ている\n"
     ]
    }
   ],
   "source": [
    "cat.move()"
   ]
  },
  {
   "cell_type": "markdown",
   "metadata": {},
   "source": [
    "ちなみに**デストラクタ**というものもあります。  \n",
    "デストラクタとは、インスタンスを、Pythonが削除するときに動作するメソッドになります。"
   ]
  },
  {
   "cell_type": "code",
   "execution_count": 41,
   "metadata": {},
   "outputs": [],
   "source": [
    "class Cat:\n",
    "    val = []\n",
    "    def __del__(self):\n",
    "        # デストラクタ\n",
    "        print(\"デストラクタ\")"
   ]
  },
  {
   "cell_type": "code",
   "execution_count": 42,
   "metadata": {},
   "outputs": [],
   "source": [
    "cat = Cat()"
   ]
  },
  {
   "cell_type": "code",
   "execution_count": 43,
   "metadata": {},
   "outputs": [
    {
     "name": "stdout",
     "output_type": "stream",
     "text": [
      "デストラクタ\n"
     ]
    }
   ],
   "source": [
    "del cat"
   ]
  },
  {
   "cell_type": "markdown",
   "metadata": {},
   "source": [
    "**ちなみに同じメソッド名を命名してしまったときの動作は...？**"
   ]
  },
  {
   "cell_type": "code",
   "execution_count": 36,
   "metadata": {},
   "outputs": [],
   "source": [
    "class Cat:\n",
    "    \n",
    "    name = \"mike\"\n",
    "\n",
    "    def move1(self, prone=True):\n",
    "        if prone != True:\n",
    "            print(f\"猫である {self.name}  は寝ている...仰向きでね\")\n",
    "        else:\n",
    "            print(f\"猫である {self.name}  は寝ている...うつ伏せでね\")\n",
    "\n",
    "    def move2(self, arg1):\n",
    "        print(f\"猫である {self.name}  は起きている...{arg1}している\")\n",
    "    \n",
    "    def move2(self, arg1, arg2):\n",
    "        print(f\"猫である {self.name}  は起きている...{arg1}しつつ、{arg2}している\")"
   ]
  },
  {
   "cell_type": "code",
   "execution_count": 37,
   "metadata": {},
   "outputs": [],
   "source": [
    "cat = Cat()"
   ]
  },
  {
   "cell_type": "code",
   "execution_count": 38,
   "metadata": {},
   "outputs": [
    {
     "name": "stdout",
     "output_type": "stream",
     "text": [
      "猫である mike  は寝ている...仰向きでね\n"
     ]
    }
   ],
   "source": [
    "cat.move1(False)"
   ]
  },
  {
   "cell_type": "code",
   "execution_count": 39,
   "metadata": {},
   "outputs": [
    {
     "ename": "TypeError",
     "evalue": "move2() missing 1 required positional argument: 'arg2'",
     "output_type": "error",
     "traceback": [
      "\u001b[0;31m---------------------------------------------------------------------------\u001b[0m",
      "\u001b[0;31mTypeError\u001b[0m                                 Traceback (most recent call last)",
      "\u001b[0;32m<ipython-input-39-5faea74aafa4>\u001b[0m in \u001b[0;36m<module>\u001b[0;34m\u001b[0m\n\u001b[0;32m----> 1\u001b[0;31m \u001b[0mcat\u001b[0m\u001b[0;34m.\u001b[0m\u001b[0mmove2\u001b[0m\u001b[0;34m(\u001b[0m\u001b[0;34m'オシッコ'\u001b[0m\u001b[0;34m)\u001b[0m\u001b[0;34m\u001b[0m\u001b[0m\n\u001b[0m",
      "\u001b[0;31mTypeError\u001b[0m: move2() missing 1 required positional argument: 'arg2'"
     ]
    }
   ],
   "source": [
    "cat.move2('ひなたぼっこ')"
   ]
  },
  {
   "cell_type": "code",
   "execution_count": 40,
   "metadata": {},
   "outputs": [
    {
     "name": "stdout",
     "output_type": "stream",
     "text": [
      "猫である mike  は起きている...ひなたぼっこしつつ、あくびしている\n"
     ]
    }
   ],
   "source": [
    "cat.move2('ひなたぼっこ', 'あくび')"
   ]
  },
  {
   "cell_type": "markdown",
   "metadata": {},
   "source": [
    "**最後に定義されたメソッドを優先するのですね。。。これは気をつけましょう。。。**"
   ]
  },
  {
   "cell_type": "markdown",
   "metadata": {},
   "source": [
    "### クラスとインスタンス変数\n",
    "一般的に、インスタンス変数はそれぞれのインスタンスについて固有のデータのためのもので、  \n",
    "クラス変数はそのクラスのすべてのインスタンスによって共有される属性やメソッド(関数)のためのものです"
   ]
  },
  {
   "cell_type": "code",
   "execution_count": 44,
   "metadata": {},
   "outputs": [],
   "source": [
    "class Cat:\n",
    "\n",
    "    KIND = 'スコティッシュフォールド'         # すべてのインスタンスで共有されるクラス変数\n",
    "\n",
    "    def __init__(self, name):\n",
    "        self.name = name    # 各インスタンスに固有のインスタンス変数"
   ]
  },
  {
   "cell_type": "code",
   "execution_count": 45,
   "metadata": {},
   "outputs": [],
   "source": [
    "d = Cat('キャッツ')"
   ]
  },
  {
   "cell_type": "code",
   "execution_count": 46,
   "metadata": {},
   "outputs": [],
   "source": [
    "e = Cat('ぬこ')"
   ]
  },
  {
   "cell_type": "code",
   "execution_count": 47,
   "metadata": {},
   "outputs": [
    {
     "data": {
      "text/plain": [
       "'スコティッシュフォールド'"
      ]
     },
     "execution_count": 47,
     "metadata": {},
     "output_type": "execute_result"
    }
   ],
   "source": [
    "d.KIND"
   ]
  },
  {
   "cell_type": "code",
   "execution_count": 48,
   "metadata": {},
   "outputs": [
    {
     "data": {
      "text/plain": [
       "'スコティッシュフォールド'"
      ]
     },
     "execution_count": 48,
     "metadata": {},
     "output_type": "execute_result"
    }
   ],
   "source": [
    "e.KIND"
   ]
  },
  {
   "cell_type": "code",
   "execution_count": 49,
   "metadata": {},
   "outputs": [
    {
     "data": {
      "text/plain": [
       "'キャッツ'"
      ]
     },
     "execution_count": 49,
     "metadata": {},
     "output_type": "execute_result"
    }
   ],
   "source": [
    "d.name"
   ]
  },
  {
   "cell_type": "code",
   "execution_count": 50,
   "metadata": {},
   "outputs": [
    {
     "data": {
      "text/plain": [
       "'ぬこ'"
      ]
     },
     "execution_count": 50,
     "metadata": {},
     "output_type": "execute_result"
    }
   ],
   "source": [
    "e.name"
   ]
  },
  {
   "cell_type": "markdown",
   "metadata": {},
   "source": [
    "オブジェクトにはオリジナリティ(独自性)があり、同一のオブジェクトに(複数のスコープから) 複数の名前を割り当てることができます。  \n",
    "  \n",
    "この機能は他の言語では別名づけ(alias) として知られています。   \n",
    "  \n",
    "一見しただけでは、別名づけの重要性は分からないことが多く、  \n",
    "変更不能な基本型 (数値、文字列、タプル)を扱うときには無視して差し支えありません。  \n",
    "  \n",
    "しかしながら、別名付けは、リストや辞書や他の多くの型など、変更可能な型を扱う Python コード上では効果があります。  "
   ]
  },
  {
   "cell_type": "code",
   "execution_count": 51,
   "metadata": {},
   "outputs": [],
   "source": [
    "class Cat:\n",
    "\n",
    "    tricks = []             # クラス変数の誤った使用\n",
    "\n",
    "    def __init__(self, name):\n",
    "        self.name = name\n",
    "\n",
    "    def add_trick(self, trick):\n",
    "        self.tricks.append(trick)"
   ]
  },
  {
   "cell_type": "code",
   "execution_count": 52,
   "metadata": {},
   "outputs": [],
   "source": [
    "d = Cat('キャッツ')"
   ]
  },
  {
   "cell_type": "code",
   "execution_count": 53,
   "metadata": {},
   "outputs": [],
   "source": [
    "e = Cat('ぬこ')"
   ]
  },
  {
   "cell_type": "code",
   "execution_count": 54,
   "metadata": {},
   "outputs": [],
   "source": [
    "d.add_trick('スコティッシュフォールド')"
   ]
  },
  {
   "cell_type": "code",
   "execution_count": 55,
   "metadata": {},
   "outputs": [],
   "source": [
    "e.add_trick('三毛猫')"
   ]
  },
  {
   "cell_type": "code",
   "execution_count": 56,
   "metadata": {},
   "outputs": [
    {
     "data": {
      "text/plain": [
       "['スコティッシュフォールド', '三毛猫']"
      ]
     },
     "execution_count": 56,
     "metadata": {},
     "output_type": "execute_result"
    }
   ],
   "source": [
    "d.tricks"
   ]
  },
  {
   "cell_type": "markdown",
   "metadata": {},
   "source": [
    "このオブジェクトクラスを呼び出すたびに、`add_trick`を命名するたびに、`tricks`には不要な情報が書き込まれて行ってしまうので、  \n",
    "正しくは、次のように設計すべき。。。"
   ]
  },
  {
   "cell_type": "code",
   "execution_count": 57,
   "metadata": {},
   "outputs": [],
   "source": [
    "class Cat:\n",
    "\n",
    "    def __init__(self, name):\n",
    "        self.name = name\n",
    "        self.tricks = []    # 猫ごとに新しい空のリストを作成します\n",
    "\n",
    "    def add_trick(self, trick):\n",
    "        self.tricks.append(trick)"
   ]
  },
  {
   "cell_type": "code",
   "execution_count": 58,
   "metadata": {},
   "outputs": [],
   "source": [
    "d = Cat('キャッツ')"
   ]
  },
  {
   "cell_type": "code",
   "execution_count": 59,
   "metadata": {},
   "outputs": [],
   "source": [
    "e = Cat('ぬこ')"
   ]
  },
  {
   "cell_type": "code",
   "execution_count": 60,
   "metadata": {},
   "outputs": [],
   "source": [
    "d.add_trick('スコティッシュフォールド')"
   ]
  },
  {
   "cell_type": "code",
   "execution_count": 61,
   "metadata": {},
   "outputs": [],
   "source": [
    "e.add_trick('三毛猫')"
   ]
  },
  {
   "cell_type": "markdown",
   "metadata": {},
   "source": [
    "### Classの継承について"
   ]
  },
  {
   "cell_type": "markdown",
   "metadata": {},
   "source": [
    "継承とは、他のクラスと同じインスタンス変数、メソッドをもつクラスを定義できる機能です。  \n",
    "  \n",
    "この機能によって、クラスごとに似た機能を持つクラスを効率的に作成できます。  \n",
    "継承を行うためには、クラス定義のときにクラス名の後ろに**継承するクラス名**を付加して、定義します。  "
   ]
  },
  {
   "cell_type": "code",
   "execution_count": 98,
   "metadata": {},
   "outputs": [],
   "source": [
    "class Parent:\n",
    "    \n",
    "    name_parent = \"Parent\"\n",
    "\n",
    "    def parent_function(self):\n",
    "        print(\"親クラス:\" + self.name_parent)\n",
    "\n",
    "class Child(Parent):\n",
    "    \n",
    "    name_child = \"Child\"\n",
    "\n",
    "    def child_function(self):\n",
    "        print(\"子クラス:\" + self.name_child)"
   ]
  },
  {
   "cell_type": "code",
   "execution_count": 99,
   "metadata": {},
   "outputs": [],
   "source": [
    "child = Child()"
   ]
  },
  {
   "cell_type": "code",
   "execution_count": 100,
   "metadata": {},
   "outputs": [
    {
     "name": "stdout",
     "output_type": "stream",
     "text": [
      "親クラス:Parent\n",
      "None\n"
     ]
    }
   ],
   "source": [
    "print(child.parent_function())"
   ]
  },
  {
   "cell_type": "code",
   "execution_count": 101,
   "metadata": {},
   "outputs": [
    {
     "name": "stdout",
     "output_type": "stream",
     "text": [
      "子クラス:Child\n",
      "None\n"
     ]
    }
   ],
   "source": [
    "print(child.child_function())"
   ]
  },
  {
   "cell_type": "code",
   "execution_count": 102,
   "metadata": {},
   "outputs": [
    {
     "name": "stdout",
     "output_type": "stream",
     "text": [
      "親クラス:Parent\n"
     ]
    }
   ],
   "source": [
    "child.parent_function()"
   ]
  },
  {
   "cell_type": "code",
   "execution_count": 103,
   "metadata": {},
   "outputs": [
    {
     "name": "stdout",
     "output_type": "stream",
     "text": [
      "子クラス:Child\n"
     ]
    }
   ],
   "source": [
    "child.child_function()"
   ]
  },
  {
   "cell_type": "markdown",
   "metadata": {},
   "source": [
    "**親クラスと、子クラスについて、メソッド名が同じであった場合は？？**"
   ]
  },
  {
   "cell_type": "code",
   "execution_count": 104,
   "metadata": {},
   "outputs": [],
   "source": [
    "class Parent:\n",
    "    \n",
    "    def __init__(self):\n",
    "        self.name = \"Parent\"\n",
    "\n",
    "    def same_function(self):\n",
    "        print(\"親クラス:\" + self.name)\n",
    "\n",
    "class Child(Parent):\n",
    "    \n",
    "    def __init__(self):\n",
    "        self.name = \"Child\"\n",
    "\n",
    "    def same_function(self):\n",
    "        print(\"子クラス:\" + self.name)"
   ]
  },
  {
   "cell_type": "code",
   "execution_count": 105,
   "metadata": {},
   "outputs": [],
   "source": [
    "parent = Parent()"
   ]
  },
  {
   "cell_type": "code",
   "execution_count": 106,
   "metadata": {},
   "outputs": [
    {
     "name": "stdout",
     "output_type": "stream",
     "text": [
      "親クラス:Parent\n",
      "None\n"
     ]
    }
   ],
   "source": [
    "print(parent.same_function())"
   ]
  },
  {
   "cell_type": "code",
   "execution_count": 107,
   "metadata": {},
   "outputs": [
    {
     "name": "stdout",
     "output_type": "stream",
     "text": [
      "親クラス:Parent\n"
     ]
    }
   ],
   "source": [
    "parent.same_function()"
   ]
  },
  {
   "cell_type": "code",
   "execution_count": 108,
   "metadata": {},
   "outputs": [],
   "source": [
    "child = Child()"
   ]
  },
  {
   "cell_type": "code",
   "execution_count": 109,
   "metadata": {},
   "outputs": [
    {
     "name": "stdout",
     "output_type": "stream",
     "text": [
      "子クラス:Child\n",
      "None\n"
     ]
    }
   ],
   "source": [
    "print(child.same_function())"
   ]
  },
  {
   "cell_type": "code",
   "execution_count": 110,
   "metadata": {},
   "outputs": [
    {
     "name": "stdout",
     "output_type": "stream",
     "text": [
      "子クラス:Child\n"
     ]
    }
   ],
   "source": [
    "child.same_function()"
   ]
  },
  {
   "cell_type": "markdown",
   "metadata": {},
   "source": [
    "#### 継承元(親クラス)と継承先(子クラス)に同じメソッド名(実は、変数名も同様)が定義されている場合、作成したインスタンスのクラスの内容が優先される\n",
    "**継承先(子クラス)のメソッド内ならば、継承元の変数やメソッドを`super`という修飾子を付けることで、呼びだせます**"
   ]
  },
  {
   "cell_type": "code",
   "execution_count": 85,
   "metadata": {},
   "outputs": [],
   "source": [
    "class Parent:\n",
    "    \n",
    "    def __init__(self):\n",
    "        self.name = \"Parent\"\n",
    "\n",
    "    def same_function(self):\n",
    "        print(\"親クラス:\" + self.name)\n",
    "\n",
    "class Child(Parent):\n",
    "    \n",
    "    def __init__(self):\n",
    "        self.name = \"Child\"\n",
    "\n",
    "    def same_function(self):\n",
    "        print(\"子クラス:\" + self.name)\n",
    "        super().same_function()"
   ]
  },
  {
   "cell_type": "code",
   "execution_count": 86,
   "metadata": {},
   "outputs": [],
   "source": [
    "child = Child()"
   ]
  },
  {
   "cell_type": "code",
   "execution_count": 87,
   "metadata": {},
   "outputs": [
    {
     "name": "stdout",
     "output_type": "stream",
     "text": [
      "子クラス:Child\n",
      "親クラス:Child\n"
     ]
    }
   ],
   "source": [
    "child.same_function()"
   ]
  },
  {
   "cell_type": "code",
   "execution_count": 113,
   "metadata": {},
   "outputs": [],
   "source": [
    "class Parent:\n",
    "    def __init__(self):\n",
    "        print(\"親コンストラクタ\")\n",
    "\n",
    "class Child(Parent):\n",
    "    def __init__(self):\n",
    "        print(\"子コンストラクタ\")"
   ]
  },
  {
   "cell_type": "code",
   "execution_count": 114,
   "metadata": {},
   "outputs": [
    {
     "name": "stdout",
     "output_type": "stream",
     "text": [
      "子コンストラクタ\n"
     ]
    }
   ],
   "source": [
    "child = Child()"
   ]
  },
  {
   "cell_type": "code",
   "execution_count": 111,
   "metadata": {},
   "outputs": [],
   "source": [
    "class Parent:\n",
    "    def __init__(self):\n",
    "        print(\"親コンストラクタ\")\n",
    "\n",
    "class Child(Parent):\n",
    "    def __init__(self):\n",
    "        super().__init__()\n",
    "        print(\"子コンストラクタ\")"
   ]
  },
  {
   "cell_type": "code",
   "execution_count": 112,
   "metadata": {},
   "outputs": [
    {
     "name": "stdout",
     "output_type": "stream",
     "text": [
      "親コンストラクタ\n",
      "子コンストラクタ\n"
     ]
    }
   ],
   "source": [
    "child = Child()"
   ]
  },
  {
   "cell_type": "markdown",
   "metadata": {},
   "source": [
    "### カプセル化\n",
    "オブジェクト指向は、関数と変数(データ)を一緒に束ねてくれるので、同じ変数（データ）を複数の関数で処理したい場合、便利です。"
   ]
  },
  {
   "cell_type": "code",
   "execution_count": 120,
   "metadata": {},
   "outputs": [],
   "source": [
    "class Person:\n",
    "    def __init__(self, full_name, sex, age, height, weight):\n",
    "        self.full_name = full_name\n",
    "        self.sex = sex\n",
    "        self.age = age\n",
    "        self.height = height\n",
    "        self.weight = weight\n",
    "\n",
    "    def describe(self):\n",
    "        print(\"名前: {}; 性別: {}; 年齢: {}\".format(self.full_name, self.sex, self.age))\n",
    "\n",
    "    def introduce(self):\n",
    "        print(\"名前は {}, 身長は {}, 体重は {}. \".format(self.full_name, self.height, self.weight))"
   ]
  },
  {
   "cell_type": "code",
   "execution_count": 121,
   "metadata": {},
   "outputs": [],
   "source": [
    "user1 = Person(\"佐藤一郎\", \"男性\", 34, 171, 70)\n",
    "user2 = Person(\"佐藤一子\", \"女性\", 24, 157, 50)"
   ]
  },
  {
   "cell_type": "code",
   "execution_count": 123,
   "metadata": {},
   "outputs": [
    {
     "name": "stdout",
     "output_type": "stream",
     "text": [
      "名前: 佐藤一郎; 性別: 男性; 年齢: 34\n"
     ]
    }
   ],
   "source": [
    "user1.describe()"
   ]
  },
  {
   "cell_type": "code",
   "execution_count": 124,
   "metadata": {},
   "outputs": [
    {
     "name": "stdout",
     "output_type": "stream",
     "text": [
      "名前は 佐藤一郎, 身長は 171, 体重は 70. \n"
     ]
    }
   ],
   "source": [
    "user1.introduce()"
   ]
  },
  {
   "cell_type": "code",
   "execution_count": 125,
   "metadata": {},
   "outputs": [
    {
     "name": "stdout",
     "output_type": "stream",
     "text": [
      "名前: 佐藤一子; 性別: 女性; 年齢: 24\n"
     ]
    }
   ],
   "source": [
    "user2.describe()"
   ]
  },
  {
   "cell_type": "code",
   "execution_count": 134,
   "metadata": {},
   "outputs": [
    {
     "name": "stdout",
     "output_type": "stream",
     "text": [
      "名前は 佐藤一子, 身長は 157, 体重は 50. \n"
     ]
    }
   ],
   "source": [
    "user2.introduce()"
   ]
  },
  {
   "cell_type": "markdown",
   "metadata": {},
   "source": [
    "**例えば、これをプロセス指向でやろうとすると。。。**"
   ]
  },
  {
   "cell_type": "code",
   "execution_count": 129,
   "metadata": {},
   "outputs": [],
   "source": [
    "def describe(full_name, sex, age):\n",
    "    print(\"名前: {}; 性別: {}; 年齢: {}\".format(full_name, sex, age))\n",
    "\n",
    "\n",
    "def introduce(full_name, height, weight):\n",
    "    print(\"名前は {}, 身長は {}, 体重は {}. \".format(full_name, height, weight))"
   ]
  },
  {
   "cell_type": "code",
   "execution_count": 132,
   "metadata": {},
   "outputs": [
    {
     "name": "stdout",
     "output_type": "stream",
     "text": [
      "名前は 佐藤一郎, 身長は 171, 体重は 70. \n"
     ]
    }
   ],
   "source": [
    "introduce(\"佐藤一郎\", 171, 70)"
   ]
  },
  {
   "cell_type": "code",
   "execution_count": 130,
   "metadata": {},
   "outputs": [
    {
     "name": "stdout",
     "output_type": "stream",
     "text": [
      "名前: 佐藤一郎; 性別: 男性; 年齢: 34\n"
     ]
    }
   ],
   "source": [
    "describe(\"佐藤一郎\", \"男性\", 34)"
   ]
  },
  {
   "cell_type": "code",
   "execution_count": 133,
   "metadata": {},
   "outputs": [
    {
     "name": "stdout",
     "output_type": "stream",
     "text": [
      "名前は 佐藤一子, 身長は 157, 体重は 50. \n"
     ]
    }
   ],
   "source": [
    "introduce(\"佐藤一子\", 157, 50)"
   ]
  },
  {
   "cell_type": "code",
   "execution_count": 131,
   "metadata": {},
   "outputs": [
    {
     "name": "stdout",
     "output_type": "stream",
     "text": [
      "名前: 佐藤一子; 性別: 女性; 年齢: 24\n"
     ]
    }
   ],
   "source": [
    "describe(\"佐藤一子\", \"女性\", 24)"
   ]
  },
  {
   "cell_type": "markdown",
   "metadata": {},
   "source": [
    "上記の方法は毎回、同じ引数を渡す必要があり、引数が多くなればなるほど面倒。。。  \n",
    "もう1つは毎回引数を渡す必要のない、プロセス指向を見てみましょう"
   ]
  },
  {
   "cell_type": "code",
   "execution_count": 146,
   "metadata": {},
   "outputs": [],
   "source": [
    "user1_desc = dict(full_name='佐藤一郎', height=171, weight=70)"
   ]
  },
  {
   "cell_type": "code",
   "execution_count": 147,
   "metadata": {},
   "outputs": [],
   "source": [
    "user1_intro = dict(full_name='佐藤一郎', sex=\"男性\", age=34)"
   ]
  },
  {
   "cell_type": "code",
   "execution_count": 148,
   "metadata": {},
   "outputs": [],
   "source": [
    "user2_desc = dict(full_name='佐藤一子', height=157, weight=50)"
   ]
  },
  {
   "cell_type": "code",
   "execution_count": 149,
   "metadata": {},
   "outputs": [],
   "source": [
    "user2_intro = dict(full_name='佐藤一郎', sex=\"女性\", age=24)"
   ]
  },
  {
   "cell_type": "code",
   "execution_count": 150,
   "metadata": {},
   "outputs": [],
   "source": [
    "def introduce(**kwargs):\n",
    "    print(\"名前: {full_name}; 性別: {sex}; 年齢: {age}\".format(**kwargs))\n",
    "\n",
    "def describe(**kwargs):\n",
    "    print(\"名前は {full_name}, 身長は {height}, 体重は {weight}. \".format(**kwargs))"
   ]
  },
  {
   "cell_type": "code",
   "execution_count": 151,
   "metadata": {},
   "outputs": [
    {
     "name": "stdout",
     "output_type": "stream",
     "text": [
      "名前: 佐藤一郎; 性別: 男性; 年齢: 34\n"
     ]
    }
   ],
   "source": [
    "introduce(**user1_intro)"
   ]
  },
  {
   "cell_type": "code",
   "execution_count": 152,
   "metadata": {},
   "outputs": [
    {
     "name": "stdout",
     "output_type": "stream",
     "text": [
      "名前: 佐藤一郎; 性別: 女性; 年齢: 24\n"
     ]
    }
   ],
   "source": [
    "introduce(**user2_intro)"
   ]
  },
  {
   "cell_type": "code",
   "execution_count": 153,
   "metadata": {},
   "outputs": [
    {
     "name": "stdout",
     "output_type": "stream",
     "text": [
      "名前は 佐藤一郎, 身長は 171, 体重は 70. \n"
     ]
    }
   ],
   "source": [
    "describe(**user1_desc)"
   ]
  },
  {
   "cell_type": "code",
   "execution_count": 155,
   "metadata": {},
   "outputs": [
    {
     "name": "stdout",
     "output_type": "stream",
     "text": [
      "名前は 佐藤一子, 身長は 157, 体重は 50. \n"
     ]
    }
   ],
   "source": [
    "describe(**user2_desc)"
   ]
  },
  {
   "cell_type": "markdown",
   "metadata": {},
   "source": [
    "**プロセス指向でも、できなくはないですが、オブジェクト指向と比較すると...**  \n",
    "コードの可動性や持続性が、圧倒的にオブジェクト指向の方が楽そうではありませんか？"
   ]
  },
  {
   "cell_type": "code",
   "execution_count": 156,
   "metadata": {},
   "outputs": [],
   "source": [
    "class Cat:\n",
    "    def __init__(self, cat_activity=10):\n",
    "        self.cat_activity = cat_activity\n",
    "\n",
    "    def sleep(self):\n",
    "        self.cat_activity += 2\n",
    "        return self\n",
    "    \n",
    "    def lie_down(self):\n",
    "        self.cat_activity += 1\n",
    "        return self\n",
    "    \n",
    "    def eat(self):\n",
    "        self.cat_activity += 0\n",
    "        return self\n",
    "\n",
    "    def walk(self):\n",
    "        self.cat_activity -= 1\n",
    "        return self\n",
    "\n",
    "    def run(self):\n",
    "        self.cat_activity -= 3\n",
    "        return self"
   ]
  },
  {
   "cell_type": "code",
   "execution_count": 161,
   "metadata": {},
   "outputs": [],
   "source": [
    "somecat = Cat()"
   ]
  },
  {
   "cell_type": "code",
   "execution_count": 162,
   "metadata": {},
   "outputs": [
    {
     "name": "stdout",
     "output_type": "stream",
     "text": [
      "猫の体力: 10\n"
     ]
    }
   ],
   "source": [
    "print(\"猫の体力: {}\".format(somecat.cat_activity))"
   ]
  },
  {
   "cell_type": "code",
   "execution_count": 163,
   "metadata": {},
   "outputs": [
    {
     "data": {
      "text/plain": [
       "<__main__.Cat at 0x104d01e10>"
      ]
     },
     "execution_count": 163,
     "metadata": {},
     "output_type": "execute_result"
    }
   ],
   "source": [
    "somecat.sleep()"
   ]
  },
  {
   "cell_type": "code",
   "execution_count": 164,
   "metadata": {},
   "outputs": [
    {
     "name": "stdout",
     "output_type": "stream",
     "text": [
      "寝た後の猫の体力: 12\n"
     ]
    }
   ],
   "source": [
    "print(\"寝た後の猫の体力: {}\".format(somecat.cat_activity))"
   ]
  },
  {
   "cell_type": "code",
   "execution_count": 165,
   "metadata": {},
   "outputs": [
    {
     "data": {
      "text/plain": [
       "<__main__.Cat at 0x104d01e10>"
      ]
     },
     "execution_count": 165,
     "metadata": {},
     "output_type": "execute_result"
    }
   ],
   "source": [
    "somecat.run()"
   ]
  },
  {
   "cell_type": "code",
   "execution_count": 166,
   "metadata": {},
   "outputs": [
    {
     "name": "stdout",
     "output_type": "stream",
     "text": [
      "走った後の猫の体力: 9\n"
     ]
    }
   ],
   "source": [
    "print(\"走った後の猫の体力: {}\".format(somecat.cat_activity))"
   ]
  },
  {
   "cell_type": "code",
   "execution_count": 167,
   "metadata": {},
   "outputs": [
    {
     "data": {
      "text/plain": [
       "<__main__.Cat at 0x104d01e10>"
      ]
     },
     "execution_count": 167,
     "metadata": {},
     "output_type": "execute_result"
    }
   ],
   "source": [
    "somecat.lie_down().run()"
   ]
  },
  {
   "cell_type": "code",
   "execution_count": 168,
   "metadata": {},
   "outputs": [
    {
     "name": "stdout",
     "output_type": "stream",
     "text": [
      "寝そべってからの走った後の猫の体力: 7\n"
     ]
    }
   ],
   "source": [
    "print(\"寝そべってからの走った後の猫の体力: {}\".format(somecat.cat_activity))"
   ]
  },
  {
   "cell_type": "code",
   "execution_count": 169,
   "metadata": {},
   "outputs": [
    {
     "data": {
      "text/plain": [
       "<__main__.Cat at 0x104d01e10>"
      ]
     },
     "execution_count": 169,
     "metadata": {},
     "output_type": "execute_result"
    }
   ],
   "source": [
    "somecat.run().run().walk()"
   ]
  },
  {
   "cell_type": "code",
   "execution_count": 170,
   "metadata": {},
   "outputs": [
    {
     "name": "stdout",
     "output_type": "stream",
     "text": [
      "走り回ったの猫の体力: 0\n"
     ]
    }
   ],
   "source": [
    "print(\"走り回ったの猫の体力: {}\".format(somecat.cat_activity))"
   ]
  },
  {
   "cell_type": "markdown",
   "metadata": {},
   "source": [
    "**プロセス指向では、こういった一連の動的な動作は苦手ですが、オブジェクト指向ならば簡単に表現できます**"
   ]
  },
  {
   "cell_type": "markdown",
   "metadata": {},
   "source": [
    "上記の親クラスに、子クラスを下記に表現してみます。"
   ]
  },
  {
   "cell_type": "code",
   "execution_count": 172,
   "metadata": {},
   "outputs": [],
   "source": [
    "class Mike(Cat):\n",
    "    def daily_activity(self):\n",
    "        self.run().run().lie_down().lie_down().eat().walk().walk()\n",
    "        print(\"ミケの1日行動量: {}\".format(self.cat_activity))\n",
    "\n",
    "class Chao(Cat):\n",
    "    def daily_activity(self):\n",
    "        self.lie_down().eat().lie_down().walk().lie_down().walk().lie_down()\n",
    "        print(\"チャオの1日行動量: {}\".format(self.cat_activity))"
   ]
  },
  {
   "cell_type": "code",
   "execution_count": 173,
   "metadata": {},
   "outputs": [],
   "source": [
    "mike = Mike()"
   ]
  },
  {
   "cell_type": "code",
   "execution_count": 174,
   "metadata": {},
   "outputs": [
    {
     "name": "stdout",
     "output_type": "stream",
     "text": [
      "ミケの1日行動量: 4\n"
     ]
    }
   ],
   "source": [
    "mike.daily_activity()"
   ]
  },
  {
   "cell_type": "code",
   "execution_count": 175,
   "metadata": {},
   "outputs": [],
   "source": [
    "chao = Chao()"
   ]
  },
  {
   "cell_type": "code",
   "execution_count": 176,
   "metadata": {},
   "outputs": [
    {
     "name": "stdout",
     "output_type": "stream",
     "text": [
      "チャオの1日行動量: 12\n"
     ]
    }
   ],
   "source": [
    "chao.daily_activity()"
   ]
  },
  {
   "cell_type": "markdown",
   "metadata": {},
   "source": [
    "## 次回以降もこの辺りの話を、引き続き進めていきます...！"
   ]
  }
 ],
 "metadata": {
  "kernelspec": {
   "display_name": "Python 3",
   "language": "python",
   "name": "python3"
  },
  "language_info": {
   "codemirror_mode": {
    "name": "ipython",
    "version": 3
   },
   "file_extension": ".py",
   "mimetype": "text/x-python",
   "name": "python",
   "nbconvert_exporter": "python",
   "pygments_lexer": "ipython3",
   "version": "3.6.5"
  }
 },
 "nbformat": 4,
 "nbformat_minor": 2
}
