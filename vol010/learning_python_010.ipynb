{
 "cells": [
  {
   "cell_type": "markdown",
   "metadata": {},
   "source": [
    "## 文字列処理に関連するモジュールを見ていきます"
   ]
  },
  {
   "cell_type": "markdown",
   "metadata": {},
   "source": [
    "### テキスト、文字列を扱う、`string`モジュール\n",
    "`string`モジュールには、定数、文字列書式、関数が用意されています。"
   ]
  },
  {
   "cell_type": "markdown",
   "metadata": {},
   "source": [
    "### 定数 ※すでに決まっている値\n",
    "**`string.ascii_letters`**  \n",
    "`ascii_lowercase` と `ascii_uppercase` を合わせたもの  \n",
    "  \n",
    "**`string.ascii_lowercase`**  \n",
    "小文字 'abcdefghijklmnopqrstuvwxyz'  \n",
    "  \n",
    "**`string.ascii_uppercase`**  \n",
    "大文字 'ABCDEFGHIJKLMNOPQRSTUVWXYZ'  \n",
    "  \n",
    "**`string.digits`**  \n",
    "文字列 '0123456789'  \n",
    "  \n",
    "**`string.hexdigits`**  \n",
    "文字列 '0123456789abcdefABCDEF'  \n",
    "  \n",
    "**`string.octdigits`**  \n",
    "文字列 '01234567'  \n",
    "  \n",
    "**`string.punctuation`**  \n",
    "記号群  \n",
    "  \n",
    "**`string.printable`**  \n",
    "印字可能な ASCII 文字で構成される文字列  \n",
    "  \n",
    "**`string.whitespace`**  \n",
    "空白 (whitespace) として扱われる ASCII 文字全てを含む文字列"
   ]
  },
  {
   "cell_type": "code",
   "execution_count": 1,
   "metadata": {},
   "outputs": [],
   "source": [
    "import string"
   ]
  },
  {
   "cell_type": "code",
   "execution_count": 2,
   "metadata": {},
   "outputs": [
    {
     "data": {
      "text/plain": [
       "'abcdefghijklmnopqrstuvwxyzABCDEFGHIJKLMNOPQRSTUVWXYZ'"
      ]
     },
     "execution_count": 2,
     "metadata": {},
     "output_type": "execute_result"
    }
   ],
   "source": [
    "string.ascii_letters"
   ]
  },
  {
   "cell_type": "code",
   "execution_count": 3,
   "metadata": {},
   "outputs": [
    {
     "data": {
      "text/plain": [
       "'abcdefghijklmnopqrstuvwxyz'"
      ]
     },
     "execution_count": 3,
     "metadata": {},
     "output_type": "execute_result"
    }
   ],
   "source": [
    "string.ascii_lowercase"
   ]
  },
  {
   "cell_type": "code",
   "execution_count": 4,
   "metadata": {},
   "outputs": [
    {
     "data": {
      "text/plain": [
       "'ABCDEFGHIJKLMNOPQRSTUVWXYZ'"
      ]
     },
     "execution_count": 4,
     "metadata": {},
     "output_type": "execute_result"
    }
   ],
   "source": [
    "string.ascii_uppercase"
   ]
  },
  {
   "cell_type": "code",
   "execution_count": 5,
   "metadata": {},
   "outputs": [
    {
     "data": {
      "text/plain": [
       "'0123456789'"
      ]
     },
     "execution_count": 5,
     "metadata": {},
     "output_type": "execute_result"
    }
   ],
   "source": [
    "string.digits"
   ]
  },
  {
   "cell_type": "code",
   "execution_count": 6,
   "metadata": {},
   "outputs": [
    {
     "data": {
      "text/plain": [
       "'0123456789abcdefABCDEF'"
      ]
     },
     "execution_count": 6,
     "metadata": {},
     "output_type": "execute_result"
    }
   ],
   "source": [
    "string.hexdigits"
   ]
  },
  {
   "cell_type": "code",
   "execution_count": 7,
   "metadata": {},
   "outputs": [
    {
     "data": {
      "text/plain": [
       "'01234567'"
      ]
     },
     "execution_count": 7,
     "metadata": {},
     "output_type": "execute_result"
    }
   ],
   "source": [
    "string.octdigits"
   ]
  },
  {
   "cell_type": "code",
   "execution_count": 8,
   "metadata": {},
   "outputs": [
    {
     "data": {
      "text/plain": [
       "'!\"#$%&\\'()*+,-./:;<=>?@[\\\\]^_`{|}~'"
      ]
     },
     "execution_count": 8,
     "metadata": {},
     "output_type": "execute_result"
    }
   ],
   "source": [
    "string.punctuation"
   ]
  },
  {
   "cell_type": "code",
   "execution_count": 9,
   "metadata": {},
   "outputs": [
    {
     "data": {
      "text/plain": [
       "'0123456789abcdefghijklmnopqrstuvwxyzABCDEFGHIJKLMNOPQRSTUVWXYZ!\"#$%&\\'()*+,-./:;<=>?@[\\\\]^_`{|}~ \\t\\n\\r\\x0b\\x0c'"
      ]
     },
     "execution_count": 9,
     "metadata": {},
     "output_type": "execute_result"
    }
   ],
   "source": [
    "string.printable"
   ]
  },
  {
   "cell_type": "code",
   "execution_count": 10,
   "metadata": {},
   "outputs": [
    {
     "data": {
      "text/plain": [
       "' \\t\\n\\r\\x0b\\x0c'"
      ]
     },
     "execution_count": 10,
     "metadata": {},
     "output_type": "execute_result"
    }
   ],
   "source": [
    "string.whitespace"
   ]
  },
  {
   "cell_type": "markdown",
   "metadata": {},
   "source": [
    "### 文字列書式としての `format` 結構使う\n",
    "組み込みの文字列 (`string`) クラスには、 PEP 3101 で記述されている `format()` メソッドによって複雑な変数置換と  \n",
    "値のフォーマットを行う機能があります。 `string` モジュールの `Formatter` クラスでは、  \n",
    "組み込みの `format()` メソッドと同じ実装を使用して、独自の文字列フォーマットの振る舞いを作成してカスタマイズすることができます。  "
   ]
  },
  {
   "cell_type": "markdown",
   "metadata": {},
   "source": [
    "#### `Formatter`クラス\n",
    "**`format`メソッド**"
   ]
  },
  {
   "cell_type": "code",
   "execution_count": 12,
   "metadata": {},
   "outputs": [
    {
     "data": {
      "text/plain": [
       "'名前はxxです。年齢はyy歳です。'"
      ]
     },
     "execution_count": 12,
     "metadata": {},
     "output_type": "execute_result"
    }
   ],
   "source": [
    "\"名前はxxです。年齢はyy歳です。\""
   ]
  },
  {
   "cell_type": "code",
   "execution_count": 15,
   "metadata": {},
   "outputs": [],
   "source": [
    "xx = '猫'"
   ]
  },
  {
   "cell_type": "code",
   "execution_count": 19,
   "metadata": {},
   "outputs": [],
   "source": [
    "yy = 2"
   ]
  },
  {
   "cell_type": "code",
   "execution_count": 20,
   "metadata": {},
   "outputs": [
    {
     "data": {
      "text/plain": [
       "'名前は猫       です。年齢は2.000000歳です。'"
      ]
     },
     "execution_count": 20,
     "metadata": {},
     "output_type": "execute_result"
    }
   ],
   "source": [
    "\"名前は{:<8s}です。年齢は{:>3f}歳です。\".format(xx, yy)"
   ]
  },
  {
   "cell_type": "markdown",
   "metadata": {},
   "source": [
    "**`format`で扱う、整数の型**"
   ]
  },
  {
   "cell_type": "markdown",
   "metadata": {},
   "source": [
    "|  型  |  内容  |\n",
    "| :---- | :---- |\n",
    "| \"b\" | 2進数。出力される数値は2を基数とします。 |\n",
    "| \"c\" | 文字。数値を対応する Unicode 文字に変換します。 |\n",
    "| \"d\" | 10進数。出力される数値は10を基数とします。 |\n",
    "| \"o\" | 8進数。出力される数値は8を基数とします。 |\n",
    "| \"x\" | 16進数。出力される数値は16を基数とします。 10進で9を超える数字には小文字が使われます。 |\n",
    "| \"X\" | 16進数。出力される数値は16を基数とします。 10進で9を越える数字には大文字が使われます。 |\n",
    "| \"n\" | 数値。現在のロケールに従い、区切り文字を挿入することを除けば、 'd' と同じです。 |\n",
    "| None | 'd' と同じです。 |"
   ]
  },
  {
   "cell_type": "markdown",
   "metadata": {},
   "source": [
    "**`format`で扱う、浮動小数点や10進数の型**"
   ]
  },
  {
   "cell_type": "markdown",
   "metadata": {},
   "source": [
    "|  型  |  内容  |\n",
    "| :---- | :---- |\n",
    "| \"e\" | 指数表記。 'e' を使用 |\n",
    "| \"E\" | 指数表記。 'E' を使用 |\n",
    "| \"f\" | 固定小数点数表記 |\n",
    "| \"F\" | 固定小数点数表記。nan を NAN 、inf を INF に変換 |\n",
    "| \"g\" | 指定した精度に合わせて丸めたうえで桁に応じて固定小数点か指数表記で表示 |\n",
    "| \"G\" | 数値が大きくなったとき \"E\" に切り替わることを除き \"g\" と同じ |\n",
    "| \"n\" | ロケールに合わせて、数値分割文字が挿入されることを除き \"g\" と同じ |\n",
    "| \"%\" | 数値を 100 倍し固定小数点数表記(\"f\")でパーセントを付けて表示 |\n",
    "| None | \"g\" と同様だが固定小数点表記の時に小数点の後に少なくとも 1 つの数字がある |"
   ]
  },
  {
   "cell_type": "markdown",
   "metadata": {},
   "source": [
    "#### `fill`と`align`"
   ]
  },
  {
   "cell_type": "markdown",
   "metadata": {},
   "source": [
    "|  型  |  内容  |\n",
    "| :---- | :---- |\n",
    "| \"<\" | 左詰めで表示 |\n",
    "| \">\" | 右詰めで表示 |\n",
    "| \"^\" | 中央揃えで表示 |\n",
    "| \"=\" | 符号と値の間を埋める文字で埋めて表示 |"
   ]
  },
  {
   "cell_type": "code",
   "execution_count": 25,
   "metadata": {},
   "outputs": [
    {
     "data": {
      "text/plain": [
       "'名前は  猫です。年齢は2歳です。'"
      ]
     },
     "execution_count": 25,
     "metadata": {},
     "output_type": "execute_result"
    }
   ],
   "source": [
    "\"名前は{:>3s}です。年齢は{:<g}歳です。\".format(xx, yy)"
   ]
  },
  {
   "cell_type": "code",
   "execution_count": 27,
   "metadata": {},
   "outputs": [
    {
     "data": {
      "text/plain": [
       "'名前は  猫  です。年齢は2.000000歳です。'"
      ]
     },
     "execution_count": 27,
     "metadata": {},
     "output_type": "execute_result"
    }
   ],
   "source": [
    "\"名前は{:^5s}です。年齢は{:<f}歳です。\".format(xx, yy)"
   ]
  },
  {
   "cell_type": "code",
   "execution_count": 30,
   "metadata": {},
   "outputs": [
    {
     "name": "stdout",
     "output_type": "stream",
     "text": [
      "1******\n"
     ]
    }
   ],
   "source": [
    "print(\"{:*<7d}\".format(1))"
   ]
  },
  {
   "cell_type": "code",
   "execution_count": 31,
   "metadata": {},
   "outputs": [
    {
     "name": "stdout",
     "output_type": "stream",
     "text": [
      "---1---\n"
     ]
    }
   ],
   "source": [
    "print(\"{:-^7d}\".format(1))"
   ]
  },
  {
   "cell_type": "code",
   "execution_count": 32,
   "metadata": {},
   "outputs": [
    {
     "name": "stdout",
     "output_type": "stream",
     "text": [
      "<class 'str'>\n"
     ]
    }
   ],
   "source": [
    "print(type(\"数値={:*<7d}\".format(1)))"
   ]
  },
  {
   "cell_type": "code",
   "execution_count": 33,
   "metadata": {},
   "outputs": [
    {
     "data": {
      "text/plain": [
       "'a, b, c'"
      ]
     },
     "execution_count": 33,
     "metadata": {},
     "output_type": "execute_result"
    }
   ],
   "source": [
    "'{0}, {1}, {2}'.format('a', 'b', 'c')"
   ]
  },
  {
   "cell_type": "code",
   "execution_count": 34,
   "metadata": {},
   "outputs": [
    {
     "data": {
      "text/plain": [
       "'a, b, c'"
      ]
     },
     "execution_count": 34,
     "metadata": {},
     "output_type": "execute_result"
    }
   ],
   "source": [
    "'{}, {}, {}'.format('a', 'b', 'c')"
   ]
  },
  {
   "cell_type": "code",
   "execution_count": 35,
   "metadata": {},
   "outputs": [
    {
     "data": {
      "text/plain": [
       "'c, b, a'"
      ]
     },
     "execution_count": 35,
     "metadata": {},
     "output_type": "execute_result"
    }
   ],
   "source": [
    "'{2}, {1}, {0}'.format('a', 'b', 'c')"
   ]
  },
  {
   "cell_type": "code",
   "execution_count": 36,
   "metadata": {},
   "outputs": [
    {
     "data": {
      "text/plain": [
       "'c, b, a'"
      ]
     },
     "execution_count": 36,
     "metadata": {},
     "output_type": "execute_result"
    }
   ],
   "source": [
    "'{2}, {1}, {0}'.format(*'abc')"
   ]
  },
  {
   "cell_type": "code",
   "execution_count": 38,
   "metadata": {},
   "outputs": [
    {
     "data": {
      "text/plain": [
       "'abra cad abra'"
      ]
     },
     "execution_count": 38,
     "metadata": {},
     "output_type": "execute_result"
    }
   ],
   "source": [
    "'{0} {1} {0}'.format('abra', 'cad')"
   ]
  },
  {
   "cell_type": "markdown",
   "metadata": {},
   "source": [
    "### `string.Templete`テンプレート文字列は $ に基づいた置換をサポート"
   ]
  },
  {
   "cell_type": "code",
   "execution_count": 39,
   "metadata": {},
   "outputs": [],
   "source": [
    "from string import Template"
   ]
  },
  {
   "cell_type": "code",
   "execution_count": 44,
   "metadata": {},
   "outputs": [],
   "source": [
    "CAT_NAME = '猫が大好き猫太郎'"
   ]
  },
  {
   "cell_type": "code",
   "execution_count": 45,
   "metadata": {},
   "outputs": [],
   "source": [
    "STATE_LOGIN = 'ログインしています...！'"
   ]
  },
  {
   "cell_type": "code",
   "execution_count": 46,
   "metadata": {},
   "outputs": [],
   "source": [
    "t = Template('メッセージログ: ${first}, ${second}')"
   ]
  },
  {
   "cell_type": "code",
   "execution_count": 47,
   "metadata": {},
   "outputs": [
    {
     "name": "stdout",
     "output_type": "stream",
     "text": [
      "メッセージログ: 猫が大好き猫太郎, ログインしています...！\n"
     ]
    }
   ],
   "source": [
    "print(t.substitute(first=CAT_NAME, second=STATE_LOGIN))"
   ]
  },
  {
   "cell_type": "markdown",
   "metadata": {},
   "source": [
    "## 正規表現のための、`re`モジュール\n",
    "**自然言語処理をはじめとして、様々なところでたくさんお世話になるモジュールです。**  \n",
    "Perl に見られる正規表現マッチング操作と同様のものを提供らしい。  \n",
    "  \n",
    "正規表現では、特殊な形式を表すためや、特殊文字をその特殊な意味を発動させず使うために、バックスラッシュ文字 ('`\\`') を使います。  \n",
    "  \n",
    "正規表現パターンに Python の `raw` 文字列記法を使います。 '`r`' を前置した文字列リテラル内ではバックスラッシュが特別扱いされません。  \n",
    "従って \"`\\n`\" が改行一文字からなる文字列であるのに対して、 `r\"\\n\"` は '`\\`' と '`n`' の二文字からなる文字列です。  \n",
    "  \n",
    "通常、 Python コード中では、パターンをこの `raw` 文字列記法を使って表現します。"
   ]
  },
  {
   "cell_type": "markdown",
   "metadata": {},
   "source": [
    "**正規表現で扱う、マッチング特殊記号**\n",
    "さまざまあります...！"
   ]
  },
  {
   "cell_type": "markdown",
   "metadata": {},
   "source": [
    "|  特殊記号  | 内容  |\n",
    "| :---- | :---- |\n",
    "| `.` | デフォルトのモードでは改行以外の任意の文字にマッチ |\n",
    "| `^` | 文字列の先頭にマッチ |\n",
    "| `$` | 文字列の末尾、あるいは文字列の末尾の改行の直前にマッチ、条件で、改行の前にもマッチします |\n",
    "| `*` | 直前の正規表現を 0 回以上、できるだけ多く繰り返したものにマッチさせる結果の正規表現にします  |\n",
    "| `+` | 直前の正規表現を 1 回以上繰り返したものにマッチさせる結果の正規表現にします |\n",
    "| `?` | 直前の正規表現を 0 回か 1 回繰り返したものにマッチさせる結果の正規表現にします |\n",
    "| `*?`, `+?`, `??` | '*' 、 '+' 、および '?' 修飾子は全て 貪欲 (greedy) マッチで、できるだけ多くのテキストにマッチします |\n",
    "| `{m}` | 直前の正規表現をちょうど m 回繰り返したものにマッチさせるよう指定します |\n",
    "| `{m,n}` | 直前の正規表現を m 回から n 回、できるだけ多く繰り返したものにマッチさせる結果の正規表現にします |\n",
    "| `{m,n}?` | 結果の正規表現は、前にある正規表現を、m 回から n 回まで繰り返したものにマッチし、できるだけ 少なく 繰り返したものにマッチするようにします |\n",
    "| `\\` | 特殊文字をエスケープ ( '*' や '?' などの文字にマッチできるようにする) し、または特殊シーケンスを合図します |\n",
    "| `[]?` | 文字の集合を指定するのに使います |\n",
    "| `｜` | A と B を任意の正規表現として、 A|B は A と B のいずれかにマッチする正規表現を作成します。 |\n",
    "| `(...)` | 丸括弧で囲まれた正規表現にマッチするとともに、グループの開始と終了を表します |\n",
    "| `(?...)` | これは拡張記法で、'?' に続く最初の文字がこの構造の意味と特有の構文を決定します |\n",
    "| `(?aiLmsux)` | ('a' 、 'i' 、 'L' 、 'm' 、 's' 、 'u' 、 'x' の集合から 1 文字以上。) このグループは空文字列にマッチします |\n",
    "| `(?:...)` | 丸括弧)()の、キャプチャをしないものになります |\n",
    "| `(?aiLmsux-imsx:...)` | ('a' 、 'i' 、 'L' 、 'm' 、 's' 、 'u' 、 'x' の集合から 0 文字以上、必要ならさらに '-' に続けて 'i' 、 'm' 、 's' 、 'x' の集合から 1 文字以上。) 文字は表現の一部に、対応するフラグを設定または除去します |\n",
    "| `(?P<name>...)` | 通常の丸括弧に似ていますが、このグループがマッチした部分文字列はシンボリックグループ名 name でアクセスできます。 |\n",
    "| `(?P=name)` | 名前付きグループへの後方参照です |\n",
    "| `(?#...)` | コメントです。括弧の中身は単純に無視されます。 |\n",
    "| `(?=...)` | ... が次に続くものにマッチする場合、マッチします |\n",
    "| `(?!...)` | ... が次に続くものにマッチしなければマッチします  |\n",
    "| `(?<=...)` | ... の文字列における現在位置の前に、現在位置で終わる ... とのマッチがあれば、マッチします |\n",
    "| `(?<!...)` | その文字列における現在位置の前に ... とのマッチがなければ、マッチします |\n",
    "| `(?(id/name)yes-pattern|no-pattern)` | 与えられた id や name のグループが存在すれば yes-pattern との、存在しなければ no-pattern とのマッチを試みます |\n",
    "| `\\number` | 同じ番号のグループの中身にマッチします |\n",
    "| `\\A` | 文字列の先頭でのみマッチします |\n",
    "| `\\b` | 空文字列にマッチしますが、単語の先頭か末尾でのみです。 |\n",
    "| `\\B` | 空文字列にマッチしますが、それが単語の先頭か末尾 でない ときのみです |\n",
    "| `\\d` | Unicode (str) パターンでは任意の Unicode 10 進数字 (Unicode 文字カテゴリ [Nd]) にマッチ, 8 ビット (bytes) パターンでは任意の 10 進数字にマッチします |\n",
    "| `\\D` | 10 進数字でない任意の文字にマッチします |\n",
    "| `\\S` | 空白文字ではない任意の文字にマッチします |\n",
    "| `\\W` | 単語文字ではない任意の文字にマッチします |\n",
    "| `\\Z` | 文字列の末尾でのみマッチします |"
   ]
  },
  {
   "cell_type": "markdown",
   "metadata": {},
   "source": [
    "### `re.compile`メソッド\n",
    "正規表現パターンを 正規表現オブジェクト にコンパイルし、  \n",
    "`match()` 、 `search()` その他のメソッドを使ってマッチングに使えるようにします"
   ]
  },
  {
   "cell_type": "code",
   "execution_count": 48,
   "metadata": {},
   "outputs": [],
   "source": [
    "import re"
   ]
  },
  {
   "cell_type": "code",
   "execution_count": 49,
   "metadata": {},
   "outputs": [],
   "source": [
    "s = \"nekoneko daisuki club\""
   ]
  },
  {
   "cell_type": "code",
   "execution_count": 50,
   "metadata": {},
   "outputs": [],
   "source": [
    "re_compile = re.compile(r'^neko')"
   ]
  },
  {
   "cell_type": "code",
   "execution_count": 51,
   "metadata": {},
   "outputs": [],
   "source": [
    "m = re_compile.match(s)"
   ]
  },
  {
   "cell_type": "code",
   "execution_count": 52,
   "metadata": {},
   "outputs": [
    {
     "data": {
      "text/plain": [
       "<_sre.SRE_Match object; span=(0, 4), match='neko'>"
      ]
     },
     "execution_count": 52,
     "metadata": {},
     "output_type": "execute_result"
    }
   ],
   "source": [
    "m"
   ]
  },
  {
   "cell_type": "code",
   "execution_count": 55,
   "metadata": {},
   "outputs": [],
   "source": [
    "email_list = [\n",
    "    'neko_a@neko.ne.jp',\n",
    "    'neko_b@neko.ne.jp',\n",
    "    'neko_a@neko.com',\n",
    "    'neko_a@neko.neko',\n",
    "    'neko_b@neko.jp',\n",
    "    'neko_d@neko.jp',\n",
    "    'neko_1@neko.jp'\n",
    "]"
   ]
  },
  {
   "cell_type": "code",
   "execution_count": 56,
   "metadata": {},
   "outputs": [],
   "source": [
    "re_compile_domain = re.compile(r'([a-z]+)@([a-z]+)\\.jp')"
   ]
  },
  {
   "cell_type": "code",
   "execution_count": 58,
   "metadata": {},
   "outputs": [
    {
     "name": "stdout",
     "output_type": "stream",
     "text": [
      "None\n",
      "None\n",
      "None\n",
      "None\n",
      "None\n",
      "None\n",
      "None\n"
     ]
    }
   ],
   "source": [
    "for email in email_list:\n",
    "    m = re_compile_domain.match(email)\n",
    "    print(m)"
   ]
  },
  {
   "cell_type": "code",
   "execution_count": 59,
   "metadata": {},
   "outputs": [],
   "source": [
    "re_compile_domain = re.compile(r'(.*?)@([a-z]+)\\.jp')"
   ]
  },
  {
   "cell_type": "code",
   "execution_count": 60,
   "metadata": {},
   "outputs": [
    {
     "name": "stdout",
     "output_type": "stream",
     "text": [
      "None\n",
      "None\n",
      "None\n",
      "None\n",
      "<_sre.SRE_Match object; span=(0, 14), match='neko_b@neko.jp'>\n",
      "<_sre.SRE_Match object; span=(0, 14), match='neko_d@neko.jp'>\n",
      "<_sre.SRE_Match object; span=(0, 14), match='neko_1@neko.jp'>\n"
     ]
    }
   ],
   "source": [
    "for email in email_list:\n",
    "    m = re_compile_domain.match(email)\n",
    "    print(m)"
   ]
  },
  {
   "cell_type": "code",
   "execution_count": 61,
   "metadata": {},
   "outputs": [],
   "source": [
    "re_compile_domain = re.compile(r'(.*?_[0-9])@([a-z]+)\\.jp')"
   ]
  },
  {
   "cell_type": "code",
   "execution_count": 62,
   "metadata": {},
   "outputs": [
    {
     "name": "stdout",
     "output_type": "stream",
     "text": [
      "None\n",
      "None\n",
      "None\n",
      "None\n",
      "None\n",
      "None\n",
      "<_sre.SRE_Match object; span=(0, 14), match='neko_1@neko.jp'>\n"
     ]
    }
   ],
   "source": [
    "for email in email_list:\n",
    "    m = re_compile_domain.match(email)\n",
    "    print(m)"
   ]
  },
  {
   "cell_type": "code",
   "execution_count": 63,
   "metadata": {},
   "outputs": [],
   "source": [
    "email_list = [\n",
    "    'neko_a@neko.ne.jp',\n",
    "    'neko_b@neko.ne.jp',\n",
    "    'neko_a@neko.com',\n",
    "    'neko_a@neko.neko',\n",
    "    'neko_b@neko.jp',\n",
    "    'neko_d@neko.jp',\n",
    "    'neko_1@neko.jp',\n",
    "    'neko_1111@neko.jp'\n",
    "]"
   ]
  },
  {
   "cell_type": "code",
   "execution_count": 64,
   "metadata": {},
   "outputs": [
    {
     "name": "stdout",
     "output_type": "stream",
     "text": [
      "None\n",
      "None\n",
      "None\n",
      "None\n",
      "None\n",
      "None\n",
      "<_sre.SRE_Match object; span=(0, 14), match='neko_1@neko.jp'>\n",
      "None\n"
     ]
    }
   ],
   "source": [
    "for email in email_list:\n",
    "    m = re_compile_domain.match(email)\n",
    "    print(m)"
   ]
  },
  {
   "cell_type": "code",
   "execution_count": 65,
   "metadata": {},
   "outputs": [],
   "source": [
    "re_compile_domain = re.compile(r'(.*?_[0-9]+)@([a-z]+)\\.jp')"
   ]
  },
  {
   "cell_type": "code",
   "execution_count": 66,
   "metadata": {},
   "outputs": [
    {
     "name": "stdout",
     "output_type": "stream",
     "text": [
      "None\n",
      "None\n",
      "None\n",
      "None\n",
      "None\n",
      "None\n",
      "<_sre.SRE_Match object; span=(0, 14), match='neko_1@neko.jp'>\n",
      "<_sre.SRE_Match object; span=(0, 17), match='neko_1111@neko.jp'>\n"
     ]
    }
   ],
   "source": [
    "for email in email_list:\n",
    "    m = re_compile_domain.match(email)\n",
    "    print(m)"
   ]
  },
  {
   "cell_type": "markdown",
   "metadata": {},
   "source": [
    "### `re.search(pattern, string, flags=0)` \n",
    "`string` を走査し、正規表現 `pattern` がマッチを生じさせる最初の場所を探して、対応する マッチオブジェクト を返します。"
   ]
  },
  {
   "cell_type": "code",
   "execution_count": 68,
   "metadata": {},
   "outputs": [],
   "source": [
    "s = 'nekoneko@neko.com'"
   ]
  },
  {
   "cell_type": "code",
   "execution_count": 69,
   "metadata": {},
   "outputs": [],
   "source": [
    "m = re.search(r'[a-z]+@[a-z]+\\.[a-z]+', s)"
   ]
  },
  {
   "cell_type": "code",
   "execution_count": 70,
   "metadata": {},
   "outputs": [
    {
     "data": {
      "text/plain": [
       "<_sre.SRE_Match object; span=(0, 17), match='nekoneko@neko.com'>"
      ]
     },
     "execution_count": 70,
     "metadata": {},
     "output_type": "execute_result"
    }
   ],
   "source": [
    "m"
   ]
  },
  {
   "cell_type": "code",
   "execution_count": 71,
   "metadata": {},
   "outputs": [
    {
     "data": {
      "text/plain": [
       "'nekoneko@neko.com'"
      ]
     },
     "execution_count": 71,
     "metadata": {},
     "output_type": "execute_result"
    }
   ],
   "source": [
    "m[0]"
   ]
  },
  {
   "cell_type": "code",
   "execution_count": 72,
   "metadata": {},
   "outputs": [
    {
     "name": "stdout",
     "output_type": "stream",
     "text": [
      "0\n"
     ]
    }
   ],
   "source": [
    "print(m.start())"
   ]
  },
  {
   "cell_type": "code",
   "execution_count": 73,
   "metadata": {},
   "outputs": [
    {
     "name": "stdout",
     "output_type": "stream",
     "text": [
      "17\n"
     ]
    }
   ],
   "source": [
    "print(m.end())"
   ]
  },
  {
   "cell_type": "code",
   "execution_count": 74,
   "metadata": {},
   "outputs": [
    {
     "name": "stdout",
     "output_type": "stream",
     "text": [
      "(0, 17)\n"
     ]
    }
   ],
   "source": [
    "print(m.span())"
   ]
  },
  {
   "cell_type": "code",
   "execution_count": 75,
   "metadata": {},
   "outputs": [
    {
     "name": "stdout",
     "output_type": "stream",
     "text": [
      "nekoneko@neko.com\n"
     ]
    }
   ],
   "source": [
    "print(m.group())"
   ]
  },
  {
   "cell_type": "markdown",
   "metadata": {},
   "source": [
    "### `re.match(pattern, string, flags=0)`\n",
    "`string` の先頭で 0 個以上の文字が正規表現 `pattern` にマッチすれば、対応する マッチオブジェクト を返します。"
   ]
  },
  {
   "cell_type": "code",
   "execution_count": 76,
   "metadata": {},
   "outputs": [],
   "source": [
    "s = 'nekoneko@neko.com'"
   ]
  },
  {
   "cell_type": "code",
   "execution_count": 77,
   "metadata": {},
   "outputs": [],
   "source": [
    "m = re.match(r'[a-z]+@[a-z]+\\.[a-z]+', s)"
   ]
  },
  {
   "cell_type": "code",
   "execution_count": 78,
   "metadata": {},
   "outputs": [
    {
     "data": {
      "text/plain": [
       "<_sre.SRE_Match object; span=(0, 17), match='nekoneko@neko.com'>"
      ]
     },
     "execution_count": 78,
     "metadata": {},
     "output_type": "execute_result"
    }
   ],
   "source": [
    "m"
   ]
  },
  {
   "cell_type": "code",
   "execution_count": 79,
   "metadata": {},
   "outputs": [
    {
     "name": "stdout",
     "output_type": "stream",
     "text": [
      "nekoneko@neko.com\n"
     ]
    }
   ],
   "source": [
    "print(m.group())"
   ]
  },
  {
   "cell_type": "code",
   "execution_count": 91,
   "metadata": {},
   "outputs": [],
   "source": [
    "# \\wはデフォルトで全角の日本語や英数字などにもマッチ\n",
    "m = re.match(r'\\w+', 'あいう漢字ＡＢＣ１２３')"
   ]
  },
  {
   "cell_type": "code",
   "execution_count": 92,
   "metadata": {},
   "outputs": [
    {
     "data": {
      "text/plain": [
       "'あいう漢字ＡＢＣ１２３'"
      ]
     },
     "execution_count": 92,
     "metadata": {},
     "output_type": "execute_result"
    }
   ],
   "source": [
    "m.group()"
   ]
  },
  {
   "cell_type": "markdown",
   "metadata": {},
   "source": [
    "ASCII文字にのみマッチさせたい場合は..."
   ]
  },
  {
   "cell_type": "code",
   "execution_count": 93,
   "metadata": {},
   "outputs": [],
   "source": [
    "m = re.match(r'\\w+', 'あいう漢字ＡＢＣ１２３', flags=re.ASCII)"
   ]
  },
  {
   "cell_type": "code",
   "execution_count": 95,
   "metadata": {},
   "outputs": [
    {
     "name": "stdout",
     "output_type": "stream",
     "text": [
      "None\n"
     ]
    }
   ],
   "source": [
    "print(m)"
   ]
  },
  {
   "cell_type": "markdown",
   "metadata": {},
   "source": [
    "**string 中のどこででもマッチさせたいなら、代わりに search() を使ってください**"
   ]
  },
  {
   "cell_type": "markdown",
   "metadata": {},
   "source": [
    "### `search()` vs `match()`"
   ]
  },
  {
   "cell_type": "code",
   "execution_count": 81,
   "metadata": {},
   "outputs": [],
   "source": [
    "# マッチしない\n",
    "re.match(\"c\", \"abcdef\")"
   ]
  },
  {
   "cell_type": "code",
   "execution_count": 82,
   "metadata": {},
   "outputs": [
    {
     "data": {
      "text/plain": [
       "<_sre.SRE_Match object; span=(2, 3), match='c'>"
      ]
     },
     "execution_count": 82,
     "metadata": {},
     "output_type": "execute_result"
    }
   ],
   "source": [
    "# マッチする\n",
    "re.search(\"c\", \"abcdef\") "
   ]
  },
  {
   "cell_type": "markdown",
   "metadata": {},
   "source": [
    "**これは、`search`が文字列の中まで探してくれるから**"
   ]
  },
  {
   "cell_type": "code",
   "execution_count": 83,
   "metadata": {},
   "outputs": [],
   "source": [
    "# マッチしない\n",
    "re.search(\"^c\", \"abcdef\")"
   ]
  },
  {
   "cell_type": "code",
   "execution_count": 84,
   "metadata": {},
   "outputs": [
    {
     "data": {
      "text/plain": [
       "<_sre.SRE_Match object; span=(0, 1), match='a'>"
      ]
     },
     "execution_count": 84,
     "metadata": {},
     "output_type": "execute_result"
    }
   ],
   "source": [
    "# マッチする\n",
    "re.search(\"^a\", \"abcdef\")"
   ]
  },
  {
   "cell_type": "markdown",
   "metadata": {},
   "source": [
    "### `re.fullmatch(pattern, string, flags=0)`\n",
    "`string` 全体が正規表現 `pattern` にマッチするなら、対応するマッチオブジェクトを返します。  \n",
    "ある文字列が、指定した正規表現パターンに完全に一致するかどうかをみています。"
   ]
  },
  {
   "cell_type": "code",
   "execution_count": 85,
   "metadata": {},
   "outputs": [],
   "source": [
    "PATTERN = r'\\d{4}/\\d{2}/\\d{2}'"
   ]
  },
  {
   "cell_type": "code",
   "execution_count": 86,
   "metadata": {},
   "outputs": [
    {
     "name": "stdout",
     "output_type": "stream",
     "text": [
      "マッチしたよ！\n"
     ]
    }
   ],
   "source": [
    "if re.fullmatch(PATTERN, '2021/05/12'):\n",
    "    print('マッチしたよ！')"
   ]
  },
  {
   "cell_type": "code",
   "execution_count": 87,
   "metadata": {},
   "outputs": [],
   "source": [
    "if re.fullmatch(PATTERN, '2020/1/9'):\n",
    "    print('マッチしたよ！')"
   ]
  },
  {
   "cell_type": "markdown",
   "metadata": {},
   "source": [
    "### `re.split(pattern, string, maxsplit=0, flags=0)`\n",
    "`string` を、出現した `pattern` で分割します。 `pattern` 中でキャプチャの丸括弧が使われていれば、  \n",
    "パターン中の全てのグループのテキストも結果のリストの一部として返されます。"
   ]
  },
  {
   "cell_type": "code",
   "execution_count": 88,
   "metadata": {},
   "outputs": [
    {
     "data": {
      "text/plain": [
       "['Words', 'words', 'words', '']"
      ]
     },
     "execution_count": 88,
     "metadata": {},
     "output_type": "execute_result"
    }
   ],
   "source": [
    "re.split(r'\\W+', 'Words, words, words.')"
   ]
  },
  {
   "cell_type": "code",
   "execution_count": 89,
   "metadata": {},
   "outputs": [
    {
     "data": {
      "text/plain": [
       "['Words', ', ', 'words', ', ', 'words', '.', '']"
      ]
     },
     "execution_count": 89,
     "metadata": {},
     "output_type": "execute_result"
    }
   ],
   "source": [
    "re.split(r'(\\W+)', 'Words, words, words.')"
   ]
  },
  {
   "cell_type": "code",
   "execution_count": 90,
   "metadata": {},
   "outputs": [
    {
     "data": {
      "text/plain": [
       "['Words', 'words, words.']"
      ]
     },
     "execution_count": 90,
     "metadata": {},
     "output_type": "execute_result"
    }
   ],
   "source": [
    "re.split(r'\\W+', 'Words, words, words.', 1)"
   ]
  },
  {
   "cell_type": "markdown",
   "metadata": {},
   "source": [
    "### `re.findall(pattern, string, flags=0)`\n",
    "`string` 中の `pattern` による全ての重複しないマッチを、文字列のリストとして返します。"
   ]
  },
  {
   "cell_type": "code",
   "execution_count": 103,
   "metadata": {},
   "outputs": [],
   "source": [
    "s = 'aaa-xxx \\n bbb-yyy \\n ccc-zzz'"
   ]
  },
  {
   "cell_type": "code",
   "execution_count": 104,
   "metadata": {},
   "outputs": [
    {
     "name": "stdout",
     "output_type": "stream",
     "text": [
      "aaa-xxx \n",
      " bbb-yyy \n",
      " ccc-zzz\n"
     ]
    }
   ],
   "source": [
    "print(s)"
   ]
  },
  {
   "cell_type": "code",
   "execution_count": 105,
   "metadata": {},
   "outputs": [],
   "source": [
    "result = re.findall('[a-z]+', s)"
   ]
  },
  {
   "cell_type": "code",
   "execution_count": 106,
   "metadata": {},
   "outputs": [
    {
     "name": "stdout",
     "output_type": "stream",
     "text": [
      "['aaa', 'xxx', 'bbb', 'yyy', 'ccc', 'zzz']\n"
     ]
    }
   ],
   "source": [
    "print(result)"
   ]
  },
  {
   "cell_type": "code",
   "execution_count": 107,
   "metadata": {},
   "outputs": [],
   "source": [
    "result = re.findall('^[a-z]+', s)"
   ]
  },
  {
   "cell_type": "code",
   "execution_count": 108,
   "metadata": {},
   "outputs": [
    {
     "name": "stdout",
     "output_type": "stream",
     "text": [
      "['aaa']\n"
     ]
    }
   ],
   "source": [
    "print(result)"
   ]
  },
  {
   "cell_type": "markdown",
   "metadata": {},
   "source": [
    "### `re.finditer(pattern, string, flags=0)`\n",
    "`string` 中の正規表現 `pattern` の重複しないマッチ全てに渡る マッチオブジェクト を `yield` する イテレータ を返します。"
   ]
  },
  {
   "cell_type": "code",
   "execution_count": 125,
   "metadata": {},
   "outputs": [],
   "source": [
    "s = \"\"\"abc\n",
    "Hello world!\n",
    "Hello Python!\n",
    "xyz\"\"\""
   ]
  },
  {
   "cell_type": "code",
   "execution_count": 127,
   "metadata": {},
   "outputs": [],
   "source": [
    "m = re.search(r'^Hello (.*)$', s, re.MULTILINE)"
   ]
  },
  {
   "cell_type": "code",
   "execution_count": 128,
   "metadata": {},
   "outputs": [
    {
     "data": {
      "text/plain": [
       "'Hello world!'"
      ]
     },
     "execution_count": 128,
     "metadata": {},
     "output_type": "execute_result"
    }
   ],
   "source": [
    "m.group()"
   ]
  },
  {
   "cell_type": "code",
   "execution_count": 129,
   "metadata": {},
   "outputs": [
    {
     "name": "stdout",
     "output_type": "stream",
     "text": [
      "('world!',)\n",
      "('Python!',)\n"
     ]
    }
   ],
   "source": [
    "for m in re.finditer(r'^Hello (.*)$', s, re.MULTILINE):\n",
    "    print(m.groups())"
   ]
  },
  {
   "cell_type": "markdown",
   "metadata": {},
   "source": [
    "### `re.sub(pattern, repl, string, count=0, flags=0)`\n",
    "`string` 中に出現する最も左の重複しない `pattern` を置換 `repl` で置換することで得られる文字列を返します。 "
   ]
  },
  {
   "cell_type": "code",
   "execution_count": 131,
   "metadata": {},
   "outputs": [],
   "source": [
    "text = \"猫は可愛いけど、自由奔放でなかなか懐いてくれない。\""
   ]
  },
  {
   "cell_type": "code",
   "execution_count": 132,
   "metadata": {},
   "outputs": [
    {
     "data": {
      "text/plain": [
       "'猫は可愛いけど、フリーダムでなかなか懐いてくれない。'"
      ]
     },
     "execution_count": 132,
     "metadata": {},
     "output_type": "execute_result"
    }
   ],
   "source": [
    "re.sub('自由奔放',\"フリーダム\",text)"
   ]
  },
  {
   "cell_type": "code",
   "execution_count": 133,
   "metadata": {},
   "outputs": [],
   "source": [
    "mobile_list = \"\"\"\\\n",
    "070-1111-1111 CatA\n",
    "080-2222-2222 CatB\n",
    "090-3333-3333 CatC\n",
    "\"\"\""
   ]
  },
  {
   "cell_type": "code",
   "execution_count": 134,
   "metadata": {},
   "outputs": [
    {
     "data": {
      "text/plain": [
       "'***-****-**** CatA\\n080-2222-2222 CatB\\n090-3333-3333 CatC\\n'"
      ]
     },
     "execution_count": 134,
     "metadata": {},
     "output_type": "execute_result"
    }
   ],
   "source": [
    "re.sub('^[0-9]{3}-[0-9]{4}-[0-9]{4}',\"***-****-****\",mobile_list)"
   ]
  },
  {
   "cell_type": "code",
   "execution_count": 135,
   "metadata": {},
   "outputs": [
    {
     "data": {
      "text/plain": [
       "'***-****-**** CatA\\n***-****-**** CatB\\n***-****-**** CatC\\n'"
      ]
     },
     "execution_count": 135,
     "metadata": {},
     "output_type": "execute_result"
    }
   ],
   "source": [
    "re.sub('^[0-9]{3}-[0-9]{4}-[0-9]{4}',\"***-****-****\",mobile_list, flags=re.MULTILINE)"
   ]
  },
  {
   "cell_type": "markdown",
   "metadata": {},
   "source": [
    "### `re.escape(pattern)`\n",
    "`pattern` 中の特殊文字をエスケープします。これは正規表現メタ文字を含みうる任意のリテラル文字列にマッチしたい時に便利"
   ]
  },
  {
   "cell_type": "code",
   "execution_count": 136,
   "metadata": {},
   "outputs": [
    {
     "name": "stdout",
     "output_type": "stream",
     "text": [
      "http\\:\\/\\/www\\.python\\.org\n"
     ]
    }
   ],
   "source": [
    "print(re.escape('http://www.python.org'))"
   ]
  },
  {
   "cell_type": "markdown",
   "metadata": {},
   "source": [
    "### 大文字小文字を区別しない `re.IGNORECASE`\n",
    "デフォルトでは大文字小文字が区別されるため、  \n",
    "両方にマッチさせる際には、大文字と小文字の両方をパターンに入れる必要があります"
   ]
  },
  {
   "cell_type": "code",
   "execution_count": 115,
   "metadata": {},
   "outputs": [],
   "source": [
    "m = re.match('[a-zA-Z]+', 'abcABC')"
   ]
  },
  {
   "cell_type": "code",
   "execution_count": 116,
   "metadata": {},
   "outputs": [
    {
     "name": "stdout",
     "output_type": "stream",
     "text": [
      "abcABC\n"
     ]
    }
   ],
   "source": [
    "print(m.group())"
   ]
  },
  {
   "cell_type": "code",
   "execution_count": 117,
   "metadata": {},
   "outputs": [],
   "source": [
    "m = re.match('[a-z]+', 'abcABC', flags=re.IGNORECASE)"
   ]
  },
  {
   "cell_type": "code",
   "execution_count": 118,
   "metadata": {},
   "outputs": [
    {
     "name": "stdout",
     "output_type": "stream",
     "text": [
      "abcABC\n"
     ]
    }
   ],
   "source": [
    "print(m.group())"
   ]
  },
  {
   "cell_type": "code",
   "execution_count": 119,
   "metadata": {},
   "outputs": [],
   "source": [
    "m = re.match('[A-Z]+', 'abcABC', flags=re.IGNORECASE)"
   ]
  },
  {
   "cell_type": "code",
   "execution_count": 120,
   "metadata": {},
   "outputs": [
    {
     "name": "stdout",
     "output_type": "stream",
     "text": [
      "abcABC\n"
     ]
    }
   ],
   "source": [
    "print(m.group())"
   ]
  },
  {
   "cell_type": "markdown",
   "metadata": {},
   "source": [
    "### 各行の先頭・末尾にマッチさせる `re.MULTILINE`"
   ]
  },
  {
   "cell_type": "code",
   "execution_count": 142,
   "metadata": {},
   "outputs": [],
   "source": [
    "s = '''aaa-xxx\n",
    "bbb-yyy\n",
    "ccc-zzz'''"
   ]
  },
  {
   "cell_type": "code",
   "execution_count": 143,
   "metadata": {},
   "outputs": [
    {
     "name": "stdout",
     "output_type": "stream",
     "text": [
      "aaa-xxx\n",
      "bbb-yyy\n",
      "ccc-zzz\n"
     ]
    }
   ],
   "source": [
    "print(s)"
   ]
  },
  {
   "cell_type": "code",
   "execution_count": 144,
   "metadata": {},
   "outputs": [],
   "source": [
    "result = re.findall('^[a-z]+', s)"
   ]
  },
  {
   "cell_type": "code",
   "execution_count": 145,
   "metadata": {},
   "outputs": [],
   "source": [
    "result = re.findall('^[a-z]+', s, flags=re.MULTILINE)"
   ]
  },
  {
   "cell_type": "code",
   "execution_count": 146,
   "metadata": {},
   "outputs": [
    {
     "name": "stdout",
     "output_type": "stream",
     "text": [
      "['aaa', 'bbb', 'ccc']\n"
     ]
    }
   ],
   "source": [
    "print(result)"
   ]
  },
  {
   "cell_type": "markdown",
   "metadata": {},
   "source": [
    "## 次回は、`difflib`を見ていきます...！"
   ]
  }
 ],
 "metadata": {
  "kernelspec": {
   "display_name": "Python 3",
   "language": "python",
   "name": "python3"
  },
  "language_info": {
   "codemirror_mode": {
    "name": "ipython",
    "version": 3
   },
   "file_extension": ".py",
   "mimetype": "text/x-python",
   "name": "python",
   "nbconvert_exporter": "python",
   "pygments_lexer": "ipython3",
   "version": "3.6.5"
  }
 },
 "nbformat": 4,
 "nbformat_minor": 2
}
