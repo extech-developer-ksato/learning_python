{
 "cells": [
  {
   "cell_type": "markdown",
   "metadata": {},
   "source": [
    "## ポリフォーリズム\n",
    "ポリモーフィズム（英: Polymorphism）とは、プログラミング言語の型システムの性質を表すもので、  \n",
    "プログラミング言語の各要素（定数、変数、式、オブジェクト、関数、メソッドなど）についてそれらが複数の型に属することを許す  \n",
    "という性質を指す。ポリモルフィズム、多態性、多相性、多様性とも呼ばれる。  \n",
    "  \n",
    "対義語はモノモーフィズム (Monomorphism)、  \n",
    "単態性、単相性で、プログラミング言語の各要素が唯一つの型に属するという性質を指す[Wiki]\n",
    "  \n",
    "猫(子クラス)だろうが、犬(子クラス)だろうが、動物(親クラス)という括りで抽象化したもの。  "
   ]
  },
  {
   "cell_type": "code",
   "execution_count": 12,
   "metadata": {},
   "outputs": [],
   "source": [
    "# モノモーフィズム\n",
    "class Animal:\n",
    "    def move(self):\n",
    "        print('動作するよ！')\n",
    "\n",
    "\n",
    "class Dog(Animal):\n",
    "    def bow(self):\n",
    "        print('わん！')\n",
    "\n",
    "\n",
    "class Cat(Animal):\n",
    "    def cry(self):\n",
    "        print('にゃ〜ん...')\n",
    "\n",
    "\n",
    "def move_twice(animal):\n",
    "    animal.move()\n",
    "    animal.move()"
   ]
  },
  {
   "cell_type": "code",
   "execution_count": 13,
   "metadata": {},
   "outputs": [
    {
     "name": "stdout",
     "output_type": "stream",
     "text": [
      "動作するよ！\n",
      "動作するよ！\n"
     ]
    }
   ],
   "source": [
    "run_twice(Animal())"
   ]
  },
  {
   "cell_type": "code",
   "execution_count": 14,
   "metadata": {},
   "outputs": [
    {
     "name": "stdout",
     "output_type": "stream",
     "text": [
      "動作するよ！\n",
      "動作するよ！\n"
     ]
    }
   ],
   "source": [
    "run_twice(Dog())"
   ]
  },
  {
   "cell_type": "code",
   "execution_count": 15,
   "metadata": {},
   "outputs": [
    {
     "name": "stdout",
     "output_type": "stream",
     "text": [
      "動作するよ！\n",
      "動作するよ！\n"
     ]
    }
   ],
   "source": [
    "run_twice(Cat())"
   ]
  },
  {
   "cell_type": "code",
   "execution_count": 85,
   "metadata": {},
   "outputs": [],
   "source": [
    "# ポリフォーリズム\n",
    "class Animal:\n",
    "    def cry(self):\n",
    "        print('鳴くよ...！')\n",
    "\n",
    "\n",
    "class Dog(Animal):\n",
    "    def cry(self):\n",
    "        print('わん！')\n",
    "\n",
    "\n",
    "class Cat(Animal):\n",
    "    def cry(self):\n",
    "        print('にゃ〜ん...')\n",
    "\n",
    "class Car(Animal):\n",
    "    def cry(self):\n",
    "        print('プップー！！！')\n",
    "\n",
    "\n",
    "def cry_twice(animal):\n",
    "    animal.cry()\n",
    "    animal.cry()"
   ]
  },
  {
   "cell_type": "code",
   "execution_count": 19,
   "metadata": {},
   "outputs": [
    {
     "name": "stdout",
     "output_type": "stream",
     "text": [
      "鳴くよ...！\n",
      "鳴くよ...！\n"
     ]
    }
   ],
   "source": [
    "cry(Animal())"
   ]
  },
  {
   "cell_type": "code",
   "execution_count": 21,
   "metadata": {},
   "outputs": [
    {
     "name": "stdout",
     "output_type": "stream",
     "text": [
      "わん！\n",
      "わん！\n"
     ]
    }
   ],
   "source": [
    "cry_twice(Dog())"
   ]
  },
  {
   "cell_type": "code",
   "execution_count": 22,
   "metadata": {},
   "outputs": [
    {
     "name": "stdout",
     "output_type": "stream",
     "text": [
      "にゃ〜ん...\n",
      "にゃ〜ん...\n"
     ]
    }
   ],
   "source": [
    "cry_twice(Cat())"
   ]
  },
  {
   "cell_type": "code",
   "execution_count": 86,
   "metadata": {},
   "outputs": [
    {
     "name": "stdout",
     "output_type": "stream",
     "text": [
      "プップー！！！\n",
      "プップー！！！\n"
     ]
    }
   ],
   "source": [
    "cry_twice(Car())"
   ]
  },
  {
   "cell_type": "markdown",
   "metadata": {},
   "source": [
    "車を「鳴く」動物という概念でまとめてしまえば、犬も猫も車も「鳴く物」として扱うことができるというもの、  \n",
    "これが、**ポリモーフィズム**(ポリモーフィズムは、「色々な形に変わる」という意味)。  \n",
    "犬は「わん！」と鳴き、車は「プップー！！！」と鳴きます。"
   ]
  },
  {
   "cell_type": "markdown",
   "metadata": {},
   "source": [
    "## <用語の説明> 抽象化\n",
    "強い関連性のあるデータと処理だけをオブジェクトとしてまとめて、概念を形成することを指します。  \n",
    "もっと簡単に言えば、「具体的な対象から些細な特徴を除いて、本質的な特徴だけを集めた状態」にする、ということです。  \n",
    "  \n",
    "オブジェクト指向プログラミングでは、クラスでインスタンスの属性を定義する時に、  \n",
    "不要な詳細を省略する時に、抽象化を使います。\n",
    "\n",
    "例えば、人には、『肌の色』『目の色』『髪の色』『身長』『体重』『性別』『国籍』...  \n",
    "など、非常に多くの属性があります。  \n",
    "しかし、人を、クラスで表現しようとした時、それら全ての属性が、そのクラスで扱いたい目的に関係があるわけではありません。\n",
    "  \n",
    "扱いたい目的に焦点を当てて、それに必要な属性だけを定義することで、人を抽象化してプログラムすることができます。\n",
    "例えば、人をHumanというクラスとして設計し、Humanの状態を変数にし、Humanの動作をメソッドにすることで抽象化できます。  \n",
    "  \n",
    "ポリモーフィズムを意識したコードを書くには**抽象**(抽象化)が大切。一方で、抽象ばかりに気を取られてはダメ。  \n",
    "抽象に対してプログラムする(オブジェクト指向)ということは、逆に具象に対してプログラム(プロセス指向)しないようにするということです。  "
   ]
  },
  {
   "cell_type": "markdown",
   "metadata": {},
   "source": [
    "## 演算子オーバーロード\n",
    "コンストラクタ(`__init__`)を、オーバーロードしていくポリフォーリズム  \n",
    "オーバーロードとは、「1つのクラス内に同じ名前のメソッドを複数定義」することです。\n",
    "\n",
    "この時、引数の型と数が全く同じである同名のメソッドを2つ以上定義することはできません。  \n",
    "つまり、同名のメソッドである場合は引数の型か数の少なくともいずれかが異ならなければならないというわけです。\n",
    "\n",
    "オーバーロードを利用すると、1つのメソッド名を知っているだけで引数によって処理を切り替えられるので便利です。  \n",
    "ただし、前回でも述べたように、Pythonにはオーバーロードといった仕組みが残念ながらありません。"
   ]
  },
  {
   "cell_type": "code",
   "execution_count": 82,
   "metadata": {},
   "outputs": [],
   "source": [
    "class MyOperatorOverload:\n",
    "    def __init__(self,target):\n",
    "        self.__x = target\n",
    "\n",
    "    def __lt__(self, number):\n",
    "        print(\"__lt__\")\n",
    "        return self.__x < number\n",
    "\n",
    "    def __le__(self, number):\n",
    "        print(\"__le__\")\n",
    "        return self.__x <= number\n",
    "\n",
    "    def __eq__(self, number):\n",
    "        print(\"__eq__\")\n",
    "        return self.__x == number\n",
    "\n",
    "    def __ne__(self, number):\n",
    "        print(\"__ne__\")\n",
    "        return self.__x != number\n",
    "\n",
    "    def __gt__(self, number):\n",
    "        print(\"__gt__\")\n",
    "        return self.__x > number\n",
    "\n",
    "    def __ge__(self, number):\n",
    "        print(\"__ge__\")\n",
    "        return self.__x >= number"
   ]
  },
  {
   "cell_type": "code",
   "execution_count": 83,
   "metadata": {},
   "outputs": [],
   "source": [
    "x = MyOperatorOverload(100)"
   ]
  },
  {
   "cell_type": "code",
   "execution_count": 84,
   "metadata": {},
   "outputs": [
    {
     "name": "stdout",
     "output_type": "stream",
     "text": [
      "__lt__\n"
     ]
    },
    {
     "data": {
      "text/plain": [
       "True"
      ]
     },
     "execution_count": 84,
     "metadata": {},
     "output_type": "execute_result"
    }
   ],
   "source": [
    "x < 1000"
   ]
  },
  {
   "cell_type": "code",
   "execution_count": 39,
   "metadata": {},
   "outputs": [
    {
     "name": "stdout",
     "output_type": "stream",
     "text": [
      "__lt__\n"
     ]
    },
    {
     "data": {
      "text/plain": [
       "False"
      ]
     },
     "execution_count": 39,
     "metadata": {},
     "output_type": "execute_result"
    }
   ],
   "source": [
    "x < 10"
   ]
  },
  {
   "cell_type": "code",
   "execution_count": 40,
   "metadata": {},
   "outputs": [
    {
     "name": "stdout",
     "output_type": "stream",
     "text": [
      "__le__\n"
     ]
    },
    {
     "data": {
      "text/plain": [
       "True"
      ]
     },
     "execution_count": 40,
     "metadata": {},
     "output_type": "execute_result"
    }
   ],
   "source": [
    "x <= 1000"
   ]
  },
  {
   "cell_type": "code",
   "execution_count": 41,
   "metadata": {},
   "outputs": [
    {
     "name": "stdout",
     "output_type": "stream",
     "text": [
      "__le__\n"
     ]
    },
    {
     "data": {
      "text/plain": [
       "False"
      ]
     },
     "execution_count": 41,
     "metadata": {},
     "output_type": "execute_result"
    }
   ],
   "source": [
    "x <= 10"
   ]
  },
  {
   "cell_type": "code",
   "execution_count": 42,
   "metadata": {},
   "outputs": [
    {
     "name": "stdout",
     "output_type": "stream",
     "text": [
      "__eq__\n"
     ]
    },
    {
     "data": {
      "text/plain": [
       "False"
      ]
     },
     "execution_count": 42,
     "metadata": {},
     "output_type": "execute_result"
    }
   ],
   "source": [
    "x == 1000"
   ]
  },
  {
   "cell_type": "code",
   "execution_count": 43,
   "metadata": {},
   "outputs": [
    {
     "name": "stdout",
     "output_type": "stream",
     "text": [
      "__eq__\n"
     ]
    },
    {
     "data": {
      "text/plain": [
       "False"
      ]
     },
     "execution_count": 43,
     "metadata": {},
     "output_type": "execute_result"
    }
   ],
   "source": [
    "x == 10"
   ]
  },
  {
   "cell_type": "code",
   "execution_count": 44,
   "metadata": {},
   "outputs": [
    {
     "name": "stdout",
     "output_type": "stream",
     "text": [
      "__ne__\n"
     ]
    },
    {
     "data": {
      "text/plain": [
       "True"
      ]
     },
     "execution_count": 44,
     "metadata": {},
     "output_type": "execute_result"
    }
   ],
   "source": [
    "x != 1000"
   ]
  },
  {
   "cell_type": "code",
   "execution_count": 45,
   "metadata": {},
   "outputs": [
    {
     "name": "stdout",
     "output_type": "stream",
     "text": [
      "__ne__\n"
     ]
    },
    {
     "data": {
      "text/plain": [
       "True"
      ]
     },
     "execution_count": 45,
     "metadata": {},
     "output_type": "execute_result"
    }
   ],
   "source": [
    "x != 10"
   ]
  },
  {
   "cell_type": "code",
   "execution_count": 46,
   "metadata": {},
   "outputs": [
    {
     "name": "stdout",
     "output_type": "stream",
     "text": [
      "__gt__\n"
     ]
    },
    {
     "data": {
      "text/plain": [
       "False"
      ]
     },
     "execution_count": 46,
     "metadata": {},
     "output_type": "execute_result"
    }
   ],
   "source": [
    "x > 1000"
   ]
  },
  {
   "cell_type": "code",
   "execution_count": 47,
   "metadata": {},
   "outputs": [
    {
     "name": "stdout",
     "output_type": "stream",
     "text": [
      "__gt__\n"
     ]
    },
    {
     "data": {
      "text/plain": [
       "True"
      ]
     },
     "execution_count": 47,
     "metadata": {},
     "output_type": "execute_result"
    }
   ],
   "source": [
    "x > 10"
   ]
  },
  {
   "cell_type": "code",
   "execution_count": 48,
   "metadata": {},
   "outputs": [
    {
     "name": "stdout",
     "output_type": "stream",
     "text": [
      "__ge__\n"
     ]
    },
    {
     "data": {
      "text/plain": [
       "False"
      ]
     },
     "execution_count": 48,
     "metadata": {},
     "output_type": "execute_result"
    }
   ],
   "source": [
    "x >= 1000"
   ]
  },
  {
   "cell_type": "code",
   "execution_count": 49,
   "metadata": {},
   "outputs": [
    {
     "name": "stdout",
     "output_type": "stream",
     "text": [
      "__ge__\n"
     ]
    },
    {
     "data": {
      "text/plain": [
       "True"
      ]
     },
     "execution_count": 49,
     "metadata": {},
     "output_type": "execute_result"
    }
   ],
   "source": [
    "x >= 10"
   ]
  },
  {
   "cell_type": "markdown",
   "metadata": {},
   "source": [
    "## <用語の説明> SOLID\n",
    "  \n",
    "**・[Single Responsibility Principle：単一責任の原則](https://en.wikipedia.org/wiki/Single-responsibility_principle)**  \n",
    "**・[Open/closed principle：オープン/クロースドの原則](https://en.wikipedia.org/wiki/Open%E2%80%93closed_principle)**  \n",
    "**・[Liskov substitution principle：リスコフの置換原則](https://en.wikipedia.org/wiki/Liskov_substitution_principle)**  \n",
    "**・[Interface segregation principle：インターフェース分離の原則](https://en.wikipedia.org/wiki/Interface_segregation_principle)**  \n",
    "**・[Dependency inversion principle：依存性逆転の原則](https://en.wikipedia.org/wiki/Dependency_inversion_principle)**  \n",
    "  \n",
    "### 単一責任の原則\n",
    "**Classを変更する理由は1つでなければならない**  \n",
    "単一責任と言えなくなる例は、あるクラスを変更する時の動機が2つ以上ある時。  \n",
    "猫というクラスがあるとして、そのクラスが、いくつかのモジュールで同時に利用されているとき、単一の責任とは言えなくなります。\n",
    "\n",
    "### オープン/クロースドの原則\n",
    "**Classは拡張に対して寛容で、修正に対してシビアでないといけない**  \n",
    "新しい機能を実装するときは、コードを修正するのではなく、できるだけ拡張を行うべきという原則。\n",
    "### リスコフの置換原則\n",
    "**子クラスは、親クラスと置換可能でなければならない**  \n",
    "例えば、猫を表すクラスCatの子クラスとして、毛色と毛並みが一致しないとエラーを起こす猫品種クラスがあります。  \n",
    "そして、ある関数またはメソッドは、  猫クラスを入力とし、  \n",
    "内部で毛色と毛並みに異なる値を与えた場合、猫品種クラスで置換できなくなります。つまり、リスコフの置換原則に違反することになります。\n",
    "### インターフェース分離の原則\n",
    "**クライアントが利用しないメソッドへの依存を、強制してはならない**  \n",
    "使わないメソッドなのに、そもそも実装するのは無駄でしかないし、理解を難しくする。\n",
    "インターフェースは、扱うグループごとに分割して利用すべし。\n",
    "### 依存性逆転の原則\n",
    "**上位のモジュールは下位のモジュールに依存してはならない。どちらのモジュールも「抽象」に依存すべき**  \n",
    "上位モジュールは下位モジュールに依存してはならず、両方とも抽象に依存すべき、  \n",
    "抽象は具体（実際の機能実現）に依存してはならず、具体は抽象に依存すべき。  \n",
    "  \n",
    "親クラスが、子クラスがないと実行できないようなコードは、上位クラス(親クラス)は下位クラス(子クラス)に依存している、ということになる。"
   ]
  },
  {
   "cell_type": "markdown",
   "metadata": {},
   "source": [
    "## <用語の説明> [GRASP](https://ja.wikipedia.org/wiki/GRASP)\n",
    "情報エキスパート、生成者、コントローラ、疎結合性、高凝集性、多態性、純粋人工物、間接化、変動から保護、の９つのパターンを提唱"
   ]
  },
  {
   "cell_type": "markdown",
   "metadata": {},
   "source": [
    "# オブジェクト指向の基礎をコードから学ぶ"
   ]
  },
  {
   "cell_type": "markdown",
   "metadata": {},
   "source": [
    "## クラスの変数とメソッド"
   ]
  },
  {
   "cell_type": "code",
   "execution_count": 109,
   "metadata": {},
   "outputs": [],
   "source": [
    "class Animal:\n",
    "    # ここはクラス変数を定義する場所\n",
    "    the_name = \"animal\"  # クラス変数 \"animal\"\n",
    "\n",
    "    def __init__(self, name, age):  # イニシャライザ\n",
    "        self.name = name  # インスタンス変数 \"name\"\n",
    "        self.age = age  # インスタンス変数 \"age\"\n",
    "\n",
    "    # ここはメソッドを定義する場所\n",
    "    def sleep(self):  # インスタンスメソッド\n",
    "        print(\"{} は寝ている\".format(self.name))\n",
    "\n",
    "    def eat(self, food):  # 引数付きのインスタンスメソッド\n",
    "        print(\"{} は {} を食べている\".format(self.name, food))\n",
    "\n",
    "    @classmethod\n",
    "    def speak(cls, adjective):  # クラスメソッド\n",
    "        print(\"{}は {} にしている\".format(cls.the_name, adjective))\n",
    "\n",
    "    @staticmethod\n",
    "    def happening(person, do):  # 静的メソッド\n",
    "        print(\"{} は {}いる\".format(person, do))\n",
    "\n",
    "\n",
    "def drink_water(self):\n",
    "    print(\"{} は水を飲んでいる\".format(self.name))"
   ]
  },
  {
   "cell_type": "code",
   "execution_count": 110,
   "metadata": {},
   "outputs": [],
   "source": [
    "# インスタンスの作成\n",
    "sonia = Animal(name=\"ソニア\", age=5)"
   ]
  },
  {
   "cell_type": "code",
   "execution_count": 93,
   "metadata": {},
   "outputs": [
    {
     "name": "stdout",
     "output_type": "stream",
     "text": [
      "sonia.the_name: animal\n"
     ]
    }
   ],
   "source": [
    "print('sonia.the_name: {}'.format(sonia.the_name))  # インスタンスからクラス変数を呼び出し"
   ]
  },
  {
   "cell_type": "code",
   "execution_count": 94,
   "metadata": {},
   "outputs": [
    {
     "name": "stdout",
     "output_type": "stream",
     "text": [
      "Animal.the_name: animal\n"
     ]
    }
   ],
   "source": [
    "print('Animal.the_name: {}'.format(Animal.the_name))  # クラスからクラス変数を呼び出す"
   ]
  },
  {
   "cell_type": "code",
   "execution_count": 101,
   "metadata": {},
   "outputs": [
    {
     "name": "stdout",
     "output_type": "stream",
     "text": [
      "adam.name: ソニア\n"
     ]
    }
   ],
   "source": [
    "print('adam.name: {}'.format(sonia.name))  # インスタンス変数を呼び出す"
   ]
  },
  {
   "cell_type": "code",
   "execution_count": 102,
   "metadata": {},
   "outputs": [
    {
     "name": "stdout",
     "output_type": "stream",
     "text": [
      "ソニア は寝ている\n"
     ]
    }
   ],
   "source": [
    "sonia.sleep()  # インスタンスメソッドを呼び出す"
   ]
  },
  {
   "cell_type": "code",
   "execution_count": 103,
   "metadata": {},
   "outputs": [
    {
     "name": "stdout",
     "output_type": "stream",
     "text": [
      "ソニア は ロイヤルカナン を食べている\n"
     ]
    }
   ],
   "source": [
    "sonia.eat(\"ロイヤルカナン\")  # 引数付きのインスタンスメソッドを呼び出す"
   ]
  },
  {
   "cell_type": "code",
   "execution_count": 106,
   "metadata": {},
   "outputs": [
    {
     "name": "stdout",
     "output_type": "stream",
     "text": [
      "animalは 嬉しそう にしている\n"
     ]
    }
   ],
   "source": [
    "sonia.speak(\"嬉しそう\")"
   ]
  },
  {
   "cell_type": "code",
   "execution_count": 108,
   "metadata": {},
   "outputs": [
    {
     "name": "stdout",
     "output_type": "stream",
     "text": [
      "animalは 寂しそう にしている\n"
     ]
    }
   ],
   "source": [
    "Animal.speak(\"寂しそう\")  # クラスからクラスメソッドを呼び出す"
   ]
  },
  {
   "cell_type": "code",
   "execution_count": 111,
   "metadata": {},
   "outputs": [
    {
     "name": "stdout",
     "output_type": "stream",
     "text": [
      "佐藤 は 遊んでいる\n"
     ]
    }
   ],
   "source": [
    "sonia.happening(\"佐藤\", \"遊んで\")  # インスタンスから静的メソッドを呼び出す"
   ]
  },
  {
   "cell_type": "code",
   "execution_count": 112,
   "metadata": {},
   "outputs": [
    {
     "name": "stdout",
     "output_type": "stream",
     "text": [
      "佐藤 は 観ている\n"
     ]
    }
   ],
   "source": [
    "Animal.happening(\"佐藤\", \"観て\")  # クラスから静的メソッドを呼び出す"
   ]
  },
  {
   "cell_type": "code",
   "execution_count": 114,
   "metadata": {},
   "outputs": [],
   "source": [
    "Animal.the_name = \"動物\"  # クラス変数を修正"
   ]
  },
  {
   "cell_type": "code",
   "execution_count": 115,
   "metadata": {},
   "outputs": [
    {
     "name": "stdout",
     "output_type": "stream",
     "text": [
      "sonia.the_name: 動物\n"
     ]
    }
   ],
   "source": [
    "print('sonia.the_name: {}'.format(sonia.the_name))"
   ]
  },
  {
   "cell_type": "code",
   "execution_count": 117,
   "metadata": {},
   "outputs": [],
   "source": [
    "sonia.the_name = \"animal\"  # インスタンスから修正"
   ]
  },
  {
   "cell_type": "code",
   "execution_count": 118,
   "metadata": {},
   "outputs": [
    {
     "name": "stdout",
     "output_type": "stream",
     "text": [
      "Animal.the_name: 動物\n"
     ]
    }
   ],
   "source": [
    "print('Animal.the_name: {}'.format(Animal.the_name))"
   ]
  },
  {
   "cell_type": "code",
   "execution_count": 119,
   "metadata": {},
   "outputs": [],
   "source": [
    "sonia.age = 3  # インスタンス変数を修正"
   ]
  },
  {
   "cell_type": "markdown",
   "metadata": {},
   "source": [
    "## プロパティ"
   ]
  },
  {
   "cell_type": "code",
   "execution_count": 138,
   "metadata": {},
   "outputs": [],
   "source": [
    "class Cat(Animal):  # クラスの継承\n",
    "    def eating(self):\n",
    "        print(\"{} は食べている\".format(self.name))\n",
    "\n",
    "    @property\n",
    "    def running(self):\n",
    "        if self.age >= 1 and self.age <= 10:\n",
    "            print(\"{} は元気に駆け回る\".format(self.name))\n",
    "        elif self.age > 11 or self.age < 1:\n",
    "            print(\"{} はあまり走らない\".format(self.name))\n",
    "        else:\n",
    "            print(\"年齢を入力してください\")\n",
    "\n",
    "    @property  # プライベートな変数を取得\n",
    "    def country(self):\n",
    "        return self._country\n",
    "\n",
    "    @country.setter  # メソッド名.setter\n",
    "    def country(self, value):  # プライベートな変数に値を代入\n",
    "        self._country = value\n",
    "\n",
    "    @country.deleter  # メソッド名.deleter\n",
    "    def country(self):  # プライベートな変数に値を削除\n",
    "        del self._country\n",
    "        print(\"The attr country is deleted\")\n",
    "\n",
    "    # property関数で上記のデコレーターと同じ機能を実現\n",
    "    def get_city(self):\n",
    "        return self._city\n",
    "\n",
    "    def set_city(self, value):\n",
    "        self._city = value\n",
    "\n",
    "    def del_city(self, value):\n",
    "        del self._city\n",
    "\n",
    "    city = property(get_city, set_city, del_city, \"I'm the 'city' property.\")"
   ]
  },
  {
   "cell_type": "code",
   "execution_count": 139,
   "metadata": {},
   "outputs": [],
   "source": [
    "mike = Cat(\"ミケ\", 2)"
   ]
  },
  {
   "cell_type": "code",
   "execution_count": 140,
   "metadata": {},
   "outputs": [
    {
     "name": "stdout",
     "output_type": "stream",
     "text": [
      "ミケ は食べている\n"
     ]
    }
   ],
   "source": [
    "mike.eating()"
   ]
  },
  {
   "cell_type": "code",
   "execution_count": 141,
   "metadata": {},
   "outputs": [
    {
     "name": "stdout",
     "output_type": "stream",
     "text": [
      "ミケ は元気に駆け回る\n"
     ]
    }
   ],
   "source": [
    "mike.running  # ()なしで呼び出す"
   ]
  },
  {
   "cell_type": "code",
   "execution_count": 142,
   "metadata": {},
   "outputs": [],
   "source": [
    "chao = Cat(\"チャオ\", 14)"
   ]
  },
  {
   "cell_type": "code",
   "execution_count": 143,
   "metadata": {},
   "outputs": [
    {
     "name": "stdout",
     "output_type": "stream",
     "text": [
      "チャオ はあまり走らない\n"
     ]
    }
   ],
   "source": [
    "chao.running"
   ]
  },
  {
   "cell_type": "code",
   "execution_count": 144,
   "metadata": {},
   "outputs": [],
   "source": [
    "mike.country = \"日本\""
   ]
  },
  {
   "cell_type": "code",
   "execution_count": 145,
   "metadata": {},
   "outputs": [
    {
     "name": "stdout",
     "output_type": "stream",
     "text": [
      "日本\n"
     ]
    }
   ],
   "source": [
    "print(mike.country)"
   ]
  },
  {
   "cell_type": "code",
   "execution_count": 146,
   "metadata": {},
   "outputs": [
    {
     "name": "stdout",
     "output_type": "stream",
     "text": [
      "The attr country is deleted\n"
     ]
    }
   ],
   "source": [
    "del mike.country"
   ]
  },
  {
   "cell_type": "code",
   "execution_count": 147,
   "metadata": {},
   "outputs": [],
   "source": [
    "mike.city = \"仙台\""
   ]
  },
  {
   "cell_type": "code",
   "execution_count": 149,
   "metadata": {},
   "outputs": [
    {
     "name": "stdout",
     "output_type": "stream",
     "text": [
      "仙台\n"
     ]
    }
   ],
   "source": [
    "print(mike.city)"
   ]
  },
  {
   "cell_type": "markdown",
   "metadata": {},
   "source": [
    "## プライベート変数とメソッドの継承・オーバーライド"
   ]
  },
  {
   "cell_type": "code",
   "execution_count": 156,
   "metadata": {},
   "outputs": [],
   "source": [
    "class Cat(Animal):\n",
    "    def __init__(self, weight):  # 親クラスの__init__をオーバーライド\n",
    "        self.__weight = weight\n",
    "        self._weight = weight + 1\n",
    "        self.weight = self._weight + 1\n",
    "\n",
    "    def get_weight(self):\n",
    "        print(\"体重は {}kg\".format(self._weight))\n",
    "\n",
    "    def get_real_weight(self):\n",
    "        print(\"実際の体重は __weight {}kg\".format(self.__weight))\n",
    "\n",
    "\n",
    "class BlackCat(Cat):\n",
    "    def get_weight(self):  # 親クラスのメソッドをオーバーライド\n",
    "        print(\"体重は {}kg\".format(self.weight))\n",
    "\n",
    "    def get_real_weight(self):\n",
    "        print(\"実際の体重は _weight {}kg\".format(self._weight))\n",
    "\n",
    "    def get_actual_weight(self):\n",
    "        print(\"体重__weight は確かに {}kg\".format(self.__weight))"
   ]
  },
  {
   "cell_type": "code",
   "execution_count": 157,
   "metadata": {},
   "outputs": [],
   "source": [
    "cole = Cat(5)"
   ]
  },
  {
   "cell_type": "code",
   "execution_count": 158,
   "metadata": {},
   "outputs": [
    {
     "name": "stdout",
     "output_type": "stream",
     "text": [
      "coleの体重: 7kg\n"
     ]
    }
   ],
   "source": [
    "print(\"coleの体重: {}kg\".format(cole.weight))"
   ]
  },
  {
   "cell_type": "code",
   "execution_count": 154,
   "metadata": {},
   "outputs": [
    {
     "name": "stdout",
     "output_type": "stream",
     "text": [
      "Coleの体重 _weight: 6kg\n"
     ]
    }
   ],
   "source": [
    "# _weight は外部からの利用を推奨しないプライベート変数で、利用すること自体は制限されない\n",
    "print(\"Coleの体重 _weight: {}kg\".format(cole._weight))"
   ]
  },
  {
   "cell_type": "code",
   "execution_count": 155,
   "metadata": {},
   "outputs": [
    {
     "name": "stdout",
     "output_type": "stream",
     "text": [
      "Coleの体重 __weight: 5kg\n"
     ]
    }
   ],
   "source": [
    "# __weight  は外部からの利用をを禁止するプライベート変数で、利用することは制限され、_<class>__xの形で強制的に呼び出せる\n",
    "print(\"Coleの体重 __weight: {}kg\".format(cole._Cat__weight))"
   ]
  },
  {
   "cell_type": "code",
   "execution_count": 161,
   "metadata": {},
   "outputs": [
    {
     "ename": "AttributeError",
     "evalue": "'Cat' object has no attribute '__weight'",
     "output_type": "error",
     "traceback": [
      "\u001b[0;31m---------------------------------------------------------------------------\u001b[0m",
      "\u001b[0;31mAttributeError\u001b[0m                            Traceback (most recent call last)",
      "\u001b[0;32m<ipython-input-161-a00cc671813e>\u001b[0m in \u001b[0;36m<module>\u001b[0;34m\u001b[0m\n\u001b[0;32m----> 1\u001b[0;31m \u001b[0mprint\u001b[0m\u001b[0;34m(\u001b[0m\u001b[0;34m\"Coleの体重 __weight: {}kg\"\u001b[0m\u001b[0;34m.\u001b[0m\u001b[0mformat\u001b[0m\u001b[0;34m(\u001b[0m\u001b[0mcole\u001b[0m\u001b[0;34m.\u001b[0m\u001b[0m__weight\u001b[0m\u001b[0;34m)\u001b[0m\u001b[0;34m)\u001b[0m\u001b[0;34m\u001b[0m\u001b[0m\n\u001b[0m",
      "\u001b[0;31mAttributeError\u001b[0m: 'Cat' object has no attribute '__weight'"
     ]
    }
   ],
   "source": [
    "print(\"Coleの体重 __weight: {}kg\".format(cole.__weight))  # __weight  は外部からの利用をを禁止するプライベート変数になっている"
   ]
  },
  {
   "cell_type": "code",
   "execution_count": 160,
   "metadata": {},
   "outputs": [
    {
     "name": "stdout",
     "output_type": "stream",
     "text": [
      "実際の体重は __weight 5kg\n"
     ]
    }
   ],
   "source": [
    "cole.get_real_weight()  # メソッドで内部から__xを利用できる"
   ]
  },
  {
   "cell_type": "code",
   "execution_count": 162,
   "metadata": {},
   "outputs": [],
   "source": [
    "cain = BlackCat(5)"
   ]
  },
  {
   "cell_type": "code",
   "execution_count": 163,
   "metadata": {},
   "outputs": [
    {
     "name": "stdout",
     "output_type": "stream",
     "text": [
      "体重は 7kg\n"
     ]
    }
   ],
   "source": [
    "cain.get_weight()"
   ]
  },
  {
   "cell_type": "code",
   "execution_count": 164,
   "metadata": {},
   "outputs": [
    {
     "name": "stdout",
     "output_type": "stream",
     "text": [
      "実際の体重は _weight 6kg\n"
     ]
    }
   ],
   "source": [
    "# 実行結果：My weight is 7kg\n",
    "\n",
    "# _xは制限されないため、子クラスからでも呼び出せる\n",
    "cain.get_real_weight()"
   ]
  },
  {
   "cell_type": "code",
   "execution_count": 165,
   "metadata": {},
   "outputs": [
    {
     "name": "stdout",
     "output_type": "stream",
     "text": [
      "'BlackCat' object has no attribute '_BlackCat__weight'\n"
     ]
    }
   ],
   "source": [
    "# 親クラスのプライベート変数の__xを子クラスの内部から素直な方法では利用できない\n",
    "try:\n",
    "    cain.get_actual_weight()\n",
    "except AttributeError as e:\n",
    "    print(e)\n",
    "# 実行結果：'Blackcat' object has no attribute '_Blackcat__weight'"
   ]
  },
  {
   "cell_type": "markdown",
   "metadata": {},
   "source": [
    "# ソフトウェアを楽に作るため"
   ]
  },
  {
   "cell_type": "markdown",
   "metadata": {},
   "source": [
    "**抽象的→ オブジェクト指向**  \n",
    "ソフトウェア開発を楽にしてくれる一方、一般的な理解が難しい(横文字濫用、比喩表現が多い。。。)  \n",
    "  \n",
    "**具体的→ プロセス指向**  \n",
    "処理の流れは理解しやすいけど、ソフトウェアを開発する運用するに当たっては不便。。。"
   ]
  },
  {
   "cell_type": "markdown",
   "metadata": {},
   "source": [
    "### 次回からは、オブジェクト指向から抜け出して、Pythonの各種メソッドやデータについて触れていきます...！"
   ]
  }
 ],
 "metadata": {
  "kernelspec": {
   "display_name": "Python 3",
   "language": "python",
   "name": "python3"
  },
  "language_info": {
   "codemirror_mode": {
    "name": "ipython",
    "version": 3
   },
   "file_extension": ".py",
   "mimetype": "text/x-python",
   "name": "python",
   "nbconvert_exporter": "python",
   "pygments_lexer": "ipython3",
   "version": "3.6.5"
  }
 },
 "nbformat": 4,
 "nbformat_minor": 2
}
